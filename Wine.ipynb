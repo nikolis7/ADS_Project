{
 "cells": [
  {
   "cell_type": "code",
   "execution_count": 1,
   "id": "3b2c154d",
   "metadata": {},
   "outputs": [],
   "source": [
    "import pandas as pd \n",
    "import numpy as np\n",
    "import matplotlib.pyplot as plt\n",
    "from sklearn import datasets\n",
    "import seaborn as sns\n",
    "\n",
    "%matplotlib inline"
   ]
  },
  {
   "cell_type": "code",
   "execution_count": 2,
   "id": "58ed4ab6",
   "metadata": {},
   "outputs": [],
   "source": [
    "wine = datasets.load_wine()\n",
    "df = pd.DataFrame(data=wine.data, columns=wine.feature_names) # convert breast cancer data to Dataframe\n",
    "df[\"target\"]=wine.target"
   ]
  },
  {
   "cell_type": "code",
   "execution_count": 3,
   "id": "5aeae6fa",
   "metadata": {},
   "outputs": [
    {
     "data": {
      "text/html": [
       "<div>\n",
       "<style scoped>\n",
       "    .dataframe tbody tr th:only-of-type {\n",
       "        vertical-align: middle;\n",
       "    }\n",
       "\n",
       "    .dataframe tbody tr th {\n",
       "        vertical-align: top;\n",
       "    }\n",
       "\n",
       "    .dataframe thead th {\n",
       "        text-align: right;\n",
       "    }\n",
       "</style>\n",
       "<table border=\"1\" class=\"dataframe\">\n",
       "  <thead>\n",
       "    <tr style=\"text-align: right;\">\n",
       "      <th></th>\n",
       "      <th>alcohol</th>\n",
       "      <th>malic_acid</th>\n",
       "      <th>ash</th>\n",
       "      <th>alcalinity_of_ash</th>\n",
       "      <th>magnesium</th>\n",
       "      <th>total_phenols</th>\n",
       "      <th>flavanoids</th>\n",
       "      <th>nonflavanoid_phenols</th>\n",
       "      <th>proanthocyanins</th>\n",
       "      <th>color_intensity</th>\n",
       "      <th>hue</th>\n",
       "      <th>od280/od315_of_diluted_wines</th>\n",
       "      <th>proline</th>\n",
       "      <th>target</th>\n",
       "    </tr>\n",
       "  </thead>\n",
       "  <tbody>\n",
       "    <tr>\n",
       "      <th>0</th>\n",
       "      <td>14.23</td>\n",
       "      <td>1.71</td>\n",
       "      <td>2.43</td>\n",
       "      <td>15.6</td>\n",
       "      <td>127.0</td>\n",
       "      <td>2.80</td>\n",
       "      <td>3.06</td>\n",
       "      <td>0.28</td>\n",
       "      <td>2.29</td>\n",
       "      <td>5.64</td>\n",
       "      <td>1.04</td>\n",
       "      <td>3.92</td>\n",
       "      <td>1065.0</td>\n",
       "      <td>0</td>\n",
       "    </tr>\n",
       "    <tr>\n",
       "      <th>1</th>\n",
       "      <td>13.20</td>\n",
       "      <td>1.78</td>\n",
       "      <td>2.14</td>\n",
       "      <td>11.2</td>\n",
       "      <td>100.0</td>\n",
       "      <td>2.65</td>\n",
       "      <td>2.76</td>\n",
       "      <td>0.26</td>\n",
       "      <td>1.28</td>\n",
       "      <td>4.38</td>\n",
       "      <td>1.05</td>\n",
       "      <td>3.40</td>\n",
       "      <td>1050.0</td>\n",
       "      <td>0</td>\n",
       "    </tr>\n",
       "    <tr>\n",
       "      <th>2</th>\n",
       "      <td>13.16</td>\n",
       "      <td>2.36</td>\n",
       "      <td>2.67</td>\n",
       "      <td>18.6</td>\n",
       "      <td>101.0</td>\n",
       "      <td>2.80</td>\n",
       "      <td>3.24</td>\n",
       "      <td>0.30</td>\n",
       "      <td>2.81</td>\n",
       "      <td>5.68</td>\n",
       "      <td>1.03</td>\n",
       "      <td>3.17</td>\n",
       "      <td>1185.0</td>\n",
       "      <td>0</td>\n",
       "    </tr>\n",
       "    <tr>\n",
       "      <th>3</th>\n",
       "      <td>14.37</td>\n",
       "      <td>1.95</td>\n",
       "      <td>2.50</td>\n",
       "      <td>16.8</td>\n",
       "      <td>113.0</td>\n",
       "      <td>3.85</td>\n",
       "      <td>3.49</td>\n",
       "      <td>0.24</td>\n",
       "      <td>2.18</td>\n",
       "      <td>7.80</td>\n",
       "      <td>0.86</td>\n",
       "      <td>3.45</td>\n",
       "      <td>1480.0</td>\n",
       "      <td>0</td>\n",
       "    </tr>\n",
       "    <tr>\n",
       "      <th>4</th>\n",
       "      <td>13.24</td>\n",
       "      <td>2.59</td>\n",
       "      <td>2.87</td>\n",
       "      <td>21.0</td>\n",
       "      <td>118.0</td>\n",
       "      <td>2.80</td>\n",
       "      <td>2.69</td>\n",
       "      <td>0.39</td>\n",
       "      <td>1.82</td>\n",
       "      <td>4.32</td>\n",
       "      <td>1.04</td>\n",
       "      <td>2.93</td>\n",
       "      <td>735.0</td>\n",
       "      <td>0</td>\n",
       "    </tr>\n",
       "  </tbody>\n",
       "</table>\n",
       "</div>"
      ],
      "text/plain": [
       "   alcohol  malic_acid   ash  alcalinity_of_ash  magnesium  total_phenols  \\\n",
       "0    14.23        1.71  2.43               15.6      127.0           2.80   \n",
       "1    13.20        1.78  2.14               11.2      100.0           2.65   \n",
       "2    13.16        2.36  2.67               18.6      101.0           2.80   \n",
       "3    14.37        1.95  2.50               16.8      113.0           3.85   \n",
       "4    13.24        2.59  2.87               21.0      118.0           2.80   \n",
       "\n",
       "   flavanoids  nonflavanoid_phenols  proanthocyanins  color_intensity   hue  \\\n",
       "0        3.06                  0.28             2.29             5.64  1.04   \n",
       "1        2.76                  0.26             1.28             4.38  1.05   \n",
       "2        3.24                  0.30             2.81             5.68  1.03   \n",
       "3        3.49                  0.24             2.18             7.80  0.86   \n",
       "4        2.69                  0.39             1.82             4.32  1.04   \n",
       "\n",
       "   od280/od315_of_diluted_wines  proline  target  \n",
       "0                          3.92   1065.0       0  \n",
       "1                          3.40   1050.0       0  \n",
       "2                          3.17   1185.0       0  \n",
       "3                          3.45   1480.0       0  \n",
       "4                          2.93    735.0       0  "
      ]
     },
     "execution_count": 3,
     "metadata": {},
     "output_type": "execute_result"
    }
   ],
   "source": [
    "df.head()"
   ]
  },
  {
   "cell_type": "code",
   "execution_count": 4,
   "id": "07257ef0",
   "metadata": {},
   "outputs": [
    {
     "data": {
      "text/plain": [
       "alcohol                         float64\n",
       "malic_acid                      float64\n",
       "ash                             float64\n",
       "alcalinity_of_ash               float64\n",
       "magnesium                       float64\n",
       "total_phenols                   float64\n",
       "flavanoids                      float64\n",
       "nonflavanoid_phenols            float64\n",
       "proanthocyanins                 float64\n",
       "color_intensity                 float64\n",
       "hue                             float64\n",
       "od280/od315_of_diluted_wines    float64\n",
       "proline                         float64\n",
       "target                            int32\n",
       "dtype: object"
      ]
     },
     "execution_count": 4,
     "metadata": {},
     "output_type": "execute_result"
    }
   ],
   "source": [
    "df.dtypes"
   ]
  },
  {
   "cell_type": "code",
   "execution_count": 5,
   "id": "d5b4275d",
   "metadata": {},
   "outputs": [
    {
     "data": {
      "text/html": [
       "<div>\n",
       "<style scoped>\n",
       "    .dataframe tbody tr th:only-of-type {\n",
       "        vertical-align: middle;\n",
       "    }\n",
       "\n",
       "    .dataframe tbody tr th {\n",
       "        vertical-align: top;\n",
       "    }\n",
       "\n",
       "    .dataframe thead th {\n",
       "        text-align: right;\n",
       "    }\n",
       "</style>\n",
       "<table border=\"1\" class=\"dataframe\">\n",
       "  <thead>\n",
       "    <tr style=\"text-align: right;\">\n",
       "      <th></th>\n",
       "      <th>alcohol</th>\n",
       "      <th>malic_acid</th>\n",
       "      <th>ash</th>\n",
       "      <th>alcalinity_of_ash</th>\n",
       "      <th>magnesium</th>\n",
       "      <th>total_phenols</th>\n",
       "      <th>flavanoids</th>\n",
       "      <th>nonflavanoid_phenols</th>\n",
       "      <th>proanthocyanins</th>\n",
       "      <th>color_intensity</th>\n",
       "      <th>hue</th>\n",
       "      <th>od280/od315_of_diluted_wines</th>\n",
       "      <th>proline</th>\n",
       "      <th>target</th>\n",
       "    </tr>\n",
       "  </thead>\n",
       "  <tbody>\n",
       "    <tr>\n",
       "      <th>count</th>\n",
       "      <td>178.000000</td>\n",
       "      <td>178.000000</td>\n",
       "      <td>178.000000</td>\n",
       "      <td>178.000000</td>\n",
       "      <td>178.000000</td>\n",
       "      <td>178.000000</td>\n",
       "      <td>178.000000</td>\n",
       "      <td>178.000000</td>\n",
       "      <td>178.000000</td>\n",
       "      <td>178.000000</td>\n",
       "      <td>178.000000</td>\n",
       "      <td>178.000000</td>\n",
       "      <td>178.000000</td>\n",
       "      <td>178.000000</td>\n",
       "    </tr>\n",
       "    <tr>\n",
       "      <th>mean</th>\n",
       "      <td>13.000618</td>\n",
       "      <td>2.336348</td>\n",
       "      <td>2.366517</td>\n",
       "      <td>19.494944</td>\n",
       "      <td>99.741573</td>\n",
       "      <td>2.295112</td>\n",
       "      <td>2.029270</td>\n",
       "      <td>0.361854</td>\n",
       "      <td>1.590899</td>\n",
       "      <td>5.058090</td>\n",
       "      <td>0.957449</td>\n",
       "      <td>2.611685</td>\n",
       "      <td>746.893258</td>\n",
       "      <td>0.938202</td>\n",
       "    </tr>\n",
       "    <tr>\n",
       "      <th>std</th>\n",
       "      <td>0.811827</td>\n",
       "      <td>1.117146</td>\n",
       "      <td>0.274344</td>\n",
       "      <td>3.339564</td>\n",
       "      <td>14.282484</td>\n",
       "      <td>0.625851</td>\n",
       "      <td>0.998859</td>\n",
       "      <td>0.124453</td>\n",
       "      <td>0.572359</td>\n",
       "      <td>2.318286</td>\n",
       "      <td>0.228572</td>\n",
       "      <td>0.709990</td>\n",
       "      <td>314.907474</td>\n",
       "      <td>0.775035</td>\n",
       "    </tr>\n",
       "    <tr>\n",
       "      <th>min</th>\n",
       "      <td>11.030000</td>\n",
       "      <td>0.740000</td>\n",
       "      <td>1.360000</td>\n",
       "      <td>10.600000</td>\n",
       "      <td>70.000000</td>\n",
       "      <td>0.980000</td>\n",
       "      <td>0.340000</td>\n",
       "      <td>0.130000</td>\n",
       "      <td>0.410000</td>\n",
       "      <td>1.280000</td>\n",
       "      <td>0.480000</td>\n",
       "      <td>1.270000</td>\n",
       "      <td>278.000000</td>\n",
       "      <td>0.000000</td>\n",
       "    </tr>\n",
       "    <tr>\n",
       "      <th>25%</th>\n",
       "      <td>12.362500</td>\n",
       "      <td>1.602500</td>\n",
       "      <td>2.210000</td>\n",
       "      <td>17.200000</td>\n",
       "      <td>88.000000</td>\n",
       "      <td>1.742500</td>\n",
       "      <td>1.205000</td>\n",
       "      <td>0.270000</td>\n",
       "      <td>1.250000</td>\n",
       "      <td>3.220000</td>\n",
       "      <td>0.782500</td>\n",
       "      <td>1.937500</td>\n",
       "      <td>500.500000</td>\n",
       "      <td>0.000000</td>\n",
       "    </tr>\n",
       "    <tr>\n",
       "      <th>50%</th>\n",
       "      <td>13.050000</td>\n",
       "      <td>1.865000</td>\n",
       "      <td>2.360000</td>\n",
       "      <td>19.500000</td>\n",
       "      <td>98.000000</td>\n",
       "      <td>2.355000</td>\n",
       "      <td>2.135000</td>\n",
       "      <td>0.340000</td>\n",
       "      <td>1.555000</td>\n",
       "      <td>4.690000</td>\n",
       "      <td>0.965000</td>\n",
       "      <td>2.780000</td>\n",
       "      <td>673.500000</td>\n",
       "      <td>1.000000</td>\n",
       "    </tr>\n",
       "    <tr>\n",
       "      <th>75%</th>\n",
       "      <td>13.677500</td>\n",
       "      <td>3.082500</td>\n",
       "      <td>2.557500</td>\n",
       "      <td>21.500000</td>\n",
       "      <td>107.000000</td>\n",
       "      <td>2.800000</td>\n",
       "      <td>2.875000</td>\n",
       "      <td>0.437500</td>\n",
       "      <td>1.950000</td>\n",
       "      <td>6.200000</td>\n",
       "      <td>1.120000</td>\n",
       "      <td>3.170000</td>\n",
       "      <td>985.000000</td>\n",
       "      <td>2.000000</td>\n",
       "    </tr>\n",
       "    <tr>\n",
       "      <th>max</th>\n",
       "      <td>14.830000</td>\n",
       "      <td>5.800000</td>\n",
       "      <td>3.230000</td>\n",
       "      <td>30.000000</td>\n",
       "      <td>162.000000</td>\n",
       "      <td>3.880000</td>\n",
       "      <td>5.080000</td>\n",
       "      <td>0.660000</td>\n",
       "      <td>3.580000</td>\n",
       "      <td>13.000000</td>\n",
       "      <td>1.710000</td>\n",
       "      <td>4.000000</td>\n",
       "      <td>1680.000000</td>\n",
       "      <td>2.000000</td>\n",
       "    </tr>\n",
       "  </tbody>\n",
       "</table>\n",
       "</div>"
      ],
      "text/plain": [
       "          alcohol  malic_acid         ash  alcalinity_of_ash   magnesium  \\\n",
       "count  178.000000  178.000000  178.000000         178.000000  178.000000   \n",
       "mean    13.000618    2.336348    2.366517          19.494944   99.741573   \n",
       "std      0.811827    1.117146    0.274344           3.339564   14.282484   \n",
       "min     11.030000    0.740000    1.360000          10.600000   70.000000   \n",
       "25%     12.362500    1.602500    2.210000          17.200000   88.000000   \n",
       "50%     13.050000    1.865000    2.360000          19.500000   98.000000   \n",
       "75%     13.677500    3.082500    2.557500          21.500000  107.000000   \n",
       "max     14.830000    5.800000    3.230000          30.000000  162.000000   \n",
       "\n",
       "       total_phenols  flavanoids  nonflavanoid_phenols  proanthocyanins  \\\n",
       "count     178.000000  178.000000            178.000000       178.000000   \n",
       "mean        2.295112    2.029270              0.361854         1.590899   \n",
       "std         0.625851    0.998859              0.124453         0.572359   \n",
       "min         0.980000    0.340000              0.130000         0.410000   \n",
       "25%         1.742500    1.205000              0.270000         1.250000   \n",
       "50%         2.355000    2.135000              0.340000         1.555000   \n",
       "75%         2.800000    2.875000              0.437500         1.950000   \n",
       "max         3.880000    5.080000              0.660000         3.580000   \n",
       "\n",
       "       color_intensity         hue  od280/od315_of_diluted_wines      proline  \\\n",
       "count       178.000000  178.000000                    178.000000   178.000000   \n",
       "mean          5.058090    0.957449                      2.611685   746.893258   \n",
       "std           2.318286    0.228572                      0.709990   314.907474   \n",
       "min           1.280000    0.480000                      1.270000   278.000000   \n",
       "25%           3.220000    0.782500                      1.937500   500.500000   \n",
       "50%           4.690000    0.965000                      2.780000   673.500000   \n",
       "75%           6.200000    1.120000                      3.170000   985.000000   \n",
       "max          13.000000    1.710000                      4.000000  1680.000000   \n",
       "\n",
       "           target  \n",
       "count  178.000000  \n",
       "mean     0.938202  \n",
       "std      0.775035  \n",
       "min      0.000000  \n",
       "25%      0.000000  \n",
       "50%      1.000000  \n",
       "75%      2.000000  \n",
       "max      2.000000  "
      ]
     },
     "execution_count": 5,
     "metadata": {},
     "output_type": "execute_result"
    }
   ],
   "source": [
    "df.describe()"
   ]
  },
  {
   "cell_type": "code",
   "execution_count": 6,
   "id": "b505c304",
   "metadata": {},
   "outputs": [
    {
     "data": {
      "text/plain": [
       "1    71\n",
       "0    59\n",
       "2    48\n",
       "Name: target, dtype: int64"
      ]
     },
     "execution_count": 6,
     "metadata": {},
     "output_type": "execute_result"
    }
   ],
   "source": [
    "df.target.value_counts()"
   ]
  },
  {
   "cell_type": "code",
   "execution_count": 7,
   "id": "8de0f548",
   "metadata": {},
   "outputs": [
    {
     "data": {
      "image/png": "[encoded data removed]",
      "text/plain": [
       "<Figure size 1440x1440 with 16 Axes>"
      ]
     },
     "metadata": {
      "needs_background": "light"
     },
     "output_type": "display_data"
    }
   ],
   "source": [
    "plt.rcParams[\"figure.figsize\"] = (20,20)\n",
    "df.hist()\n",
    "plt.show()"
   ]
  },
  {
   "cell_type": "code",
   "execution_count": 8,
   "id": "adb26382",
   "metadata": {},
   "outputs": [
    {
     "data": {
      "image/png": "[encoded data removed]",
      "text/plain": [
       "<Figure size 1440x1440 with 35 Axes>"
      ]
     },
     "metadata": {
      "needs_background": "light"
     },
     "output_type": "display_data"
    }
   ],
   "source": [
    "df.plot(kind='density', subplots=True, layout=(5,7), sharex=False)\n",
    "plt.show()"
   ]
  },
  {
   "cell_type": "code",
   "execution_count": 9,
   "id": "ffb513bb",
   "metadata": {},
   "outputs": [
    {
     "data": {
      "text/plain": [
       "alcohol                         0\n",
       "malic_acid                      0\n",
       "ash                             0\n",
       "alcalinity_of_ash               0\n",
       "magnesium                       0\n",
       "total_phenols                   0\n",
       "flavanoids                      0\n",
       "nonflavanoid_phenols            0\n",
       "proanthocyanins                 0\n",
       "color_intensity                 0\n",
       "hue                             0\n",
       "od280/od315_of_diluted_wines    0\n",
       "proline                         0\n",
       "target                          0\n",
       "dtype: int64"
      ]
     },
     "execution_count": 9,
     "metadata": {},
     "output_type": "execute_result"
    }
   ],
   "source": [
    "df.isnull().sum()"
   ]
  },
  {
   "cell_type": "code",
   "execution_count": 10,
   "id": "53a17f5e",
   "metadata": {},
   "outputs": [
    {
     "data": {
      "text/plain": [
       "alcohol                         0\n",
       "malic_acid                      0\n",
       "ash                             0\n",
       "alcalinity_of_ash               0\n",
       "magnesium                       0\n",
       "total_phenols                   0\n",
       "flavanoids                      0\n",
       "nonflavanoid_phenols            0\n",
       "proanthocyanins                 0\n",
       "color_intensity                 0\n",
       "hue                             0\n",
       "od280/od315_of_diluted_wines    0\n",
       "proline                         0\n",
       "target                          0\n",
       "dtype: int64"
      ]
     },
     "execution_count": 10,
     "metadata": {},
     "output_type": "execute_result"
    }
   ],
   "source": [
    "df.isna().sum()"
   ]
  },
  {
   "cell_type": "code",
   "execution_count": 11,
   "id": "9cb74c01",
   "metadata": {},
   "outputs": [
    {
     "data": {
      "text/html": [
       "<div>\n",
       "<style scoped>\n",
       "    .dataframe tbody tr th:only-of-type {\n",
       "        vertical-align: middle;\n",
       "    }\n",
       "\n",
       "    .dataframe tbody tr th {\n",
       "        vertical-align: top;\n",
       "    }\n",
       "\n",
       "    .dataframe thead th {\n",
       "        text-align: right;\n",
       "    }\n",
       "</style>\n",
       "<table border=\"1\" class=\"dataframe\">\n",
       "  <thead>\n",
       "    <tr style=\"text-align: right;\">\n",
       "      <th></th>\n",
       "      <th>alcohol</th>\n",
       "      <th>malic_acid</th>\n",
       "      <th>ash</th>\n",
       "      <th>alcalinity_of_ash</th>\n",
       "      <th>magnesium</th>\n",
       "      <th>total_phenols</th>\n",
       "      <th>flavanoids</th>\n",
       "      <th>nonflavanoid_phenols</th>\n",
       "      <th>proanthocyanins</th>\n",
       "      <th>color_intensity</th>\n",
       "      <th>hue</th>\n",
       "      <th>od280/od315_of_diluted_wines</th>\n",
       "      <th>proline</th>\n",
       "      <th>target</th>\n",
       "    </tr>\n",
       "  </thead>\n",
       "  <tbody>\n",
       "  </tbody>\n",
       "</table>\n",
       "</div>"
      ],
      "text/plain": [
       "Empty DataFrame\n",
       "Columns: [alcohol, malic_acid, ash, alcalinity_of_ash, magnesium, total_phenols, flavanoids, nonflavanoid_phenols, proanthocyanins, color_intensity, hue, od280/od315_of_diluted_wines, proline, target]\n",
       "Index: []"
      ]
     },
     "execution_count": 11,
     "metadata": {},
     "output_type": "execute_result"
    }
   ],
   "source": [
    "duplicate_values = df[df.duplicated()]\n",
    "duplicate_values"
   ]
  },
  {
   "cell_type": "code",
   "execution_count": 12,
   "id": "710d6646",
   "metadata": {},
   "outputs": [
    {
     "data": {
      "image/png": "[encoded data removed]",
      "text/plain": [
       "<Figure size 1440x1440 with 35 Axes>"
      ]
     },
     "metadata": {
      "needs_background": "light"
     },
     "output_type": "display_data"
    }
   ],
   "source": [
    "df.plot(kind='box', subplots=True, layout=(5,7), sharex=False, sharey=False)\n",
    "plt.show()"
   ]
  },
  {
   "cell_type": "code",
   "execution_count": 13,
   "id": "85f383e0",
   "metadata": {},
   "outputs": [
    {
     "data": {
      "text/plain": [
       "Index(['target', 'alcalinity_of_ash', 'nonflavanoid_phenols', 'malic_acid',\n",
       "       'color_intensity'],\n",
       "      dtype='object')"
      ]
     },
     "execution_count": 13,
     "metadata": {},
     "output_type": "execute_result"
    }
   ],
   "source": [
    "correlation = df.corr(method='spearman')\n",
    "columns = correlation.nlargest(5,'target').index\n",
    "columns"
   ]
  },
  {
   "cell_type": "code",
   "execution_count": 14,
   "id": "12ff68e5",
   "metadata": {},
   "outputs": [
    {
     "data": {
      "image/png": "[encoded data removed]",
      "text/plain": [
       "<Figure size 1368x1080 with 2 Axes>"
      ]
     },
     "metadata": {
      "needs_background": "light"
     },
     "output_type": "display_data"
    }
   ],
   "source": [
    "f = plt.figure(figsize=(19, 15))\n",
    "correlation_map = np.corrcoef(df[columns].values.T)\n",
    "sns.set(font_scale=1.0)\n",
    "heatmap = sns.heatmap(correlation_map, cbar=True, annot=True, square=True, fmt='.2f', yticklabels=columns.values, xticklabels=columns.values)\n",
    "\n",
    "plt.show()"
   ]
  },
  {
   "cell_type": "markdown",
   "id": "84739e59",
   "metadata": {},
   "source": [
    "##### Seperate dataset into features and output "
   ]
  },
  {
   "cell_type": "code",
   "execution_count": 15,
   "id": "285aad82",
   "metadata": {},
   "outputs": [],
   "source": [
    "values = df.values\n",
    "\n",
    "X = values[:,0:13]\n",
    "Y = values[:,13]"
   ]
  },
  {
   "cell_type": "markdown",
   "id": "1a086153",
   "metadata": {},
   "source": [
    "##### Feature Scaling "
   ]
  },
  {
   "cell_type": "code",
   "execution_count": 16,
   "id": "0572577f",
   "metadata": {},
   "outputs": [],
   "source": [
    "from sklearn.preprocessing import StandardScaler\n",
    "scaler = StandardScaler() # initialize scaler \n",
    "scaler.fit(X) # learn the necessary info from data \n",
    "X_scaled  = scaler.fit_transform(X) # apply scaling "
   ]
  },
  {
   "cell_type": "code",
   "execution_count": 17,
   "id": "3a7673f9",
   "metadata": {},
   "outputs": [],
   "source": [
    "df_scaled = pd.DataFrame(X_scaled)"
   ]
  },
  {
   "cell_type": "code",
   "execution_count": 18,
   "id": "110aac58",
   "metadata": {},
   "outputs": [
    {
     "data": {
      "image/png": "[encoded data removed]",
      "text/plain": [
       "<Figure size 1440x1440 with 16 Axes>"
      ]
     },
     "metadata": {},
     "output_type": "display_data"
    }
   ],
   "source": [
    "plt.rcParams[\"figure.figsize\"] = (20,20)\n",
    "df_scaled.hist()\n",
    "plt.show()"
   ]
  },
  {
   "cell_type": "code",
   "execution_count": 19,
   "id": "ef793e7d",
   "metadata": {},
   "outputs": [
    {
     "name": "stdout",
     "output_type": "stream",
     "text": [
      " LR: 0.987958 (+/- 0.022741)\n",
      "LDA: 0.989599 (+/- 0.022268)\n",
      "kNN: 0.969720 (+/- 0.035930)\n",
      " DT: 0.901032 (+/- 0.073708)\n",
      " NB: 0.979032 (+/- 0.033058)\n",
      "SVM: 0.960029 (+/- 0.034670)\n",
      " RF: 0.980267 (+/- 0.028518)\n",
      " GB: 0.941681 (+/- 0.050611)\n",
      "XGB: 0.969199 (+/- 0.038694)\n",
      "AdaBoost: 0.896567 (+/- 0.096544)\n",
      "ANN: 0.980437 (+/- 0.029534)\n"
     ]
    }
   ],
   "source": [
    "from sklearn.model_selection import cross_val_score\n",
    "from sklearn.model_selection import RepeatedStratifiedKFold\n",
    "from sklearn.pipeline import Pipeline\n",
    "from sklearn.linear_model import LogisticRegression\n",
    "from sklearn.discriminant_analysis import LinearDiscriminantAnalysis # LDA\n",
    "from sklearn.neighbors import KNeighborsClassifier #KNN\n",
    "from sklearn.naive_bayes import GaussianNB  # Naive Bayes\n",
    "from sklearn.tree import DecisionTreeClassifier # Decision Tree\n",
    "from sklearn.svm import SVC # SVM\n",
    "from sklearn.ensemble import RandomForestClassifier\n",
    "from sklearn.ensemble import GradientBoostingClassifier\n",
    "import xgboost as xgb\n",
    "from sklearn.ensemble import AdaBoostClassifier\n",
    "from sklearn.neural_network import MLPClassifier \n",
    "from sklearn.metrics import f1_score # We choose f1 score because the data are unbalanced and f1 takes the combination of precision and recall\n",
    "\n",
    "\n",
    "\n",
    "models = []\n",
    "models.append(('LR',  LogisticRegression(solver='liblinear')))\n",
    "models.append(('LDA', LinearDiscriminantAnalysis()))\n",
    "models.append(('kNN', KNeighborsClassifier()))\n",
    "models.append(('DT',  DecisionTreeClassifier()))\n",
    "models.append(('NB',  GaussianNB()))\n",
    "models.append(('SVM', SVC(kernel=\"linear\", gamma='auto')))\n",
    "models.append(('RF',  RandomForestClassifier()))\n",
    "models.append(('GB',  GradientBoostingClassifier()))\n",
    "models.append(('XGB', xgb.XGBClassifier()))\n",
    "models.append(('AdaBoost',  AdaBoostClassifier()))\n",
    "models.append(('ANN', MLPClassifier()))\n",
    "\n",
    "\n",
    "cv = RepeatedStratifiedKFold(n_splits=10, n_repeats=5, random_state=1)\n",
    "scoring = \"f1_macro\"\n",
    "\n",
    "results_no_noise={}\n",
    "\n",
    "results = []\n",
    "names   = []\n",
    "for i, model in models:\n",
    "    cv_results = cross_val_score(model, X_scaled, Y, cv=cv, n_jobs=-1, scoring=scoring)\n",
    "    results.append(cv_results)\n",
    "    names.append(i)\n",
    "    print(\"%03s: %f (+/- %f)\" % (i, cv_results.mean(), cv_results.std()))\n",
    "    results_no_noise[i]=cv_results.mean()"
   ]
  },
  {
   "cell_type": "code",
   "execution_count": 20,
   "id": "d5add01c",
   "metadata": {},
   "outputs": [],
   "source": [
    "# Multiple results from cross validation for statistical tests"
   ]
  },
  {
   "cell_type": "code",
   "execution_count": 21,
   "id": "a22391ee",
   "metadata": {},
   "outputs": [],
   "source": [
    "# Create a function that assembles cross validation results  \n",
    "def cv_res (results):  \n",
    "    \n",
    "    a = [5,10,15,20,25,30,35,40,45,50]\n",
    "\n",
    "    x = []\n",
    "\n",
    "    sum = 0\n",
    "\n",
    "    for i , result in enumerate(results):\n",
    "       \n",
    "        sum += result\n",
    "\n",
    "        if i+1 in a: \n",
    "            x.append(sum/5)\n",
    "            sum=0\n",
    "    return x"
   ]
  },
  {
   "cell_type": "code",
   "execution_count": 22,
   "id": "098ec6da",
   "metadata": {},
   "outputs": [
    {
     "data": {
      "text/html": [
       "<div>\n",
       "<style scoped>\n",
       "    .dataframe tbody tr th:only-of-type {\n",
       "        vertical-align: middle;\n",
       "    }\n",
       "\n",
       "    .dataframe tbody tr th {\n",
       "        vertical-align: top;\n",
       "    }\n",
       "\n",
       "    .dataframe thead th {\n",
       "        text-align: right;\n",
       "    }\n",
       "</style>\n",
       "<table border=\"1\" class=\"dataframe\">\n",
       "  <thead>\n",
       "    <tr style=\"text-align: right;\">\n",
       "      <th></th>\n",
       "      <th>LR</th>\n",
       "      <th>LDA</th>\n",
       "      <th>kNN</th>\n",
       "      <th>DT</th>\n",
       "      <th>NB</th>\n",
       "      <th>SVM</th>\n",
       "      <th>RF</th>\n",
       "      <th>GB</th>\n",
       "      <th>XGB</th>\n",
       "      <th>AdaBoost</th>\n",
       "      <th>ANN</th>\n",
       "    </tr>\n",
       "  </thead>\n",
       "  <tbody>\n",
       "    <tr>\n",
       "      <th>0</th>\n",
       "      <td>0.989744</td>\n",
       "      <td>0.988811</td>\n",
       "      <td>0.957265</td>\n",
       "      <td>0.900084</td>\n",
       "      <td>0.989495</td>\n",
       "      <td>0.943662</td>\n",
       "      <td>0.979239</td>\n",
       "      <td>0.956690</td>\n",
       "      <td>0.977622</td>\n",
       "      <td>0.920919</td>\n",
       "      <td>0.976959</td>\n",
       "    </tr>\n",
       "    <tr>\n",
       "      <th>1</th>\n",
       "      <td>0.988811</td>\n",
       "      <td>0.986555</td>\n",
       "      <td>0.978555</td>\n",
       "      <td>0.900029</td>\n",
       "      <td>0.967273</td>\n",
       "      <td>0.975366</td>\n",
       "      <td>0.977622</td>\n",
       "      <td>0.919602</td>\n",
       "      <td>0.966511</td>\n",
       "      <td>0.935545</td>\n",
       "      <td>0.977778</td>\n",
       "    </tr>\n",
       "    <tr>\n",
       "      <th>2</th>\n",
       "      <td>0.988811</td>\n",
       "      <td>0.966703</td>\n",
       "      <td>0.967366</td>\n",
       "      <td>0.807465</td>\n",
       "      <td>0.967801</td>\n",
       "      <td>0.943471</td>\n",
       "      <td>0.945451</td>\n",
       "      <td>0.860221</td>\n",
       "      <td>0.932166</td>\n",
       "      <td>0.876102</td>\n",
       "      <td>0.988811</td>\n",
       "    </tr>\n",
       "    <tr>\n",
       "      <th>3</th>\n",
       "      <td>0.989744</td>\n",
       "      <td>1.000000</td>\n",
       "      <td>0.979239</td>\n",
       "      <td>0.938547</td>\n",
       "      <td>0.988811</td>\n",
       "      <td>0.956198</td>\n",
       "      <td>0.989744</td>\n",
       "      <td>0.966829</td>\n",
       "      <td>0.989744</td>\n",
       "      <td>0.911694</td>\n",
       "      <td>0.966703</td>\n",
       "    </tr>\n",
       "    <tr>\n",
       "      <th>4</th>\n",
       "      <td>0.978555</td>\n",
       "      <td>0.988148</td>\n",
       "      <td>0.957920</td>\n",
       "      <td>0.890385</td>\n",
       "      <td>0.978355</td>\n",
       "      <td>0.955563</td>\n",
       "      <td>0.978555</td>\n",
       "      <td>0.968099</td>\n",
       "      <td>0.978555</td>\n",
       "      <td>0.902627</td>\n",
       "      <td>0.977622</td>\n",
       "    </tr>\n",
       "    <tr>\n",
       "      <th>5</th>\n",
       "      <td>0.988811</td>\n",
       "      <td>0.988811</td>\n",
       "      <td>0.977208</td>\n",
       "      <td>0.930370</td>\n",
       "      <td>0.977008</td>\n",
       "      <td>0.964424</td>\n",
       "      <td>1.000000</td>\n",
       "      <td>0.964893</td>\n",
       "      <td>0.961639</td>\n",
       "      <td>0.874008</td>\n",
       "      <td>0.988148</td>\n",
       "    </tr>\n",
       "    <tr>\n",
       "      <th>6</th>\n",
       "      <td>0.989744</td>\n",
       "      <td>0.988811</td>\n",
       "      <td>0.947541</td>\n",
       "      <td>0.922191</td>\n",
       "      <td>0.988811</td>\n",
       "      <td>0.967366</td>\n",
       "      <td>0.978555</td>\n",
       "      <td>0.936253</td>\n",
       "      <td>0.956495</td>\n",
       "      <td>0.841084</td>\n",
       "      <td>0.989744</td>\n",
       "    </tr>\n",
       "    <tr>\n",
       "      <th>7</th>\n",
       "      <td>0.988148</td>\n",
       "      <td>0.988148</td>\n",
       "      <td>0.988148</td>\n",
       "      <td>0.965545</td>\n",
       "      <td>0.967138</td>\n",
       "      <td>0.962328</td>\n",
       "      <td>0.988148</td>\n",
       "      <td>0.967387</td>\n",
       "      <td>0.976027</td>\n",
       "      <td>0.935207</td>\n",
       "      <td>0.974180</td>\n",
       "    </tr>\n",
       "    <tr>\n",
       "      <th>8</th>\n",
       "      <td>0.989744</td>\n",
       "      <td>1.000000</td>\n",
       "      <td>0.989744</td>\n",
       "      <td>0.879842</td>\n",
       "      <td>0.989495</td>\n",
       "      <td>0.988811</td>\n",
       "      <td>0.989744</td>\n",
       "      <td>0.946248</td>\n",
       "      <td>0.977622</td>\n",
       "      <td>0.855036</td>\n",
       "      <td>0.988811</td>\n",
       "    </tr>\n",
       "    <tr>\n",
       "      <th>9</th>\n",
       "      <td>0.987464</td>\n",
       "      <td>1.000000</td>\n",
       "      <td>0.954216</td>\n",
       "      <td>0.875862</td>\n",
       "      <td>0.976135</td>\n",
       "      <td>0.943105</td>\n",
       "      <td>0.975613</td>\n",
       "      <td>0.930590</td>\n",
       "      <td>0.975613</td>\n",
       "      <td>0.913453</td>\n",
       "      <td>0.975613</td>\n",
       "    </tr>\n",
       "  </tbody>\n",
       "</table>\n",
       "</div>"
      ],
      "text/plain": [
       "         LR       LDA       kNN        DT        NB       SVM        RF  \\\n",
       "0  0.989744  0.988811  0.957265  0.900084  0.989495  0.943662  0.979239   \n",
       "1  0.988811  0.986555  0.978555  0.900029  0.967273  0.975366  0.977622   \n",
       "2  0.988811  0.966703  0.967366  0.807465  0.967801  0.943471  0.945451   \n",
       "3  0.989744  1.000000  0.979239  0.938547  0.988811  0.956198  0.989744   \n",
       "4  0.978555  0.988148  0.957920  0.890385  0.978355  0.955563  0.978555   \n",
       "5  0.988811  0.988811  0.977208  0.930370  0.977008  0.964424  1.000000   \n",
       "6  0.989744  0.988811  0.947541  0.922191  0.988811  0.967366  0.978555   \n",
       "7  0.988148  0.988148  0.988148  0.965545  0.967138  0.962328  0.988148   \n",
       "8  0.989744  1.000000  0.989744  0.879842  0.989495  0.988811  0.989744   \n",
       "9  0.987464  1.000000  0.954216  0.875862  0.976135  0.943105  0.975613   \n",
       "\n",
       "         GB       XGB  AdaBoost       ANN  \n",
       "0  0.956690  0.977622  0.920919  0.976959  \n",
       "1  0.919602  0.966511  0.935545  0.977778  \n",
       "2  0.860221  0.932166  0.876102  0.988811  \n",
       "3  0.966829  0.989744  0.911694  0.966703  \n",
       "4  0.968099  0.978555  0.902627  0.977622  \n",
       "5  0.964893  0.961639  0.874008  0.988148  \n",
       "6  0.936253  0.956495  0.841084  0.989744  \n",
       "7  0.967387  0.976027  0.935207  0.974180  \n",
       "8  0.946248  0.977622  0.855036  0.988811  \n",
       "9  0.930590  0.975613  0.913453  0.975613  "
      ]
     },
     "execution_count": 22,
     "metadata": {},
     "output_type": "execute_result"
    }
   ],
   "source": [
    "m =[]\n",
    "for i in models:\n",
    "    m.append(i[0])\n",
    "\n",
    "f1_results = pd.DataFrame()\n",
    "\n",
    "\n",
    "for i, m in enumerate(m):\n",
    "    f1_results[str(m)] = cv_res(results[i])\n",
    "\n",
    "f1_results    "
   ]
  },
  {
   "cell_type": "code",
   "execution_count": 23,
   "id": "03419ce6",
   "metadata": {},
   "outputs": [
    {
     "data": {
      "text/plain": [
       "0    0.965957\n",
       "1    0.963810\n",
       "2    0.936827\n",
       "3    0.976556\n",
       "4    0.965176\n",
       "5    0.974131\n",
       "6    0.966551\n",
       "7    0.976520\n",
       "8    0.974006\n",
       "9    0.959421\n",
       "dtype: float64"
      ]
     },
     "execution_count": 23,
     "metadata": {},
     "output_type": "execute_result"
    }
   ],
   "source": [
    "f1_results_other_algorithms=f1_results.drop(columns=['AdaBoost']).mean(axis=1)\n",
    "f1_results_other_algorithms"
   ]
  },
  {
   "cell_type": "markdown",
   "id": "2d14925f",
   "metadata": {},
   "source": [
    "## Noise without noisify "
   ]
  },
  {
   "cell_type": "code",
   "execution_count": 24,
   "id": "cec589cc",
   "metadata": {},
   "outputs": [],
   "source": [
    "# Create a function to add noise    \n",
    "def add_noise(X,p):\n",
    "    if p>0:\n",
    "        X_n = pd.DataFrame(X)\n",
    "        a,b = X.shape\n",
    "        c = round(a*p)\n",
    "\n",
    "        for k in range(b):\n",
    "            mean = X_n[k].mean()\n",
    "            sd = X_n[k].std()\n",
    "\n",
    "            for i in range(0,a,int(a/c)):\n",
    "                X_n.iloc[i,k] = np.random.normal(mean,sd)\n",
    "\n",
    "        return X_n.values\n",
    "\n",
    "    else:\n",
    "        return X"
   ]
  },
  {
   "cell_type": "markdown",
   "id": "bbc9ec6b",
   "metadata": {},
   "source": [
    "#### Add noise 5%"
   ]
  },
  {
   "cell_type": "code",
   "execution_count": 25,
   "id": "cca125c6",
   "metadata": {},
   "outputs": [],
   "source": [
    "X2_noise1 = add_noise(X_scaled, p=0.05)"
   ]
  },
  {
   "cell_type": "code",
   "execution_count": 26,
   "id": "9439ec5c",
   "metadata": {},
   "outputs": [
    {
     "name": "stdout",
     "output_type": "stream",
     "text": [
      " LR: 0.944415 (+/- 0.062791)\n",
      "LDA: 0.947799 (+/- 0.056031)\n",
      "kNN: 0.944675 (+/- 0.058594)\n",
      " DT: 0.860861 (+/- 0.076123)\n",
      " NB: 0.935144 (+/- 0.066337)\n",
      "SVM: 0.897060 (+/- 0.076600)\n",
      " RF: 0.941423 (+/- 0.055262)\n",
      " GB: 0.925488 (+/- 0.060649)\n",
      "XGB: 0.917514 (+/- 0.069470)\n",
      "AdaBoost: 0.858728 (+/- 0.096076)\n",
      "ANN: 0.937541 (+/- 0.060390)\n"
     ]
    }
   ],
   "source": [
    "from sklearn.model_selection import cross_val_score\n",
    "from sklearn.model_selection import RepeatedStratifiedKFold\n",
    "from sklearn.pipeline import Pipeline\n",
    "from sklearn.linear_model import LogisticRegression\n",
    "from sklearn.discriminant_analysis import LinearDiscriminantAnalysis # LDA\n",
    "from sklearn.neighbors import KNeighborsClassifier #KNN\n",
    "from sklearn.naive_bayes import GaussianNB  # Naive Bayes\n",
    "from sklearn.tree import DecisionTreeClassifier # Decision Tree\n",
    "from sklearn.svm import SVC # SVM\n",
    "from sklearn.ensemble import RandomForestClassifier\n",
    "from sklearn.ensemble import GradientBoostingClassifier\n",
    "import xgboost as xgb\n",
    "from sklearn.ensemble import AdaBoostClassifier\n",
    "from sklearn.neural_network import MLPClassifier \n",
    "from sklearn.metrics import f1_score # We choose f1 score because the data are unbalanced and f1 takes the combination of precision and recall\n",
    "\n",
    "\n",
    "\n",
    "models = []\n",
    "models.append(('LR',  LogisticRegression(solver='liblinear')))\n",
    "models.append(('LDA', LinearDiscriminantAnalysis()))\n",
    "models.append(('kNN', KNeighborsClassifier()))\n",
    "models.append(('DT',  DecisionTreeClassifier()))\n",
    "models.append(('NB',  GaussianNB()))\n",
    "models.append(('SVM', SVC(kernel=\"linear\", gamma='auto')))\n",
    "models.append(('RF',  RandomForestClassifier()))\n",
    "models.append(('GB',  GradientBoostingClassifier()))\n",
    "models.append(('XGB', xgb.XGBClassifier()))\n",
    "models.append(('AdaBoost',  AdaBoostClassifier()))\n",
    "models.append(('ANN', MLPClassifier()))\n",
    "\n",
    "\n",
    "cv = RepeatedStratifiedKFold(n_splits=10, n_repeats=5, random_state=1)\n",
    "scoring = \"f1_macro\"\n",
    "\n",
    "\n",
    "results_noise2_1={}\n",
    "\n",
    "results = []\n",
    "names   = []\n",
    "for i, model in models:\n",
    "    cv_results = cross_val_score(model, X2_noise1, Y, cv=cv, n_jobs=-1, scoring=scoring)\n",
    "    results.append(cv_results)\n",
    "    names.append(i)\n",
    "    print(\"%03s: %f (+/- %f)\" % (i, cv_results.mean(), cv_results.std()))\n",
    "    results_noise2_1[i]=cv_results.mean()"
   ]
  },
  {
   "cell_type": "code",
   "execution_count": 27,
   "id": "8674d006",
   "metadata": {},
   "outputs": [
    {
     "data": {
      "text/html": [
       "<div>\n",
       "<style scoped>\n",
       "    .dataframe tbody tr th:only-of-type {\n",
       "        vertical-align: middle;\n",
       "    }\n",
       "\n",
       "    .dataframe tbody tr th {\n",
       "        vertical-align: top;\n",
       "    }\n",
       "\n",
       "    .dataframe thead th {\n",
       "        text-align: right;\n",
       "    }\n",
       "</style>\n",
       "<table border=\"1\" class=\"dataframe\">\n",
       "  <thead>\n",
       "    <tr style=\"text-align: right;\">\n",
       "      <th></th>\n",
       "      <th>LR</th>\n",
       "      <th>LDA</th>\n",
       "      <th>kNN</th>\n",
       "      <th>DT</th>\n",
       "      <th>NB</th>\n",
       "      <th>SVM</th>\n",
       "      <th>RF</th>\n",
       "      <th>GB</th>\n",
       "      <th>XGB</th>\n",
       "      <th>AdaBoost</th>\n",
       "      <th>ANN</th>\n",
       "    </tr>\n",
       "  </thead>\n",
       "  <tbody>\n",
       "    <tr>\n",
       "      <th>0</th>\n",
       "      <td>0.969109</td>\n",
       "      <td>0.979487</td>\n",
       "      <td>0.968298</td>\n",
       "      <td>0.889240</td>\n",
       "      <td>0.979487</td>\n",
       "      <td>0.946239</td>\n",
       "      <td>0.968298</td>\n",
       "      <td>0.968982</td>\n",
       "      <td>0.956255</td>\n",
       "      <td>0.894007</td>\n",
       "      <td>0.978555</td>\n",
       "    </tr>\n",
       "    <tr>\n",
       "      <th>1</th>\n",
       "      <td>0.920582</td>\n",
       "      <td>0.917968</td>\n",
       "      <td>0.932698</td>\n",
       "      <td>0.807498</td>\n",
       "      <td>0.887468</td>\n",
       "      <td>0.870211</td>\n",
       "      <td>0.910501</td>\n",
       "      <td>0.909911</td>\n",
       "      <td>0.866227</td>\n",
       "      <td>0.822019</td>\n",
       "      <td>0.907136</td>\n",
       "    </tr>\n",
       "    <tr>\n",
       "      <th>2</th>\n",
       "      <td>0.967273</td>\n",
       "      <td>0.955421</td>\n",
       "      <td>0.945828</td>\n",
       "      <td>0.845707</td>\n",
       "      <td>0.944646</td>\n",
       "      <td>0.877437</td>\n",
       "      <td>0.946263</td>\n",
       "      <td>0.914531</td>\n",
       "      <td>0.891096</td>\n",
       "      <td>0.876558</td>\n",
       "      <td>0.957016</td>\n",
       "    </tr>\n",
       "    <tr>\n",
       "      <th>3</th>\n",
       "      <td>0.934216</td>\n",
       "      <td>0.955286</td>\n",
       "      <td>0.945030</td>\n",
       "      <td>0.888182</td>\n",
       "      <td>0.944146</td>\n",
       "      <td>0.898642</td>\n",
       "      <td>0.945030</td>\n",
       "      <td>0.945030</td>\n",
       "      <td>0.934900</td>\n",
       "      <td>0.873740</td>\n",
       "      <td>0.910363</td>\n",
       "    </tr>\n",
       "    <tr>\n",
       "      <th>4</th>\n",
       "      <td>0.935995</td>\n",
       "      <td>0.934400</td>\n",
       "      <td>0.946252</td>\n",
       "      <td>0.891514</td>\n",
       "      <td>0.924260</td>\n",
       "      <td>0.911608</td>\n",
       "      <td>0.925876</td>\n",
       "      <td>0.936802</td>\n",
       "      <td>0.914081</td>\n",
       "      <td>0.886190</td>\n",
       "      <td>0.913203</td>\n",
       "    </tr>\n",
       "    <tr>\n",
       "      <th>5</th>\n",
       "      <td>0.948355</td>\n",
       "      <td>0.948355</td>\n",
       "      <td>0.929981</td>\n",
       "      <td>0.884860</td>\n",
       "      <td>0.918443</td>\n",
       "      <td>0.906125</td>\n",
       "      <td>0.950494</td>\n",
       "      <td>0.917743</td>\n",
       "      <td>0.925921</td>\n",
       "      <td>0.842750</td>\n",
       "      <td>0.938099</td>\n",
       "    </tr>\n",
       "    <tr>\n",
       "      <th>6</th>\n",
       "      <td>0.915291</td>\n",
       "      <td>0.925547</td>\n",
       "      <td>0.914542</td>\n",
       "      <td>0.831854</td>\n",
       "      <td>0.899730</td>\n",
       "      <td>0.821886</td>\n",
       "      <td>0.925030</td>\n",
       "      <td>0.902998</td>\n",
       "      <td>0.888863</td>\n",
       "      <td>0.809504</td>\n",
       "      <td>0.934659</td>\n",
       "    </tr>\n",
       "    <tr>\n",
       "      <th>7</th>\n",
       "      <td>0.976296</td>\n",
       "      <td>0.963148</td>\n",
       "      <td>0.976296</td>\n",
       "      <td>0.892975</td>\n",
       "      <td>0.966347</td>\n",
       "      <td>0.953020</td>\n",
       "      <td>0.965791</td>\n",
       "      <td>0.944198</td>\n",
       "      <td>0.945156</td>\n",
       "      <td>0.864132</td>\n",
       "      <td>0.949180</td>\n",
       "    </tr>\n",
       "    <tr>\n",
       "      <th>8</th>\n",
       "      <td>0.921317</td>\n",
       "      <td>0.931548</td>\n",
       "      <td>0.943400</td>\n",
       "      <td>0.820344</td>\n",
       "      <td>0.943333</td>\n",
       "      <td>0.898126</td>\n",
       "      <td>0.933077</td>\n",
       "      <td>0.890199</td>\n",
       "      <td>0.930571</td>\n",
       "      <td>0.842999</td>\n",
       "      <td>0.943400</td>\n",
       "    </tr>\n",
       "    <tr>\n",
       "      <th>9</th>\n",
       "      <td>0.955718</td>\n",
       "      <td>0.966829</td>\n",
       "      <td>0.944424</td>\n",
       "      <td>0.856438</td>\n",
       "      <td>0.943579</td>\n",
       "      <td>0.887309</td>\n",
       "      <td>0.943867</td>\n",
       "      <td>0.924487</td>\n",
       "      <td>0.922065</td>\n",
       "      <td>0.875378</td>\n",
       "      <td>0.943797</td>\n",
       "    </tr>\n",
       "  </tbody>\n",
       "</table>\n",
       "</div>"
      ],
      "text/plain": [
       "         LR       LDA       kNN        DT        NB       SVM        RF  \\\n",
       "0  0.969109  0.979487  0.968298  0.889240  0.979487  0.946239  0.968298   \n",
       "1  0.920582  0.917968  0.932698  0.807498  0.887468  0.870211  0.910501   \n",
       "2  0.967273  0.955421  0.945828  0.845707  0.944646  0.877437  0.946263   \n",
       "3  0.934216  0.955286  0.945030  0.888182  0.944146  0.898642  0.945030   \n",
       "4  0.935995  0.934400  0.946252  0.891514  0.924260  0.911608  0.925876   \n",
       "5  0.948355  0.948355  0.929981  0.884860  0.918443  0.906125  0.950494   \n",
       "6  0.915291  0.925547  0.914542  0.831854  0.899730  0.821886  0.925030   \n",
       "7  0.976296  0.963148  0.976296  0.892975  0.966347  0.953020  0.965791   \n",
       "8  0.921317  0.931548  0.943400  0.820344  0.943333  0.898126  0.933077   \n",
       "9  0.955718  0.966829  0.944424  0.856438  0.943579  0.887309  0.943867   \n",
       "\n",
       "         GB       XGB  AdaBoost       ANN  \n",
       "0  0.968982  0.956255  0.894007  0.978555  \n",
       "1  0.909911  0.866227  0.822019  0.907136  \n",
       "2  0.914531  0.891096  0.876558  0.957016  \n",
       "3  0.945030  0.934900  0.873740  0.910363  \n",
       "4  0.936802  0.914081  0.886190  0.913203  \n",
       "5  0.917743  0.925921  0.842750  0.938099  \n",
       "6  0.902998  0.888863  0.809504  0.934659  \n",
       "7  0.944198  0.945156  0.864132  0.949180  \n",
       "8  0.890199  0.930571  0.842999  0.943400  \n",
       "9  0.924487  0.922065  0.875378  0.943797  "
      ]
     },
     "execution_count": 27,
     "metadata": {},
     "output_type": "execute_result"
    }
   ],
   "source": [
    "m =[]\n",
    "for i in models:\n",
    "    m.append(i[0])\n",
    "\n",
    "f1_results_noise_1 = pd.DataFrame()\n",
    "\n",
    "\n",
    "for i, m in enumerate(m):\n",
    "    f1_results_noise_1[str(m)] = cv_res(results[i])\n",
    "\n",
    "f1_results_noise_1"
   ]
  },
  {
   "cell_type": "code",
   "execution_count": 28,
   "id": "2598df56",
   "metadata": {},
   "outputs": [
    {
     "data": {
      "text/plain": [
       "0    0.960395\n",
       "1    0.893020\n",
       "2    0.924522\n",
       "3    0.930082\n",
       "4    0.923399\n",
       "5    0.926838\n",
       "6    0.896040\n",
       "7    0.953241\n",
       "8    0.915531\n",
       "9    0.928851\n",
       "dtype: float64"
      ]
     },
     "execution_count": 28,
     "metadata": {},
     "output_type": "execute_result"
    }
   ],
   "source": [
    "f1_results_noise_1_other_algorithms=f1_results_noise_1.drop(columns=['AdaBoost']).mean(axis=1)\n",
    "f1_results_noise_1_other_algorithms"
   ]
  },
  {
   "cell_type": "markdown",
   "id": "12798b68",
   "metadata": {},
   "source": [
    "#### Add noise 10%"
   ]
  },
  {
   "cell_type": "code",
   "execution_count": 29,
   "id": "06c9a173",
   "metadata": {},
   "outputs": [],
   "source": [
    "X2_noise2 = add_noise(X_scaled,p=.1)"
   ]
  },
  {
   "cell_type": "code",
   "execution_count": 30,
   "id": "4f243b40",
   "metadata": {},
   "outputs": [
    {
     "name": "stdout",
     "output_type": "stream",
     "text": [
      " LR: 0.847266 (+/- 0.097643)\n",
      "LDA: 0.861699 (+/- 0.091753)\n",
      "kNN: 0.858864 (+/- 0.085348)\n",
      " DT: 0.797051 (+/- 0.094281)\n",
      " NB: 0.846888 (+/- 0.095270)\n",
      "SVM: 0.832184 (+/- 0.099030)\n",
      " RF: 0.884684 (+/- 0.081097)\n",
      " GB: 0.857936 (+/- 0.093938)\n",
      "XGB: 0.864143 (+/- 0.086884)\n",
      "AdaBoost: 0.777871 (+/- 0.109469)\n",
      "ANN: 0.855034 (+/- 0.098683)\n"
     ]
    }
   ],
   "source": [
    "from sklearn.model_selection import cross_val_score\n",
    "from sklearn.model_selection import RepeatedStratifiedKFold\n",
    "from sklearn.pipeline import Pipeline\n",
    "from sklearn.linear_model import LogisticRegression\n",
    "from sklearn.discriminant_analysis import LinearDiscriminantAnalysis # LDA\n",
    "from sklearn.neighbors import KNeighborsClassifier #KNN\n",
    "from sklearn.naive_bayes import GaussianNB  # Naive Bayes\n",
    "from sklearn.tree import DecisionTreeClassifier # Decision Tree\n",
    "from sklearn.svm import SVC # SVM\n",
    "from sklearn.ensemble import RandomForestClassifier\n",
    "from sklearn.ensemble import GradientBoostingClassifier\n",
    "import xgboost as xgb\n",
    "from sklearn.ensemble import AdaBoostClassifier\n",
    "from sklearn.neural_network import MLPClassifier \n",
    "from sklearn.metrics import f1_score # We choose f1 score because the data are unbalanced and f1 takes the combination of precision and recall\n",
    "\n",
    "\n",
    "\n",
    "models = []\n",
    "models.append(('LR',  LogisticRegression(solver='liblinear')))\n",
    "models.append(('LDA', LinearDiscriminantAnalysis()))\n",
    "models.append(('kNN', KNeighborsClassifier()))\n",
    "models.append(('DT',  DecisionTreeClassifier()))\n",
    "models.append(('NB',  GaussianNB()))\n",
    "models.append(('SVM', SVC(kernel=\"linear\", gamma='auto')))\n",
    "models.append(('RF',  RandomForestClassifier()))\n",
    "models.append(('GB',  GradientBoostingClassifier()))\n",
    "models.append(('XGB', xgb.XGBClassifier()))\n",
    "models.append(('AdaBoost',  AdaBoostClassifier()))\n",
    "models.append(('ANN', MLPClassifier()))\n",
    "\n",
    "\n",
    "cv = RepeatedStratifiedKFold(n_splits=10, n_repeats=5, random_state=1)\n",
    "scoring = \"f1_macro\"\n",
    "\n",
    "\n",
    "results_noise2_2={}\n",
    "\n",
    "results = []\n",
    "names   = []\n",
    "for i, model in models:\n",
    "    cv_results = cross_val_score(model, X2_noise2, Y, cv=cv, n_jobs=-1, scoring=scoring)\n",
    "    results.append(cv_results)\n",
    "    names.append(i)\n",
    "    print(\"%03s: %f (+/- %f)\" % (i, cv_results.mean(), cv_results.std()))\n",
    "    results_noise2_2[i]=cv_results.mean()"
   ]
  },
  {
   "cell_type": "code",
   "execution_count": 31,
   "id": "556330b3",
   "metadata": {},
   "outputs": [
    {
     "data": {
      "text/html": [
       "<div>\n",
       "<style scoped>\n",
       "    .dataframe tbody tr th:only-of-type {\n",
       "        vertical-align: middle;\n",
       "    }\n",
       "\n",
       "    .dataframe tbody tr th {\n",
       "        vertical-align: top;\n",
       "    }\n",
       "\n",
       "    .dataframe thead th {\n",
       "        text-align: right;\n",
       "    }\n",
       "</style>\n",
       "<table border=\"1\" class=\"dataframe\">\n",
       "  <thead>\n",
       "    <tr style=\"text-align: right;\">\n",
       "      <th></th>\n",
       "      <th>LR</th>\n",
       "      <th>LDA</th>\n",
       "      <th>kNN</th>\n",
       "      <th>DT</th>\n",
       "      <th>NB</th>\n",
       "      <th>SVM</th>\n",
       "      <th>RF</th>\n",
       "      <th>GB</th>\n",
       "      <th>XGB</th>\n",
       "      <th>AdaBoost</th>\n",
       "      <th>ANN</th>\n",
       "    </tr>\n",
       "  </thead>\n",
       "  <tbody>\n",
       "    <tr>\n",
       "      <th>0</th>\n",
       "      <td>0.904304</td>\n",
       "      <td>0.916348</td>\n",
       "      <td>0.901403</td>\n",
       "      <td>0.832763</td>\n",
       "      <td>0.903154</td>\n",
       "      <td>0.869846</td>\n",
       "      <td>0.936544</td>\n",
       "      <td>0.913561</td>\n",
       "      <td>0.901774</td>\n",
       "      <td>0.789537</td>\n",
       "      <td>0.914809</td>\n",
       "    </tr>\n",
       "    <tr>\n",
       "      <th>1</th>\n",
       "      <td>0.790947</td>\n",
       "      <td>0.789735</td>\n",
       "      <td>0.829098</td>\n",
       "      <td>0.768761</td>\n",
       "      <td>0.783055</td>\n",
       "      <td>0.746682</td>\n",
       "      <td>0.821117</td>\n",
       "      <td>0.816117</td>\n",
       "      <td>0.836840</td>\n",
       "      <td>0.722439</td>\n",
       "      <td>0.800290</td>\n",
       "    </tr>\n",
       "    <tr>\n",
       "      <th>2</th>\n",
       "      <td>0.862760</td>\n",
       "      <td>0.863720</td>\n",
       "      <td>0.846424</td>\n",
       "      <td>0.770344</td>\n",
       "      <td>0.835179</td>\n",
       "      <td>0.827882</td>\n",
       "      <td>0.859922</td>\n",
       "      <td>0.832675</td>\n",
       "      <td>0.841577</td>\n",
       "      <td>0.726422</td>\n",
       "      <td>0.864824</td>\n",
       "    </tr>\n",
       "    <tr>\n",
       "      <th>3</th>\n",
       "      <td>0.831141</td>\n",
       "      <td>0.856402</td>\n",
       "      <td>0.876631</td>\n",
       "      <td>0.823235</td>\n",
       "      <td>0.876458</td>\n",
       "      <td>0.836402</td>\n",
       "      <td>0.890172</td>\n",
       "      <td>0.881922</td>\n",
       "      <td>0.889017</td>\n",
       "      <td>0.797022</td>\n",
       "      <td>0.844483</td>\n",
       "    </tr>\n",
       "    <tr>\n",
       "      <th>4</th>\n",
       "      <td>0.825431</td>\n",
       "      <td>0.847202</td>\n",
       "      <td>0.857469</td>\n",
       "      <td>0.757679</td>\n",
       "      <td>0.845678</td>\n",
       "      <td>0.824461</td>\n",
       "      <td>0.868456</td>\n",
       "      <td>0.834805</td>\n",
       "      <td>0.847978</td>\n",
       "      <td>0.780532</td>\n",
       "      <td>0.824863</td>\n",
       "    </tr>\n",
       "    <tr>\n",
       "      <th>5</th>\n",
       "      <td>0.874896</td>\n",
       "      <td>0.852977</td>\n",
       "      <td>0.853643</td>\n",
       "      <td>0.808738</td>\n",
       "      <td>0.847821</td>\n",
       "      <td>0.874285</td>\n",
       "      <td>0.894759</td>\n",
       "      <td>0.872079</td>\n",
       "      <td>0.867571</td>\n",
       "      <td>0.795981</td>\n",
       "      <td>0.844338</td>\n",
       "    </tr>\n",
       "    <tr>\n",
       "      <th>6</th>\n",
       "      <td>0.823886</td>\n",
       "      <td>0.846106</td>\n",
       "      <td>0.826320</td>\n",
       "      <td>0.738160</td>\n",
       "      <td>0.812389</td>\n",
       "      <td>0.801022</td>\n",
       "      <td>0.861195</td>\n",
       "      <td>0.792767</td>\n",
       "      <td>0.835026</td>\n",
       "      <td>0.737103</td>\n",
       "      <td>0.825122</td>\n",
       "    </tr>\n",
       "    <tr>\n",
       "      <th>7</th>\n",
       "      <td>0.885622</td>\n",
       "      <td>0.898135</td>\n",
       "      <td>0.894137</td>\n",
       "      <td>0.829312</td>\n",
       "      <td>0.875836</td>\n",
       "      <td>0.897682</td>\n",
       "      <td>0.901363</td>\n",
       "      <td>0.902392</td>\n",
       "      <td>0.899196</td>\n",
       "      <td>0.836827</td>\n",
       "      <td>0.885389</td>\n",
       "    </tr>\n",
       "    <tr>\n",
       "      <th>8</th>\n",
       "      <td>0.855667</td>\n",
       "      <td>0.868640</td>\n",
       "      <td>0.871294</td>\n",
       "      <td>0.834410</td>\n",
       "      <td>0.845917</td>\n",
       "      <td>0.821559</td>\n",
       "      <td>0.913206</td>\n",
       "      <td>0.878961</td>\n",
       "      <td>0.889340</td>\n",
       "      <td>0.799012</td>\n",
       "      <td>0.891543</td>\n",
       "    </tr>\n",
       "    <tr>\n",
       "      <th>9</th>\n",
       "      <td>0.818011</td>\n",
       "      <td>0.877721</td>\n",
       "      <td>0.832217</td>\n",
       "      <td>0.807110</td>\n",
       "      <td>0.843392</td>\n",
       "      <td>0.822014</td>\n",
       "      <td>0.900106</td>\n",
       "      <td>0.854075</td>\n",
       "      <td>0.833110</td>\n",
       "      <td>0.793834</td>\n",
       "      <td>0.854675</td>\n",
       "    </tr>\n",
       "  </tbody>\n",
       "</table>\n",
       "</div>"
      ],
      "text/plain": [
       "         LR       LDA       kNN        DT        NB       SVM        RF  \\\n",
       "0  0.904304  0.916348  0.901403  0.832763  0.903154  0.869846  0.936544   \n",
       "1  0.790947  0.789735  0.829098  0.768761  0.783055  0.746682  0.821117   \n",
       "2  0.862760  0.863720  0.846424  0.770344  0.835179  0.827882  0.859922   \n",
       "3  0.831141  0.856402  0.876631  0.823235  0.876458  0.836402  0.890172   \n",
       "4  0.825431  0.847202  0.857469  0.757679  0.845678  0.824461  0.868456   \n",
       "5  0.874896  0.852977  0.853643  0.808738  0.847821  0.874285  0.894759   \n",
       "6  0.823886  0.846106  0.826320  0.738160  0.812389  0.801022  0.861195   \n",
       "7  0.885622  0.898135  0.894137  0.829312  0.875836  0.897682  0.901363   \n",
       "8  0.855667  0.868640  0.871294  0.834410  0.845917  0.821559  0.913206   \n",
       "9  0.818011  0.877721  0.832217  0.807110  0.843392  0.822014  0.900106   \n",
       "\n",
       "         GB       XGB  AdaBoost       ANN  \n",
       "0  0.913561  0.901774  0.789537  0.914809  \n",
       "1  0.816117  0.836840  0.722439  0.800290  \n",
       "2  0.832675  0.841577  0.726422  0.864824  \n",
       "3  0.881922  0.889017  0.797022  0.844483  \n",
       "4  0.834805  0.847978  0.780532  0.824863  \n",
       "5  0.872079  0.867571  0.795981  0.844338  \n",
       "6  0.792767  0.835026  0.737103  0.825122  \n",
       "7  0.902392  0.899196  0.836827  0.885389  \n",
       "8  0.878961  0.889340  0.799012  0.891543  \n",
       "9  0.854075  0.833110  0.793834  0.854675  "
      ]
     },
     "execution_count": 31,
     "metadata": {},
     "output_type": "execute_result"
    }
   ],
   "source": [
    "m =[]\n",
    "for i in models:\n",
    "    m.append(i[0])\n",
    "\n",
    "f1_results_noise_2 = pd.DataFrame()\n",
    "\n",
    "\n",
    "for i, m in enumerate(m):\n",
    "    f1_results_noise_2[str(m)] = cv_res(results[i])\n",
    "\n",
    "f1_results_noise_2"
   ]
  },
  {
   "cell_type": "code",
   "execution_count": 32,
   "id": "69c70915",
   "metadata": {},
   "outputs": [
    {
     "data": {
      "text/plain": [
       "0    0.899451\n",
       "1    0.798264\n",
       "2    0.840531\n",
       "3    0.860586\n",
       "4    0.833402\n",
       "5    0.859111\n",
       "6    0.816200\n",
       "7    0.886906\n",
       "8    0.867054\n",
       "9    0.844243\n",
       "dtype: float64"
      ]
     },
     "execution_count": 32,
     "metadata": {},
     "output_type": "execute_result"
    }
   ],
   "source": [
    "f1_results_noise_2_other_algorithms=f1_results_noise_2.drop(columns=['AdaBoost']).mean(axis=1)\n",
    "f1_results_noise_2_other_algorithms"
   ]
  },
  {
   "cell_type": "markdown",
   "id": "cb9105b3",
   "metadata": {},
   "source": [
    "#### Add noise 15%"
   ]
  },
  {
   "cell_type": "code",
   "execution_count": 33,
   "id": "500a1560",
   "metadata": {},
   "outputs": [],
   "source": [
    "X2_noise3 = add_noise(X_scaled,p=.15)"
   ]
  },
  {
   "cell_type": "code",
   "execution_count": 34,
   "id": "04e1fc9a",
   "metadata": {},
   "outputs": [
    {
     "name": "stdout",
     "output_type": "stream",
     "text": [
      " LR: 0.801299 (+/- 0.098585)\n",
      "LDA: 0.806003 (+/- 0.094634)\n",
      "kNN: 0.785406 (+/- 0.082894)\n",
      " DT: 0.707200 (+/- 0.113233)\n",
      " NB: 0.796904 (+/- 0.094259)\n",
      "SVM: 0.759541 (+/- 0.103346)\n",
      " RF: 0.779325 (+/- 0.092111)\n",
      " GB: 0.775197 (+/- 0.096122)\n",
      "XGB: 0.780025 (+/- 0.094417)\n",
      "AdaBoost: 0.710546 (+/- 0.098912)\n",
      "ANN: 0.758762 (+/- 0.097613)\n"
     ]
    }
   ],
   "source": [
    "from sklearn.model_selection import cross_val_score\n",
    "from sklearn.model_selection import RepeatedStratifiedKFold\n",
    "from sklearn.pipeline import Pipeline\n",
    "from sklearn.linear_model import LogisticRegression\n",
    "from sklearn.discriminant_analysis import LinearDiscriminantAnalysis # LDA\n",
    "from sklearn.neighbors import KNeighborsClassifier #KNN\n",
    "from sklearn.naive_bayes import GaussianNB  # Naive Bayes\n",
    "from sklearn.tree import DecisionTreeClassifier # Decision Tree\n",
    "from sklearn.svm import SVC # SVM\n",
    "from sklearn.ensemble import RandomForestClassifier\n",
    "from sklearn.ensemble import GradientBoostingClassifier\n",
    "import xgboost as xgb\n",
    "from sklearn.ensemble import AdaBoostClassifier\n",
    "from sklearn.neural_network import MLPClassifier \n",
    "from sklearn.metrics import f1_score # We choose f1 score because the data are unbalanced and f1 takes the combination of precision and recall\n",
    "\n",
    "\n",
    "\n",
    "models = []\n",
    "models.append(('LR',  LogisticRegression(solver='liblinear')))\n",
    "models.append(('LDA', LinearDiscriminantAnalysis()))\n",
    "models.append(('kNN', KNeighborsClassifier()))\n",
    "models.append(('DT',  DecisionTreeClassifier()))\n",
    "models.append(('NB',  GaussianNB()))\n",
    "models.append(('SVM', SVC(kernel=\"linear\", gamma='auto')))\n",
    "models.append(('RF',  RandomForestClassifier()))\n",
    "models.append(('GB',  GradientBoostingClassifier()))\n",
    "models.append(('XGB', xgb.XGBClassifier()))\n",
    "models.append(('AdaBoost',  AdaBoostClassifier()))\n",
    "models.append(('ANN', MLPClassifier()))\n",
    "\n",
    "\n",
    "cv = RepeatedStratifiedKFold(n_splits=10, n_repeats=5, random_state=1)\n",
    "scoring = \"f1_macro\"\n",
    "\n",
    "\n",
    "results_noise2_3={}\n",
    "\n",
    "results = []\n",
    "names   = []\n",
    "for i, model in models:\n",
    "    cv_results = cross_val_score(model, X2_noise3, Y, cv=cv, n_jobs=-1, scoring=scoring)\n",
    "    results.append(cv_results)\n",
    "    names.append(i)\n",
    "    print(\"%03s: %f (+/- %f)\" % (i, cv_results.mean(), cv_results.std()))\n",
    "    results_noise2_3[i]=cv_results.mean()"
   ]
  },
  {
   "cell_type": "code",
   "execution_count": 35,
   "id": "bb188083",
   "metadata": {},
   "outputs": [
    {
     "data": {
      "text/html": [
       "<div>\n",
       "<style scoped>\n",
       "    .dataframe tbody tr th:only-of-type {\n",
       "        vertical-align: middle;\n",
       "    }\n",
       "\n",
       "    .dataframe tbody tr th {\n",
       "        vertical-align: top;\n",
       "    }\n",
       "\n",
       "    .dataframe thead th {\n",
       "        text-align: right;\n",
       "    }\n",
       "</style>\n",
       "<table border=\"1\" class=\"dataframe\">\n",
       "  <thead>\n",
       "    <tr style=\"text-align: right;\">\n",
       "      <th></th>\n",
       "      <th>LR</th>\n",
       "      <th>LDA</th>\n",
       "      <th>kNN</th>\n",
       "      <th>DT</th>\n",
       "      <th>NB</th>\n",
       "      <th>SVM</th>\n",
       "      <th>RF</th>\n",
       "      <th>GB</th>\n",
       "      <th>XGB</th>\n",
       "      <th>AdaBoost</th>\n",
       "      <th>ANN</th>\n",
       "    </tr>\n",
       "  </thead>\n",
       "  <tbody>\n",
       "    <tr>\n",
       "      <th>0</th>\n",
       "      <td>0.895077</td>\n",
       "      <td>0.895077</td>\n",
       "      <td>0.793314</td>\n",
       "      <td>0.747733</td>\n",
       "      <td>0.862003</td>\n",
       "      <td>0.838139</td>\n",
       "      <td>0.848374</td>\n",
       "      <td>0.860997</td>\n",
       "      <td>0.850524</td>\n",
       "      <td>0.793912</td>\n",
       "      <td>0.849040</td>\n",
       "    </tr>\n",
       "    <tr>\n",
       "      <th>1</th>\n",
       "      <td>0.698963</td>\n",
       "      <td>0.698155</td>\n",
       "      <td>0.774696</td>\n",
       "      <td>0.620846</td>\n",
       "      <td>0.744378</td>\n",
       "      <td>0.651042</td>\n",
       "      <td>0.713239</td>\n",
       "      <td>0.699888</td>\n",
       "      <td>0.715315</td>\n",
       "      <td>0.695945</td>\n",
       "      <td>0.686809</td>\n",
       "    </tr>\n",
       "    <tr>\n",
       "      <th>2</th>\n",
       "      <td>0.836208</td>\n",
       "      <td>0.858065</td>\n",
       "      <td>0.804470</td>\n",
       "      <td>0.757027</td>\n",
       "      <td>0.793024</td>\n",
       "      <td>0.838698</td>\n",
       "      <td>0.776469</td>\n",
       "      <td>0.795240</td>\n",
       "      <td>0.794093</td>\n",
       "      <td>0.685351</td>\n",
       "      <td>0.814441</td>\n",
       "    </tr>\n",
       "    <tr>\n",
       "      <th>3</th>\n",
       "      <td>0.752526</td>\n",
       "      <td>0.743552</td>\n",
       "      <td>0.747029</td>\n",
       "      <td>0.709266</td>\n",
       "      <td>0.772314</td>\n",
       "      <td>0.732209</td>\n",
       "      <td>0.779191</td>\n",
       "      <td>0.754584</td>\n",
       "      <td>0.779643</td>\n",
       "      <td>0.681131</td>\n",
       "      <td>0.707165</td>\n",
       "    </tr>\n",
       "    <tr>\n",
       "      <th>4</th>\n",
       "      <td>0.763990</td>\n",
       "      <td>0.796979</td>\n",
       "      <td>0.765919</td>\n",
       "      <td>0.678608</td>\n",
       "      <td>0.774358</td>\n",
       "      <td>0.749567</td>\n",
       "      <td>0.744456</td>\n",
       "      <td>0.772807</td>\n",
       "      <td>0.788015</td>\n",
       "      <td>0.686435</td>\n",
       "      <td>0.728377</td>\n",
       "    </tr>\n",
       "    <tr>\n",
       "      <th>5</th>\n",
       "      <td>0.839877</td>\n",
       "      <td>0.828639</td>\n",
       "      <td>0.810796</td>\n",
       "      <td>0.744143</td>\n",
       "      <td>0.810623</td>\n",
       "      <td>0.723615</td>\n",
       "      <td>0.812679</td>\n",
       "      <td>0.760279</td>\n",
       "      <td>0.818605</td>\n",
       "      <td>0.642757</td>\n",
       "      <td>0.784808</td>\n",
       "    </tr>\n",
       "    <tr>\n",
       "      <th>6</th>\n",
       "      <td>0.774633</td>\n",
       "      <td>0.751937</td>\n",
       "      <td>0.741439</td>\n",
       "      <td>0.607448</td>\n",
       "      <td>0.769644</td>\n",
       "      <td>0.723783</td>\n",
       "      <td>0.727155</td>\n",
       "      <td>0.725937</td>\n",
       "      <td>0.736394</td>\n",
       "      <td>0.678958</td>\n",
       "      <td>0.698617</td>\n",
       "    </tr>\n",
       "    <tr>\n",
       "      <th>7</th>\n",
       "      <td>0.856790</td>\n",
       "      <td>0.856790</td>\n",
       "      <td>0.833086</td>\n",
       "      <td>0.803519</td>\n",
       "      <td>0.836189</td>\n",
       "      <td>0.800664</td>\n",
       "      <td>0.826930</td>\n",
       "      <td>0.864732</td>\n",
       "      <td>0.809787</td>\n",
       "      <td>0.772193</td>\n",
       "      <td>0.810553</td>\n",
       "    </tr>\n",
       "    <tr>\n",
       "      <th>8</th>\n",
       "      <td>0.807123</td>\n",
       "      <td>0.816724</td>\n",
       "      <td>0.819322</td>\n",
       "      <td>0.694793</td>\n",
       "      <td>0.800299</td>\n",
       "      <td>0.792768</td>\n",
       "      <td>0.778208</td>\n",
       "      <td>0.753007</td>\n",
       "      <td>0.768395</td>\n",
       "      <td>0.708235</td>\n",
       "      <td>0.769921</td>\n",
       "    </tr>\n",
       "    <tr>\n",
       "      <th>9</th>\n",
       "      <td>0.787797</td>\n",
       "      <td>0.814110</td>\n",
       "      <td>0.763987</td>\n",
       "      <td>0.708615</td>\n",
       "      <td>0.806206</td>\n",
       "      <td>0.744921</td>\n",
       "      <td>0.786550</td>\n",
       "      <td>0.764502</td>\n",
       "      <td>0.739481</td>\n",
       "      <td>0.760544</td>\n",
       "      <td>0.737893</td>\n",
       "    </tr>\n",
       "  </tbody>\n",
       "</table>\n",
       "</div>"
      ],
      "text/plain": [
       "         LR       LDA       kNN        DT        NB       SVM        RF  \\\n",
       "0  0.895077  0.895077  0.793314  0.747733  0.862003  0.838139  0.848374   \n",
       "1  0.698963  0.698155  0.774696  0.620846  0.744378  0.651042  0.713239   \n",
       "2  0.836208  0.858065  0.804470  0.757027  0.793024  0.838698  0.776469   \n",
       "3  0.752526  0.743552  0.747029  0.709266  0.772314  0.732209  0.779191   \n",
       "4  0.763990  0.796979  0.765919  0.678608  0.774358  0.749567  0.744456   \n",
       "5  0.839877  0.828639  0.810796  0.744143  0.810623  0.723615  0.812679   \n",
       "6  0.774633  0.751937  0.741439  0.607448  0.769644  0.723783  0.727155   \n",
       "7  0.856790  0.856790  0.833086  0.803519  0.836189  0.800664  0.826930   \n",
       "8  0.807123  0.816724  0.819322  0.694793  0.800299  0.792768  0.778208   \n",
       "9  0.787797  0.814110  0.763987  0.708615  0.806206  0.744921  0.786550   \n",
       "\n",
       "         GB       XGB  AdaBoost       ANN  \n",
       "0  0.860997  0.850524  0.793912  0.849040  \n",
       "1  0.699888  0.715315  0.695945  0.686809  \n",
       "2  0.795240  0.794093  0.685351  0.814441  \n",
       "3  0.754584  0.779643  0.681131  0.707165  \n",
       "4  0.772807  0.788015  0.686435  0.728377  \n",
       "5  0.760279  0.818605  0.642757  0.784808  \n",
       "6  0.725937  0.736394  0.678958  0.698617  \n",
       "7  0.864732  0.809787  0.772193  0.810553  \n",
       "8  0.753007  0.768395  0.708235  0.769921  \n",
       "9  0.764502  0.739481  0.760544  0.737893  "
      ]
     },
     "execution_count": 35,
     "metadata": {},
     "output_type": "execute_result"
    }
   ],
   "source": [
    "m =[]\n",
    "for i in models:\n",
    "    m.append(i[0])\n",
    "\n",
    "f1_results_noise_3 = pd.DataFrame()\n",
    "\n",
    "\n",
    "for i, m in enumerate(m):\n",
    "    f1_results_noise_3[str(m)] = cv_res(results[i])\n",
    "\n",
    "f1_results_noise_3"
   ]
  },
  {
   "cell_type": "code",
   "execution_count": 36,
   "id": "ce2015bf",
   "metadata": {},
   "outputs": [
    {
     "data": {
      "text/plain": [
       "0    0.844028\n",
       "1    0.700333\n",
       "2    0.806774\n",
       "3    0.747748\n",
       "4    0.756308\n",
       "5    0.793406\n",
       "6    0.725699\n",
       "7    0.829904\n",
       "8    0.780056\n",
       "9    0.765406\n",
       "dtype: float64"
      ]
     },
     "execution_count": 36,
     "metadata": {},
     "output_type": "execute_result"
    }
   ],
   "source": [
    "f1_results_noise_3_other_algorithms=f1_results_noise_3.drop(columns=['AdaBoost']).mean(axis=1)\n",
    "f1_results_noise_3_other_algorithms"
   ]
  },
  {
   "cell_type": "markdown",
   "id": "21248abb",
   "metadata": {},
   "source": [
    "#### Add noise 20%"
   ]
  },
  {
   "cell_type": "code",
   "execution_count": 37,
   "id": "3ac164dd",
   "metadata": {},
   "outputs": [],
   "source": [
    "X2_noise4 = add_noise(X_scaled,p=.2)"
   ]
  },
  {
   "cell_type": "code",
   "execution_count": 38,
   "id": "70f627c6",
   "metadata": {},
   "outputs": [
    {
     "name": "stdout",
     "output_type": "stream",
     "text": [
      " LR: 0.672035 (+/- 0.105436)\n",
      "LDA: 0.659516 (+/- 0.109763)\n",
      "kNN: 0.661877 (+/- 0.106646)\n",
      " DT: 0.563755 (+/- 0.141135)\n",
      " NB: 0.636443 (+/- 0.109266)\n",
      "SVM: 0.649588 (+/- 0.120670)\n",
      " RF: 0.647218 (+/- 0.108518)\n",
      " GB: 0.657015 (+/- 0.109254)\n",
      "XGB: 0.644769 (+/- 0.103082)\n",
      "AdaBoost: 0.596665 (+/- 0.125448)\n",
      "ANN: 0.623762 (+/- 0.109427)\n"
     ]
    }
   ],
   "source": [
    "from sklearn.model_selection import cross_val_score\n",
    "from sklearn.model_selection import RepeatedStratifiedKFold\n",
    "from sklearn.pipeline import Pipeline\n",
    "from sklearn.linear_model import LogisticRegression\n",
    "from sklearn.discriminant_analysis import LinearDiscriminantAnalysis # LDA\n",
    "from sklearn.neighbors import KNeighborsClassifier #KNN\n",
    "from sklearn.naive_bayes import GaussianNB  # Naive Bayes\n",
    "from sklearn.tree import DecisionTreeClassifier # Decision Tree\n",
    "from sklearn.svm import SVC # SVM\n",
    "from sklearn.ensemble import RandomForestClassifier\n",
    "from sklearn.ensemble import GradientBoostingClassifier\n",
    "import xgboost as xgb\n",
    "from sklearn.ensemble import AdaBoostClassifier\n",
    "from sklearn.neural_network import MLPClassifier \n",
    "from sklearn.metrics import f1_score # We choose f1 score because the data are unbalanced and f1 takes the combination of precision and recall\n",
    "\n",
    "\n",
    "\n",
    "models = []\n",
    "models.append(('LR',  LogisticRegression(solver='liblinear')))\n",
    "models.append(('LDA', LinearDiscriminantAnalysis()))\n",
    "models.append(('kNN', KNeighborsClassifier()))\n",
    "models.append(('DT',  DecisionTreeClassifier()))\n",
    "models.append(('NB',  GaussianNB()))\n",
    "models.append(('SVM', SVC(kernel=\"linear\", gamma='auto')))\n",
    "models.append(('RF',  RandomForestClassifier()))\n",
    "models.append(('GB',  GradientBoostingClassifier()))\n",
    "models.append(('XGB', xgb.XGBClassifier()))\n",
    "models.append(('AdaBoost',  AdaBoostClassifier()))\n",
    "models.append(('ANN', MLPClassifier()))\n",
    "\n",
    "\n",
    "cv = RepeatedStratifiedKFold(n_splits=10, n_repeats=5, random_state=1)\n",
    "scoring = \"f1_macro\"\n",
    "\n",
    "\n",
    "results_noise2_4={}\n",
    "\n",
    "results = []\n",
    "names   = []\n",
    "for i, model in models:\n",
    "    cv_results = cross_val_score(model, X2_noise4, Y, cv=cv, n_jobs=-1, scoring=scoring)\n",
    "    results.append(cv_results)\n",
    "    names.append(i)\n",
    "    print(\"%03s: %f (+/- %f)\" % (i, cv_results.mean(), cv_results.std()))\n",
    "    results_noise2_4[i]=cv_results.mean()"
   ]
  },
  {
   "cell_type": "code",
   "execution_count": 39,
   "id": "ff191611",
   "metadata": {},
   "outputs": [
    {
     "data": {
      "text/html": [
       "<div>\n",
       "<style scoped>\n",
       "    .dataframe tbody tr th:only-of-type {\n",
       "        vertical-align: middle;\n",
       "    }\n",
       "\n",
       "    .dataframe tbody tr th {\n",
       "        vertical-align: top;\n",
       "    }\n",
       "\n",
       "    .dataframe thead th {\n",
       "        text-align: right;\n",
       "    }\n",
       "</style>\n",
       "<table border=\"1\" class=\"dataframe\">\n",
       "  <thead>\n",
       "    <tr style=\"text-align: right;\">\n",
       "      <th></th>\n",
       "      <th>LR</th>\n",
       "      <th>LDA</th>\n",
       "      <th>kNN</th>\n",
       "      <th>DT</th>\n",
       "      <th>NB</th>\n",
       "      <th>SVM</th>\n",
       "      <th>RF</th>\n",
       "      <th>GB</th>\n",
       "      <th>XGB</th>\n",
       "      <th>AdaBoost</th>\n",
       "      <th>ANN</th>\n",
       "    </tr>\n",
       "  </thead>\n",
       "  <tbody>\n",
       "    <tr>\n",
       "      <th>0</th>\n",
       "      <td>0.763303</td>\n",
       "      <td>0.750828</td>\n",
       "      <td>0.700149</td>\n",
       "      <td>0.549992</td>\n",
       "      <td>0.699275</td>\n",
       "      <td>0.769622</td>\n",
       "      <td>0.722147</td>\n",
       "      <td>0.715287</td>\n",
       "      <td>0.713731</td>\n",
       "      <td>0.705115</td>\n",
       "      <td>0.701759</td>\n",
       "    </tr>\n",
       "    <tr>\n",
       "      <th>1</th>\n",
       "      <td>0.586883</td>\n",
       "      <td>0.563196</td>\n",
       "      <td>0.640118</td>\n",
       "      <td>0.628724</td>\n",
       "      <td>0.605967</td>\n",
       "      <td>0.535328</td>\n",
       "      <td>0.581496</td>\n",
       "      <td>0.563494</td>\n",
       "      <td>0.582378</td>\n",
       "      <td>0.600703</td>\n",
       "      <td>0.570384</td>\n",
       "    </tr>\n",
       "    <tr>\n",
       "      <th>2</th>\n",
       "      <td>0.707068</td>\n",
       "      <td>0.681919</td>\n",
       "      <td>0.662462</td>\n",
       "      <td>0.537576</td>\n",
       "      <td>0.619295</td>\n",
       "      <td>0.663872</td>\n",
       "      <td>0.640194</td>\n",
       "      <td>0.666909</td>\n",
       "      <td>0.672895</td>\n",
       "      <td>0.565518</td>\n",
       "      <td>0.594570</td>\n",
       "    </tr>\n",
       "    <tr>\n",
       "      <th>3</th>\n",
       "      <td>0.635013</td>\n",
       "      <td>0.633425</td>\n",
       "      <td>0.661194</td>\n",
       "      <td>0.584837</td>\n",
       "      <td>0.644890</td>\n",
       "      <td>0.633460</td>\n",
       "      <td>0.633759</td>\n",
       "      <td>0.642617</td>\n",
       "      <td>0.636454</td>\n",
       "      <td>0.624518</td>\n",
       "      <td>0.615397</td>\n",
       "    </tr>\n",
       "    <tr>\n",
       "      <th>4</th>\n",
       "      <td>0.667361</td>\n",
       "      <td>0.664466</td>\n",
       "      <td>0.674940</td>\n",
       "      <td>0.547927</td>\n",
       "      <td>0.654242</td>\n",
       "      <td>0.665696</td>\n",
       "      <td>0.633289</td>\n",
       "      <td>0.644640</td>\n",
       "      <td>0.636324</td>\n",
       "      <td>0.559976</td>\n",
       "      <td>0.639679</td>\n",
       "    </tr>\n",
       "    <tr>\n",
       "      <th>5</th>\n",
       "      <td>0.692763</td>\n",
       "      <td>0.701176</td>\n",
       "      <td>0.614253</td>\n",
       "      <td>0.587779</td>\n",
       "      <td>0.616483</td>\n",
       "      <td>0.625304</td>\n",
       "      <td>0.664982</td>\n",
       "      <td>0.677613</td>\n",
       "      <td>0.658517</td>\n",
       "      <td>0.583462</td>\n",
       "      <td>0.653519</td>\n",
       "    </tr>\n",
       "    <tr>\n",
       "      <th>6</th>\n",
       "      <td>0.589138</td>\n",
       "      <td>0.541157</td>\n",
       "      <td>0.599405</td>\n",
       "      <td>0.521325</td>\n",
       "      <td>0.565592</td>\n",
       "      <td>0.546643</td>\n",
       "      <td>0.561339</td>\n",
       "      <td>0.612095</td>\n",
       "      <td>0.532566</td>\n",
       "      <td>0.540492</td>\n",
       "      <td>0.551019</td>\n",
       "    </tr>\n",
       "    <tr>\n",
       "      <th>7</th>\n",
       "      <td>0.743225</td>\n",
       "      <td>0.738281</td>\n",
       "      <td>0.711983</td>\n",
       "      <td>0.691738</td>\n",
       "      <td>0.713865</td>\n",
       "      <td>0.734899</td>\n",
       "      <td>0.724107</td>\n",
       "      <td>0.761248</td>\n",
       "      <td>0.703570</td>\n",
       "      <td>0.658628</td>\n",
       "      <td>0.657883</td>\n",
       "    </tr>\n",
       "    <tr>\n",
       "      <th>8</th>\n",
       "      <td>0.717148</td>\n",
       "      <td>0.705631</td>\n",
       "      <td>0.754711</td>\n",
       "      <td>0.575772</td>\n",
       "      <td>0.689663</td>\n",
       "      <td>0.670715</td>\n",
       "      <td>0.663022</td>\n",
       "      <td>0.650644</td>\n",
       "      <td>0.670829</td>\n",
       "      <td>0.620276</td>\n",
       "      <td>0.675812</td>\n",
       "    </tr>\n",
       "    <tr>\n",
       "      <th>9</th>\n",
       "      <td>0.618447</td>\n",
       "      <td>0.615078</td>\n",
       "      <td>0.599551</td>\n",
       "      <td>0.411885</td>\n",
       "      <td>0.555157</td>\n",
       "      <td>0.650335</td>\n",
       "      <td>0.647850</td>\n",
       "      <td>0.635606</td>\n",
       "      <td>0.640430</td>\n",
       "      <td>0.507962</td>\n",
       "      <td>0.577594</td>\n",
       "    </tr>\n",
       "  </tbody>\n",
       "</table>\n",
       "</div>"
      ],
      "text/plain": [
       "         LR       LDA       kNN        DT        NB       SVM        RF  \\\n",
       "0  0.763303  0.750828  0.700149  0.549992  0.699275  0.769622  0.722147   \n",
       "1  0.586883  0.563196  0.640118  0.628724  0.605967  0.535328  0.581496   \n",
       "2  0.707068  0.681919  0.662462  0.537576  0.619295  0.663872  0.640194   \n",
       "3  0.635013  0.633425  0.661194  0.584837  0.644890  0.633460  0.633759   \n",
       "4  0.667361  0.664466  0.674940  0.547927  0.654242  0.665696  0.633289   \n",
       "5  0.692763  0.701176  0.614253  0.587779  0.616483  0.625304  0.664982   \n",
       "6  0.589138  0.541157  0.599405  0.521325  0.565592  0.546643  0.561339   \n",
       "7  0.743225  0.738281  0.711983  0.691738  0.713865  0.734899  0.724107   \n",
       "8  0.717148  0.705631  0.754711  0.575772  0.689663  0.670715  0.663022   \n",
       "9  0.618447  0.615078  0.599551  0.411885  0.555157  0.650335  0.647850   \n",
       "\n",
       "         GB       XGB  AdaBoost       ANN  \n",
       "0  0.715287  0.713731  0.705115  0.701759  \n",
       "1  0.563494  0.582378  0.600703  0.570384  \n",
       "2  0.666909  0.672895  0.565518  0.594570  \n",
       "3  0.642617  0.636454  0.624518  0.615397  \n",
       "4  0.644640  0.636324  0.559976  0.639679  \n",
       "5  0.677613  0.658517  0.583462  0.653519  \n",
       "6  0.612095  0.532566  0.540492  0.551019  \n",
       "7  0.761248  0.703570  0.658628  0.657883  \n",
       "8  0.650644  0.670829  0.620276  0.675812  \n",
       "9  0.635606  0.640430  0.507962  0.577594  "
      ]
     },
     "execution_count": 39,
     "metadata": {},
     "output_type": "execute_result"
    }
   ],
   "source": [
    "m =[]\n",
    "for i in models:\n",
    "    m.append(i[0])\n",
    "\n",
    "f1_results_noise_4 = pd.DataFrame()\n",
    "\n",
    "\n",
    "for i, m in enumerate(m):\n",
    "    f1_results_noise_4[str(m)] = cv_res(results[i])\n",
    "\n",
    "f1_results_noise_4"
   ]
  },
  {
   "cell_type": "code",
   "execution_count": 40,
   "id": "d401a719",
   "metadata": {},
   "outputs": [
    {
     "data": {
      "text/plain": [
       "0    0.708609\n",
       "1    0.585797\n",
       "2    0.644676\n",
       "3    0.632105\n",
       "4    0.642856\n",
       "5    0.649239\n",
       "6    0.562028\n",
       "7    0.718080\n",
       "8    0.677395\n",
       "9    0.595193\n",
       "dtype: float64"
      ]
     },
     "execution_count": 40,
     "metadata": {},
     "output_type": "execute_result"
    }
   ],
   "source": [
    "#f1_results_noise_4.mean().drop\n",
    "f1_results_noise_4_other_algorithms=f1_results_noise_4.drop(columns=['AdaBoost']).mean(axis=1)\n",
    "f1_results_noise_4_other_algorithms"
   ]
  },
  {
   "cell_type": "code",
   "execution_count": 41,
   "id": "8894dfe3",
   "metadata": {},
   "outputs": [],
   "source": [
    "f1_consolidated_results2 = pd.DataFrame()\n",
    "f1_consolidated_results2 = f1_consolidated_results2.append(results_no_noise, ignore_index=True)\n",
    "f1_consolidated_results2 = f1_consolidated_results2.append(results_noise2_1, ignore_index=True)\n",
    "f1_consolidated_results2 = f1_consolidated_results2.append(results_noise2_2, ignore_index=True)\n",
    "f1_consolidated_results2 = f1_consolidated_results2.append(results_noise2_3, ignore_index=True)\n",
    "f1_consolidated_results2 = f1_consolidated_results2.append(results_noise2_4, ignore_index=True)"
   ]
  },
  {
   "cell_type": "code",
   "execution_count": 42,
   "id": "f0f46c96",
   "metadata": {},
   "outputs": [
    {
     "data": {
      "text/html": [
       "<div>\n",
       "<style scoped>\n",
       "    .dataframe tbody tr th:only-of-type {\n",
       "        vertical-align: middle;\n",
       "    }\n",
       "\n",
       "    .dataframe tbody tr th {\n",
       "        vertical-align: top;\n",
       "    }\n",
       "\n",
       "    .dataframe thead th {\n",
       "        text-align: right;\n",
       "    }\n",
       "</style>\n",
       "<table border=\"1\" class=\"dataframe\">\n",
       "  <thead>\n",
       "    <tr style=\"text-align: right;\">\n",
       "      <th></th>\n",
       "      <th>ANN</th>\n",
       "      <th>AdaBoost</th>\n",
       "      <th>DT</th>\n",
       "      <th>GB</th>\n",
       "      <th>LDA</th>\n",
       "      <th>LR</th>\n",
       "      <th>NB</th>\n",
       "      <th>RF</th>\n",
       "      <th>SVM</th>\n",
       "      <th>XGB</th>\n",
       "      <th>kNN</th>\n",
       "      <th>Status</th>\n",
       "    </tr>\n",
       "  </thead>\n",
       "  <tbody>\n",
       "    <tr>\n",
       "      <th>0</th>\n",
       "      <td>0.980437</td>\n",
       "      <td>0.896567</td>\n",
       "      <td>0.901032</td>\n",
       "      <td>0.941681</td>\n",
       "      <td>0.989599</td>\n",
       "      <td>0.987958</td>\n",
       "      <td>0.979032</td>\n",
       "      <td>0.980267</td>\n",
       "      <td>0.960029</td>\n",
       "      <td>0.969199</td>\n",
       "      <td>0.969720</td>\n",
       "      <td>Without Noise</td>\n",
       "    </tr>\n",
       "    <tr>\n",
       "      <th>1</th>\n",
       "      <td>0.937541</td>\n",
       "      <td>0.858728</td>\n",
       "      <td>0.860861</td>\n",
       "      <td>0.925488</td>\n",
       "      <td>0.947799</td>\n",
       "      <td>0.944415</td>\n",
       "      <td>0.935144</td>\n",
       "      <td>0.941423</td>\n",
       "      <td>0.897060</td>\n",
       "      <td>0.917514</td>\n",
       "      <td>0.944675</td>\n",
       "      <td>Noise 5%</td>\n",
       "    </tr>\n",
       "    <tr>\n",
       "      <th>2</th>\n",
       "      <td>0.855034</td>\n",
       "      <td>0.777871</td>\n",
       "      <td>0.797051</td>\n",
       "      <td>0.857936</td>\n",
       "      <td>0.861699</td>\n",
       "      <td>0.847266</td>\n",
       "      <td>0.846888</td>\n",
       "      <td>0.884684</td>\n",
       "      <td>0.832184</td>\n",
       "      <td>0.864143</td>\n",
       "      <td>0.858864</td>\n",
       "      <td>Noise 10%</td>\n",
       "    </tr>\n",
       "    <tr>\n",
       "      <th>3</th>\n",
       "      <td>0.758762</td>\n",
       "      <td>0.710546</td>\n",
       "      <td>0.707200</td>\n",
       "      <td>0.775197</td>\n",
       "      <td>0.806003</td>\n",
       "      <td>0.801299</td>\n",
       "      <td>0.796904</td>\n",
       "      <td>0.779325</td>\n",
       "      <td>0.759541</td>\n",
       "      <td>0.780025</td>\n",
       "      <td>0.785406</td>\n",
       "      <td>Noise 15%</td>\n",
       "    </tr>\n",
       "    <tr>\n",
       "      <th>4</th>\n",
       "      <td>0.623762</td>\n",
       "      <td>0.596665</td>\n",
       "      <td>0.563755</td>\n",
       "      <td>0.657015</td>\n",
       "      <td>0.659516</td>\n",
       "      <td>0.672035</td>\n",
       "      <td>0.636443</td>\n",
       "      <td>0.647218</td>\n",
       "      <td>0.649588</td>\n",
       "      <td>0.644769</td>\n",
       "      <td>0.661877</td>\n",
       "      <td>Noise 20%</td>\n",
       "    </tr>\n",
       "  </tbody>\n",
       "</table>\n",
       "</div>"
      ],
      "text/plain": [
       "        ANN  AdaBoost        DT        GB       LDA        LR        NB  \\\n",
       "0  0.980437  0.896567  0.901032  0.941681  0.989599  0.987958  0.979032   \n",
       "1  0.937541  0.858728  0.860861  0.925488  0.947799  0.944415  0.935144   \n",
       "2  0.855034  0.777871  0.797051  0.857936  0.861699  0.847266  0.846888   \n",
       "3  0.758762  0.710546  0.707200  0.775197  0.806003  0.801299  0.796904   \n",
       "4  0.623762  0.596665  0.563755  0.657015  0.659516  0.672035  0.636443   \n",
       "\n",
       "         RF       SVM       XGB       kNN         Status  \n",
       "0  0.980267  0.960029  0.969199  0.969720  Without Noise  \n",
       "1  0.941423  0.897060  0.917514  0.944675       Noise 5%  \n",
       "2  0.884684  0.832184  0.864143  0.858864      Noise 10%  \n",
       "3  0.779325  0.759541  0.780025  0.785406      Noise 15%  \n",
       "4  0.647218  0.649588  0.644769  0.661877      Noise 20%  "
      ]
     },
     "execution_count": 42,
     "metadata": {},
     "output_type": "execute_result"
    }
   ],
   "source": [
    "new_column_values = ['Without Noise','Noise 5%','Noise 10%','Noise 15%','Noise 20%']\n",
    "\n",
    "f1_consolidated_results2 [\"Status\"] = new_column_values \n",
    "\n",
    "f1_consolidated_results2 "
   ]
  },
  {
   "cell_type": "code",
   "execution_count": 43,
   "id": "e2de8f20",
   "metadata": {},
   "outputs": [
    {
     "data": {
      "image/png": "[encoded data removed]",
      "text/plain": [
       "<Figure size 720x432 with 1 Axes>"
      ]
     },
     "metadata": {},
     "output_type": "display_data"
    }
   ],
   "source": [
    "# Importing packages\n",
    "import matplotlib.pyplot as plt\n",
    "\n",
    "\n",
    "# Plot a simple line chart\n",
    "fig, g = plt.subplots(figsize = (10,6))\n",
    "sns.color_palette(\"rocket\", as_cmap=True)\n",
    "plt.plot(f1_consolidated_results2 ['Status'],f1_consolidated_results2.drop(columns=['Status','AdaBoost'],axis=1),linewidth=1)\n",
    "plt.plot(f1_consolidated_results2 ['Status'],f1_consolidated_results2['AdaBoost'],'--',linewidth=2)\n",
    "plt.legend(f1_consolidated_results2.drop(columns=['Status'],axis=1),loc=\"upper right\")\n",
    "plt.ylim(0.55,1)\n",
    "plt.title(\"Wine\")\n",
    "plt.show()"
   ]
  },
  {
   "cell_type": "code",
   "execution_count": 44,
   "id": "2072e016",
   "metadata": {},
   "outputs": [],
   "source": [
    "#sns.lineplot(data=f1_consolidated_results2)"
   ]
  },
  {
   "cell_type": "markdown",
   "id": "d8c5abf5",
   "metadata": {},
   "source": [
    "### T-test Statistic "
   ]
  },
  {
   "cell_type": "code",
   "execution_count": 45,
   "id": "1eb86290",
   "metadata": {},
   "outputs": [],
   "source": [
    "from scipy.stats import ttest_ind as ttest"
   ]
  },
  {
   "cell_type": "markdown",
   "id": "b420b6f7",
   "metadata": {},
   "source": [
    "Hypothesis\n",
    "\n",
    "H0: Noise does not effect the models efficiency f1_no_noise = f1_noise\n",
    "\n",
    "H1: There is effect of noise in the models efficiency f1_no_noise <> f1_noise"
   ]
  },
  {
   "cell_type": "markdown",
   "id": "11db33e5",
   "metadata": {},
   "source": [
    "#### T-test for data without noise"
   ]
  },
  {
   "cell_type": "code",
   "execution_count": 46,
   "id": "5c09c3db",
   "metadata": {},
   "outputs": [
    {
     "name": "stdout",
     "output_type": "stream",
     "text": [
      "Test statistic is -6.231614\n",
      "p-value for two tailed test is 0.000007\n",
      "Since p-value(=0.000007) < alpha(=0.05) We reject the null hypothesis H0. So we conclude that the f1 score is not the same at 0.05 level of significance.\n"
     ]
    }
   ],
   "source": [
    "t_value,p_value=ttest(f1_results['AdaBoost'],f1_results_other_algorithms)\n",
    "\n",
    "print('Test statistic is %f'%float(\"{:.6f}\".format(t_value)))\n",
    "\n",
    "print('p-value for two tailed test is %f'%p_value)\n",
    "\n",
    "alpha = 0.05\n",
    "  \n",
    "if p_value<=alpha:\n",
    "\n",
    "    print('Since p-value(=%f)'%p_value,'<','alpha(=%.2f)'%alpha,'''We reject the null hypothesis H0. So we conclude that the f1 score is not the same at %.2f level of significance.'''%alpha)\n",
    "\n",
    "else:\n",
    "\n",
    "    print('Since p-value(=%f)'%p_value,'>','alpha(=%.2f)'%alpha,'''We do not reject the null hypothesis H0. So we conclude that the f1 score is the same at %.2f level of significance.''' %alpha)\n"
   ]
  },
  {
   "cell_type": "markdown",
   "id": "a9378709",
   "metadata": {},
   "source": [
    "### Cohen's d effect "
   ]
  },
  {
   "cell_type": "code",
   "execution_count": 47,
   "id": "6768253d",
   "metadata": {},
   "outputs": [],
   "source": [
    "import math \n",
    "# function to calculate Cohen's d for independent samples\n",
    "def cohend(d1, d2):\n",
    "# calculate the size of samples\n",
    "    n1, n2 = len(d1), len(d2)\n",
    "    # calculate the variance of the samples\n",
    "    s1, s2 = np.var(d1, ddof=1), np.var(d2, ddof=1)\n",
    "    # calculate the pooled standard deviation\n",
    "    s = math.sqrt(((n1 - 1) * s1 + (n2 - 1) * s2) / (n1 + n2 - 2))\n",
    "    # calculate the means of the samples\n",
    "    u1, u2 = np.mean(d1), np.mean(d2)\n",
    "    # calculate the effect size\n",
    "    return (u1 - u2) / s"
   ]
  },
  {
   "cell_type": "code",
   "execution_count": 48,
   "id": "607bfc0e",
   "metadata": {},
   "outputs": [
    {
     "data": {
      "text/plain": [
       "-2.7868626026980112"
      ]
     },
     "execution_count": 48,
     "metadata": {},
     "output_type": "execute_result"
    }
   ],
   "source": [
    "cohend(f1_results['AdaBoost'].tolist(), f1_results_other_algorithms.tolist())"
   ]
  },
  {
   "cell_type": "markdown",
   "id": "f84f10bc",
   "metadata": {},
   "source": [
    "### T-test for 5% noise"
   ]
  },
  {
   "cell_type": "markdown",
   "id": "4b379e55",
   "metadata": {},
   "source": [
    "#### Compare with AdaBoost"
   ]
  },
  {
   "cell_type": "code",
   "execution_count": 49,
   "id": "b70adcd7",
   "metadata": {},
   "outputs": [
    {
     "name": "stdout",
     "output_type": "stream",
     "text": [
      "Test statistic is 2.752544\n",
      "p-value for two tailed test is 0.013101\n",
      "Since p-value(=0.013101) < alpha(=0.05) We reject the null hypothesis H0. So we conclude that the effect of noise in models efficiency at 0.05 level of significance.\n"
     ]
    }
   ],
   "source": [
    "t_value,p_value=ttest(f1_results['AdaBoost'],f1_results_noise_1['AdaBoost'])\n",
    "\n",
    "print('Test statistic is %f'%float(\"{:.6f}\".format(t_value)))\n",
    "\n",
    "print('p-value for two tailed test is %f'%p_value)\n",
    "\n",
    "alpha = 0.05\n",
    "  \n",
    "if p_value<=alpha:\n",
    "\n",
    "    print('Since p-value(=%f)'%p_value,'<','alpha(=%.2f)'%alpha,'''We reject the null hypothesis H0. So we conclude that the effect of noise in models efficiency at %.2f level of significance.'''%alpha)\n",
    "\n",
    "else:\n",
    "\n",
    "    print('Since p-value(=%f)'%p_value,'>','alpha(=%.2f)'%alpha,'''We do not reject the null hypothesis H0. So we conclude that the effect of noise do not change the models efficiency at %.2f level of significance.''' %alpha)\n"
   ]
  },
  {
   "cell_type": "markdown",
   "id": "d1413f45",
   "metadata": {},
   "source": [
    "#### Compare with other algorithms"
   ]
  },
  {
   "cell_type": "code",
   "execution_count": 50,
   "id": "e7170ec1",
   "metadata": {
    "scrolled": true
   },
   "outputs": [
    {
     "name": "stdout",
     "output_type": "stream",
     "text": [
      "Test statistic is 5.304032\n",
      "p-value for two tailed test is 0.000048\n",
      "Since p-value(=0.000048) < alpha(=0.05) We reject the null hypothesis H0. So we conclude that the effect of noise in models efficiency at 0.05 level of significance.\n"
     ]
    }
   ],
   "source": [
    "t_value,p_value=ttest(f1_results_other_algorithms,f1_results_noise_1_other_algorithms)\n",
    "\n",
    "print('Test statistic is %f'%float(\"{:.6f}\".format(t_value)))\n",
    "\n",
    "print('p-value for two tailed test is %f'%p_value)\n",
    "\n",
    "alpha = 0.05\n",
    "  \n",
    "if p_value<=alpha:\n",
    "\n",
    "    print('Since p-value(=%f)'%p_value,'<','alpha(=%.2f)'%alpha,'''We reject the null hypothesis H0. So we conclude that the effect of noise in models efficiency at %.2f level of significance.'''%alpha)\n",
    "\n",
    "else:\n",
    "\n",
    "    print('Since p-value(=%f)'%p_value,'>','alpha(=%.2f)'%alpha,'''We do not reject the null hypothesis H0. So we conclude that the effect of noise do not change the models efficiency at %.2f level of significance.''' %alpha)\n"
   ]
  },
  {
   "cell_type": "markdown",
   "id": "b66504b8",
   "metadata": {},
   "source": [
    "### T-test for 10% noise"
   ]
  },
  {
   "cell_type": "markdown",
   "id": "38fd96ca",
   "metadata": {},
   "source": [
    "#### Compare with AdaBoost"
   ]
  },
  {
   "cell_type": "code",
   "execution_count": 51,
   "id": "14ff914e",
   "metadata": {},
   "outputs": [
    {
     "name": "stdout",
     "output_type": "stream",
     "text": [
      "Test statistic is 7.543320\n",
      "p-value for two tailed test is 0.000001\n",
      "Since p-value(=0.000001) < alpha(=0.05) We reject the null hypothesis H0. So we conclude that the effect of noise in models efficiency at 0.05 level of significance.\n"
     ]
    }
   ],
   "source": [
    "t_value,p_value=ttest(f1_results['AdaBoost'],f1_results_noise_2['AdaBoost'])\n",
    "\n",
    "print('Test statistic is %f'%float(\"{:.6f}\".format(t_value)))\n",
    "\n",
    "print('p-value for two tailed test is %f'%p_value)\n",
    "\n",
    "alpha = 0.05\n",
    "  \n",
    "if p_value<=alpha:\n",
    "\n",
    "    print('Since p-value(=%f)'%p_value,'<','alpha(=%.2f)'%alpha,'''We reject the null hypothesis H0. So we conclude that the effect of noise in models efficiency at %.2f level of significance.'''%alpha)\n",
    "\n",
    "else:\n",
    "\n",
    "    print('Since p-value(=%f)'%p_value,'>','alpha(=%.2f)'%alpha,'''We do not reject the null hypothesis H0. So we conclude that the effect of noise do not change the models efficiency at %.2f level of significance.''' %alpha)\n"
   ]
  },
  {
   "cell_type": "markdown",
   "id": "cbc026e7",
   "metadata": {},
   "source": [
    "#### Compare with other algorithms"
   ]
  },
  {
   "cell_type": "code",
   "execution_count": 52,
   "id": "ad2099ca",
   "metadata": {},
   "outputs": [
    {
     "name": "stdout",
     "output_type": "stream",
     "text": [
      "Test statistic is 11.074118\n",
      "p-value for two tailed test is 0.000000\n",
      "Since p-value(=0.000000) < alpha(=0.05) We reject the null hypothesis H0. So we conclude that the effect of noise in models efficiency at 0.05 level of significance.\n"
     ]
    }
   ],
   "source": [
    "t_value,p_value=ttest(f1_results_other_algorithms,f1_results_noise_2_other_algorithms)\n",
    "\n",
    "print('Test statistic is %f'%float(\"{:.6f}\".format(t_value)))\n",
    "\n",
    "print('p-value for two tailed test is %f'%p_value)\n",
    "\n",
    "alpha = 0.05\n",
    "  \n",
    "if p_value<=alpha:\n",
    "\n",
    "    print('Since p-value(=%f)'%p_value,'<','alpha(=%.2f)'%alpha,'''We reject the null hypothesis H0. So we conclude that the effect of noise in models efficiency at %.2f level of significance.'''%alpha)\n",
    "\n",
    "else:\n",
    "\n",
    "    print('Since p-value(=%f)'%p_value,'>','alpha(=%.2f)'%alpha,'''We do not reject the null hypothesis H0. So we conclude that the effect of noise do not change the models efficiency at %.2f level of significance.''' %alpha)\n"
   ]
  },
  {
   "cell_type": "markdown",
   "id": "df14a83d",
   "metadata": {},
   "source": [
    "### T-test for 15% noise"
   ]
  },
  {
   "cell_type": "markdown",
   "id": "58180256",
   "metadata": {},
   "source": [
    "#### Compare with AdaBoost"
   ]
  },
  {
   "cell_type": "code",
   "execution_count": 53,
   "id": "4bee9a38",
   "metadata": {},
   "outputs": [
    {
     "name": "stdout",
     "output_type": "stream",
     "text": [
      "Test statistic is 10.018274\n",
      "p-value for two tailed test is 0.000000\n",
      "Since p-value(=0.000000) < alpha(=0.05) We reject the null hypothesis H0. So we conclude that the effect of noise in models efficiency at 0.05 level of significance.\n"
     ]
    }
   ],
   "source": [
    "t_value,p_value=ttest(f1_results['AdaBoost'],f1_results_noise_3['AdaBoost'])\n",
    "\n",
    "print('Test statistic is %f'%float(\"{:.6f}\".format(t_value)))\n",
    "\n",
    "print('p-value for two tailed test is %f'%p_value)\n",
    "\n",
    "alpha = 0.05\n",
    "  \n",
    "if p_value<=alpha:\n",
    "\n",
    "    print('Since p-value(=%f)'%p_value,'<','alpha(=%.2f)'%alpha,'''We reject the null hypothesis H0. So we conclude that the effect of noise in models efficiency at %.2f level of significance.'''%alpha)\n",
    "\n",
    "else:\n",
    "\n",
    "    print('Since p-value(=%f)'%p_value,'>','alpha(=%.2f)'%alpha,'''We do not reject the null hypothesis H0. So we conclude that the effect of noise do not change the models efficiency at %.2f level of significance.''' %alpha)\n"
   ]
  },
  {
   "cell_type": "markdown",
   "id": "529f6fc9",
   "metadata": {},
   "source": [
    "#### Compare with other algorithms"
   ]
  },
  {
   "cell_type": "code",
   "execution_count": 54,
   "id": "bc88ddcd",
   "metadata": {},
   "outputs": [
    {
     "name": "stdout",
     "output_type": "stream",
     "text": [
      "Test statistic is 12.939471\n",
      "p-value for two tailed test is 0.000000\n",
      "Since p-value(=0.000000) < alpha(=0.05) We reject the null hypothesis H0. So we conclude that the effect of noise in models efficiency at 0.05 level of significance.\n"
     ]
    }
   ],
   "source": [
    "t_value,p_value=ttest(f1_results_other_algorithms,f1_results_noise_3_other_algorithms)\n",
    "\n",
    "print('Test statistic is %f'%float(\"{:.6f}\".format(t_value)))\n",
    "\n",
    "print('p-value for two tailed test is %f'%p_value)\n",
    "\n",
    "alpha = 0.05\n",
    "  \n",
    "if p_value<=alpha:\n",
    "\n",
    "    print('Since p-value(=%f)'%p_value,'<','alpha(=%.2f)'%alpha,'''We reject the null hypothesis H0. So we conclude that the effect of noise in models efficiency at %.2f level of significance.'''%alpha)\n",
    "\n",
    "else:\n",
    "\n",
    "    print('Since p-value(=%f)'%p_value,'>','alpha(=%.2f)'%alpha,'''We do not reject the null hypothesis H0. So we conclude that the effect of noise do not change the models efficiency at %.2f level of significance.''' %alpha)\n"
   ]
  },
  {
   "cell_type": "markdown",
   "id": "45a86081",
   "metadata": {},
   "source": [
    "### T-test for 20% noise"
   ]
  },
  {
   "cell_type": "markdown",
   "id": "52ef1619",
   "metadata": {},
   "source": [
    "#### Compare with AdaBoost"
   ]
  },
  {
   "cell_type": "code",
   "execution_count": 55,
   "id": "c9b04c8f",
   "metadata": {},
   "outputs": [
    {
     "name": "stdout",
     "output_type": "stream",
     "text": [
      "Test statistic is 14.163513\n",
      "p-value for two tailed test is 0.000000\n",
      "Since p-value(=0.000000) < alpha(=0.05) We reject the null hypothesis H0. So we conclude that the effect of noise in models efficiency at 0.05 level of significance.\n"
     ]
    }
   ],
   "source": [
    "t_value,p_value=ttest(f1_results['AdaBoost'],f1_results_noise_4['AdaBoost'])\n",
    "\n",
    "print('Test statistic is %f'%float(\"{:.6f}\".format(t_value)))\n",
    "\n",
    "print('p-value for two tailed test is %f'%p_value)\n",
    "\n",
    "alpha = 0.05\n",
    "  \n",
    "if p_value<=alpha:\n",
    "\n",
    "    print('Since p-value(=%f)'%p_value,'<','alpha(=%.2f)'%alpha,'''We reject the null hypothesis H0. So we conclude that the effect of noise in models efficiency at %.2f level of significance.'''%alpha)\n",
    "\n",
    "else:\n",
    "\n",
    "    print('Since p-value(=%f)'%p_value,'>','alpha(=%.2f)'%alpha,'''We do not reject the null hypothesis H0. So we conclude that the effect of noise do not change the models efficiency at %.2f level of significance.''' %alpha)\n"
   ]
  },
  {
   "cell_type": "markdown",
   "id": "0b32ae34",
   "metadata": {},
   "source": [
    "#### Compare with other algorithms"
   ]
  },
  {
   "cell_type": "code",
   "execution_count": 56,
   "id": "75cc9b62",
   "metadata": {
    "scrolled": false
   },
   "outputs": [
    {
     "name": "stdout",
     "output_type": "stream",
     "text": [
      "Test statistic is 19.602728\n",
      "p-value for two tailed test is 0.000000\n",
      "Since p-value(=0.000000) < alpha(=0.05) We reject the null hypothesis H0. So we conclude that the effect of noise in models efficiency at 0.05 level of significance.\n"
     ]
    }
   ],
   "source": [
    "t_value,p_value=ttest(f1_results_other_algorithms,f1_results_noise_4_other_algorithms)\n",
    "\n",
    "print('Test statistic is %f'%float(\"{:.6f}\".format(t_value)))\n",
    "\n",
    "print('p-value for two tailed test is %f'%p_value)\n",
    "\n",
    "alpha = 0.05\n",
    "  \n",
    "if p_value<=alpha:\n",
    "\n",
    "    print('Since p-value(=%f)'%p_value,'<','alpha(=%.2f)'%alpha,'''We reject the null hypothesis H0. So we conclude that the effect of noise in models efficiency at %.2f level of significance.'''%alpha)\n",
    "\n",
    "else:\n",
    "\n",
    "    print('Since p-value(=%f)'%p_value,'>','alpha(=%.2f)'%alpha,'''We do not reject the null hypothesis H0. So we conclude that the effect of noise do not change the models efficiency at %.2f level of significance.''' %alpha)\n"
   ]
  },
  {
   "cell_type": "markdown",
   "id": "759de916",
   "metadata": {},
   "source": [
    "### Kolmogorov-Smirnov "
   ]
  },
  {
   "cell_type": "markdown",
   "id": "c6a6ca5d",
   "metadata": {},
   "source": [
    "two-sided: The null hypothesis is that the two distributions are identical, F(x)=G(x) for all x; the alternative is that they are not identical.\n",
    "\n",
    "less: The null hypothesis is that F(x) >= G(x) for all x; the alternative is that F(x) < G(x) for at least one x.\n",
    "\n",
    "greater: The null hypothesis is that F(x) <= G(x) for all x; the alternative is that F(x) > G(x) for at least one x."
   ]
  },
  {
   "cell_type": "code",
   "execution_count": 57,
   "id": "d27057fe",
   "metadata": {},
   "outputs": [],
   "source": [
    "# Hypothesis\n",
    "\n",
    "# H0: Noise does not effect the models efficiency of AdaBoost more than other algorithms f1_no_noise_AB = f1_noise_mean_of_the_rest\n",
    "\n",
    "# H1:  Noise does effect the models efficiency of AdaBoost more than other algorithms f1_no_noise_AB <> f1_noise_mean_of_the_rest\n",
    "\n"
   ]
  },
  {
   "cell_type": "markdown",
   "id": "49f1c061",
   "metadata": {},
   "source": [
    "### K-S for 5% noise"
   ]
  },
  {
   "cell_type": "code",
   "execution_count": 58,
   "id": "4821cd34",
   "metadata": {},
   "outputs": [
    {
     "name": "stdout",
     "output_type": "stream",
     "text": [
      "p-value for two tailed KS test is 0.417524\n",
      "Since p-value(=0.417524) > alpha(=0.05) We do not reject the null hypothesis H0. So we conclude that the effect of noise in models efficiency is the same for AdaBoost at 0.05 level of significance.\n"
     ]
    }
   ],
   "source": [
    "from scipy.stats import ks_2samp  \n",
    "\n",
    "\n",
    "#perform Kolmogorov-Smirnov test\n",
    "t_value,p_value = ks_2samp(f1_results['AdaBoost']-f1_results_noise_1['AdaBoost'], f1_results.drop(columns=['AdaBoost']).mean(axis=1)-f1_results_noise_1.drop(columns=['AdaBoost']).mean(axis=1))\n",
    "\n",
    "\n",
    "print('p-value for two tailed KS test is %f'%p_value)\n",
    "\n",
    "alpha = 0.05\n",
    "  \n",
    "if p_value<=alpha:\n",
    "\n",
    "    print('Since p-value(=%f)'%p_value,'<','alpha(=%.2f)'%alpha,'''We reject the null hypothesis H0. So we conclude that the effect of noise in models efficiency is different for AdaBoost at %.2f level of significance.'''%alpha)\n",
    "\n",
    "else:\n",
    "\n",
    "    print('Since p-value(=%f)'%p_value,'>','alpha(=%.2f)'%alpha,'''We do not reject the null hypothesis H0. So we conclude that the effect of noise in models efficiency is the same for AdaBoost at %.2f level of significance.''' %alpha)"
   ]
  },
  {
   "cell_type": "code",
   "execution_count": 59,
   "id": "d70859af",
   "metadata": {},
   "outputs": [],
   "source": [
    "#np.mean(f1_results['AdaBoost']-f1_results_noise_1['AdaBoost'])\n",
    "#np.mean(f1_results.drop(columns=['AdaBoost']).mean(axis=1)-f1_results_noise1.drop(columns=['AdaBoost']).mean(axis=1))"
   ]
  },
  {
   "cell_type": "markdown",
   "id": "10d2c8dc",
   "metadata": {},
   "source": [
    "### K-S for 10% noise"
   ]
  },
  {
   "cell_type": "code",
   "execution_count": 60,
   "id": "8d0e94af",
   "metadata": {},
   "outputs": [
    {
     "name": "stdout",
     "output_type": "stream",
     "text": [
      "p-value for two tailed KS test is 0.994458\n",
      "Since p-value(=0.994458) > alpha(=0.05) We do not reject the null hypothesis H0. So we conclude that the effect of noise in models efficiency is the same for AdaBoost at 0.05 level of significance.\n"
     ]
    }
   ],
   "source": [
    "from scipy.stats import ks_2samp  \n",
    "\n",
    "\n",
    "#perform Kolmogorov-Smirnov test\n",
    "t_value,p_value = ks_2samp(f1_results['AdaBoost']-f1_results_noise_2['AdaBoost'], f1_results.drop(columns=['AdaBoost']).mean(axis=1)-f1_results_noise_2.drop(columns=['AdaBoost']).mean(axis=1))\n",
    "\n",
    "\n",
    "print('p-value for two tailed KS test is %f'%p_value)\n",
    "\n",
    "alpha = 0.05\n",
    "  \n",
    "if p_value<=alpha:\n",
    "\n",
    "    print('Since p-value(=%f)'%p_value,'<','alpha(=%.2f)'%alpha,'''We reject the null hypothesis H0. So we conclude that the effect of noise in models efficiency is different for AdaBoost at %.2f level of significance.'''%alpha)\n",
    "\n",
    "else:\n",
    "\n",
    "    print('Since p-value(=%f)'%p_value,'>','alpha(=%.2f)'%alpha,'''We do not reject the null hypothesis H0. So we conclude that the effect of noise in models efficiency is the same for AdaBoost at %.2f level of significance.''' %alpha)"
   ]
  },
  {
   "cell_type": "code",
   "execution_count": 61,
   "id": "017befca",
   "metadata": {},
   "outputs": [],
   "source": [
    "#np.mean(f1_results['AdaBoost']-f1_results_noise_2['AdaBoost'])\n",
    "#np.mean(f1_results.drop(columns=['AdaBoost']).mean(axis=1)-f1_results_noise_2.drop(columns=['AdaBoost']).mean(axis=1))"
   ]
  },
  {
   "cell_type": "markdown",
   "id": "a21713fc",
   "metadata": {},
   "source": [
    "### K-S for 15% noise"
   ]
  },
  {
   "cell_type": "code",
   "execution_count": 62,
   "id": "d2526cdb",
   "metadata": {},
   "outputs": [
    {
     "name": "stdout",
     "output_type": "stream",
     "text": [
      "p-value for two tailed KS test is 0.994458\n",
      "Since p-value(=0.994458) > alpha(=0.05) We do not reject the null hypothesis H0. So we conclude that the effect of noise in models efficiency is the same for AdaBoost at 0.05 level of significance.\n"
     ]
    }
   ],
   "source": [
    "from scipy.stats import ks_2samp  \n",
    "\n",
    "\n",
    "#perform Kolmogorov-Smirnov test\n",
    "t_value,p_value = ks_2samp(f1_results['AdaBoost']-f1_results_noise_3['AdaBoost'], f1_results.drop(columns=['AdaBoost']).mean(axis=1)-f1_results_noise_3.drop(columns=['AdaBoost']).mean(axis=1))\n",
    "\n",
    "\n",
    "print('p-value for two tailed KS test is %f'%p_value)\n",
    "\n",
    "alpha = 0.05\n",
    "  \n",
    "if p_value<=alpha:\n",
    "\n",
    "    print('Since p-value(=%f)'%p_value,'<','alpha(=%.2f)'%alpha,'''We reject the null hypothesis H0. So we conclude that the effect of noise in models efficiency is different for AdaBoost at %.2f level of significance.'''%alpha)\n",
    "\n",
    "else:\n",
    "\n",
    "    print('Since p-value(=%f)'%p_value,'>','alpha(=%.2f)'%alpha,'''We do not reject the null hypothesis H0. So we conclude that the effect of noise in models efficiency is the same for AdaBoost at %.2f level of significance.''' %alpha)"
   ]
  },
  {
   "cell_type": "code",
   "execution_count": 63,
   "id": "5c734fc8",
   "metadata": {},
   "outputs": [],
   "source": [
    "#np.mean(f1_results['AdaBoost']-f1_results_noise_3['AdaBoost'])\n",
    "#np.mean(f1_results.drop(columns=['AdaBoost']).mean(axis=1)-f1_results_noise_3.drop(columns=['AdaBoost']).mean(axis=1))"
   ]
  },
  {
   "cell_type": "markdown",
   "id": "76d31bab",
   "metadata": {},
   "source": [
    "### K-S for 20% noise"
   ]
  },
  {
   "cell_type": "code",
   "execution_count": 64,
   "id": "ce6b8992",
   "metadata": {},
   "outputs": [
    {
     "name": "stdout",
     "output_type": "stream",
     "text": [
      "p-value for two tailed KS test is 0.786930\n",
      "Since p-value(=0.786930) > alpha(=0.05) We do not reject the null hypothesis H0. So we conclude that the effect of noise in models efficiency is the same for AdaBoost at 0.05 level of significance.\n"
     ]
    }
   ],
   "source": [
    "from scipy.stats import ks_2samp  \n",
    "\n",
    "\n",
    "#perform Kolmogorov-Smirnov test\n",
    "t_value,p_value = ks_2samp(f1_results['AdaBoost']-f1_results_noise_4['AdaBoost'], f1_results.drop(columns=['AdaBoost']).mean(axis=1)-f1_results_noise_4.drop(columns=['AdaBoost']).mean(axis=1))\n",
    "\n",
    "\n",
    "print('p-value for two tailed KS test is %f'%p_value)\n",
    "\n",
    "alpha = 0.05\n",
    "  \n",
    "if p_value<=alpha:\n",
    "\n",
    "    print('Since p-value(=%f)'%p_value,'<','alpha(=%.2f)'%alpha,'''We reject the null hypothesis H0. So we conclude that the effect of noise in models efficiency is different for AdaBoost at %.2f level of significance.'''%alpha)\n",
    "\n",
    "else:\n",
    "\n",
    "    print('Since p-value(=%f)'%p_value,'>','alpha(=%.2f)'%alpha,'''We do not reject the null hypothesis H0. So we conclude that the effect of noise in models efficiency is the same for AdaBoost at %.2f level of significance.''' %alpha)"
   ]
  },
  {
   "cell_type": "code",
   "execution_count": 65,
   "id": "b710ee3e",
   "metadata": {},
   "outputs": [],
   "source": [
    "#np.mean(f1_results['AdaBoost']-f1_results_noise_4['AdaBoost'])\n",
    "#np.mean(f1_results.drop(columns=['AdaBoost']).mean(axis=1)-f1_results_noise_4.drop(columns=['AdaBoost']).mean(axis=1))"
   ]
  },
  {
   "cell_type": "markdown",
   "id": "89368fd7",
   "metadata": {},
   "source": [
    "## Pearson correlation "
   ]
  },
  {
   "cell_type": "markdown",
   "id": "83c18edc",
   "metadata": {},
   "source": [
    "### Adaboost Table"
   ]
  },
  {
   "cell_type": "code",
   "execution_count": 66,
   "id": "438008af",
   "metadata": {},
   "outputs": [
    {
     "data": {
      "text/html": [
       "<div>\n",
       "<style scoped>\n",
       "    .dataframe tbody tr th:only-of-type {\n",
       "        vertical-align: middle;\n",
       "    }\n",
       "\n",
       "    .dataframe tbody tr th {\n",
       "        vertical-align: top;\n",
       "    }\n",
       "\n",
       "    .dataframe thead th {\n",
       "        text-align: right;\n",
       "    }\n",
       "</style>\n",
       "<table border=\"1\" class=\"dataframe\">\n",
       "  <thead>\n",
       "    <tr style=\"text-align: right;\">\n",
       "      <th></th>\n",
       "      <th>AdaBoost_initial</th>\n",
       "      <th>AdaBoost_noise_1</th>\n",
       "      <th>AdaBoost_noise_2</th>\n",
       "      <th>AdaBoost_noise_3</th>\n",
       "      <th>AdaBoost_noise_4</th>\n",
       "    </tr>\n",
       "  </thead>\n",
       "  <tbody>\n",
       "    <tr>\n",
       "      <th>0</th>\n",
       "      <td>0.920919</td>\n",
       "      <td>0.894007</td>\n",
       "      <td>0.789537</td>\n",
       "      <td>0.793912</td>\n",
       "      <td>0.705115</td>\n",
       "    </tr>\n",
       "    <tr>\n",
       "      <th>1</th>\n",
       "      <td>0.935545</td>\n",
       "      <td>0.822019</td>\n",
       "      <td>0.722439</td>\n",
       "      <td>0.695945</td>\n",
       "      <td>0.600703</td>\n",
       "    </tr>\n",
       "    <tr>\n",
       "      <th>2</th>\n",
       "      <td>0.876102</td>\n",
       "      <td>0.876558</td>\n",
       "      <td>0.726422</td>\n",
       "      <td>0.685351</td>\n",
       "      <td>0.565518</td>\n",
       "    </tr>\n",
       "    <tr>\n",
       "      <th>3</th>\n",
       "      <td>0.911694</td>\n",
       "      <td>0.873740</td>\n",
       "      <td>0.797022</td>\n",
       "      <td>0.681131</td>\n",
       "      <td>0.624518</td>\n",
       "    </tr>\n",
       "    <tr>\n",
       "      <th>4</th>\n",
       "      <td>0.902627</td>\n",
       "      <td>0.886190</td>\n",
       "      <td>0.780532</td>\n",
       "      <td>0.686435</td>\n",
       "      <td>0.559976</td>\n",
       "    </tr>\n",
       "    <tr>\n",
       "      <th>5</th>\n",
       "      <td>0.874008</td>\n",
       "      <td>0.842750</td>\n",
       "      <td>0.795981</td>\n",
       "      <td>0.642757</td>\n",
       "      <td>0.583462</td>\n",
       "    </tr>\n",
       "    <tr>\n",
       "      <th>6</th>\n",
       "      <td>0.841084</td>\n",
       "      <td>0.809504</td>\n",
       "      <td>0.737103</td>\n",
       "      <td>0.678958</td>\n",
       "      <td>0.540492</td>\n",
       "    </tr>\n",
       "    <tr>\n",
       "      <th>7</th>\n",
       "      <td>0.935207</td>\n",
       "      <td>0.864132</td>\n",
       "      <td>0.836827</td>\n",
       "      <td>0.772193</td>\n",
       "      <td>0.658628</td>\n",
       "    </tr>\n",
       "    <tr>\n",
       "      <th>8</th>\n",
       "      <td>0.855036</td>\n",
       "      <td>0.842999</td>\n",
       "      <td>0.799012</td>\n",
       "      <td>0.708235</td>\n",
       "      <td>0.620276</td>\n",
       "    </tr>\n",
       "    <tr>\n",
       "      <th>9</th>\n",
       "      <td>0.913453</td>\n",
       "      <td>0.875378</td>\n",
       "      <td>0.793834</td>\n",
       "      <td>0.760544</td>\n",
       "      <td>0.507962</td>\n",
       "    </tr>\n",
       "  </tbody>\n",
       "</table>\n",
       "</div>"
      ],
      "text/plain": [
       "   AdaBoost_initial  AdaBoost_noise_1  AdaBoost_noise_2  AdaBoost_noise_3  \\\n",
       "0          0.920919          0.894007          0.789537          0.793912   \n",
       "1          0.935545          0.822019          0.722439          0.695945   \n",
       "2          0.876102          0.876558          0.726422          0.685351   \n",
       "3          0.911694          0.873740          0.797022          0.681131   \n",
       "4          0.902627          0.886190          0.780532          0.686435   \n",
       "5          0.874008          0.842750          0.795981          0.642757   \n",
       "6          0.841084          0.809504          0.737103          0.678958   \n",
       "7          0.935207          0.864132          0.836827          0.772193   \n",
       "8          0.855036          0.842999          0.799012          0.708235   \n",
       "9          0.913453          0.875378          0.793834          0.760544   \n",
       "\n",
       "   AdaBoost_noise_4  \n",
       "0          0.705115  \n",
       "1          0.600703  \n",
       "2          0.565518  \n",
       "3          0.624518  \n",
       "4          0.559976  \n",
       "5          0.583462  \n",
       "6          0.540492  \n",
       "7          0.658628  \n",
       "8          0.620276  \n",
       "9          0.507962  "
      ]
     },
     "execution_count": 66,
     "metadata": {},
     "output_type": "execute_result"
    }
   ],
   "source": [
    "#create table\n",
    "d1 = {\n",
    "    'AdaBoost_initial': f1_results['AdaBoost'],\n",
    "    'AdaBoost_noise_1': f1_results_noise_1['AdaBoost'],\n",
    "    'AdaBoost_noise_2': f1_results_noise_2['AdaBoost'],\n",
    "    'AdaBoost_noise_3': f1_results_noise_3['AdaBoost'],\n",
    "    'AdaBoost_noise_4': f1_results_noise_4['AdaBoost']\n",
    "    }\n",
    "Adaboost_table = pd.DataFrame(d1)\n",
    "Adaboost_table"
   ]
  },
  {
   "cell_type": "code",
   "execution_count": 67,
   "id": "f24ef4a2",
   "metadata": {},
   "outputs": [],
   "source": [
    "# Correlation between f1score of Adaboost and noise increase "
   ]
  },
  {
   "cell_type": "code",
   "execution_count": 68,
   "id": "b02d9829",
   "metadata": {},
   "outputs": [],
   "source": [
    "a = Adaboost_table.iloc[:,:1].squeeze()\n",
    "     \n",
    "b = Adaboost_table['AdaBoost_noise_1'].squeeze()\n",
    "\n",
    "c = Adaboost_table['AdaBoost_noise_2'].squeeze()\n",
    "  \n",
    "d = Adaboost_table['AdaBoost_noise_3'].squeeze()    \n",
    "\n",
    "e = Adaboost_table['AdaBoost_noise_4'].squeeze()\n",
    "\n",
    "f1 = pd.concat([a,b,c,d,e])\n",
    "\n",
    "f1 = pd.DataFrame(f1)\n",
    "\n",
    "f1.rename(columns = {0:'f1'}, inplace = True)\n",
    "f1.reset_index(drop=True, inplace=True)\n",
    "\n",
    "\n",
    "\n",
    "noise_1 = [1 for i in range(10)]\n",
    "noise_2 = [2 for i in range(10)]\n",
    "noise_3 = [3 for i in range(10)]\n",
    "noise_4 = [4 for i in range(10)]\n",
    "noise_5 = [5 for i in range(10)]\n",
    "\n",
    "noise = noise_1+noise_2+noise_3+noise_4+noise_5\n",
    "\n",
    "noise = pd.DataFrame(noise)\n",
    "\n",
    "noise.rename(columns = {0:'noise'}, inplace = True)\n",
    "noise.reset_index(drop=True, inplace=True)\n",
    "\n",
    "df_cor = pd.concat([f1,noise], axis=1)"
   ]
  },
  {
   "cell_type": "code",
   "execution_count": 69,
   "id": "062fa6ba",
   "metadata": {},
   "outputs": [
    {
     "data": {
      "text/plain": [
       "<matplotlib.collections.PathCollection at 0x1e0daae55c8>"
      ]
     },
     "execution_count": 69,
     "metadata": {},
     "output_type": "execute_result"
    },
    {
     "data": {
      "image/png": "[encoded data removed]",
      "text/plain": [
       "<Figure size 1440x1440 with 1 Axes>"
      ]
     },
     "metadata": {},
     "output_type": "display_data"
    }
   ],
   "source": [
    "plt.scatter(df_cor.iloc[:,1].values.tolist(), df_cor.iloc[:,0].values.tolist())"
   ]
  },
  {
   "cell_type": "code",
   "execution_count": 70,
   "id": "3d482358",
   "metadata": {},
   "outputs": [
    {
     "name": "stdout",
     "output_type": "stream",
     "text": [
      "Since p-value(=0.000000) < alpha(=0.05) We reject the null hypothesis H0. So we conclude that there is correlation -0.92 at 0.05 level of significance.\n",
      "-0.9233944626774688\n"
     ]
    }
   ],
   "source": [
    "from scipy.stats import pearsonr\n",
    "\n",
    "# Returns Pearson’s correlation coefficient,2-tailed p-value)\n",
    "\n",
    "\n",
    "# Hypothesis\n",
    "\n",
    "# H0: ρ = 0\n",
    "\n",
    "# H1: ρ <> 0\n",
    "\n",
    "\n",
    "corr, p_value = pearsonr(df_cor.iloc[:,1].values.tolist(), df_cor.iloc[:,0].values.tolist())\n",
    "\n",
    "alpha = 0.05\n",
    "  \n",
    "if p_value<=alpha:\n",
    "\n",
    "    print('Since p-value(=%f)'%p_value,'<','alpha(=%.2f)'%alpha,'''We reject the null hypothesis H0. So we conclude that there is correlation %.2f at %.2f level of significance.'''%(corr,alpha))\n",
    "\n",
    "else:\n",
    "\n",
    "    print('Since p-value(=%f)'%p_value,'>','alpha(=%.2f)'%alpha,'''We do not reject the null hypothesis H0. So we conclude that there is not correlation at %.2f level of significance.''' %alpha)\n",
    "print(corr)"
   ]
  },
  {
   "cell_type": "code",
   "execution_count": 71,
   "id": "a40b34a7",
   "metadata": {},
   "outputs": [],
   "source": [
    "# Correlation between f1score of Other algorithms mean value and noise increase "
   ]
  },
  {
   "cell_type": "code",
   "execution_count": 72,
   "id": "bbd09c80",
   "metadata": {},
   "outputs": [
    {
     "data": {
      "text/html": [
       "<div>\n",
       "<style scoped>\n",
       "    .dataframe tbody tr th:only-of-type {\n",
       "        vertical-align: middle;\n",
       "    }\n",
       "\n",
       "    .dataframe tbody tr th {\n",
       "        vertical-align: top;\n",
       "    }\n",
       "\n",
       "    .dataframe thead th {\n",
       "        text-align: right;\n",
       "    }\n",
       "</style>\n",
       "<table border=\"1\" class=\"dataframe\">\n",
       "  <thead>\n",
       "    <tr style=\"text-align: right;\">\n",
       "      <th></th>\n",
       "      <th>Other_Algorithms_initial</th>\n",
       "      <th>Other_Algorithms_noise_1</th>\n",
       "      <th>Other_Algorithms_noise_2</th>\n",
       "      <th>Other_Algorithms_noise_3</th>\n",
       "      <th>Other_Algorithms_noise_4</th>\n",
       "    </tr>\n",
       "  </thead>\n",
       "  <tbody>\n",
       "    <tr>\n",
       "      <th>0</th>\n",
       "      <td>0.965957</td>\n",
       "      <td>0.960395</td>\n",
       "      <td>0.899451</td>\n",
       "      <td>0.844028</td>\n",
       "      <td>0.708609</td>\n",
       "    </tr>\n",
       "    <tr>\n",
       "      <th>1</th>\n",
       "      <td>0.963810</td>\n",
       "      <td>0.893020</td>\n",
       "      <td>0.798264</td>\n",
       "      <td>0.700333</td>\n",
       "      <td>0.585797</td>\n",
       "    </tr>\n",
       "    <tr>\n",
       "      <th>2</th>\n",
       "      <td>0.936827</td>\n",
       "      <td>0.924522</td>\n",
       "      <td>0.840531</td>\n",
       "      <td>0.806774</td>\n",
       "      <td>0.644676</td>\n",
       "    </tr>\n",
       "    <tr>\n",
       "      <th>3</th>\n",
       "      <td>0.976556</td>\n",
       "      <td>0.930082</td>\n",
       "      <td>0.860586</td>\n",
       "      <td>0.747748</td>\n",
       "      <td>0.632105</td>\n",
       "    </tr>\n",
       "    <tr>\n",
       "      <th>4</th>\n",
       "      <td>0.965176</td>\n",
       "      <td>0.923399</td>\n",
       "      <td>0.833402</td>\n",
       "      <td>0.756308</td>\n",
       "      <td>0.642856</td>\n",
       "    </tr>\n",
       "    <tr>\n",
       "      <th>5</th>\n",
       "      <td>0.974131</td>\n",
       "      <td>0.926838</td>\n",
       "      <td>0.859111</td>\n",
       "      <td>0.793406</td>\n",
       "      <td>0.649239</td>\n",
       "    </tr>\n",
       "    <tr>\n",
       "      <th>6</th>\n",
       "      <td>0.966551</td>\n",
       "      <td>0.896040</td>\n",
       "      <td>0.816200</td>\n",
       "      <td>0.725699</td>\n",
       "      <td>0.562028</td>\n",
       "    </tr>\n",
       "    <tr>\n",
       "      <th>7</th>\n",
       "      <td>0.976520</td>\n",
       "      <td>0.953241</td>\n",
       "      <td>0.886906</td>\n",
       "      <td>0.829904</td>\n",
       "      <td>0.718080</td>\n",
       "    </tr>\n",
       "    <tr>\n",
       "      <th>8</th>\n",
       "      <td>0.974006</td>\n",
       "      <td>0.915531</td>\n",
       "      <td>0.867054</td>\n",
       "      <td>0.780056</td>\n",
       "      <td>0.677395</td>\n",
       "    </tr>\n",
       "    <tr>\n",
       "      <th>9</th>\n",
       "      <td>0.959421</td>\n",
       "      <td>0.928851</td>\n",
       "      <td>0.844243</td>\n",
       "      <td>0.765406</td>\n",
       "      <td>0.595193</td>\n",
       "    </tr>\n",
       "  </tbody>\n",
       "</table>\n",
       "</div>"
      ],
      "text/plain": [
       "   Other_Algorithms_initial  Other_Algorithms_noise_1  \\\n",
       "0                  0.965957                  0.960395   \n",
       "1                  0.963810                  0.893020   \n",
       "2                  0.936827                  0.924522   \n",
       "3                  0.976556                  0.930082   \n",
       "4                  0.965176                  0.923399   \n",
       "5                  0.974131                  0.926838   \n",
       "6                  0.966551                  0.896040   \n",
       "7                  0.976520                  0.953241   \n",
       "8                  0.974006                  0.915531   \n",
       "9                  0.959421                  0.928851   \n",
       "\n",
       "   Other_Algorithms_noise_2  Other_Algorithms_noise_3  \\\n",
       "0                  0.899451                  0.844028   \n",
       "1                  0.798264                  0.700333   \n",
       "2                  0.840531                  0.806774   \n",
       "3                  0.860586                  0.747748   \n",
       "4                  0.833402                  0.756308   \n",
       "5                  0.859111                  0.793406   \n",
       "6                  0.816200                  0.725699   \n",
       "7                  0.886906                  0.829904   \n",
       "8                  0.867054                  0.780056   \n",
       "9                  0.844243                  0.765406   \n",
       "\n",
       "   Other_Algorithms_noise_4  \n",
       "0                  0.708609  \n",
       "1                  0.585797  \n",
       "2                  0.644676  \n",
       "3                  0.632105  \n",
       "4                  0.642856  \n",
       "5                  0.649239  \n",
       "6                  0.562028  \n",
       "7                  0.718080  \n",
       "8                  0.677395  \n",
       "9                  0.595193  "
      ]
     },
     "execution_count": 72,
     "metadata": {},
     "output_type": "execute_result"
    }
   ],
   "source": [
    "#create table\n",
    "d2 = {\n",
    "    'Other_Algorithms_initial': f1_results_other_algorithms,\n",
    "    'Other_Algorithms_noise_1': f1_results_noise_1_other_algorithms,\n",
    "    'Other_Algorithms_noise_2': f1_results_noise_2_other_algorithms,\n",
    "    'Other_Algorithms_noise_3': f1_results_noise_3_other_algorithms,\n",
    "    'Other_Algorithms_noise_4': f1_results_noise_4_other_algorithms\n",
    "    }\n",
    "Other_Algorithms_table = pd.DataFrame(d2)\n",
    "Other_Algorithms_table"
   ]
  },
  {
   "cell_type": "code",
   "execution_count": 73,
   "id": "bf0b41ad",
   "metadata": {},
   "outputs": [],
   "source": [
    "a = Other_Algorithms_table.iloc[:,:1].squeeze()\n",
    "     \n",
    "b = Other_Algorithms_table['Other_Algorithms_noise_1'].squeeze()\n",
    "\n",
    "c = Other_Algorithms_table['Other_Algorithms_noise_2'].squeeze()\n",
    "  \n",
    "d = Other_Algorithms_table['Other_Algorithms_noise_3'].squeeze()    \n",
    "\n",
    "e = Other_Algorithms_table['Other_Algorithms_noise_4'].squeeze()\n",
    "\n",
    "f1 = pd.concat([a,b,c,d,e])\n",
    "\n",
    "f1 = pd.DataFrame(f1)\n",
    "\n",
    "f1.rename(columns = {0:'f1'}, inplace = True)\n",
    "f1.reset_index(drop=True, inplace=True)\n",
    "\n",
    "\n",
    "noise_1 = [1 for i in range(10)]\n",
    "noise_2 = [2 for i in range(10)]\n",
    "noise_3 = [3 for i in range(10)]\n",
    "noise_4 = [4 for i in range(10)]\n",
    "noise_5 = [5 for i in range(10)]\n",
    "\n",
    "noise = noise_1+noise_2+noise_3+noise_4+noise_5\n",
    "\n",
    "noise = pd.DataFrame(noise)\n",
    "\n",
    "noise.rename(columns = {0:'noise'}, inplace = True)\n",
    "noise.reset_index(drop=True, inplace=True)\n",
    "\n",
    "\n",
    "df_cor = pd.concat([f1,noise], axis=1)"
   ]
  },
  {
   "cell_type": "code",
   "execution_count": 74,
   "id": "ac5137bf",
   "metadata": {},
   "outputs": [
    {
     "data": {
      "text/plain": [
       "<matplotlib.collections.PathCollection at 0x1e0d9eaeac8>"
      ]
     },
     "execution_count": 74,
     "metadata": {},
     "output_type": "execute_result"
    },
    {
     "data": {
      "image/png": "[encoded data removed]",
      "text/plain": [
       "<Figure size 1440x1440 with 1 Axes>"
      ]
     },
     "metadata": {},
     "output_type": "display_data"
    }
   ],
   "source": [
    "plt.scatter(df_cor.iloc[:,1].values.tolist(), df_cor.iloc[:,0].values.tolist())"
   ]
  },
  {
   "cell_type": "code",
   "execution_count": 75,
   "id": "be909bde",
   "metadata": {},
   "outputs": [
    {
     "name": "stdout",
     "output_type": "stream",
     "text": [
      "Since p-value(=0.000000) < alpha(=0.05) We reject the null hypothesis H0. So we conclude that there is correlation -0.94 at 0.05 level of significance.\n",
      "-0.9413151028211824\n"
     ]
    }
   ],
   "source": [
    "from scipy.stats import pearsonr\n",
    "\n",
    "# Returns Pearson’s correlation coefficient,2-tailed p-value)\n",
    "\n",
    "\n",
    "# Hypothesis\n",
    "\n",
    "# H0: ρ = 0\n",
    "\n",
    "# H1: ρ <> 0\n",
    "\n",
    "\n",
    "corr, p_value = pearsonr(df_cor.iloc[:,1].values.tolist(), df_cor.iloc[:,0].values.tolist())\n",
    "\n",
    "alpha = 0.05\n",
    "  \n",
    "if p_value<=alpha:\n",
    "\n",
    "    print('Since p-value(=%f)'%p_value,'<','alpha(=%.2f)'%alpha,'''We reject the null hypothesis H0. So we conclude that there is correlation %.2f at %.2f level of significance.'''%(corr,alpha))\n",
    "\n",
    "else:\n",
    "\n",
    "    print('Since p-value(=%f)'%p_value,'>','alpha(=%.2f)'%alpha,'''We do not reject the null hypothesis H0. So we conclude that there is not correlation at %.2f level of significance.''' %alpha)\n",
    "print(corr)"
   ]
  },
  {
   "cell_type": "markdown",
   "id": "6b5ee06e",
   "metadata": {},
   "source": [
    "Thus we can see from the effect size the of correlation that Adaboost is not more sensitive than other algorithms."
   ]
  }
 ],
 "metadata": {
  "kernelspec": {
   "display_name": "Python 3",
   "language": "python",
   "name": "python3"
  },
  "language_info": {
   "codemirror_mode": {
    "name": "ipython",
    "version": 3
   },
   "file_extension": ".py",
   "mimetype": "text/x-python",
   "name": "python",
   "nbconvert_exporter": "python",
   "pygments_lexer": "ipython3",
   "version": "3.7.10"
  }
 },
 "nbformat": 4,
 "nbformat_minor": 5
}
