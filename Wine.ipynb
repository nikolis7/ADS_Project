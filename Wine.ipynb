{
 "cells": [
  {
   "cell_type": "code",
   "execution_count": 2,
   "id": "3b2c154d",
   "metadata": {},
   "outputs": [],
   "source": [
    "import pandas as pd \n",
    "import numpy as np\n",
    "import matplotlib.pyplot as plt\n",
    "from sklearn import datasets\n",
    "import seaborn as sns\n",
    "\n",
    "%matplotlib inline"
   ]
  },
  {
   "cell_type": "code",
   "execution_count": 3,
   "id": "58ed4ab6",
   "metadata": {},
   "outputs": [],
   "source": [
    "wine = datasets.load_wine()\n",
    "df = pd.DataFrame(data=wine.data, columns=wine.feature_names) # convert breast cancer data to Dataframe\n",
    "df[\"target\"]=wine.target"
   ]
  },
  {
   "cell_type": "code",
   "execution_count": 4,
   "id": "5aeae6fa",
   "metadata": {},
   "outputs": [
    {
     "data": {
      "text/html": [
       "<div>\n",
       "<style scoped>\n",
       "    .dataframe tbody tr th:only-of-type {\n",
       "        vertical-align: middle;\n",
       "    }\n",
       "\n",
       "    .dataframe tbody tr th {\n",
       "        vertical-align: top;\n",
       "    }\n",
       "\n",
       "    .dataframe thead th {\n",
       "        text-align: right;\n",
       "    }\n",
       "</style>\n",
       "<table border=\"1\" class=\"dataframe\">\n",
       "  <thead>\n",
       "    <tr style=\"text-align: right;\">\n",
       "      <th></th>\n",
       "      <th>alcohol</th>\n",
       "      <th>malic_acid</th>\n",
       "      <th>ash</th>\n",
       "      <th>alcalinity_of_ash</th>\n",
       "      <th>magnesium</th>\n",
       "      <th>total_phenols</th>\n",
       "      <th>flavanoids</th>\n",
       "      <th>nonflavanoid_phenols</th>\n",
       "      <th>proanthocyanins</th>\n",
       "      <th>color_intensity</th>\n",
       "      <th>hue</th>\n",
       "      <th>od280/od315_of_diluted_wines</th>\n",
       "      <th>proline</th>\n",
       "      <th>target</th>\n",
       "    </tr>\n",
       "  </thead>\n",
       "  <tbody>\n",
       "    <tr>\n",
       "      <th>0</th>\n",
       "      <td>14.23</td>\n",
       "      <td>1.71</td>\n",
       "      <td>2.43</td>\n",
       "      <td>15.6</td>\n",
       "      <td>127.0</td>\n",
       "      <td>2.80</td>\n",
       "      <td>3.06</td>\n",
       "      <td>0.28</td>\n",
       "      <td>2.29</td>\n",
       "      <td>5.64</td>\n",
       "      <td>1.04</td>\n",
       "      <td>3.92</td>\n",
       "      <td>1065.0</td>\n",
       "      <td>0</td>\n",
       "    </tr>\n",
       "    <tr>\n",
       "      <th>1</th>\n",
       "      <td>13.20</td>\n",
       "      <td>1.78</td>\n",
       "      <td>2.14</td>\n",
       "      <td>11.2</td>\n",
       "      <td>100.0</td>\n",
       "      <td>2.65</td>\n",
       "      <td>2.76</td>\n",
       "      <td>0.26</td>\n",
       "      <td>1.28</td>\n",
       "      <td>4.38</td>\n",
       "      <td>1.05</td>\n",
       "      <td>3.40</td>\n",
       "      <td>1050.0</td>\n",
       "      <td>0</td>\n",
       "    </tr>\n",
       "    <tr>\n",
       "      <th>2</th>\n",
       "      <td>13.16</td>\n",
       "      <td>2.36</td>\n",
       "      <td>2.67</td>\n",
       "      <td>18.6</td>\n",
       "      <td>101.0</td>\n",
       "      <td>2.80</td>\n",
       "      <td>3.24</td>\n",
       "      <td>0.30</td>\n",
       "      <td>2.81</td>\n",
       "      <td>5.68</td>\n",
       "      <td>1.03</td>\n",
       "      <td>3.17</td>\n",
       "      <td>1185.0</td>\n",
       "      <td>0</td>\n",
       "    </tr>\n",
       "    <tr>\n",
       "      <th>3</th>\n",
       "      <td>14.37</td>\n",
       "      <td>1.95</td>\n",
       "      <td>2.50</td>\n",
       "      <td>16.8</td>\n",
       "      <td>113.0</td>\n",
       "      <td>3.85</td>\n",
       "      <td>3.49</td>\n",
       "      <td>0.24</td>\n",
       "      <td>2.18</td>\n",
       "      <td>7.80</td>\n",
       "      <td>0.86</td>\n",
       "      <td>3.45</td>\n",
       "      <td>1480.0</td>\n",
       "      <td>0</td>\n",
       "    </tr>\n",
       "    <tr>\n",
       "      <th>4</th>\n",
       "      <td>13.24</td>\n",
       "      <td>2.59</td>\n",
       "      <td>2.87</td>\n",
       "      <td>21.0</td>\n",
       "      <td>118.0</td>\n",
       "      <td>2.80</td>\n",
       "      <td>2.69</td>\n",
       "      <td>0.39</td>\n",
       "      <td>1.82</td>\n",
       "      <td>4.32</td>\n",
       "      <td>1.04</td>\n",
       "      <td>2.93</td>\n",
       "      <td>735.0</td>\n",
       "      <td>0</td>\n",
       "    </tr>\n",
       "  </tbody>\n",
       "</table>\n",
       "</div>"
      ],
      "text/plain": [
       "   alcohol  malic_acid   ash  alcalinity_of_ash  magnesium  total_phenols  \\\n",
       "0    14.23        1.71  2.43               15.6      127.0           2.80   \n",
       "1    13.20        1.78  2.14               11.2      100.0           2.65   \n",
       "2    13.16        2.36  2.67               18.6      101.0           2.80   \n",
       "3    14.37        1.95  2.50               16.8      113.0           3.85   \n",
       "4    13.24        2.59  2.87               21.0      118.0           2.80   \n",
       "\n",
       "   flavanoids  nonflavanoid_phenols  proanthocyanins  color_intensity   hue  \\\n",
       "0        3.06                  0.28             2.29             5.64  1.04   \n",
       "1        2.76                  0.26             1.28             4.38  1.05   \n",
       "2        3.24                  0.30             2.81             5.68  1.03   \n",
       "3        3.49                  0.24             2.18             7.80  0.86   \n",
       "4        2.69                  0.39             1.82             4.32  1.04   \n",
       "\n",
       "   od280/od315_of_diluted_wines  proline  target  \n",
       "0                          3.92   1065.0       0  \n",
       "1                          3.40   1050.0       0  \n",
       "2                          3.17   1185.0       0  \n",
       "3                          3.45   1480.0       0  \n",
       "4                          2.93    735.0       0  "
      ]
     },
     "execution_count": 4,
     "metadata": {},
     "output_type": "execute_result"
    }
   ],
   "source": [
    "df.head()"
   ]
  },
  {
   "cell_type": "code",
   "execution_count": 5,
   "id": "07257ef0",
   "metadata": {},
   "outputs": [
    {
     "data": {
      "text/plain": [
       "alcohol                         float64\n",
       "malic_acid                      float64\n",
       "ash                             float64\n",
       "alcalinity_of_ash               float64\n",
       "magnesium                       float64\n",
       "total_phenols                   float64\n",
       "flavanoids                      float64\n",
       "nonflavanoid_phenols            float64\n",
       "proanthocyanins                 float64\n",
       "color_intensity                 float64\n",
       "hue                             float64\n",
       "od280/od315_of_diluted_wines    float64\n",
       "proline                         float64\n",
       "target                            int32\n",
       "dtype: object"
      ]
     },
     "execution_count": 5,
     "metadata": {},
     "output_type": "execute_result"
    }
   ],
   "source": [
    "df.dtypes"
   ]
  },
  {
   "cell_type": "code",
   "execution_count": 6,
   "id": "d5b4275d",
   "metadata": {},
   "outputs": [
    {
     "data": {
      "text/html": [
       "<div>\n",
       "<style scoped>\n",
       "    .dataframe tbody tr th:only-of-type {\n",
       "        vertical-align: middle;\n",
       "    }\n",
       "\n",
       "    .dataframe tbody tr th {\n",
       "        vertical-align: top;\n",
       "    }\n",
       "\n",
       "    .dataframe thead th {\n",
       "        text-align: right;\n",
       "    }\n",
       "</style>\n",
       "<table border=\"1\" class=\"dataframe\">\n",
       "  <thead>\n",
       "    <tr style=\"text-align: right;\">\n",
       "      <th></th>\n",
       "      <th>alcohol</th>\n",
       "      <th>malic_acid</th>\n",
       "      <th>ash</th>\n",
       "      <th>alcalinity_of_ash</th>\n",
       "      <th>magnesium</th>\n",
       "      <th>total_phenols</th>\n",
       "      <th>flavanoids</th>\n",
       "      <th>nonflavanoid_phenols</th>\n",
       "      <th>proanthocyanins</th>\n",
       "      <th>color_intensity</th>\n",
       "      <th>hue</th>\n",
       "      <th>od280/od315_of_diluted_wines</th>\n",
       "      <th>proline</th>\n",
       "      <th>target</th>\n",
       "    </tr>\n",
       "  </thead>\n",
       "  <tbody>\n",
       "    <tr>\n",
       "      <th>count</th>\n",
       "      <td>178.000000</td>\n",
       "      <td>178.000000</td>\n",
       "      <td>178.000000</td>\n",
       "      <td>178.000000</td>\n",
       "      <td>178.000000</td>\n",
       "      <td>178.000000</td>\n",
       "      <td>178.000000</td>\n",
       "      <td>178.000000</td>\n",
       "      <td>178.000000</td>\n",
       "      <td>178.000000</td>\n",
       "      <td>178.000000</td>\n",
       "      <td>178.000000</td>\n",
       "      <td>178.000000</td>\n",
       "      <td>178.000000</td>\n",
       "    </tr>\n",
       "    <tr>\n",
       "      <th>mean</th>\n",
       "      <td>13.000618</td>\n",
       "      <td>2.336348</td>\n",
       "      <td>2.366517</td>\n",
       "      <td>19.494944</td>\n",
       "      <td>99.741573</td>\n",
       "      <td>2.295112</td>\n",
       "      <td>2.029270</td>\n",
       "      <td>0.361854</td>\n",
       "      <td>1.590899</td>\n",
       "      <td>5.058090</td>\n",
       "      <td>0.957449</td>\n",
       "      <td>2.611685</td>\n",
       "      <td>746.893258</td>\n",
       "      <td>0.938202</td>\n",
       "    </tr>\n",
       "    <tr>\n",
       "      <th>std</th>\n",
       "      <td>0.811827</td>\n",
       "      <td>1.117146</td>\n",
       "      <td>0.274344</td>\n",
       "      <td>3.339564</td>\n",
       "      <td>14.282484</td>\n",
       "      <td>0.625851</td>\n",
       "      <td>0.998859</td>\n",
       "      <td>0.124453</td>\n",
       "      <td>0.572359</td>\n",
       "      <td>2.318286</td>\n",
       "      <td>0.228572</td>\n",
       "      <td>0.709990</td>\n",
       "      <td>314.907474</td>\n",
       "      <td>0.775035</td>\n",
       "    </tr>\n",
       "    <tr>\n",
       "      <th>min</th>\n",
       "      <td>11.030000</td>\n",
       "      <td>0.740000</td>\n",
       "      <td>1.360000</td>\n",
       "      <td>10.600000</td>\n",
       "      <td>70.000000</td>\n",
       "      <td>0.980000</td>\n",
       "      <td>0.340000</td>\n",
       "      <td>0.130000</td>\n",
       "      <td>0.410000</td>\n",
       "      <td>1.280000</td>\n",
       "      <td>0.480000</td>\n",
       "      <td>1.270000</td>\n",
       "      <td>278.000000</td>\n",
       "      <td>0.000000</td>\n",
       "    </tr>\n",
       "    <tr>\n",
       "      <th>25%</th>\n",
       "      <td>12.362500</td>\n",
       "      <td>1.602500</td>\n",
       "      <td>2.210000</td>\n",
       "      <td>17.200000</td>\n",
       "      <td>88.000000</td>\n",
       "      <td>1.742500</td>\n",
       "      <td>1.205000</td>\n",
       "      <td>0.270000</td>\n",
       "      <td>1.250000</td>\n",
       "      <td>3.220000</td>\n",
       "      <td>0.782500</td>\n",
       "      <td>1.937500</td>\n",
       "      <td>500.500000</td>\n",
       "      <td>0.000000</td>\n",
       "    </tr>\n",
       "    <tr>\n",
       "      <th>50%</th>\n",
       "      <td>13.050000</td>\n",
       "      <td>1.865000</td>\n",
       "      <td>2.360000</td>\n",
       "      <td>19.500000</td>\n",
       "      <td>98.000000</td>\n",
       "      <td>2.355000</td>\n",
       "      <td>2.135000</td>\n",
       "      <td>0.340000</td>\n",
       "      <td>1.555000</td>\n",
       "      <td>4.690000</td>\n",
       "      <td>0.965000</td>\n",
       "      <td>2.780000</td>\n",
       "      <td>673.500000</td>\n",
       "      <td>1.000000</td>\n",
       "    </tr>\n",
       "    <tr>\n",
       "      <th>75%</th>\n",
       "      <td>13.677500</td>\n",
       "      <td>3.082500</td>\n",
       "      <td>2.557500</td>\n",
       "      <td>21.500000</td>\n",
       "      <td>107.000000</td>\n",
       "      <td>2.800000</td>\n",
       "      <td>2.875000</td>\n",
       "      <td>0.437500</td>\n",
       "      <td>1.950000</td>\n",
       "      <td>6.200000</td>\n",
       "      <td>1.120000</td>\n",
       "      <td>3.170000</td>\n",
       "      <td>985.000000</td>\n",
       "      <td>2.000000</td>\n",
       "    </tr>\n",
       "    <tr>\n",
       "      <th>max</th>\n",
       "      <td>14.830000</td>\n",
       "      <td>5.800000</td>\n",
       "      <td>3.230000</td>\n",
       "      <td>30.000000</td>\n",
       "      <td>162.000000</td>\n",
       "      <td>3.880000</td>\n",
       "      <td>5.080000</td>\n",
       "      <td>0.660000</td>\n",
       "      <td>3.580000</td>\n",
       "      <td>13.000000</td>\n",
       "      <td>1.710000</td>\n",
       "      <td>4.000000</td>\n",
       "      <td>1680.000000</td>\n",
       "      <td>2.000000</td>\n",
       "    </tr>\n",
       "  </tbody>\n",
       "</table>\n",
       "</div>"
      ],
      "text/plain": [
       "          alcohol  malic_acid         ash  alcalinity_of_ash   magnesium  \\\n",
       "count  178.000000  178.000000  178.000000         178.000000  178.000000   \n",
       "mean    13.000618    2.336348    2.366517          19.494944   99.741573   \n",
       "std      0.811827    1.117146    0.274344           3.339564   14.282484   \n",
       "min     11.030000    0.740000    1.360000          10.600000   70.000000   \n",
       "25%     12.362500    1.602500    2.210000          17.200000   88.000000   \n",
       "50%     13.050000    1.865000    2.360000          19.500000   98.000000   \n",
       "75%     13.677500    3.082500    2.557500          21.500000  107.000000   \n",
       "max     14.830000    5.800000    3.230000          30.000000  162.000000   \n",
       "\n",
       "       total_phenols  flavanoids  nonflavanoid_phenols  proanthocyanins  \\\n",
       "count     178.000000  178.000000            178.000000       178.000000   \n",
       "mean        2.295112    2.029270              0.361854         1.590899   \n",
       "std         0.625851    0.998859              0.124453         0.572359   \n",
       "min         0.980000    0.340000              0.130000         0.410000   \n",
       "25%         1.742500    1.205000              0.270000         1.250000   \n",
       "50%         2.355000    2.135000              0.340000         1.555000   \n",
       "75%         2.800000    2.875000              0.437500         1.950000   \n",
       "max         3.880000    5.080000              0.660000         3.580000   \n",
       "\n",
       "       color_intensity         hue  od280/od315_of_diluted_wines      proline  \\\n",
       "count       178.000000  178.000000                    178.000000   178.000000   \n",
       "mean          5.058090    0.957449                      2.611685   746.893258   \n",
       "std           2.318286    0.228572                      0.709990   314.907474   \n",
       "min           1.280000    0.480000                      1.270000   278.000000   \n",
       "25%           3.220000    0.782500                      1.937500   500.500000   \n",
       "50%           4.690000    0.965000                      2.780000   673.500000   \n",
       "75%           6.200000    1.120000                      3.170000   985.000000   \n",
       "max          13.000000    1.710000                      4.000000  1680.000000   \n",
       "\n",
       "           target  \n",
       "count  178.000000  \n",
       "mean     0.938202  \n",
       "std      0.775035  \n",
       "min      0.000000  \n",
       "25%      0.000000  \n",
       "50%      1.000000  \n",
       "75%      2.000000  \n",
       "max      2.000000  "
      ]
     },
     "execution_count": 6,
     "metadata": {},
     "output_type": "execute_result"
    }
   ],
   "source": [
    "df.describe()"
   ]
  },
  {
   "cell_type": "code",
   "execution_count": 7,
   "id": "b505c304",
   "metadata": {},
   "outputs": [
    {
     "data": {
      "text/plain": [
       "1    71\n",
       "0    59\n",
       "2    48\n",
       "Name: target, dtype: int64"
      ]
     },
     "execution_count": 7,
     "metadata": {},
     "output_type": "execute_result"
    }
   ],
   "source": [
    "df.target.value_counts()"
   ]
  },
  {
   "cell_type": "code",
   "execution_count": 8,
   "id": "8de0f548",
   "metadata": {},
   "outputs": [
    {
     "data": {
      "image/png": "[encoded data removed]",
      "text/plain": [
       "<Figure size 1440x1440 with 16 Axes>"
      ]
     },
     "metadata": {
      "needs_background": "light"
     },
     "output_type": "display_data"
    }
   ],
   "source": [
    "plt.rcParams[\"figure.figsize\"] = (20,20)\n",
    "df.hist()\n",
    "plt.show()"
   ]
  },
  {
   "cell_type": "code",
   "execution_count": 9,
   "id": "adb26382",
   "metadata": {},
   "outputs": [
    {
     "data": {
      "image/png": "[encoded data removed]",
      "text/plain": [
       "<Figure size 1440x1440 with 35 Axes>"
      ]
     },
     "metadata": {
      "needs_background": "light"
     },
     "output_type": "display_data"
    }
   ],
   "source": [
    "df.plot(kind='density', subplots=True, layout=(5,7), sharex=False)\n",
    "plt.show()"
   ]
  },
  {
   "cell_type": "code",
   "execution_count": 10,
   "id": "ffb513bb",
   "metadata": {},
   "outputs": [
    {
     "data": {
      "text/plain": [
       "alcohol                         0\n",
       "malic_acid                      0\n",
       "ash                             0\n",
       "alcalinity_of_ash               0\n",
       "magnesium                       0\n",
       "total_phenols                   0\n",
       "flavanoids                      0\n",
       "nonflavanoid_phenols            0\n",
       "proanthocyanins                 0\n",
       "color_intensity                 0\n",
       "hue                             0\n",
       "od280/od315_of_diluted_wines    0\n",
       "proline                         0\n",
       "target                          0\n",
       "dtype: int64"
      ]
     },
     "execution_count": 10,
     "metadata": {},
     "output_type": "execute_result"
    }
   ],
   "source": [
    "df.isnull().sum()"
   ]
  },
  {
   "cell_type": "code",
   "execution_count": 11,
   "id": "53a17f5e",
   "metadata": {},
   "outputs": [
    {
     "data": {
      "text/plain": [
       "alcohol                         0\n",
       "malic_acid                      0\n",
       "ash                             0\n",
       "alcalinity_of_ash               0\n",
       "magnesium                       0\n",
       "total_phenols                   0\n",
       "flavanoids                      0\n",
       "nonflavanoid_phenols            0\n",
       "proanthocyanins                 0\n",
       "color_intensity                 0\n",
       "hue                             0\n",
       "od280/od315_of_diluted_wines    0\n",
       "proline                         0\n",
       "target                          0\n",
       "dtype: int64"
      ]
     },
     "execution_count": 11,
     "metadata": {},
     "output_type": "execute_result"
    }
   ],
   "source": [
    "df.isna().sum()"
   ]
  },
  {
   "cell_type": "code",
   "execution_count": 12,
   "id": "9cb74c01",
   "metadata": {},
   "outputs": [
    {
     "data": {
      "text/html": [
       "<div>\n",
       "<style scoped>\n",
       "    .dataframe tbody tr th:only-of-type {\n",
       "        vertical-align: middle;\n",
       "    }\n",
       "\n",
       "    .dataframe tbody tr th {\n",
       "        vertical-align: top;\n",
       "    }\n",
       "\n",
       "    .dataframe thead th {\n",
       "        text-align: right;\n",
       "    }\n",
       "</style>\n",
       "<table border=\"1\" class=\"dataframe\">\n",
       "  <thead>\n",
       "    <tr style=\"text-align: right;\">\n",
       "      <th></th>\n",
       "      <th>alcohol</th>\n",
       "      <th>malic_acid</th>\n",
       "      <th>ash</th>\n",
       "      <th>alcalinity_of_ash</th>\n",
       "      <th>magnesium</th>\n",
       "      <th>total_phenols</th>\n",
       "      <th>flavanoids</th>\n",
       "      <th>nonflavanoid_phenols</th>\n",
       "      <th>proanthocyanins</th>\n",
       "      <th>color_intensity</th>\n",
       "      <th>hue</th>\n",
       "      <th>od280/od315_of_diluted_wines</th>\n",
       "      <th>proline</th>\n",
       "      <th>target</th>\n",
       "    </tr>\n",
       "  </thead>\n",
       "  <tbody>\n",
       "  </tbody>\n",
       "</table>\n",
       "</div>"
      ],
      "text/plain": [
       "Empty DataFrame\n",
       "Columns: [alcohol, malic_acid, ash, alcalinity_of_ash, magnesium, total_phenols, flavanoids, nonflavanoid_phenols, proanthocyanins, color_intensity, hue, od280/od315_of_diluted_wines, proline, target]\n",
       "Index: []"
      ]
     },
     "execution_count": 12,
     "metadata": {},
     "output_type": "execute_result"
    }
   ],
   "source": [
    "duplicate_values = df[df.duplicated()]\n",
    "duplicate_values"
   ]
  },
  {
   "cell_type": "code",
   "execution_count": 13,
   "id": "710d6646",
   "metadata": {},
   "outputs": [
    {
     "data": {
      "image/png": "[encoded data removed]",
      "text/plain": [
       "<Figure size 1440x1440 with 35 Axes>"
      ]
     },
     "metadata": {
      "needs_background": "light"
     },
     "output_type": "display_data"
    }
   ],
   "source": [
    "df.plot(kind='box', subplots=True, layout=(5,7), sharex=False, sharey=False)\n",
    "plt.show()"
   ]
  },
  {
   "cell_type": "code",
   "execution_count": 14,
   "id": "85f383e0",
   "metadata": {},
   "outputs": [
    {
     "data": {
      "text/plain": [
       "Index(['target', 'alcalinity_of_ash', 'nonflavanoid_phenols', 'malic_acid',\n",
       "       'color_intensity'],\n",
       "      dtype='object')"
      ]
     },
     "execution_count": 14,
     "metadata": {},
     "output_type": "execute_result"
    }
   ],
   "source": [
    "correlation = df.corr(method='spearman')\n",
    "columns = correlation.nlargest(5,'target').index\n",
    "columns"
   ]
  },
  {
   "cell_type": "code",
   "execution_count": 15,
   "id": "12ff68e5",
   "metadata": {},
   "outputs": [
    {
     "data": {
      "image/png": "[encoded data removed]",
      "text/plain": [
       "<Figure size 1368x1080 with 2 Axes>"
      ]
     },
     "metadata": {
      "needs_background": "light"
     },
     "output_type": "display_data"
    }
   ],
   "source": [
    "f = plt.figure(figsize=(19, 15))\n",
    "correlation_map = np.corrcoef(df[columns].values.T)\n",
    "sns.set(font_scale=1.0)\n",
    "heatmap = sns.heatmap(correlation_map, cbar=True, annot=True, square=True, fmt='.2f', yticklabels=columns.values, xticklabels=columns.values)\n",
    "\n",
    "plt.show()"
   ]
  },
  {
   "cell_type": "markdown",
   "id": "84739e59",
   "metadata": {},
   "source": [
    "##### Seperate dataset into features and output "
   ]
  },
  {
   "cell_type": "code",
   "execution_count": 16,
   "id": "285aad82",
   "metadata": {},
   "outputs": [],
   "source": [
    "values = df.values\n",
    "\n",
    "X = values[:,0:13]\n",
    "Y = values[:,13]"
   ]
  },
  {
   "cell_type": "markdown",
   "id": "1a086153",
   "metadata": {},
   "source": [
    "##### Feature Scaling "
   ]
  },
  {
   "cell_type": "code",
   "execution_count": 17,
   "id": "0572577f",
   "metadata": {},
   "outputs": [],
   "source": [
    "from sklearn.preprocessing import StandardScaler\n",
    "scaler = StandardScaler() # initialize scaler \n",
    "scaler.fit(X) # learn the necessary info from data \n",
    "X_scaled  = scaler.fit_transform(X) # apply scaling "
   ]
  },
  {
   "cell_type": "code",
   "execution_count": 18,
   "id": "3a7673f9",
   "metadata": {},
   "outputs": [],
   "source": [
    "df_scaled = pd.DataFrame(X_scaled)"
   ]
  },
  {
   "cell_type": "code",
   "execution_count": 19,
   "id": "110aac58",
   "metadata": {},
   "outputs": [
    {
     "data": {
      "image/png": "[encoded data removed]",
      "text/plain": [
       "<Figure size 1440x1440 with 16 Axes>"
      ]
     },
     "metadata": {},
     "output_type": "display_data"
    }
   ],
   "source": [
    "plt.rcParams[\"figure.figsize\"] = (20,20)\n",
    "df_scaled.hist()\n",
    "plt.show()"
   ]
  },
  {
   "cell_type": "code",
   "execution_count": 20,
   "id": "ef793e7d",
   "metadata": {},
   "outputs": [
    {
     "name": "stdout",
     "output_type": "stream",
     "text": [
      " LR: 0.987958 (+/- 0.022741)\n",
      "LDA: 0.989599 (+/- 0.022268)\n",
      "kNN: 0.969720 (+/- 0.035930)\n",
      " DT: 0.899873 (+/- 0.075296)\n",
      " NB: 0.979032 (+/- 0.033058)\n",
      "SVM: 0.960029 (+/- 0.034670)\n",
      " RF: 0.980110 (+/- 0.028827)\n",
      " GB: 0.942800 (+/- 0.051265)\n",
      "XGB: 0.969199 (+/- 0.038694)\n",
      "AdaBoost: 0.896567 (+/- 0.096544)\n",
      "ANN: 0.981320 (+/- 0.029515)\n"
     ]
    }
   ],
   "source": [
    "from sklearn.model_selection import cross_val_score\n",
    "from sklearn.model_selection import RepeatedStratifiedKFold\n",
    "from sklearn.pipeline import Pipeline\n",
    "from sklearn.linear_model import LogisticRegression\n",
    "from sklearn.discriminant_analysis import LinearDiscriminantAnalysis # LDA\n",
    "from sklearn.neighbors import KNeighborsClassifier #KNN\n",
    "from sklearn.naive_bayes import GaussianNB  # Naive Bayes\n",
    "from sklearn.tree import DecisionTreeClassifier # Decision Tree\n",
    "from sklearn.svm import SVC # SVM\n",
    "from sklearn.ensemble import RandomForestClassifier\n",
    "from sklearn.ensemble import GradientBoostingClassifier\n",
    "import xgboost as xgb\n",
    "from sklearn.ensemble import AdaBoostClassifier\n",
    "from sklearn.neural_network import MLPClassifier \n",
    "from sklearn.metrics import f1_score # We choose f1 score because the data are unbalanced and f1 takes the combination of precision and recall\n",
    "\n",
    "\n",
    "\n",
    "models = []\n",
    "models.append(('LR',  LogisticRegression(solver='liblinear')))\n",
    "models.append(('LDA', LinearDiscriminantAnalysis()))\n",
    "models.append(('kNN', KNeighborsClassifier()))\n",
    "models.append(('DT',  DecisionTreeClassifier()))\n",
    "models.append(('NB',  GaussianNB()))\n",
    "models.append(('SVM', SVC(kernel=\"linear\", gamma='auto')))\n",
    "models.append(('RF',  RandomForestClassifier()))\n",
    "models.append(('GB',  GradientBoostingClassifier()))\n",
    "models.append(('XGB', xgb.XGBClassifier()))\n",
    "models.append(('AdaBoost',  AdaBoostClassifier()))\n",
    "models.append(('ANN', MLPClassifier()))\n",
    "\n",
    "\n",
    "cv = RepeatedStratifiedKFold(n_splits=10, n_repeats=5, random_state=1)\n",
    "scoring = \"f1_macro\"\n",
    "\n",
    "results_no_noise={}\n",
    "\n",
    "results = []\n",
    "names   = []\n",
    "for i, model in models:\n",
    "    cv_results = cross_val_score(model, X_scaled, Y, cv=cv, n_jobs=-1, scoring=scoring)\n",
    "    results.append(cv_results)\n",
    "    names.append(i)\n",
    "    print(\"%03s: %f (+/- %f)\" % (i, cv_results.mean(), cv_results.std()))\n",
    "    results_no_noise[i]=cv_results.mean()"
   ]
  },
  {
   "cell_type": "code",
   "execution_count": 21,
   "id": "d5add01c",
   "metadata": {},
   "outputs": [],
   "source": [
    "# Multiple results from cross validation for statistical tests"
   ]
  },
  {
   "cell_type": "code",
   "execution_count": 22,
   "id": "a22391ee",
   "metadata": {},
   "outputs": [],
   "source": [
    "# Create a function that assembles cross validation results  \n",
    "def cv_res (results):  \n",
    "    \n",
    "    a = [5,10,15,20,25,30,35,40,45,50]\n",
    "\n",
    "    x = []\n",
    "\n",
    "    sum = 0\n",
    "\n",
    "    for i , result in enumerate(results):\n",
    "       \n",
    "        sum += result\n",
    "\n",
    "        if i+1 in a: \n",
    "            x.append(sum/5)\n",
    "            sum=0\n",
    "    return x"
   ]
  },
  {
   "cell_type": "code",
   "execution_count": 23,
   "id": "098ec6da",
   "metadata": {},
   "outputs": [
    {
     "data": {
      "text/html": [
       "<div>\n",
       "<style scoped>\n",
       "    .dataframe tbody tr th:only-of-type {\n",
       "        vertical-align: middle;\n",
       "    }\n",
       "\n",
       "    .dataframe tbody tr th {\n",
       "        vertical-align: top;\n",
       "    }\n",
       "\n",
       "    .dataframe thead th {\n",
       "        text-align: right;\n",
       "    }\n",
       "</style>\n",
       "<table border=\"1\" class=\"dataframe\">\n",
       "  <thead>\n",
       "    <tr style=\"text-align: right;\">\n",
       "      <th></th>\n",
       "      <th>LR</th>\n",
       "      <th>LDA</th>\n",
       "      <th>kNN</th>\n",
       "      <th>DT</th>\n",
       "      <th>NB</th>\n",
       "      <th>SVM</th>\n",
       "      <th>RF</th>\n",
       "      <th>GB</th>\n",
       "      <th>XGB</th>\n",
       "      <th>AdaBoost</th>\n",
       "      <th>ANN</th>\n",
       "    </tr>\n",
       "  </thead>\n",
       "  <tbody>\n",
       "    <tr>\n",
       "      <th>0</th>\n",
       "      <td>0.989744</td>\n",
       "      <td>0.988811</td>\n",
       "      <td>0.957265</td>\n",
       "      <td>0.910857</td>\n",
       "      <td>0.989495</td>\n",
       "      <td>0.943662</td>\n",
       "      <td>0.989744</td>\n",
       "      <td>0.956690</td>\n",
       "      <td>0.977622</td>\n",
       "      <td>0.920919</td>\n",
       "      <td>0.965848</td>\n",
       "    </tr>\n",
       "    <tr>\n",
       "      <th>1</th>\n",
       "      <td>0.988811</td>\n",
       "      <td>0.986555</td>\n",
       "      <td>0.978555</td>\n",
       "      <td>0.873907</td>\n",
       "      <td>0.967273</td>\n",
       "      <td>0.975366</td>\n",
       "      <td>0.977622</td>\n",
       "      <td>0.919602</td>\n",
       "      <td>0.966511</td>\n",
       "      <td>0.935545</td>\n",
       "      <td>0.988811</td>\n",
       "    </tr>\n",
       "    <tr>\n",
       "      <th>2</th>\n",
       "      <td>0.988811</td>\n",
       "      <td>0.966703</td>\n",
       "      <td>0.967366</td>\n",
       "      <td>0.822537</td>\n",
       "      <td>0.967801</td>\n",
       "      <td>0.943471</td>\n",
       "      <td>0.977622</td>\n",
       "      <td>0.860221</td>\n",
       "      <td>0.932166</td>\n",
       "      <td>0.876102</td>\n",
       "      <td>0.988811</td>\n",
       "    </tr>\n",
       "    <tr>\n",
       "      <th>3</th>\n",
       "      <td>0.989744</td>\n",
       "      <td>1.000000</td>\n",
       "      <td>0.979239</td>\n",
       "      <td>0.939479</td>\n",
       "      <td>0.988811</td>\n",
       "      <td>0.956198</td>\n",
       "      <td>0.989744</td>\n",
       "      <td>0.966829</td>\n",
       "      <td>0.989744</td>\n",
       "      <td>0.911694</td>\n",
       "      <td>0.988148</td>\n",
       "    </tr>\n",
       "    <tr>\n",
       "      <th>4</th>\n",
       "      <td>0.978555</td>\n",
       "      <td>0.988148</td>\n",
       "      <td>0.957920</td>\n",
       "      <td>0.934195</td>\n",
       "      <td>0.978355</td>\n",
       "      <td>0.955563</td>\n",
       "      <td>0.978555</td>\n",
       "      <td>0.968099</td>\n",
       "      <td>0.978555</td>\n",
       "      <td>0.902627</td>\n",
       "      <td>0.977622</td>\n",
       "    </tr>\n",
       "    <tr>\n",
       "      <th>5</th>\n",
       "      <td>0.988811</td>\n",
       "      <td>0.988811</td>\n",
       "      <td>0.977208</td>\n",
       "      <td>0.919938</td>\n",
       "      <td>0.977008</td>\n",
       "      <td>0.964424</td>\n",
       "      <td>0.978306</td>\n",
       "      <td>0.964893</td>\n",
       "      <td>0.961639</td>\n",
       "      <td>0.874008</td>\n",
       "      <td>0.975613</td>\n",
       "    </tr>\n",
       "    <tr>\n",
       "      <th>6</th>\n",
       "      <td>0.989744</td>\n",
       "      <td>0.988811</td>\n",
       "      <td>0.947541</td>\n",
       "      <td>0.887116</td>\n",
       "      <td>0.988811</td>\n",
       "      <td>0.967366</td>\n",
       "      <td>0.966511</td>\n",
       "      <td>0.936253</td>\n",
       "      <td>0.956495</td>\n",
       "      <td>0.841084</td>\n",
       "      <td>0.988811</td>\n",
       "    </tr>\n",
       "    <tr>\n",
       "      <th>7</th>\n",
       "      <td>0.988148</td>\n",
       "      <td>0.988148</td>\n",
       "      <td>0.988148</td>\n",
       "      <td>0.953990</td>\n",
       "      <td>0.967138</td>\n",
       "      <td>0.962328</td>\n",
       "      <td>0.977643</td>\n",
       "      <td>0.967387</td>\n",
       "      <td>0.976027</td>\n",
       "      <td>0.935207</td>\n",
       "      <td>0.974180</td>\n",
       "    </tr>\n",
       "    <tr>\n",
       "      <th>8</th>\n",
       "      <td>0.989744</td>\n",
       "      <td>1.000000</td>\n",
       "      <td>0.989744</td>\n",
       "      <td>0.892014</td>\n",
       "      <td>0.989495</td>\n",
       "      <td>0.988811</td>\n",
       "      <td>0.989744</td>\n",
       "      <td>0.957437</td>\n",
       "      <td>0.977622</td>\n",
       "      <td>0.855036</td>\n",
       "      <td>0.989744</td>\n",
       "    </tr>\n",
       "    <tr>\n",
       "      <th>9</th>\n",
       "      <td>0.987464</td>\n",
       "      <td>1.000000</td>\n",
       "      <td>0.954216</td>\n",
       "      <td>0.864700</td>\n",
       "      <td>0.976135</td>\n",
       "      <td>0.943105</td>\n",
       "      <td>0.975613</td>\n",
       "      <td>0.930590</td>\n",
       "      <td>0.975613</td>\n",
       "      <td>0.913453</td>\n",
       "      <td>0.975613</td>\n",
       "    </tr>\n",
       "  </tbody>\n",
       "</table>\n",
       "</div>"
      ],
      "text/plain": [
       "         LR       LDA       kNN        DT        NB       SVM        RF  \\\n",
       "0  0.989744  0.988811  0.957265  0.910857  0.989495  0.943662  0.989744   \n",
       "1  0.988811  0.986555  0.978555  0.873907  0.967273  0.975366  0.977622   \n",
       "2  0.988811  0.966703  0.967366  0.822537  0.967801  0.943471  0.977622   \n",
       "3  0.989744  1.000000  0.979239  0.939479  0.988811  0.956198  0.989744   \n",
       "4  0.978555  0.988148  0.957920  0.934195  0.978355  0.955563  0.978555   \n",
       "5  0.988811  0.988811  0.977208  0.919938  0.977008  0.964424  0.978306   \n",
       "6  0.989744  0.988811  0.947541  0.887116  0.988811  0.967366  0.966511   \n",
       "7  0.988148  0.988148  0.988148  0.953990  0.967138  0.962328  0.977643   \n",
       "8  0.989744  1.000000  0.989744  0.892014  0.989495  0.988811  0.989744   \n",
       "9  0.987464  1.000000  0.954216  0.864700  0.976135  0.943105  0.975613   \n",
       "\n",
       "         GB       XGB  AdaBoost       ANN  \n",
       "0  0.956690  0.977622  0.920919  0.965848  \n",
       "1  0.919602  0.966511  0.935545  0.988811  \n",
       "2  0.860221  0.932166  0.876102  0.988811  \n",
       "3  0.966829  0.989744  0.911694  0.988148  \n",
       "4  0.968099  0.978555  0.902627  0.977622  \n",
       "5  0.964893  0.961639  0.874008  0.975613  \n",
       "6  0.936253  0.956495  0.841084  0.988811  \n",
       "7  0.967387  0.976027  0.935207  0.974180  \n",
       "8  0.957437  0.977622  0.855036  0.989744  \n",
       "9  0.930590  0.975613  0.913453  0.975613  "
      ]
     },
     "execution_count": 23,
     "metadata": {},
     "output_type": "execute_result"
    }
   ],
   "source": [
    "m =[]\n",
    "for i in models:\n",
    "    m.append(i[0])\n",
    "\n",
    "f1_results = pd.DataFrame()\n",
    "\n",
    "\n",
    "for i, m in enumerate(m):\n",
    "    f1_results[str(m)] = cv_res(results[i])\n",
    "\n",
    "f1_results    "
   ]
  },
  {
   "cell_type": "code",
   "execution_count": 24,
   "id": "03419ce6",
   "metadata": {},
   "outputs": [
    {
     "data": {
      "text/plain": [
       "0    0.966974\n",
       "1    0.962301\n",
       "2    0.941551\n",
       "3    0.978794\n",
       "4    0.969557\n",
       "5    0.969665\n",
       "6    0.961746\n",
       "7    0.974314\n",
       "8    0.976435\n",
       "9    0.958305\n",
       "dtype: float64"
      ]
     },
     "execution_count": 24,
     "metadata": {},
     "output_type": "execute_result"
    }
   ],
   "source": [
    "f1_results_other_algorithms=f1_results.drop(columns=['AdaBoost']).mean(axis=1)\n",
    "f1_results_other_algorithms"
   ]
  },
  {
   "cell_type": "markdown",
   "id": "2d14925f",
   "metadata": {},
   "source": [
    "## Noise without noisify "
   ]
  },
  {
   "cell_type": "code",
   "execution_count": 25,
   "id": "cec589cc",
   "metadata": {},
   "outputs": [],
   "source": [
    "# Create a function to add noise    \n",
    "def add_noise(X,p):\n",
    "    if p>0:\n",
    "        X_n = pd.DataFrame(X)\n",
    "        a,b = X.shape\n",
    "        c = round(a*p)\n",
    "\n",
    "        for k in range(b):\n",
    "            mean = X_n[k].mean()\n",
    "            sd = X_n[k].std()\n",
    "\n",
    "            for i in range(0,a,int(a/c)):\n",
    "                X_n.iloc[i,k] = np.random.normal(mean,sd)\n",
    "\n",
    "        return X_n.values\n",
    "\n",
    "    else:\n",
    "        return X"
   ]
  },
  {
   "cell_type": "markdown",
   "id": "bbc9ec6b",
   "metadata": {},
   "source": [
    "#### Add noise 5%"
   ]
  },
  {
   "cell_type": "code",
   "execution_count": 26,
   "id": "cca125c6",
   "metadata": {},
   "outputs": [],
   "source": [
    "X2_noise1 = add_noise(X_scaled, p=0.05)"
   ]
  },
  {
   "cell_type": "code",
   "execution_count": 27,
   "id": "9439ec5c",
   "metadata": {},
   "outputs": [
    {
     "name": "stdout",
     "output_type": "stream",
     "text": [
      " LR: 0.954864 (+/- 0.043533)\n",
      "LDA: 0.958124 (+/- 0.043535)\n",
      "kNN: 0.954183 (+/- 0.043661)\n",
      " DT: 0.852735 (+/- 0.087159)\n",
      " NB: 0.958222 (+/- 0.048119)\n",
      "SVM: 0.938013 (+/- 0.049799)\n",
      " RF: 0.961458 (+/- 0.042546)\n",
      " GB: 0.925154 (+/- 0.058782)\n",
      "XGB: 0.948194 (+/- 0.048760)\n",
      "AdaBoost: 0.819641 (+/- 0.125618)\n",
      "ANN: 0.958619 (+/- 0.037881)\n"
     ]
    }
   ],
   "source": [
    "from sklearn.model_selection import cross_val_score\n",
    "from sklearn.model_selection import RepeatedStratifiedKFold\n",
    "from sklearn.pipeline import Pipeline\n",
    "from sklearn.linear_model import LogisticRegression\n",
    "from sklearn.discriminant_analysis import LinearDiscriminantAnalysis # LDA\n",
    "from sklearn.neighbors import KNeighborsClassifier #KNN\n",
    "from sklearn.naive_bayes import GaussianNB  # Naive Bayes\n",
    "from sklearn.tree import DecisionTreeClassifier # Decision Tree\n",
    "from sklearn.svm import SVC # SVM\n",
    "from sklearn.ensemble import RandomForestClassifier\n",
    "from sklearn.ensemble import GradientBoostingClassifier\n",
    "import xgboost as xgb\n",
    "from sklearn.ensemble import AdaBoostClassifier\n",
    "from sklearn.neural_network import MLPClassifier \n",
    "from sklearn.metrics import f1_score # We choose f1 score because the data are unbalanced and f1 takes the combination of precision and recall\n",
    "\n",
    "\n",
    "\n",
    "models = []\n",
    "models.append(('LR',  LogisticRegression(solver='liblinear')))\n",
    "models.append(('LDA', LinearDiscriminantAnalysis()))\n",
    "models.append(('kNN', KNeighborsClassifier()))\n",
    "models.append(('DT',  DecisionTreeClassifier()))\n",
    "models.append(('NB',  GaussianNB()))\n",
    "models.append(('SVM', SVC(kernel=\"linear\", gamma='auto')))\n",
    "models.append(('RF',  RandomForestClassifier()))\n",
    "models.append(('GB',  GradientBoostingClassifier()))\n",
    "models.append(('XGB', xgb.XGBClassifier()))\n",
    "models.append(('AdaBoost',  AdaBoostClassifier()))\n",
    "models.append(('ANN', MLPClassifier()))\n",
    "\n",
    "\n",
    "cv = RepeatedStratifiedKFold(n_splits=10, n_repeats=5, random_state=1)\n",
    "scoring = \"f1_macro\"\n",
    "\n",
    "\n",
    "results_noise2_1={}\n",
    "\n",
    "results = []\n",
    "names   = []\n",
    "for i, model in models:\n",
    "    cv_results = cross_val_score(model, X2_noise1, Y, cv=cv, n_jobs=-1, scoring=scoring)\n",
    "    results.append(cv_results)\n",
    "    names.append(i)\n",
    "    print(\"%03s: %f (+/- %f)\" % (i, cv_results.mean(), cv_results.std()))\n",
    "    results_noise2_1[i]=cv_results.mean()"
   ]
  },
  {
   "cell_type": "code",
   "execution_count": 28,
   "id": "8674d006",
   "metadata": {},
   "outputs": [
    {
     "data": {
      "text/html": [
       "<div>\n",
       "<style scoped>\n",
       "    .dataframe tbody tr th:only-of-type {\n",
       "        vertical-align: middle;\n",
       "    }\n",
       "\n",
       "    .dataframe tbody tr th {\n",
       "        vertical-align: top;\n",
       "    }\n",
       "\n",
       "    .dataframe thead th {\n",
       "        text-align: right;\n",
       "    }\n",
       "</style>\n",
       "<table border=\"1\" class=\"dataframe\">\n",
       "  <thead>\n",
       "    <tr style=\"text-align: right;\">\n",
       "      <th></th>\n",
       "      <th>LR</th>\n",
       "      <th>LDA</th>\n",
       "      <th>kNN</th>\n",
       "      <th>DT</th>\n",
       "      <th>NB</th>\n",
       "      <th>SVM</th>\n",
       "      <th>RF</th>\n",
       "      <th>GB</th>\n",
       "      <th>XGB</th>\n",
       "      <th>AdaBoost</th>\n",
       "      <th>ANN</th>\n",
       "    </tr>\n",
       "  </thead>\n",
       "  <tbody>\n",
       "    <tr>\n",
       "      <th>0</th>\n",
       "      <td>0.976959</td>\n",
       "      <td>0.988811</td>\n",
       "      <td>0.967366</td>\n",
       "      <td>0.885290</td>\n",
       "      <td>0.979239</td>\n",
       "      <td>0.976959</td>\n",
       "      <td>0.968050</td>\n",
       "      <td>0.945750</td>\n",
       "      <td>0.968050</td>\n",
       "      <td>0.922074</td>\n",
       "      <td>0.966703</td>\n",
       "    </tr>\n",
       "    <tr>\n",
       "      <th>1</th>\n",
       "      <td>0.937942</td>\n",
       "      <td>0.923258</td>\n",
       "      <td>0.943178</td>\n",
       "      <td>0.782630</td>\n",
       "      <td>0.931133</td>\n",
       "      <td>0.915699</td>\n",
       "      <td>0.951383</td>\n",
       "      <td>0.877325</td>\n",
       "      <td>0.926939</td>\n",
       "      <td>0.807500</td>\n",
       "      <td>0.936898</td>\n",
       "    </tr>\n",
       "    <tr>\n",
       "      <th>2</th>\n",
       "      <td>0.976410</td>\n",
       "      <td>0.976410</td>\n",
       "      <td>0.955698</td>\n",
       "      <td>0.853234</td>\n",
       "      <td>0.955449</td>\n",
       "      <td>0.955245</td>\n",
       "      <td>0.955074</td>\n",
       "      <td>0.922218</td>\n",
       "      <td>0.943912</td>\n",
       "      <td>0.854250</td>\n",
       "      <td>0.977143</td>\n",
       "    </tr>\n",
       "    <tr>\n",
       "      <th>3</th>\n",
       "      <td>0.936589</td>\n",
       "      <td>0.950293</td>\n",
       "      <td>0.955783</td>\n",
       "      <td>0.839942</td>\n",
       "      <td>0.976959</td>\n",
       "      <td>0.923370</td>\n",
       "      <td>0.966040</td>\n",
       "      <td>0.919401</td>\n",
       "      <td>0.966040</td>\n",
       "      <td>0.800676</td>\n",
       "      <td>0.940798</td>\n",
       "    </tr>\n",
       "    <tr>\n",
       "      <th>4</th>\n",
       "      <td>0.954765</td>\n",
       "      <td>0.953370</td>\n",
       "      <td>0.946252</td>\n",
       "      <td>0.887696</td>\n",
       "      <td>0.957016</td>\n",
       "      <td>0.942230</td>\n",
       "      <td>0.955897</td>\n",
       "      <td>0.934330</td>\n",
       "      <td>0.955897</td>\n",
       "      <td>0.867334</td>\n",
       "      <td>0.965954</td>\n",
       "    </tr>\n",
       "    <tr>\n",
       "      <th>5</th>\n",
       "      <td>0.946474</td>\n",
       "      <td>0.946104</td>\n",
       "      <td>0.953297</td>\n",
       "      <td>0.848571</td>\n",
       "      <td>0.952751</td>\n",
       "      <td>0.908359</td>\n",
       "      <td>0.972586</td>\n",
       "      <td>0.914785</td>\n",
       "      <td>0.951510</td>\n",
       "      <td>0.774086</td>\n",
       "      <td>0.974180</td>\n",
       "    </tr>\n",
       "    <tr>\n",
       "      <th>6</th>\n",
       "      <td>0.942779</td>\n",
       "      <td>0.941269</td>\n",
       "      <td>0.934208</td>\n",
       "      <td>0.833434</td>\n",
       "      <td>0.954659</td>\n",
       "      <td>0.918526</td>\n",
       "      <td>0.966703</td>\n",
       "      <td>0.922287</td>\n",
       "      <td>0.943471</td>\n",
       "      <td>0.679237</td>\n",
       "      <td>0.954582</td>\n",
       "    </tr>\n",
       "    <tr>\n",
       "      <th>7</th>\n",
       "      <td>0.962328</td>\n",
       "      <td>0.975613</td>\n",
       "      <td>0.976296</td>\n",
       "      <td>0.927956</td>\n",
       "      <td>0.955842</td>\n",
       "      <td>0.962328</td>\n",
       "      <td>0.975613</td>\n",
       "      <td>0.953968</td>\n",
       "      <td>0.954045</td>\n",
       "      <td>0.902799</td>\n",
       "      <td>0.962328</td>\n",
       "    </tr>\n",
       "    <tr>\n",
       "      <th>8</th>\n",
       "      <td>0.949788</td>\n",
       "      <td>0.949836</td>\n",
       "      <td>0.966040</td>\n",
       "      <td>0.816829</td>\n",
       "      <td>0.966040</td>\n",
       "      <td>0.949104</td>\n",
       "      <td>0.939531</td>\n",
       "      <td>0.919324</td>\n",
       "      <td>0.942046</td>\n",
       "      <td>0.736779</td>\n",
       "      <td>0.942999</td>\n",
       "    </tr>\n",
       "    <tr>\n",
       "      <th>9</th>\n",
       "      <td>0.964607</td>\n",
       "      <td>0.976276</td>\n",
       "      <td>0.943711</td>\n",
       "      <td>0.851770</td>\n",
       "      <td>0.953127</td>\n",
       "      <td>0.928311</td>\n",
       "      <td>0.963704</td>\n",
       "      <td>0.942151</td>\n",
       "      <td>0.930030</td>\n",
       "      <td>0.851674</td>\n",
       "      <td>0.964607</td>\n",
       "    </tr>\n",
       "  </tbody>\n",
       "</table>\n",
       "</div>"
      ],
      "text/plain": [
       "         LR       LDA       kNN        DT        NB       SVM        RF  \\\n",
       "0  0.976959  0.988811  0.967366  0.885290  0.979239  0.976959  0.968050   \n",
       "1  0.937942  0.923258  0.943178  0.782630  0.931133  0.915699  0.951383   \n",
       "2  0.976410  0.976410  0.955698  0.853234  0.955449  0.955245  0.955074   \n",
       "3  0.936589  0.950293  0.955783  0.839942  0.976959  0.923370  0.966040   \n",
       "4  0.954765  0.953370  0.946252  0.887696  0.957016  0.942230  0.955897   \n",
       "5  0.946474  0.946104  0.953297  0.848571  0.952751  0.908359  0.972586   \n",
       "6  0.942779  0.941269  0.934208  0.833434  0.954659  0.918526  0.966703   \n",
       "7  0.962328  0.975613  0.976296  0.927956  0.955842  0.962328  0.975613   \n",
       "8  0.949788  0.949836  0.966040  0.816829  0.966040  0.949104  0.939531   \n",
       "9  0.964607  0.976276  0.943711  0.851770  0.953127  0.928311  0.963704   \n",
       "\n",
       "         GB       XGB  AdaBoost       ANN  \n",
       "0  0.945750  0.968050  0.922074  0.966703  \n",
       "1  0.877325  0.926939  0.807500  0.936898  \n",
       "2  0.922218  0.943912  0.854250  0.977143  \n",
       "3  0.919401  0.966040  0.800676  0.940798  \n",
       "4  0.934330  0.955897  0.867334  0.965954  \n",
       "5  0.914785  0.951510  0.774086  0.974180  \n",
       "6  0.922287  0.943471  0.679237  0.954582  \n",
       "7  0.953968  0.954045  0.902799  0.962328  \n",
       "8  0.919324  0.942046  0.736779  0.942999  \n",
       "9  0.942151  0.930030  0.851674  0.964607  "
      ]
     },
     "execution_count": 28,
     "metadata": {},
     "output_type": "execute_result"
    }
   ],
   "source": [
    "m =[]\n",
    "for i in models:\n",
    "    m.append(i[0])\n",
    "\n",
    "f1_results_noise_1 = pd.DataFrame()\n",
    "\n",
    "\n",
    "for i, m in enumerate(m):\n",
    "    f1_results_noise_1[str(m)] = cv_res(results[i])\n",
    "\n",
    "f1_results_noise_1"
   ]
  },
  {
   "cell_type": "code",
   "execution_count": 29,
   "id": "2598df56",
   "metadata": {},
   "outputs": [
    {
     "data": {
      "text/plain": [
       "0    0.962318\n",
       "1    0.912638\n",
       "2    0.947079\n",
       "3    0.937521\n",
       "4    0.945341\n",
       "5    0.936862\n",
       "6    0.931192\n",
       "7    0.960632\n",
       "8    0.934154\n",
       "9    0.941829\n",
       "dtype: float64"
      ]
     },
     "execution_count": 29,
     "metadata": {},
     "output_type": "execute_result"
    }
   ],
   "source": [
    "f1_results_noise_1_other_algorithms=f1_results_noise_1.drop(columns=['AdaBoost']).mean(axis=1)\n",
    "f1_results_noise_1_other_algorithms"
   ]
  },
  {
   "cell_type": "markdown",
   "id": "12798b68",
   "metadata": {},
   "source": [
    "#### Add noise 10%"
   ]
  },
  {
   "cell_type": "code",
   "execution_count": 30,
   "id": "06c9a173",
   "metadata": {},
   "outputs": [],
   "source": [
    "X2_noise2 = add_noise(X_scaled,p=.1)"
   ]
  },
  {
   "cell_type": "code",
   "execution_count": 31,
   "id": "4f243b40",
   "metadata": {},
   "outputs": [
    {
     "name": "stdout",
     "output_type": "stream",
     "text": [
      " LR: 0.899993 (+/- 0.070838)\n",
      "LDA: 0.896981 (+/- 0.077027)\n",
      "kNN: 0.874191 (+/- 0.069436)\n",
      " DT: 0.779844 (+/- 0.107843)\n",
      " NB: 0.871113 (+/- 0.084922)\n",
      "SVM: 0.879139 (+/- 0.080494)\n",
      " RF: 0.896076 (+/- 0.079908)\n",
      " GB: 0.873690 (+/- 0.082518)\n",
      "XGB: 0.868593 (+/- 0.081835)\n",
      "AdaBoost: 0.813808 (+/- 0.105769)\n",
      "ANN: 0.888692 (+/- 0.069501)\n"
     ]
    }
   ],
   "source": [
    "from sklearn.model_selection import cross_val_score\n",
    "from sklearn.model_selection import RepeatedStratifiedKFold\n",
    "from sklearn.pipeline import Pipeline\n",
    "from sklearn.linear_model import LogisticRegression\n",
    "from sklearn.discriminant_analysis import LinearDiscriminantAnalysis # LDA\n",
    "from sklearn.neighbors import KNeighborsClassifier #KNN\n",
    "from sklearn.naive_bayes import GaussianNB  # Naive Bayes\n",
    "from sklearn.tree import DecisionTreeClassifier # Decision Tree\n",
    "from sklearn.svm import SVC # SVM\n",
    "from sklearn.ensemble import RandomForestClassifier\n",
    "from sklearn.ensemble import GradientBoostingClassifier\n",
    "import xgboost as xgb\n",
    "from sklearn.ensemble import AdaBoostClassifier\n",
    "from sklearn.neural_network import MLPClassifier \n",
    "from sklearn.metrics import f1_score # We choose f1 score because the data are unbalanced and f1 takes the combination of precision and recall\n",
    "\n",
    "\n",
    "\n",
    "models = []\n",
    "models.append(('LR',  LogisticRegression(solver='liblinear')))\n",
    "models.append(('LDA', LinearDiscriminantAnalysis()))\n",
    "models.append(('kNN', KNeighborsClassifier()))\n",
    "models.append(('DT',  DecisionTreeClassifier()))\n",
    "models.append(('NB',  GaussianNB()))\n",
    "models.append(('SVM', SVC(kernel=\"linear\", gamma='auto')))\n",
    "models.append(('RF',  RandomForestClassifier()))\n",
    "models.append(('GB',  GradientBoostingClassifier()))\n",
    "models.append(('XGB', xgb.XGBClassifier()))\n",
    "models.append(('AdaBoost',  AdaBoostClassifier()))\n",
    "models.append(('ANN', MLPClassifier()))\n",
    "\n",
    "\n",
    "cv = RepeatedStratifiedKFold(n_splits=10, n_repeats=5, random_state=1)\n",
    "scoring = \"f1_macro\"\n",
    "\n",
    "\n",
    "results_noise2_2={}\n",
    "\n",
    "results = []\n",
    "names   = []\n",
    "for i, model in models:\n",
    "    cv_results = cross_val_score(model, X2_noise2, Y, cv=cv, n_jobs=-1, scoring=scoring)\n",
    "    results.append(cv_results)\n",
    "    names.append(i)\n",
    "    print(\"%03s: %f (+/- %f)\" % (i, cv_results.mean(), cv_results.std()))\n",
    "    results_noise2_2[i]=cv_results.mean()"
   ]
  },
  {
   "cell_type": "code",
   "execution_count": 32,
   "id": "556330b3",
   "metadata": {},
   "outputs": [
    {
     "data": {
      "text/html": [
       "<div>\n",
       "<style scoped>\n",
       "    .dataframe tbody tr th:only-of-type {\n",
       "        vertical-align: middle;\n",
       "    }\n",
       "\n",
       "    .dataframe tbody tr th {\n",
       "        vertical-align: top;\n",
       "    }\n",
       "\n",
       "    .dataframe thead th {\n",
       "        text-align: right;\n",
       "    }\n",
       "</style>\n",
       "<table border=\"1\" class=\"dataframe\">\n",
       "  <thead>\n",
       "    <tr style=\"text-align: right;\">\n",
       "      <th></th>\n",
       "      <th>LR</th>\n",
       "      <th>LDA</th>\n",
       "      <th>kNN</th>\n",
       "      <th>DT</th>\n",
       "      <th>NB</th>\n",
       "      <th>SVM</th>\n",
       "      <th>RF</th>\n",
       "      <th>GB</th>\n",
       "      <th>XGB</th>\n",
       "      <th>AdaBoost</th>\n",
       "      <th>ANN</th>\n",
       "    </tr>\n",
       "  </thead>\n",
       "  <tbody>\n",
       "    <tr>\n",
       "      <th>0</th>\n",
       "      <td>0.921732</td>\n",
       "      <td>0.932082</td>\n",
       "      <td>0.897199</td>\n",
       "      <td>0.829456</td>\n",
       "      <td>0.924203</td>\n",
       "      <td>0.897844</td>\n",
       "      <td>0.924866</td>\n",
       "      <td>0.904130</td>\n",
       "      <td>0.890383</td>\n",
       "      <td>0.865778</td>\n",
       "      <td>0.909816</td>\n",
       "    </tr>\n",
       "    <tr>\n",
       "      <th>1</th>\n",
       "      <td>0.878572</td>\n",
       "      <td>0.843865</td>\n",
       "      <td>0.826885</td>\n",
       "      <td>0.719030</td>\n",
       "      <td>0.816071</td>\n",
       "      <td>0.856253</td>\n",
       "      <td>0.877932</td>\n",
       "      <td>0.836121</td>\n",
       "      <td>0.819977</td>\n",
       "      <td>0.803793</td>\n",
       "      <td>0.849526</td>\n",
       "    </tr>\n",
       "    <tr>\n",
       "      <th>2</th>\n",
       "      <td>0.873257</td>\n",
       "      <td>0.876194</td>\n",
       "      <td>0.878075</td>\n",
       "      <td>0.764081</td>\n",
       "      <td>0.869413</td>\n",
       "      <td>0.838989</td>\n",
       "      <td>0.889376</td>\n",
       "      <td>0.832770</td>\n",
       "      <td>0.853899</td>\n",
       "      <td>0.769763</td>\n",
       "      <td>0.878034</td>\n",
       "    </tr>\n",
       "    <tr>\n",
       "      <th>3</th>\n",
       "      <td>0.916703</td>\n",
       "      <td>0.901875</td>\n",
       "      <td>0.869200</td>\n",
       "      <td>0.777968</td>\n",
       "      <td>0.895870</td>\n",
       "      <td>0.927835</td>\n",
       "      <td>0.906766</td>\n",
       "      <td>0.876672</td>\n",
       "      <td>0.886624</td>\n",
       "      <td>0.867933</td>\n",
       "      <td>0.899916</td>\n",
       "    </tr>\n",
       "    <tr>\n",
       "      <th>4</th>\n",
       "      <td>0.912743</td>\n",
       "      <td>0.909635</td>\n",
       "      <td>0.891571</td>\n",
       "      <td>0.812615</td>\n",
       "      <td>0.881380</td>\n",
       "      <td>0.897224</td>\n",
       "      <td>0.913447</td>\n",
       "      <td>0.887720</td>\n",
       "      <td>0.888730</td>\n",
       "      <td>0.825031</td>\n",
       "      <td>0.910878</td>\n",
       "    </tr>\n",
       "    <tr>\n",
       "      <th>5</th>\n",
       "      <td>0.879346</td>\n",
       "      <td>0.898516</td>\n",
       "      <td>0.833147</td>\n",
       "      <td>0.787467</td>\n",
       "      <td>0.846323</td>\n",
       "      <td>0.846609</td>\n",
       "      <td>0.900111</td>\n",
       "      <td>0.890821</td>\n",
       "      <td>0.891041</td>\n",
       "      <td>0.769550</td>\n",
       "      <td>0.851660</td>\n",
       "    </tr>\n",
       "    <tr>\n",
       "      <th>6</th>\n",
       "      <td>0.862394</td>\n",
       "      <td>0.886569</td>\n",
       "      <td>0.864821</td>\n",
       "      <td>0.808024</td>\n",
       "      <td>0.845040</td>\n",
       "      <td>0.875326</td>\n",
       "      <td>0.877250</td>\n",
       "      <td>0.878276</td>\n",
       "      <td>0.888361</td>\n",
       "      <td>0.812274</td>\n",
       "      <td>0.887015</td>\n",
       "    </tr>\n",
       "    <tr>\n",
       "      <th>7</th>\n",
       "      <td>0.928761</td>\n",
       "      <td>0.904454</td>\n",
       "      <td>0.918355</td>\n",
       "      <td>0.849148</td>\n",
       "      <td>0.887944</td>\n",
       "      <td>0.905887</td>\n",
       "      <td>0.895579</td>\n",
       "      <td>0.869673</td>\n",
       "      <td>0.847802</td>\n",
       "      <td>0.823620</td>\n",
       "      <td>0.903119</td>\n",
       "    </tr>\n",
       "    <tr>\n",
       "      <th>8</th>\n",
       "      <td>0.917202</td>\n",
       "      <td>0.907252</td>\n",
       "      <td>0.886996</td>\n",
       "      <td>0.715487</td>\n",
       "      <td>0.855862</td>\n",
       "      <td>0.861252</td>\n",
       "      <td>0.875455</td>\n",
       "      <td>0.884473</td>\n",
       "      <td>0.864051</td>\n",
       "      <td>0.789922</td>\n",
       "      <td>0.885868</td>\n",
       "    </tr>\n",
       "    <tr>\n",
       "      <th>9</th>\n",
       "      <td>0.909225</td>\n",
       "      <td>0.909368</td>\n",
       "      <td>0.875661</td>\n",
       "      <td>0.735166</td>\n",
       "      <td>0.889027</td>\n",
       "      <td>0.884174</td>\n",
       "      <td>0.899979</td>\n",
       "      <td>0.876246</td>\n",
       "      <td>0.855060</td>\n",
       "      <td>0.810412</td>\n",
       "      <td>0.911090</td>\n",
       "    </tr>\n",
       "  </tbody>\n",
       "</table>\n",
       "</div>"
      ],
      "text/plain": [
       "         LR       LDA       kNN        DT        NB       SVM        RF  \\\n",
       "0  0.921732  0.932082  0.897199  0.829456  0.924203  0.897844  0.924866   \n",
       "1  0.878572  0.843865  0.826885  0.719030  0.816071  0.856253  0.877932   \n",
       "2  0.873257  0.876194  0.878075  0.764081  0.869413  0.838989  0.889376   \n",
       "3  0.916703  0.901875  0.869200  0.777968  0.895870  0.927835  0.906766   \n",
       "4  0.912743  0.909635  0.891571  0.812615  0.881380  0.897224  0.913447   \n",
       "5  0.879346  0.898516  0.833147  0.787467  0.846323  0.846609  0.900111   \n",
       "6  0.862394  0.886569  0.864821  0.808024  0.845040  0.875326  0.877250   \n",
       "7  0.928761  0.904454  0.918355  0.849148  0.887944  0.905887  0.895579   \n",
       "8  0.917202  0.907252  0.886996  0.715487  0.855862  0.861252  0.875455   \n",
       "9  0.909225  0.909368  0.875661  0.735166  0.889027  0.884174  0.899979   \n",
       "\n",
       "         GB       XGB  AdaBoost       ANN  \n",
       "0  0.904130  0.890383  0.865778  0.909816  \n",
       "1  0.836121  0.819977  0.803793  0.849526  \n",
       "2  0.832770  0.853899  0.769763  0.878034  \n",
       "3  0.876672  0.886624  0.867933  0.899916  \n",
       "4  0.887720  0.888730  0.825031  0.910878  \n",
       "5  0.890821  0.891041  0.769550  0.851660  \n",
       "6  0.878276  0.888361  0.812274  0.887015  \n",
       "7  0.869673  0.847802  0.823620  0.903119  \n",
       "8  0.884473  0.864051  0.789922  0.885868  \n",
       "9  0.876246  0.855060  0.810412  0.911090  "
      ]
     },
     "execution_count": 32,
     "metadata": {},
     "output_type": "execute_result"
    }
   ],
   "source": [
    "m =[]\n",
    "for i in models:\n",
    "    m.append(i[0])\n",
    "\n",
    "f1_results_noise_2 = pd.DataFrame()\n",
    "\n",
    "\n",
    "for i, m in enumerate(m):\n",
    "    f1_results_noise_2[str(m)] = cv_res(results[i])\n",
    "\n",
    "f1_results_noise_2"
   ]
  },
  {
   "cell_type": "code",
   "execution_count": 33,
   "id": "69c70915",
   "metadata": {},
   "outputs": [
    {
     "data": {
      "text/plain": [
       "0    0.903171\n",
       "1    0.832423\n",
       "2    0.855409\n",
       "3    0.885943\n",
       "4    0.890594\n",
       "5    0.862504\n",
       "6    0.867308\n",
       "7    0.891072\n",
       "8    0.865390\n",
       "9    0.874500\n",
       "dtype: float64"
      ]
     },
     "execution_count": 33,
     "metadata": {},
     "output_type": "execute_result"
    }
   ],
   "source": [
    "f1_results_noise_2_other_algorithms=f1_results_noise_2.drop(columns=['AdaBoost']).mean(axis=1)\n",
    "f1_results_noise_2_other_algorithms"
   ]
  },
  {
   "cell_type": "markdown",
   "id": "cb9105b3",
   "metadata": {},
   "source": [
    "#### Add noise 15%"
   ]
  },
  {
   "cell_type": "code",
   "execution_count": 34,
   "id": "500a1560",
   "metadata": {},
   "outputs": [],
   "source": [
    "X2_noise3 = add_noise(X_scaled,p=.15)"
   ]
  },
  {
   "cell_type": "code",
   "execution_count": 35,
   "id": "04e1fc9a",
   "metadata": {},
   "outputs": [
    {
     "name": "stdout",
     "output_type": "stream",
     "text": [
      " LR: 0.790492 (+/- 0.069202)\n",
      "LDA: 0.801908 (+/- 0.068228)\n",
      "kNN: 0.832540 (+/- 0.063741)\n",
      " DT: 0.738281 (+/- 0.102883)\n",
      " NB: 0.803339 (+/- 0.080625)\n",
      "SVM: 0.808213 (+/- 0.080039)\n",
      " RF: 0.816000 (+/- 0.085124)\n",
      " GB: 0.807213 (+/- 0.085027)\n",
      "XGB: 0.805888 (+/- 0.086074)\n",
      "AdaBoost: 0.760231 (+/- 0.096640)\n",
      "ANN: 0.792796 (+/- 0.072202)\n"
     ]
    }
   ],
   "source": [
    "from sklearn.model_selection import cross_val_score\n",
    "from sklearn.model_selection import RepeatedStratifiedKFold\n",
    "from sklearn.pipeline import Pipeline\n",
    "from sklearn.linear_model import LogisticRegression\n",
    "from sklearn.discriminant_analysis import LinearDiscriminantAnalysis # LDA\n",
    "from sklearn.neighbors import KNeighborsClassifier #KNN\n",
    "from sklearn.naive_bayes import GaussianNB  # Naive Bayes\n",
    "from sklearn.tree import DecisionTreeClassifier # Decision Tree\n",
    "from sklearn.svm import SVC # SVM\n",
    "from sklearn.ensemble import RandomForestClassifier\n",
    "from sklearn.ensemble import GradientBoostingClassifier\n",
    "import xgboost as xgb\n",
    "from sklearn.ensemble import AdaBoostClassifier\n",
    "from sklearn.neural_network import MLPClassifier \n",
    "from sklearn.metrics import f1_score # We choose f1 score because the data are unbalanced and f1 takes the combination of precision and recall\n",
    "\n",
    "\n",
    "\n",
    "models = []\n",
    "models.append(('LR',  LogisticRegression(solver='liblinear')))\n",
    "models.append(('LDA', LinearDiscriminantAnalysis()))\n",
    "models.append(('kNN', KNeighborsClassifier()))\n",
    "models.append(('DT',  DecisionTreeClassifier()))\n",
    "models.append(('NB',  GaussianNB()))\n",
    "models.append(('SVM', SVC(kernel=\"linear\", gamma='auto')))\n",
    "models.append(('RF',  RandomForestClassifier()))\n",
    "models.append(('GB',  GradientBoostingClassifier()))\n",
    "models.append(('XGB', xgb.XGBClassifier()))\n",
    "models.append(('AdaBoost',  AdaBoostClassifier()))\n",
    "models.append(('ANN', MLPClassifier()))\n",
    "\n",
    "\n",
    "cv = RepeatedStratifiedKFold(n_splits=10, n_repeats=5, random_state=1)\n",
    "scoring = \"f1_macro\"\n",
    "\n",
    "\n",
    "results_noise2_3={}\n",
    "\n",
    "results = []\n",
    "names   = []\n",
    "for i, model in models:\n",
    "    cv_results = cross_val_score(model, X2_noise3, Y, cv=cv, n_jobs=-1, scoring=scoring)\n",
    "    results.append(cv_results)\n",
    "    names.append(i)\n",
    "    print(\"%03s: %f (+/- %f)\" % (i, cv_results.mean(), cv_results.std()))\n",
    "    results_noise2_3[i]=cv_results.mean()"
   ]
  },
  {
   "cell_type": "code",
   "execution_count": 36,
   "id": "bb188083",
   "metadata": {},
   "outputs": [
    {
     "data": {
      "text/html": [
       "<div>\n",
       "<style scoped>\n",
       "    .dataframe tbody tr th:only-of-type {\n",
       "        vertical-align: middle;\n",
       "    }\n",
       "\n",
       "    .dataframe tbody tr th {\n",
       "        vertical-align: top;\n",
       "    }\n",
       "\n",
       "    .dataframe thead th {\n",
       "        text-align: right;\n",
       "    }\n",
       "</style>\n",
       "<table border=\"1\" class=\"dataframe\">\n",
       "  <thead>\n",
       "    <tr style=\"text-align: right;\">\n",
       "      <th></th>\n",
       "      <th>LR</th>\n",
       "      <th>LDA</th>\n",
       "      <th>kNN</th>\n",
       "      <th>DT</th>\n",
       "      <th>NB</th>\n",
       "      <th>SVM</th>\n",
       "      <th>RF</th>\n",
       "      <th>GB</th>\n",
       "      <th>XGB</th>\n",
       "      <th>AdaBoost</th>\n",
       "      <th>ANN</th>\n",
       "    </tr>\n",
       "  </thead>\n",
       "  <tbody>\n",
       "    <tr>\n",
       "      <th>0</th>\n",
       "      <td>0.822167</td>\n",
       "      <td>0.846739</td>\n",
       "      <td>0.846943</td>\n",
       "      <td>0.821234</td>\n",
       "      <td>0.869955</td>\n",
       "      <td>0.865498</td>\n",
       "      <td>0.867652</td>\n",
       "      <td>0.878292</td>\n",
       "      <td>0.880004</td>\n",
       "      <td>0.788550</td>\n",
       "      <td>0.829826</td>\n",
       "    </tr>\n",
       "    <tr>\n",
       "      <th>1</th>\n",
       "      <td>0.798851</td>\n",
       "      <td>0.797996</td>\n",
       "      <td>0.798261</td>\n",
       "      <td>0.754514</td>\n",
       "      <td>0.747568</td>\n",
       "      <td>0.810515</td>\n",
       "      <td>0.744459</td>\n",
       "      <td>0.738895</td>\n",
       "      <td>0.765035</td>\n",
       "      <td>0.744642</td>\n",
       "      <td>0.756493</td>\n",
       "    </tr>\n",
       "    <tr>\n",
       "      <th>2</th>\n",
       "      <td>0.787584</td>\n",
       "      <td>0.808343</td>\n",
       "      <td>0.847737</td>\n",
       "      <td>0.747242</td>\n",
       "      <td>0.794065</td>\n",
       "      <td>0.787334</td>\n",
       "      <td>0.820138</td>\n",
       "      <td>0.807848</td>\n",
       "      <td>0.808793</td>\n",
       "      <td>0.742909</td>\n",
       "      <td>0.789043</td>\n",
       "    </tr>\n",
       "    <tr>\n",
       "      <th>3</th>\n",
       "      <td>0.799317</td>\n",
       "      <td>0.813906</td>\n",
       "      <td>0.822303</td>\n",
       "      <td>0.719310</td>\n",
       "      <td>0.817377</td>\n",
       "      <td>0.808637</td>\n",
       "      <td>0.798211</td>\n",
       "      <td>0.836645</td>\n",
       "      <td>0.810370</td>\n",
       "      <td>0.771173</td>\n",
       "      <td>0.807557</td>\n",
       "    </tr>\n",
       "    <tr>\n",
       "      <th>4</th>\n",
       "      <td>0.793417</td>\n",
       "      <td>0.819716</td>\n",
       "      <td>0.847254</td>\n",
       "      <td>0.708202</td>\n",
       "      <td>0.794825</td>\n",
       "      <td>0.840444</td>\n",
       "      <td>0.838183</td>\n",
       "      <td>0.839971</td>\n",
       "      <td>0.792420</td>\n",
       "      <td>0.800372</td>\n",
       "      <td>0.807921</td>\n",
       "    </tr>\n",
       "    <tr>\n",
       "      <th>5</th>\n",
       "      <td>0.761472</td>\n",
       "      <td>0.751854</td>\n",
       "      <td>0.804086</td>\n",
       "      <td>0.687203</td>\n",
       "      <td>0.797557</td>\n",
       "      <td>0.729496</td>\n",
       "      <td>0.807003</td>\n",
       "      <td>0.773711</td>\n",
       "      <td>0.811231</td>\n",
       "      <td>0.690165</td>\n",
       "      <td>0.750531</td>\n",
       "    </tr>\n",
       "    <tr>\n",
       "      <th>6</th>\n",
       "      <td>0.710872</td>\n",
       "      <td>0.753424</td>\n",
       "      <td>0.798913</td>\n",
       "      <td>0.650678</td>\n",
       "      <td>0.735467</td>\n",
       "      <td>0.754685</td>\n",
       "      <td>0.770657</td>\n",
       "      <td>0.743894</td>\n",
       "      <td>0.729341</td>\n",
       "      <td>0.689702</td>\n",
       "      <td>0.753381</td>\n",
       "    </tr>\n",
       "    <tr>\n",
       "      <th>7</th>\n",
       "      <td>0.854316</td>\n",
       "      <td>0.854518</td>\n",
       "      <td>0.886836</td>\n",
       "      <td>0.806145</td>\n",
       "      <td>0.879239</td>\n",
       "      <td>0.867459</td>\n",
       "      <td>0.870392</td>\n",
       "      <td>0.881781</td>\n",
       "      <td>0.882865</td>\n",
       "      <td>0.814323</td>\n",
       "      <td>0.840396</td>\n",
       "    </tr>\n",
       "    <tr>\n",
       "      <th>8</th>\n",
       "      <td>0.804986</td>\n",
       "      <td>0.809468</td>\n",
       "      <td>0.827689</td>\n",
       "      <td>0.737676</td>\n",
       "      <td>0.778612</td>\n",
       "      <td>0.808736</td>\n",
       "      <td>0.791715</td>\n",
       "      <td>0.776154</td>\n",
       "      <td>0.770787</td>\n",
       "      <td>0.740651</td>\n",
       "      <td>0.817092</td>\n",
       "    </tr>\n",
       "    <tr>\n",
       "      <th>9</th>\n",
       "      <td>0.771938</td>\n",
       "      <td>0.763114</td>\n",
       "      <td>0.845380</td>\n",
       "      <td>0.750610</td>\n",
       "      <td>0.818728</td>\n",
       "      <td>0.809325</td>\n",
       "      <td>0.851592</td>\n",
       "      <td>0.794935</td>\n",
       "      <td>0.808036</td>\n",
       "      <td>0.819822</td>\n",
       "      <td>0.775717</td>\n",
       "    </tr>\n",
       "  </tbody>\n",
       "</table>\n",
       "</div>"
      ],
      "text/plain": [
       "         LR       LDA       kNN        DT        NB       SVM        RF  \\\n",
       "0  0.822167  0.846739  0.846943  0.821234  0.869955  0.865498  0.867652   \n",
       "1  0.798851  0.797996  0.798261  0.754514  0.747568  0.810515  0.744459   \n",
       "2  0.787584  0.808343  0.847737  0.747242  0.794065  0.787334  0.820138   \n",
       "3  0.799317  0.813906  0.822303  0.719310  0.817377  0.808637  0.798211   \n",
       "4  0.793417  0.819716  0.847254  0.708202  0.794825  0.840444  0.838183   \n",
       "5  0.761472  0.751854  0.804086  0.687203  0.797557  0.729496  0.807003   \n",
       "6  0.710872  0.753424  0.798913  0.650678  0.735467  0.754685  0.770657   \n",
       "7  0.854316  0.854518  0.886836  0.806145  0.879239  0.867459  0.870392   \n",
       "8  0.804986  0.809468  0.827689  0.737676  0.778612  0.808736  0.791715   \n",
       "9  0.771938  0.763114  0.845380  0.750610  0.818728  0.809325  0.851592   \n",
       "\n",
       "         GB       XGB  AdaBoost       ANN  \n",
       "0  0.878292  0.880004  0.788550  0.829826  \n",
       "1  0.738895  0.765035  0.744642  0.756493  \n",
       "2  0.807848  0.808793  0.742909  0.789043  \n",
       "3  0.836645  0.810370  0.771173  0.807557  \n",
       "4  0.839971  0.792420  0.800372  0.807921  \n",
       "5  0.773711  0.811231  0.690165  0.750531  \n",
       "6  0.743894  0.729341  0.689702  0.753381  \n",
       "7  0.881781  0.882865  0.814323  0.840396  \n",
       "8  0.776154  0.770787  0.740651  0.817092  \n",
       "9  0.794935  0.808036  0.819822  0.775717  "
      ]
     },
     "execution_count": 36,
     "metadata": {},
     "output_type": "execute_result"
    }
   ],
   "source": [
    "m =[]\n",
    "for i in models:\n",
    "    m.append(i[0])\n",
    "\n",
    "f1_results_noise_3 = pd.DataFrame()\n",
    "\n",
    "\n",
    "for i, m in enumerate(m):\n",
    "    f1_results_noise_3[str(m)] = cv_res(results[i])\n",
    "\n",
    "f1_results_noise_3"
   ]
  },
  {
   "cell_type": "code",
   "execution_count": 37,
   "id": "ce2015bf",
   "metadata": {},
   "outputs": [
    {
     "data": {
      "text/plain": [
       "0    0.852831\n",
       "1    0.771259\n",
       "2    0.799813\n",
       "3    0.803363\n",
       "4    0.808235\n",
       "5    0.767414\n",
       "6    0.740131\n",
       "7    0.862395\n",
       "8    0.792292\n",
       "9    0.798938\n",
       "dtype: float64"
      ]
     },
     "execution_count": 37,
     "metadata": {},
     "output_type": "execute_result"
    }
   ],
   "source": [
    "f1_results_noise_3_other_algorithms=f1_results_noise_3.drop(columns=['AdaBoost']).mean(axis=1)\n",
    "f1_results_noise_3_other_algorithms"
   ]
  },
  {
   "cell_type": "markdown",
   "id": "21248abb",
   "metadata": {},
   "source": [
    "#### Add noise 20%"
   ]
  },
  {
   "cell_type": "code",
   "execution_count": 38,
   "id": "3ac164dd",
   "metadata": {},
   "outputs": [],
   "source": [
    "X2_noise4 = add_noise(X_scaled,p=.2)"
   ]
  },
  {
   "cell_type": "code",
   "execution_count": 39,
   "id": "70f627c6",
   "metadata": {},
   "outputs": [
    {
     "name": "stdout",
     "output_type": "stream",
     "text": [
      " LR: 0.711373 (+/- 0.096474)\n",
      "LDA: 0.709163 (+/- 0.104023)\n",
      "kNN: 0.716257 (+/- 0.098409)\n",
      " DT: 0.677760 (+/- 0.137440)\n",
      " NB: 0.664473 (+/- 0.099267)\n",
      "SVM: 0.712275 (+/- 0.105799)\n",
      " RF: 0.709441 (+/- 0.090608)\n",
      " GB: 0.681322 (+/- 0.103381)\n",
      "XGB: 0.684050 (+/- 0.110017)\n",
      "AdaBoost: 0.626505 (+/- 0.116566)\n",
      "ANN: 0.692680 (+/- 0.094565)\n"
     ]
    }
   ],
   "source": [
    "from sklearn.model_selection import cross_val_score\n",
    "from sklearn.model_selection import RepeatedStratifiedKFold\n",
    "from sklearn.pipeline import Pipeline\n",
    "from sklearn.linear_model import LogisticRegression\n",
    "from sklearn.discriminant_analysis import LinearDiscriminantAnalysis # LDA\n",
    "from sklearn.neighbors import KNeighborsClassifier #KNN\n",
    "from sklearn.naive_bayes import GaussianNB  # Naive Bayes\n",
    "from sklearn.tree import DecisionTreeClassifier # Decision Tree\n",
    "from sklearn.svm import SVC # SVM\n",
    "from sklearn.ensemble import RandomForestClassifier\n",
    "from sklearn.ensemble import GradientBoostingClassifier\n",
    "import xgboost as xgb\n",
    "from sklearn.ensemble import AdaBoostClassifier\n",
    "from sklearn.neural_network import MLPClassifier \n",
    "from sklearn.metrics import f1_score # We choose f1 score because the data are unbalanced and f1 takes the combination of precision and recall\n",
    "\n",
    "\n",
    "\n",
    "models = []\n",
    "models.append(('LR',  LogisticRegression(solver='liblinear')))\n",
    "models.append(('LDA', LinearDiscriminantAnalysis()))\n",
    "models.append(('kNN', KNeighborsClassifier()))\n",
    "models.append(('DT',  DecisionTreeClassifier()))\n",
    "models.append(('NB',  GaussianNB()))\n",
    "models.append(('SVM', SVC(kernel=\"linear\", gamma='auto')))\n",
    "models.append(('RF',  RandomForestClassifier()))\n",
    "models.append(('GB',  GradientBoostingClassifier()))\n",
    "models.append(('XGB', xgb.XGBClassifier()))\n",
    "models.append(('AdaBoost',  AdaBoostClassifier()))\n",
    "models.append(('ANN', MLPClassifier()))\n",
    "\n",
    "\n",
    "cv = RepeatedStratifiedKFold(n_splits=10, n_repeats=5, random_state=1)\n",
    "scoring = \"f1_macro\"\n",
    "\n",
    "\n",
    "results_noise2_4={}\n",
    "\n",
    "results = []\n",
    "names   = []\n",
    "for i, model in models:\n",
    "    cv_results = cross_val_score(model, X2_noise4, Y, cv=cv, n_jobs=-1, scoring=scoring)\n",
    "    results.append(cv_results)\n",
    "    names.append(i)\n",
    "    print(\"%03s: %f (+/- %f)\" % (i, cv_results.mean(), cv_results.std()))\n",
    "    results_noise2_4[i]=cv_results.mean()"
   ]
  },
  {
   "cell_type": "code",
   "execution_count": 40,
   "id": "ff191611",
   "metadata": {},
   "outputs": [
    {
     "data": {
      "text/html": [
       "<div>\n",
       "<style scoped>\n",
       "    .dataframe tbody tr th:only-of-type {\n",
       "        vertical-align: middle;\n",
       "    }\n",
       "\n",
       "    .dataframe tbody tr th {\n",
       "        vertical-align: top;\n",
       "    }\n",
       "\n",
       "    .dataframe thead th {\n",
       "        text-align: right;\n",
       "    }\n",
       "</style>\n",
       "<table border=\"1\" class=\"dataframe\">\n",
       "  <thead>\n",
       "    <tr style=\"text-align: right;\">\n",
       "      <th></th>\n",
       "      <th>LR</th>\n",
       "      <th>LDA</th>\n",
       "      <th>kNN</th>\n",
       "      <th>DT</th>\n",
       "      <th>NB</th>\n",
       "      <th>SVM</th>\n",
       "      <th>RF</th>\n",
       "      <th>GB</th>\n",
       "      <th>XGB</th>\n",
       "      <th>AdaBoost</th>\n",
       "      <th>ANN</th>\n",
       "    </tr>\n",
       "  </thead>\n",
       "  <tbody>\n",
       "    <tr>\n",
       "      <th>0</th>\n",
       "      <td>0.758236</td>\n",
       "      <td>0.757773</td>\n",
       "      <td>0.729754</td>\n",
       "      <td>0.763948</td>\n",
       "      <td>0.705603</td>\n",
       "      <td>0.756115</td>\n",
       "      <td>0.738867</td>\n",
       "      <td>0.717576</td>\n",
       "      <td>0.727071</td>\n",
       "      <td>0.636293</td>\n",
       "      <td>0.721703</td>\n",
       "    </tr>\n",
       "    <tr>\n",
       "      <th>1</th>\n",
       "      <td>0.693012</td>\n",
       "      <td>0.688994</td>\n",
       "      <td>0.709103</td>\n",
       "      <td>0.626381</td>\n",
       "      <td>0.627591</td>\n",
       "      <td>0.699530</td>\n",
       "      <td>0.691238</td>\n",
       "      <td>0.646736</td>\n",
       "      <td>0.655222</td>\n",
       "      <td>0.609786</td>\n",
       "      <td>0.651508</td>\n",
       "    </tr>\n",
       "    <tr>\n",
       "      <th>2</th>\n",
       "      <td>0.714023</td>\n",
       "      <td>0.734988</td>\n",
       "      <td>0.745132</td>\n",
       "      <td>0.627600</td>\n",
       "      <td>0.664946</td>\n",
       "      <td>0.716534</td>\n",
       "      <td>0.741321</td>\n",
       "      <td>0.724633</td>\n",
       "      <td>0.686190</td>\n",
       "      <td>0.633576</td>\n",
       "      <td>0.712122</td>\n",
       "    </tr>\n",
       "    <tr>\n",
       "      <th>3</th>\n",
       "      <td>0.681472</td>\n",
       "      <td>0.675672</td>\n",
       "      <td>0.665652</td>\n",
       "      <td>0.698674</td>\n",
       "      <td>0.647226</td>\n",
       "      <td>0.711696</td>\n",
       "      <td>0.716548</td>\n",
       "      <td>0.667499</td>\n",
       "      <td>0.678178</td>\n",
       "      <td>0.592793</td>\n",
       "      <td>0.674184</td>\n",
       "    </tr>\n",
       "    <tr>\n",
       "      <th>4</th>\n",
       "      <td>0.716691</td>\n",
       "      <td>0.726619</td>\n",
       "      <td>0.782259</td>\n",
       "      <td>0.627250</td>\n",
       "      <td>0.697578</td>\n",
       "      <td>0.697633</td>\n",
       "      <td>0.681992</td>\n",
       "      <td>0.687613</td>\n",
       "      <td>0.669327</td>\n",
       "      <td>0.677329</td>\n",
       "      <td>0.716893</td>\n",
       "    </tr>\n",
       "    <tr>\n",
       "      <th>5</th>\n",
       "      <td>0.701427</td>\n",
       "      <td>0.682367</td>\n",
       "      <td>0.643862</td>\n",
       "      <td>0.634337</td>\n",
       "      <td>0.610332</td>\n",
       "      <td>0.657736</td>\n",
       "      <td>0.660004</td>\n",
       "      <td>0.630500</td>\n",
       "      <td>0.663810</td>\n",
       "      <td>0.542446</td>\n",
       "      <td>0.635849</td>\n",
       "    </tr>\n",
       "    <tr>\n",
       "      <th>6</th>\n",
       "      <td>0.650376</td>\n",
       "      <td>0.639122</td>\n",
       "      <td>0.641201</td>\n",
       "      <td>0.646910</td>\n",
       "      <td>0.592371</td>\n",
       "      <td>0.644370</td>\n",
       "      <td>0.704250</td>\n",
       "      <td>0.614073</td>\n",
       "      <td>0.644454</td>\n",
       "      <td>0.629027</td>\n",
       "      <td>0.644255</td>\n",
       "    </tr>\n",
       "    <tr>\n",
       "      <th>7</th>\n",
       "      <td>0.779420</td>\n",
       "      <td>0.779420</td>\n",
       "      <td>0.800514</td>\n",
       "      <td>0.775139</td>\n",
       "      <td>0.749678</td>\n",
       "      <td>0.801694</td>\n",
       "      <td>0.767762</td>\n",
       "      <td>0.752462</td>\n",
       "      <td>0.737666</td>\n",
       "      <td>0.672269</td>\n",
       "      <td>0.793827</td>\n",
       "    </tr>\n",
       "    <tr>\n",
       "      <th>8</th>\n",
       "      <td>0.724532</td>\n",
       "      <td>0.699501</td>\n",
       "      <td>0.728645</td>\n",
       "      <td>0.742094</td>\n",
       "      <td>0.705092</td>\n",
       "      <td>0.743488</td>\n",
       "      <td>0.702872</td>\n",
       "      <td>0.704597</td>\n",
       "      <td>0.716558</td>\n",
       "      <td>0.642251</td>\n",
       "      <td>0.697783</td>\n",
       "    </tr>\n",
       "    <tr>\n",
       "      <th>9</th>\n",
       "      <td>0.694547</td>\n",
       "      <td>0.707174</td>\n",
       "      <td>0.716449</td>\n",
       "      <td>0.635265</td>\n",
       "      <td>0.644316</td>\n",
       "      <td>0.693950</td>\n",
       "      <td>0.689554</td>\n",
       "      <td>0.667537</td>\n",
       "      <td>0.662023</td>\n",
       "      <td>0.629281</td>\n",
       "      <td>0.678676</td>\n",
       "    </tr>\n",
       "  </tbody>\n",
       "</table>\n",
       "</div>"
      ],
      "text/plain": [
       "         LR       LDA       kNN        DT        NB       SVM        RF  \\\n",
       "0  0.758236  0.757773  0.729754  0.763948  0.705603  0.756115  0.738867   \n",
       "1  0.693012  0.688994  0.709103  0.626381  0.627591  0.699530  0.691238   \n",
       "2  0.714023  0.734988  0.745132  0.627600  0.664946  0.716534  0.741321   \n",
       "3  0.681472  0.675672  0.665652  0.698674  0.647226  0.711696  0.716548   \n",
       "4  0.716691  0.726619  0.782259  0.627250  0.697578  0.697633  0.681992   \n",
       "5  0.701427  0.682367  0.643862  0.634337  0.610332  0.657736  0.660004   \n",
       "6  0.650376  0.639122  0.641201  0.646910  0.592371  0.644370  0.704250   \n",
       "7  0.779420  0.779420  0.800514  0.775139  0.749678  0.801694  0.767762   \n",
       "8  0.724532  0.699501  0.728645  0.742094  0.705092  0.743488  0.702872   \n",
       "9  0.694547  0.707174  0.716449  0.635265  0.644316  0.693950  0.689554   \n",
       "\n",
       "         GB       XGB  AdaBoost       ANN  \n",
       "0  0.717576  0.727071  0.636293  0.721703  \n",
       "1  0.646736  0.655222  0.609786  0.651508  \n",
       "2  0.724633  0.686190  0.633576  0.712122  \n",
       "3  0.667499  0.678178  0.592793  0.674184  \n",
       "4  0.687613  0.669327  0.677329  0.716893  \n",
       "5  0.630500  0.663810  0.542446  0.635849  \n",
       "6  0.614073  0.644454  0.629027  0.644255  \n",
       "7  0.752462  0.737666  0.672269  0.793827  \n",
       "8  0.704597  0.716558  0.642251  0.697783  \n",
       "9  0.667537  0.662023  0.629281  0.678676  "
      ]
     },
     "execution_count": 40,
     "metadata": {},
     "output_type": "execute_result"
    }
   ],
   "source": [
    "m =[]\n",
    "for i in models:\n",
    "    m.append(i[0])\n",
    "\n",
    "f1_results_noise_4 = pd.DataFrame()\n",
    "\n",
    "\n",
    "for i, m in enumerate(m):\n",
    "    f1_results_noise_4[str(m)] = cv_res(results[i])\n",
    "\n",
    "f1_results_noise_4"
   ]
  },
  {
   "cell_type": "code",
   "execution_count": 41,
   "id": "d401a719",
   "metadata": {},
   "outputs": [
    {
     "data": {
      "text/plain": [
       "0    0.737665\n",
       "1    0.668931\n",
       "2    0.706749\n",
       "3    0.681680\n",
       "4    0.700385\n",
       "5    0.652022\n",
       "6    0.642138\n",
       "7    0.773758\n",
       "8    0.716516\n",
       "9    0.678949\n",
       "dtype: float64"
      ]
     },
     "execution_count": 41,
     "metadata": {},
     "output_type": "execute_result"
    }
   ],
   "source": [
    "#f1_results_noise_4.mean().drop\n",
    "f1_results_noise_4_other_algorithms=f1_results_noise_4.drop(columns=['AdaBoost']).mean(axis=1)\n",
    "f1_results_noise_4_other_algorithms"
   ]
  },
  {
   "cell_type": "code",
   "execution_count": 42,
   "id": "8894dfe3",
   "metadata": {},
   "outputs": [],
   "source": [
    "f1_consolidated_results2 = pd.DataFrame()\n",
    "f1_consolidated_results2 = f1_consolidated_results2.append(results_no_noise, ignore_index=True)\n",
    "f1_consolidated_results2 = f1_consolidated_results2.append(results_noise2_1, ignore_index=True)\n",
    "f1_consolidated_results2 = f1_consolidated_results2.append(results_noise2_2, ignore_index=True)\n",
    "f1_consolidated_results2 = f1_consolidated_results2.append(results_noise2_3, ignore_index=True)\n",
    "f1_consolidated_results2 = f1_consolidated_results2.append(results_noise2_4, ignore_index=True)"
   ]
  },
  {
   "cell_type": "code",
   "execution_count": 46,
   "id": "f0f46c96",
   "metadata": {},
   "outputs": [
    {
     "data": {
      "text/html": [
       "<div>\n",
       "<style scoped>\n",
       "    .dataframe tbody tr th:only-of-type {\n",
       "        vertical-align: middle;\n",
       "    }\n",
       "\n",
       "    .dataframe tbody tr th {\n",
       "        vertical-align: top;\n",
       "    }\n",
       "\n",
       "    .dataframe thead th {\n",
       "        text-align: right;\n",
       "    }\n",
       "</style>\n",
       "<table border=\"1\" class=\"dataframe\">\n",
       "  <thead>\n",
       "    <tr style=\"text-align: right;\">\n",
       "      <th></th>\n",
       "      <th>LR</th>\n",
       "      <th>LDA</th>\n",
       "      <th>kNN</th>\n",
       "      <th>DT</th>\n",
       "      <th>NB</th>\n",
       "      <th>SVM</th>\n",
       "      <th>RF</th>\n",
       "      <th>GB</th>\n",
       "      <th>XGB</th>\n",
       "      <th>AdaBoost</th>\n",
       "      <th>ANN</th>\n",
       "      <th>Status</th>\n",
       "    </tr>\n",
       "  </thead>\n",
       "  <tbody>\n",
       "    <tr>\n",
       "      <th>0</th>\n",
       "      <td>0.987958</td>\n",
       "      <td>0.989599</td>\n",
       "      <td>0.969720</td>\n",
       "      <td>0.899873</td>\n",
       "      <td>0.979032</td>\n",
       "      <td>0.960029</td>\n",
       "      <td>0.980110</td>\n",
       "      <td>0.942800</td>\n",
       "      <td>0.969199</td>\n",
       "      <td>0.896567</td>\n",
       "      <td>0.981320</td>\n",
       "      <td>Without Noise</td>\n",
       "    </tr>\n",
       "    <tr>\n",
       "      <th>1</th>\n",
       "      <td>0.954864</td>\n",
       "      <td>0.958124</td>\n",
       "      <td>0.954183</td>\n",
       "      <td>0.852735</td>\n",
       "      <td>0.958222</td>\n",
       "      <td>0.938013</td>\n",
       "      <td>0.961458</td>\n",
       "      <td>0.925154</td>\n",
       "      <td>0.948194</td>\n",
       "      <td>0.819641</td>\n",
       "      <td>0.958619</td>\n",
       "      <td>Noise 5%</td>\n",
       "    </tr>\n",
       "    <tr>\n",
       "      <th>2</th>\n",
       "      <td>0.899993</td>\n",
       "      <td>0.896981</td>\n",
       "      <td>0.874191</td>\n",
       "      <td>0.779844</td>\n",
       "      <td>0.871113</td>\n",
       "      <td>0.879139</td>\n",
       "      <td>0.896076</td>\n",
       "      <td>0.873690</td>\n",
       "      <td>0.868593</td>\n",
       "      <td>0.813808</td>\n",
       "      <td>0.888692</td>\n",
       "      <td>Noise 10%</td>\n",
       "    </tr>\n",
       "    <tr>\n",
       "      <th>3</th>\n",
       "      <td>0.790492</td>\n",
       "      <td>0.801908</td>\n",
       "      <td>0.832540</td>\n",
       "      <td>0.738281</td>\n",
       "      <td>0.803339</td>\n",
       "      <td>0.808213</td>\n",
       "      <td>0.816000</td>\n",
       "      <td>0.807213</td>\n",
       "      <td>0.805888</td>\n",
       "      <td>0.760231</td>\n",
       "      <td>0.792796</td>\n",
       "      <td>Noise 15%</td>\n",
       "    </tr>\n",
       "    <tr>\n",
       "      <th>4</th>\n",
       "      <td>0.711373</td>\n",
       "      <td>0.709163</td>\n",
       "      <td>0.716257</td>\n",
       "      <td>0.677760</td>\n",
       "      <td>0.664473</td>\n",
       "      <td>0.712275</td>\n",
       "      <td>0.709441</td>\n",
       "      <td>0.681322</td>\n",
       "      <td>0.684050</td>\n",
       "      <td>0.626505</td>\n",
       "      <td>0.692680</td>\n",
       "      <td>Noise 20%</td>\n",
       "    </tr>\n",
       "  </tbody>\n",
       "</table>\n",
       "</div>"
      ],
      "text/plain": [
       "         LR       LDA       kNN        DT        NB       SVM        RF  \\\n",
       "0  0.987958  0.989599  0.969720  0.899873  0.979032  0.960029  0.980110   \n",
       "1  0.954864  0.958124  0.954183  0.852735  0.958222  0.938013  0.961458   \n",
       "2  0.899993  0.896981  0.874191  0.779844  0.871113  0.879139  0.896076   \n",
       "3  0.790492  0.801908  0.832540  0.738281  0.803339  0.808213  0.816000   \n",
       "4  0.711373  0.709163  0.716257  0.677760  0.664473  0.712275  0.709441   \n",
       "\n",
       "         GB       XGB  AdaBoost       ANN         Status  \n",
       "0  0.942800  0.969199  0.896567  0.981320  Without Noise  \n",
       "1  0.925154  0.948194  0.819641  0.958619       Noise 5%  \n",
       "2  0.873690  0.868593  0.813808  0.888692      Noise 10%  \n",
       "3  0.807213  0.805888  0.760231  0.792796      Noise 15%  \n",
       "4  0.681322  0.684050  0.626505  0.692680      Noise 20%  "
      ]
     },
     "execution_count": 46,
     "metadata": {},
     "output_type": "execute_result"
    }
   ],
   "source": [
    "new_column_values = ['Without Noise','Noise 5%','Noise 10%','Noise 15%','Noise 20%']\n",
    "\n",
    "f1_consolidated_results2 [\"Status\"] = new_column_values \n",
    "\n",
    "f1_consolidated_results2 "
   ]
  },
  {
   "cell_type": "code",
   "execution_count": 47,
   "id": "e2de8f20",
   "metadata": {},
   "outputs": [
    {
     "data": {
      "image/png": "[encoded data removed]",
      "text/plain": [
       "<Figure size 720x432 with 1 Axes>"
      ]
     },
     "metadata": {},
     "output_type": "display_data"
    }
   ],
   "source": [
    "# Importing packages\n",
    "import matplotlib.pyplot as plt\n",
    "\n",
    "# Plot a simple line chart\n",
    "fig, g = plt.subplots(figsize = (10,6))\n",
    "plt.plot(f1_consolidated_results2 ['Status'],f1_consolidated_results2.drop(columns=['Status']),linewidth=1)\n",
    "plt.legend(f1_consolidated_results2.columns,loc=\"upper right\")\n",
    "plt.ylim(0.55,1)\n",
    "plt.fill_between(f1_consolidated_results2 ['Status'],f1_consolidated_results2.drop(columns=['Status']),color='k',alpha=.5)\n",
    "plt.title(\"Dataset:Wine\")\n",
    "plt.show()"
   ]
  },
  {
   "cell_type": "code",
   "execution_count": null,
   "id": "2072e016",
   "metadata": {},
   "outputs": [],
   "source": [
    "sns.lineplot(data=f1_consolidated_results2)"
   ]
  },
  {
   "cell_type": "markdown",
   "id": "d8c5abf5",
   "metadata": {},
   "source": [
    "### T-test Statistic "
   ]
  },
  {
   "cell_type": "code",
   "execution_count": 50,
   "id": "1eb86290",
   "metadata": {},
   "outputs": [],
   "source": [
    "from scipy.stats import ttest_ind as ttest"
   ]
  },
  {
   "cell_type": "markdown",
   "id": "b420b6f7",
   "metadata": {},
   "source": [
    "Hypothesis\n",
    "\n",
    "H0: Noise does not effect the models efficiency f1_no_noise = f1_noise\n",
    "\n",
    "H1: There is effect of noise in the models efficiency f1_no_noise <> f1_noise"
   ]
  },
  {
   "cell_type": "markdown",
   "id": "11db33e5",
   "metadata": {},
   "source": [
    "#### T-test for data without noise"
   ]
  },
  {
   "cell_type": "code",
   "execution_count": 51,
   "id": "5c09c3db",
   "metadata": {},
   "outputs": [
    {
     "name": "stdout",
     "output_type": "stream",
     "text": [
      "Test statistic is -6.293081\n",
      "p-value for two tailed test is 0.000006\n",
      "Since p-value(=0.000006) < alpha(=0.05) We reject the null hypothesis H0. So we conclude that the effect of noise in models efficiency at 0.05 level of significance.\n"
     ]
    }
   ],
   "source": [
    "t_value,p_value=ttest(f1_results['AdaBoost'],f1_results_other_algorithms)\n",
    "\n",
    "print('Test statistic is %f'%float(\"{:.6f}\".format(t_value)))\n",
    "\n",
    "print('p-value for two tailed test is %f'%p_value)\n",
    "\n",
    "alpha = 0.05\n",
    "  \n",
    "if p_value<=alpha:\n",
    "\n",
    "    print('Since p-value(=%f)'%p_value,'<','alpha(=%.2f)'%alpha,'''We reject the null hypothesis H0. So we conclude that the effect of noise in models efficiency at %.2f level of significance.'''%alpha)\n",
    "\n",
    "else:\n",
    "\n",
    "    print('Since p-value(=%f)'%p_value,'>','alpha(=%.2f)'%alpha,'''We do not reject the null hypothesis H0. So we conclude that the effect of noise do not change the models efficiency at %.2f level of significance.''' %alpha)\n"
   ]
  },
  {
   "cell_type": "markdown",
   "id": "a9378709",
   "metadata": {},
   "source": [
    "### Cohen's d effect "
   ]
  },
  {
   "cell_type": "code",
   "execution_count": 52,
   "id": "6768253d",
   "metadata": {},
   "outputs": [],
   "source": [
    "import math \n",
    "# function to calculate Cohen's d for independent samples\n",
    "def cohend(d1, d2):\n",
    "# calculate the size of samples\n",
    "    n1, n2 = len(d1), len(d2)\n",
    "    # calculate the variance of the samples\n",
    "    s1, s2 = np.var(d1, ddof=1), np.var(d2, ddof=1)\n",
    "    # calculate the pooled standard deviation\n",
    "    s = math.sqrt(((n1 - 1) * s1 + (n2 - 1) * s2) / (n1 + n2 - 2))\n",
    "    # calculate the means of the samples\n",
    "    u1, u2 = np.mean(d1), np.mean(d2)\n",
    "    # calculate the effect size\n",
    "    return (u1 - u2) / s"
   ]
  },
  {
   "cell_type": "code",
   "execution_count": 53,
   "id": "607bfc0e",
   "metadata": {},
   "outputs": [
    {
     "data": {
      "text/plain": [
       "-2.814351219551123"
      ]
     },
     "execution_count": 53,
     "metadata": {},
     "output_type": "execute_result"
    }
   ],
   "source": [
    "cohend(f1_results['AdaBoost'].tolist(), f1_results_other_algorithms.tolist())"
   ]
  },
  {
   "cell_type": "code",
   "execution_count": null,
   "id": "a931a451",
   "metadata": {},
   "outputs": [],
   "source": []
  },
  {
   "cell_type": "markdown",
   "id": "f84f10bc",
   "metadata": {},
   "source": [
    "### T-test for 5% noise"
   ]
  },
  {
   "cell_type": "markdown",
   "id": "4b379e55",
   "metadata": {},
   "source": [
    "#### Compare with initial results"
   ]
  },
  {
   "cell_type": "code",
   "execution_count": 54,
   "id": "b70adcd7",
   "metadata": {},
   "outputs": [
    {
     "name": "stdout",
     "output_type": "stream",
     "text": [
      "Test statistic is 2.955919\n",
      "p-value for two tailed test is 0.008457\n",
      "Since p-value(=0.008457) < alpha(=0.05) We reject the null hypothesis H0. So we conclude that the effect of noise in models efficiency at 0.05 level of significance.\n"
     ]
    }
   ],
   "source": [
    "t_value,p_value=ttest(f1_results['AdaBoost'],f1_results_noise_1['AdaBoost'])\n",
    "\n",
    "print('Test statistic is %f'%float(\"{:.6f}\".format(t_value)))\n",
    "\n",
    "print('p-value for two tailed test is %f'%p_value)\n",
    "\n",
    "alpha = 0.05\n",
    "  \n",
    "if p_value<=alpha:\n",
    "\n",
    "    print('Since p-value(=%f)'%p_value,'<','alpha(=%.2f)'%alpha,'''We reject the null hypothesis H0. So we conclude that the effect of noise in models efficiency at %.2f level of significance.'''%alpha)\n",
    "\n",
    "else:\n",
    "\n",
    "    print('Since p-value(=%f)'%p_value,'>','alpha(=%.2f)'%alpha,'''We do not reject the null hypothesis H0. So we conclude that the effect of noise do not change the models efficiency at %.2f level of significance.''' %alpha)\n"
   ]
  },
  {
   "cell_type": "markdown",
   "id": "d1413f45",
   "metadata": {},
   "source": [
    "#### Compare with other alforithms"
   ]
  },
  {
   "cell_type": "code",
   "execution_count": 55,
   "id": "e7170ec1",
   "metadata": {
    "scrolled": true
   },
   "outputs": [
    {
     "name": "stdout",
     "output_type": "stream",
     "text": [
      "Test statistic is 4.382537\n",
      "p-value for two tailed test is 0.000359\n",
      "Since p-value(=0.000359) < alpha(=0.05) We reject the null hypothesis H0. So we conclude that the effect of noise in models efficiency at 0.05 level of significance.\n"
     ]
    }
   ],
   "source": [
    "t_value,p_value=ttest(f1_results_other_algorithms,f1_results_noise_1_other_algorithms)\n",
    "\n",
    "print('Test statistic is %f'%float(\"{:.6f}\".format(t_value)))\n",
    "\n",
    "print('p-value for two tailed test is %f'%p_value)\n",
    "\n",
    "alpha = 0.05\n",
    "  \n",
    "if p_value<=alpha:\n",
    "\n",
    "    print('Since p-value(=%f)'%p_value,'<','alpha(=%.2f)'%alpha,'''We reject the null hypothesis H0. So we conclude that the effect of noise in models efficiency at %.2f level of significance.'''%alpha)\n",
    "\n",
    "else:\n",
    "\n",
    "    print('Since p-value(=%f)'%p_value,'>','alpha(=%.2f)'%alpha,'''We do not reject the null hypothesis H0. So we conclude that the effect of noise do not change the models efficiency at %.2f level of significance.''' %alpha)\n"
   ]
  },
  {
   "cell_type": "markdown",
   "id": "b66504b8",
   "metadata": {},
   "source": [
    "### T-test for 10% noise"
   ]
  },
  {
   "cell_type": "markdown",
   "id": "38fd96ca",
   "metadata": {},
   "source": [
    "#### Compare with initial results"
   ]
  },
  {
   "cell_type": "code",
   "execution_count": null,
   "id": "14ff914e",
   "metadata": {},
   "outputs": [],
   "source": [
    "t_value,p_value=ttest(f1_results['AdaBoost'],f1_results_noise_2['AdaBoost'])\n",
    "\n",
    "print('Test statistic is %f'%float(\"{:.6f}\".format(t_value)))\n",
    "\n",
    "print('p-value for two tailed test is %f'%p_value)\n",
    "\n",
    "alpha = 0.05\n",
    "  \n",
    "if p_value<=alpha:\n",
    "\n",
    "    print('Since p-value(=%f)'%p_value,'<','alpha(=%.2f)'%alpha,'''We reject the null hypothesis H0. So we conclude that the effect of noise in models efficiency at %.2f level of significance.'''%alpha)\n",
    "\n",
    "else:\n",
    "\n",
    "    print('Since p-value(=%f)'%p_value,'>','alpha(=%.2f)'%alpha,'''We do not reject the null hypothesis H0. So we conclude that the effect of noise do not change the models efficiency at %.2f level of significance.''' %alpha)\n"
   ]
  },
  {
   "cell_type": "markdown",
   "id": "cbc026e7",
   "metadata": {},
   "source": [
    "#### Compare with other algorithms"
   ]
  },
  {
   "cell_type": "code",
   "execution_count": 56,
   "id": "ad2099ca",
   "metadata": {},
   "outputs": [
    {
     "name": "stdout",
     "output_type": "stream",
     "text": [
      "Test statistic is 12.583739\n",
      "p-value for two tailed test is 0.000000\n",
      "Since p-value(=0.000000) < alpha(=0.05) We reject the null hypothesis H0. So we conclude that the effect of noise in models efficiency at 0.05 level of significance.\n"
     ]
    }
   ],
   "source": [
    "t_value,p_value=ttest(f1_results_other_algorithms,f1_results_noise_2_other_algorithms)\n",
    "\n",
    "print('Test statistic is %f'%float(\"{:.6f}\".format(t_value)))\n",
    "\n",
    "print('p-value for two tailed test is %f'%p_value)\n",
    "\n",
    "alpha = 0.05\n",
    "  \n",
    "if p_value<=alpha:\n",
    "\n",
    "    print('Since p-value(=%f)'%p_value,'<','alpha(=%.2f)'%alpha,'''We reject the null hypothesis H0. So we conclude that the effect of noise in models efficiency at %.2f level of significance.'''%alpha)\n",
    "\n",
    "else:\n",
    "\n",
    "    print('Since p-value(=%f)'%p_value,'>','alpha(=%.2f)'%alpha,'''We do not reject the null hypothesis H0. So we conclude that the effect of noise do not change the models efficiency at %.2f level of significance.''' %alpha)\n"
   ]
  },
  {
   "cell_type": "markdown",
   "id": "df14a83d",
   "metadata": {},
   "source": [
    "### T-test for 15% noise"
   ]
  },
  {
   "cell_type": "markdown",
   "id": "58180256",
   "metadata": {},
   "source": [
    "#### Compare with initial results"
   ]
  },
  {
   "cell_type": "code",
   "execution_count": 57,
   "id": "4bee9a38",
   "metadata": {},
   "outputs": [
    {
     "name": "stdout",
     "output_type": "stream",
     "text": [
      "Test statistic is 7.504181\n",
      "p-value for two tailed test is 0.000001\n",
      "Since p-value(=0.000001) < alpha(=0.05) We reject the null hypothesis H0. So we conclude that the effect of noise in models efficiency at 0.05 level of significance.\n"
     ]
    }
   ],
   "source": [
    "t_value,p_value=ttest(f1_results['AdaBoost'],f1_results_noise_3['AdaBoost'])\n",
    "\n",
    "print('Test statistic is %f'%float(\"{:.6f}\".format(t_value)))\n",
    "\n",
    "print('p-value for two tailed test is %f'%p_value)\n",
    "\n",
    "alpha = 0.05\n",
    "  \n",
    "if p_value<=alpha:\n",
    "\n",
    "    print('Since p-value(=%f)'%p_value,'<','alpha(=%.2f)'%alpha,'''We reject the null hypothesis H0. So we conclude that the effect of noise in models efficiency at %.2f level of significance.'''%alpha)\n",
    "\n",
    "else:\n",
    "\n",
    "    print('Since p-value(=%f)'%p_value,'>','alpha(=%.2f)'%alpha,'''We do not reject the null hypothesis H0. So we conclude that the effect of noise do not change the models efficiency at %.2f level of significance.''' %alpha)\n"
   ]
  },
  {
   "cell_type": "markdown",
   "id": "529f6fc9",
   "metadata": {},
   "source": [
    "#### Compare with other alforithms"
   ]
  },
  {
   "cell_type": "code",
   "execution_count": 58,
   "id": "bc88ddcd",
   "metadata": {},
   "outputs": [
    {
     "name": "stdout",
     "output_type": "stream",
     "text": [
      "Test statistic is 13.652929\n",
      "p-value for two tailed test is 0.000000\n",
      "Since p-value(=0.000000) < alpha(=0.05) We reject the null hypothesis H0. So we conclude that the effect of noise in models efficiency at 0.05 level of significance.\n"
     ]
    }
   ],
   "source": [
    "t_value,p_value=ttest(f1_results_other_algorithms,f1_results_noise_3_other_algorithms)\n",
    "\n",
    "print('Test statistic is %f'%float(\"{:.6f}\".format(t_value)))\n",
    "\n",
    "print('p-value for two tailed test is %f'%p_value)\n",
    "\n",
    "alpha = 0.05\n",
    "  \n",
    "if p_value<=alpha:\n",
    "\n",
    "    print('Since p-value(=%f)'%p_value,'<','alpha(=%.2f)'%alpha,'''We reject the null hypothesis H0. So we conclude that the effect of noise in models efficiency at %.2f level of significance.'''%alpha)\n",
    "\n",
    "else:\n",
    "\n",
    "    print('Since p-value(=%f)'%p_value,'>','alpha(=%.2f)'%alpha,'''We do not reject the null hypothesis H0. So we conclude that the effect of noise do not change the models efficiency at %.2f level of significance.''' %alpha)\n"
   ]
  },
  {
   "cell_type": "markdown",
   "id": "45a86081",
   "metadata": {},
   "source": [
    "### T-test for 20% noise"
   ]
  },
  {
   "cell_type": "markdown",
   "id": "52ef1619",
   "metadata": {},
   "source": [
    "#### Compare with initial results"
   ]
  },
  {
   "cell_type": "code",
   "execution_count": 59,
   "id": "c9b04c8f",
   "metadata": {},
   "outputs": [
    {
     "name": "stdout",
     "output_type": "stream",
     "text": [
      "Test statistic is 16.729253\n",
      "p-value for two tailed test is 0.000000\n",
      "Since p-value(=0.000000) < alpha(=0.05) We reject the null hypothesis H0. So we conclude that the effect of noise in models efficiency at 0.05 level of significance.\n"
     ]
    }
   ],
   "source": [
    "t_value,p_value=ttest(f1_results['AdaBoost'],f1_results_noise_4['AdaBoost'])\n",
    "\n",
    "print('Test statistic is %f'%float(\"{:.6f}\".format(t_value)))\n",
    "\n",
    "print('p-value for two tailed test is %f'%p_value)\n",
    "\n",
    "alpha = 0.05\n",
    "  \n",
    "if p_value<=alpha:\n",
    "\n",
    "    print('Since p-value(=%f)'%p_value,'<','alpha(=%.2f)'%alpha,'''We reject the null hypothesis H0. So we conclude that the effect of noise in models efficiency at %.2f level of significance.'''%alpha)\n",
    "\n",
    "else:\n",
    "\n",
    "    print('Since p-value(=%f)'%p_value,'>','alpha(=%.2f)'%alpha,'''We do not reject the null hypothesis H0. So we conclude that the effect of noise do not change the models efficiency at %.2f level of significance.''' %alpha)\n"
   ]
  },
  {
   "cell_type": "markdown",
   "id": "0b32ae34",
   "metadata": {},
   "source": [
    "#### Compare with other alforithms"
   ]
  },
  {
   "cell_type": "code",
   "execution_count": 60,
   "id": "75cc9b62",
   "metadata": {
    "scrolled": false
   },
   "outputs": [
    {
     "name": "stdout",
     "output_type": "stream",
     "text": [
      "Test statistic is 20.607799\n",
      "p-value for two tailed test is 0.000000\n",
      "Since p-value(=0.000000) < alpha(=0.05) We reject the null hypothesis H0. So we conclude that the effect of noise in models efficiency at 0.05 level of significance.\n"
     ]
    }
   ],
   "source": [
    "t_value,p_value=ttest(f1_results_other_algorithms,f1_results_noise_4_other_algorithms)\n",
    "\n",
    "print('Test statistic is %f'%float(\"{:.6f}\".format(t_value)))\n",
    "\n",
    "print('p-value for two tailed test is %f'%p_value)\n",
    "\n",
    "alpha = 0.05\n",
    "  \n",
    "if p_value<=alpha:\n",
    "\n",
    "    print('Since p-value(=%f)'%p_value,'<','alpha(=%.2f)'%alpha,'''We reject the null hypothesis H0. So we conclude that the effect of noise in models efficiency at %.2f level of significance.'''%alpha)\n",
    "\n",
    "else:\n",
    "\n",
    "    print('Since p-value(=%f)'%p_value,'>','alpha(=%.2f)'%alpha,'''We do not reject the null hypothesis H0. So we conclude that the effect of noise do not change the models efficiency at %.2f level of significance.''' %alpha)\n"
   ]
  },
  {
   "cell_type": "markdown",
   "id": "759de916",
   "metadata": {},
   "source": [
    "### Kolmogorov-Smirnov "
   ]
  },
  {
   "cell_type": "markdown",
   "id": "c6a6ca5d",
   "metadata": {},
   "source": [
    "two-sided: The null hypothesis is that the two distributions are identical, F(x)=G(x) for all x; the alternative is that they are not identical.\n",
    "\n",
    "less: The null hypothesis is that F(x) >= G(x) for all x; the alternative is that F(x) < G(x) for at least one x.\n",
    "\n",
    "greater: The null hypothesis is that F(x) <= G(x) for all x; the alternative is that F(x) > G(x) for at least one x."
   ]
  },
  {
   "cell_type": "code",
   "execution_count": null,
   "id": "d27057fe",
   "metadata": {},
   "outputs": [],
   "source": [
    "# Hypothesis\n",
    "\n",
    "# H0: Noise does not effect the models efficiency of AdaBoost more than other algorithms f1_no_noise_AB = f1_noise_mean_of_the_rest\n",
    "\n",
    "# H1:  Noise does effect the models efficiency of AdaBoost more than other algorithms f1_no_noise_AB <> f1_noise_mean_of_the_rest\n",
    "\n"
   ]
  },
  {
   "cell_type": "markdown",
   "id": "49f1c061",
   "metadata": {},
   "source": [
    "### K-S for 5% noise"
   ]
  },
  {
   "cell_type": "code",
   "execution_count": 61,
   "id": "4821cd34",
   "metadata": {},
   "outputs": [
    {
     "name": "stdout",
     "output_type": "stream",
     "text": [
      "p-value for two tailed KS test is 0.052448\n",
      "Since p-value(=0.052448) > alpha(=0.05) We do not reject the null hypothesis H0. So we conclude that the effect of noise do not change the models efficiency at 0.05 level of significance.\n"
     ]
    }
   ],
   "source": [
    "from scipy.stats import ks_2samp  \n",
    "\n",
    "\n",
    "#perform Kolmogorov-Smirnov test\n",
    "t_value,p_value = ks_2samp(f1_results['AdaBoost']-f1_results_noise_1['AdaBoost'], f1_results.drop(columns=['AdaBoost']).mean(axis=1)-f1_results_noise_1.drop(columns=['AdaBoost']).mean(axis=1))\n",
    "\n",
    "\n",
    "print('p-value for two tailed KS test is %f'%p_value)\n",
    "\n",
    "alpha = 0.05\n",
    "  \n",
    "if p_value<=alpha:\n",
    "\n",
    "    print('Since p-value(=%f)'%p_value,'<','alpha(=%.2f)'%alpha,'''We reject the null hypothesis H0. So we conclude that the effect of noise in models efficiency at %.2f level of significance.'''%alpha)\n",
    "\n",
    "else:\n",
    "\n",
    "    print('Since p-value(=%f)'%p_value,'>','alpha(=%.2f)'%alpha,'''We do not reject the null hypothesis H0. So we conclude that the effect of noise do not change the models efficiency at %.2f level of significance.''' %alpha)"
   ]
  },
  {
   "cell_type": "code",
   "execution_count": 62,
   "id": "d70859af",
   "metadata": {},
   "outputs": [
    {
     "data": {
      "text/plain": [
       "0.07692646233681363"
      ]
     },
     "execution_count": 62,
     "metadata": {},
     "output_type": "execute_result"
    }
   ],
   "source": [
    "#np.mean(f1_results['AdaBoost']-f1_results_noise_1['AdaBoost'])\n",
    "#np.mean(f1_results.drop(columns=['AdaBoost']).mean(axis=1)-f1_results_noise1.drop(columns=['AdaBoost']).mean(axis=1))"
   ]
  },
  {
   "cell_type": "markdown",
   "id": "10d2c8dc",
   "metadata": {},
   "source": [
    "### K-S for 10% noise"
   ]
  },
  {
   "cell_type": "code",
   "execution_count": 64,
   "id": "8d0e94af",
   "metadata": {},
   "outputs": [
    {
     "name": "stdout",
     "output_type": "stream",
     "text": [
      "p-value for two tailed KS test is 0.417524\n",
      "Since p-value(=0.417524) > alpha(=0.05) We do not reject the null hypothesis H0. So we conclude that the effect of noise do not change the models efficiency at 0.05 level of significance.\n"
     ]
    }
   ],
   "source": [
    "from scipy.stats import ks_2samp  \n",
    "\n",
    "\n",
    "#perform Kolmogorov-Smirnov test\n",
    "t_value,p_value = ks_2samp(f1_results['AdaBoost']-f1_results_noise_2['AdaBoost'], f1_results.drop(columns=['AdaBoost']).mean(axis=1)-f1_results_noise_2.drop(columns=['AdaBoost']).mean(axis=1))\n",
    "\n",
    "\n",
    "print('p-value for two tailed KS test is %f'%p_value)\n",
    "\n",
    "alpha = 0.05\n",
    "  \n",
    "if p_value<=alpha:\n",
    "\n",
    "    print('Since p-value(=%f)'%p_value,'<','alpha(=%.2f)'%alpha,'''We reject the null hypothesis H0. So we conclude that the effect of noise in models efficiency at %.2f level of significance.'''%alpha)\n",
    "\n",
    "else:\n",
    "\n",
    "    print('Since p-value(=%f)'%p_value,'>','alpha(=%.2f)'%alpha,'''We do not reject the null hypothesis H0. So we conclude that the effect of noise do not change the models efficiency at %.2f level of significance.''' %alpha)"
   ]
  },
  {
   "cell_type": "code",
   "execution_count": null,
   "id": "017befca",
   "metadata": {},
   "outputs": [],
   "source": [
    "#np.mean(f1_results['AdaBoost']-f1_results_noise_2['AdaBoost'])\n",
    "#np.mean(f1_results.drop(columns=['AdaBoost']).mean(axis=1)-f1_results_noise_2.drop(columns=['AdaBoost']).mean(axis=1))"
   ]
  },
  {
   "cell_type": "markdown",
   "id": "a21713fc",
   "metadata": {},
   "source": [
    "### K-S for 15% noise"
   ]
  },
  {
   "cell_type": "code",
   "execution_count": 65,
   "id": "d2526cdb",
   "metadata": {},
   "outputs": [
    {
     "name": "stdout",
     "output_type": "stream",
     "text": [
      "p-value for two tailed KS test is 0.167821\n",
      "Since p-value(=0.167821) > alpha(=0.05) We do not reject the null hypothesis H0. So we conclude that the effect of noise do not change the models efficiency at 0.05 level of significance.\n"
     ]
    }
   ],
   "source": [
    "from scipy.stats import ks_2samp  \n",
    "\n",
    "\n",
    "#perform Kolmogorov-Smirnov test\n",
    "t_value,p_value = ks_2samp(f1_results['AdaBoost']-f1_results_noise_3['AdaBoost'], f1_results.drop(columns=['AdaBoost']).mean(axis=1)-f1_results_noise_3.drop(columns=['AdaBoost']).mean(axis=1))\n",
    "\n",
    "\n",
    "print('p-value for two tailed KS test is %f'%p_value)\n",
    "\n",
    "alpha = 0.05\n",
    "  \n",
    "if p_value<=alpha:\n",
    "\n",
    "    print('Since p-value(=%f)'%p_value,'<','alpha(=%.2f)'%alpha,'''We reject the null hypothesis H0. So we conclude that the effect of noise in models efficiency at %.2f level of significance.'''%alpha)\n",
    "\n",
    "else:\n",
    "\n",
    "    print('Since p-value(=%f)'%p_value,'>','alpha(=%.2f)'%alpha,'''We do not reject the null hypothesis H0. So we conclude that the effect of noise do not change the models efficiency at %.2f level of significance.''' %alpha)"
   ]
  },
  {
   "cell_type": "code",
   "execution_count": null,
   "id": "5c734fc8",
   "metadata": {},
   "outputs": [],
   "source": [
    "#np.mean(f1_results['AdaBoost']-f1_results_noise_3['AdaBoost'])\n",
    "#np.mean(f1_results.drop(columns=['AdaBoost']).mean(axis=1)-f1_results_noise_3.drop(columns=['AdaBoost']).mean(axis=1))"
   ]
  },
  {
   "cell_type": "markdown",
   "id": "76d31bab",
   "metadata": {},
   "source": [
    "### K-S for 20% noise"
   ]
  },
  {
   "cell_type": "code",
   "execution_count": 66,
   "id": "ce6b8992",
   "metadata": {},
   "outputs": [
    {
     "name": "stdout",
     "output_type": "stream",
     "text": [
      "p-value for two tailed KS test is 0.994458\n",
      "Since p-value(=0.994458) > alpha(=0.05) We do not reject the null hypothesis H0. So we conclude that the effect of noise do not change the models efficiency at 0.05 level of significance.\n"
     ]
    }
   ],
   "source": [
    "from scipy.stats import ks_2samp  \n",
    "\n",
    "\n",
    "#perform Kolmogorov-Smirnov test\n",
    "t_value,p_value = ks_2samp(f1_results['AdaBoost']-f1_results_noise_4['AdaBoost'], f1_results.drop(columns=['AdaBoost']).mean(axis=1)-f1_results_noise_4.drop(columns=['AdaBoost']).mean(axis=1))\n",
    "\n",
    "\n",
    "print('p-value for two tailed KS test is %f'%p_value)\n",
    "\n",
    "alpha = 0.05\n",
    "  \n",
    "if p_value<=alpha:\n",
    "\n",
    "    print('Since p-value(=%f)'%p_value,'<','alpha(=%.2f)'%alpha,'''We reject the null hypothesis H0. So we conclude that the effect of noise in models efficiency at %.2f level of significance.'''%alpha)\n",
    "\n",
    "else:\n",
    "\n",
    "    print('Since p-value(=%f)'%p_value,'>','alpha(=%.2f)'%alpha,'''We do not reject the null hypothesis H0. So we conclude that the effect of noise do not change the models efficiency at %.2f level of significance.''' %alpha)\n"
   ]
  },
  {
   "cell_type": "code",
   "execution_count": null,
   "id": "b710ee3e",
   "metadata": {},
   "outputs": [],
   "source": [
    "#np.mean(f1_results['AdaBoost']-f1_results_noise_4['AdaBoost'])\n",
    "#np.mean(f1_results.drop(columns=['AdaBoost']).mean(axis=1)-f1_results_noise_4.drop(columns=['AdaBoost']).mean(axis=1))"
   ]
  },
  {
   "cell_type": "markdown",
   "id": "89368fd7",
   "metadata": {},
   "source": [
    "#### Pearson correlation "
   ]
  },
  {
   "cell_type": "markdown",
   "id": "83c18edc",
   "metadata": {},
   "source": [
    "### Adaboost Table"
   ]
  },
  {
   "cell_type": "code",
   "execution_count": 67,
   "id": "438008af",
   "metadata": {},
   "outputs": [
    {
     "data": {
      "text/html": [
       "<div>\n",
       "<style scoped>\n",
       "    .dataframe tbody tr th:only-of-type {\n",
       "        vertical-align: middle;\n",
       "    }\n",
       "\n",
       "    .dataframe tbody tr th {\n",
       "        vertical-align: top;\n",
       "    }\n",
       "\n",
       "    .dataframe thead th {\n",
       "        text-align: right;\n",
       "    }\n",
       "</style>\n",
       "<table border=\"1\" class=\"dataframe\">\n",
       "  <thead>\n",
       "    <tr style=\"text-align: right;\">\n",
       "      <th></th>\n",
       "      <th>AdaBoost_initial</th>\n",
       "      <th>AdaBoost_noise_1</th>\n",
       "      <th>AdaBoost_noise_2</th>\n",
       "      <th>AdaBoost_noise_3</th>\n",
       "      <th>AdaBoost_noise_4</th>\n",
       "    </tr>\n",
       "  </thead>\n",
       "  <tbody>\n",
       "    <tr>\n",
       "      <th>0</th>\n",
       "      <td>0.920919</td>\n",
       "      <td>0.922074</td>\n",
       "      <td>0.865778</td>\n",
       "      <td>0.788550</td>\n",
       "      <td>0.636293</td>\n",
       "    </tr>\n",
       "    <tr>\n",
       "      <th>1</th>\n",
       "      <td>0.935545</td>\n",
       "      <td>0.807500</td>\n",
       "      <td>0.803793</td>\n",
       "      <td>0.744642</td>\n",
       "      <td>0.609786</td>\n",
       "    </tr>\n",
       "    <tr>\n",
       "      <th>2</th>\n",
       "      <td>0.876102</td>\n",
       "      <td>0.854250</td>\n",
       "      <td>0.769763</td>\n",
       "      <td>0.742909</td>\n",
       "      <td>0.633576</td>\n",
       "    </tr>\n",
       "    <tr>\n",
       "      <th>3</th>\n",
       "      <td>0.911694</td>\n",
       "      <td>0.800676</td>\n",
       "      <td>0.867933</td>\n",
       "      <td>0.771173</td>\n",
       "      <td>0.592793</td>\n",
       "    </tr>\n",
       "    <tr>\n",
       "      <th>4</th>\n",
       "      <td>0.902627</td>\n",
       "      <td>0.867334</td>\n",
       "      <td>0.825031</td>\n",
       "      <td>0.800372</td>\n",
       "      <td>0.677329</td>\n",
       "    </tr>\n",
       "    <tr>\n",
       "      <th>5</th>\n",
       "      <td>0.874008</td>\n",
       "      <td>0.774086</td>\n",
       "      <td>0.769550</td>\n",
       "      <td>0.690165</td>\n",
       "      <td>0.542446</td>\n",
       "    </tr>\n",
       "    <tr>\n",
       "      <th>6</th>\n",
       "      <td>0.841084</td>\n",
       "      <td>0.679237</td>\n",
       "      <td>0.812274</td>\n",
       "      <td>0.689702</td>\n",
       "      <td>0.629027</td>\n",
       "    </tr>\n",
       "    <tr>\n",
       "      <th>7</th>\n",
       "      <td>0.935207</td>\n",
       "      <td>0.902799</td>\n",
       "      <td>0.823620</td>\n",
       "      <td>0.814323</td>\n",
       "      <td>0.672269</td>\n",
       "    </tr>\n",
       "    <tr>\n",
       "      <th>8</th>\n",
       "      <td>0.855036</td>\n",
       "      <td>0.736779</td>\n",
       "      <td>0.789922</td>\n",
       "      <td>0.740651</td>\n",
       "      <td>0.642251</td>\n",
       "    </tr>\n",
       "    <tr>\n",
       "      <th>9</th>\n",
       "      <td>0.913453</td>\n",
       "      <td>0.851674</td>\n",
       "      <td>0.810412</td>\n",
       "      <td>0.819822</td>\n",
       "      <td>0.629281</td>\n",
       "    </tr>\n",
       "  </tbody>\n",
       "</table>\n",
       "</div>"
      ],
      "text/plain": [
       "   AdaBoost_initial  AdaBoost_noise_1  AdaBoost_noise_2  AdaBoost_noise_3  \\\n",
       "0          0.920919          0.922074          0.865778          0.788550   \n",
       "1          0.935545          0.807500          0.803793          0.744642   \n",
       "2          0.876102          0.854250          0.769763          0.742909   \n",
       "3          0.911694          0.800676          0.867933          0.771173   \n",
       "4          0.902627          0.867334          0.825031          0.800372   \n",
       "5          0.874008          0.774086          0.769550          0.690165   \n",
       "6          0.841084          0.679237          0.812274          0.689702   \n",
       "7          0.935207          0.902799          0.823620          0.814323   \n",
       "8          0.855036          0.736779          0.789922          0.740651   \n",
       "9          0.913453          0.851674          0.810412          0.819822   \n",
       "\n",
       "   AdaBoost_noise_4  \n",
       "0          0.636293  \n",
       "1          0.609786  \n",
       "2          0.633576  \n",
       "3          0.592793  \n",
       "4          0.677329  \n",
       "5          0.542446  \n",
       "6          0.629027  \n",
       "7          0.672269  \n",
       "8          0.642251  \n",
       "9          0.629281  "
      ]
     },
     "execution_count": 67,
     "metadata": {},
     "output_type": "execute_result"
    }
   ],
   "source": [
    "#create table\n",
    "d1 = {\n",
    "    'AdaBoost_initial': f1_results['AdaBoost'],\n",
    "    'AdaBoost_noise_1': f1_results_noise_1['AdaBoost'],\n",
    "    'AdaBoost_noise_2': f1_results_noise_2['AdaBoost'],\n",
    "    'AdaBoost_noise_3': f1_results_noise_3['AdaBoost'],\n",
    "    'AdaBoost_noise_4': f1_results_noise_4['AdaBoost']\n",
    "    }\n",
    "Adaboost_table = pd.DataFrame(d1)\n",
    "Adaboost_table"
   ]
  },
  {
   "cell_type": "code",
   "execution_count": null,
   "id": "f24ef4a2",
   "metadata": {},
   "outputs": [],
   "source": [
    "# Correlation between f1score of Adaboost and noise increase "
   ]
  },
  {
   "cell_type": "code",
   "execution_count": 68,
   "id": "b02d9829",
   "metadata": {},
   "outputs": [],
   "source": [
    "a = Adaboost_table.iloc[:,:1].squeeze()\n",
    "     \n",
    "b = Adaboost_table['AdaBoost_noise_1'].squeeze()\n",
    "\n",
    "c = Adaboost_table['AdaBoost_noise_2'].squeeze()\n",
    "  \n",
    "d = Adaboost_table['AdaBoost_noise_3'].squeeze()    \n",
    "\n",
    "e = Adaboost_table['AdaBoost_noise_4'].squeeze()\n",
    "\n",
    "f1 = pd.concat([a,b,c,d,e])\n",
    "\n",
    "f1 = pd.DataFrame(f1)\n",
    "\n",
    "f1.rename(columns = {0:'f1'}, inplace = True)\n",
    "f1.reset_index(drop=True, inplace=True)\n",
    "\n",
    "\n",
    "\n",
    "noise_1 = [1 for i in range(10)]\n",
    "noise_2 = [2 for i in range(10)]\n",
    "noise_3 = [3 for i in range(10)]\n",
    "noise_4 = [4 for i in range(10)]\n",
    "noise_5 = [5 for i in range(10)]\n",
    "\n",
    "noise = noise_1+noise_2+noise_3+noise_4+noise_5\n",
    "\n",
    "noise = pd.DataFrame(noise)\n",
    "\n",
    "noise.rename(columns = {0:'noise'}, inplace = True)\n",
    "noise.reset_index(drop=True, inplace=True)\n",
    "\n",
    "df_cor = pd.concat([f1,noise], axis=1)"
   ]
  },
  {
   "cell_type": "code",
   "execution_count": 69,
   "id": "062fa6ba",
   "metadata": {},
   "outputs": [
    {
     "data": {
      "text/plain": [
       "<matplotlib.collections.PathCollection at 0x26bc6693190>"
      ]
     },
     "execution_count": 69,
     "metadata": {},
     "output_type": "execute_result"
    },
    {
     "data": {
      "image/png": "[encoded data removed]",
      "text/plain": [
       "<Figure size 1440x1440 with 1 Axes>"
      ]
     },
     "metadata": {},
     "output_type": "display_data"
    }
   ],
   "source": [
    "plt.scatter(df_cor.iloc[:,1].values.tolist(), df_cor.iloc[:,0].values.tolist())"
   ]
  },
  {
   "cell_type": "code",
   "execution_count": 70,
   "id": "3d482358",
   "metadata": {},
   "outputs": [
    {
     "name": "stdout",
     "output_type": "stream",
     "text": [
      "Since p-value(=0.000000) < alpha(=0.05) We reject the null hypothesis H0. So we conclude that there is correlation -0.84 at 0.05 level of significance.\n",
      "-0.8421999176938453\n"
     ]
    }
   ],
   "source": [
    "from scipy.stats import pearsonr\n",
    "\n",
    "# Returns Pearson’s correlation coefficient,2-tailed p-value)\n",
    "\n",
    "\n",
    "# Hypothesis\n",
    "\n",
    "# H0: ρ = 0\n",
    "\n",
    "# H1: ρ <> 0\n",
    "\n",
    "\n",
    "corr, p_value = pearsonr(df_cor.iloc[:,1].values.tolist(), df_cor.iloc[:,0].values.tolist())\n",
    "\n",
    "alpha = 0.05\n",
    "  \n",
    "if p_value<=alpha:\n",
    "\n",
    "    print('Since p-value(=%f)'%p_value,'<','alpha(=%.2f)'%alpha,'''We reject the null hypothesis H0. So we conclude that there is correlation %.2f at %.2f level of significance.'''%(corr,alpha))\n",
    "\n",
    "else:\n",
    "\n",
    "    print('Since p-value(=%f)'%p_value,'>','alpha(=%.2f)'%alpha,'''We do not reject the null hypothesis H0. So we conclude that there is not correlation at %.2f level of significance.''' %alpha)\n",
    "print(corr)"
   ]
  },
  {
   "cell_type": "code",
   "execution_count": 71,
   "id": "a40b34a7",
   "metadata": {},
   "outputs": [],
   "source": [
    "# Correlation between f1score of Other algorithms mean value and noise increase "
   ]
  },
  {
   "cell_type": "code",
   "execution_count": 72,
   "id": "bbd09c80",
   "metadata": {},
   "outputs": [
    {
     "data": {
      "text/html": [
       "<div>\n",
       "<style scoped>\n",
       "    .dataframe tbody tr th:only-of-type {\n",
       "        vertical-align: middle;\n",
       "    }\n",
       "\n",
       "    .dataframe tbody tr th {\n",
       "        vertical-align: top;\n",
       "    }\n",
       "\n",
       "    .dataframe thead th {\n",
       "        text-align: right;\n",
       "    }\n",
       "</style>\n",
       "<table border=\"1\" class=\"dataframe\">\n",
       "  <thead>\n",
       "    <tr style=\"text-align: right;\">\n",
       "      <th></th>\n",
       "      <th>Other_Algorithms_initial</th>\n",
       "      <th>Other_Algorithms_noise_1</th>\n",
       "      <th>Other_Algorithms_noise_2</th>\n",
       "      <th>Other_Algorithms_noise_3</th>\n",
       "      <th>Other_Algorithms_noise_4</th>\n",
       "    </tr>\n",
       "  </thead>\n",
       "  <tbody>\n",
       "    <tr>\n",
       "      <th>0</th>\n",
       "      <td>0.966974</td>\n",
       "      <td>0.962318</td>\n",
       "      <td>0.903171</td>\n",
       "      <td>0.852831</td>\n",
       "      <td>0.737665</td>\n",
       "    </tr>\n",
       "    <tr>\n",
       "      <th>1</th>\n",
       "      <td>0.962301</td>\n",
       "      <td>0.912638</td>\n",
       "      <td>0.832423</td>\n",
       "      <td>0.771259</td>\n",
       "      <td>0.668931</td>\n",
       "    </tr>\n",
       "    <tr>\n",
       "      <th>2</th>\n",
       "      <td>0.941551</td>\n",
       "      <td>0.947079</td>\n",
       "      <td>0.855409</td>\n",
       "      <td>0.799813</td>\n",
       "      <td>0.706749</td>\n",
       "    </tr>\n",
       "    <tr>\n",
       "      <th>3</th>\n",
       "      <td>0.978794</td>\n",
       "      <td>0.937521</td>\n",
       "      <td>0.885943</td>\n",
       "      <td>0.803363</td>\n",
       "      <td>0.681680</td>\n",
       "    </tr>\n",
       "    <tr>\n",
       "      <th>4</th>\n",
       "      <td>0.969557</td>\n",
       "      <td>0.945341</td>\n",
       "      <td>0.890594</td>\n",
       "      <td>0.808235</td>\n",
       "      <td>0.700385</td>\n",
       "    </tr>\n",
       "    <tr>\n",
       "      <th>5</th>\n",
       "      <td>0.969665</td>\n",
       "      <td>0.936862</td>\n",
       "      <td>0.862504</td>\n",
       "      <td>0.767414</td>\n",
       "      <td>0.652022</td>\n",
       "    </tr>\n",
       "    <tr>\n",
       "      <th>6</th>\n",
       "      <td>0.961746</td>\n",
       "      <td>0.931192</td>\n",
       "      <td>0.867308</td>\n",
       "      <td>0.740131</td>\n",
       "      <td>0.642138</td>\n",
       "    </tr>\n",
       "    <tr>\n",
       "      <th>7</th>\n",
       "      <td>0.974314</td>\n",
       "      <td>0.960632</td>\n",
       "      <td>0.891072</td>\n",
       "      <td>0.862395</td>\n",
       "      <td>0.773758</td>\n",
       "    </tr>\n",
       "    <tr>\n",
       "      <th>8</th>\n",
       "      <td>0.976435</td>\n",
       "      <td>0.934154</td>\n",
       "      <td>0.865390</td>\n",
       "      <td>0.792292</td>\n",
       "      <td>0.716516</td>\n",
       "    </tr>\n",
       "    <tr>\n",
       "      <th>9</th>\n",
       "      <td>0.958305</td>\n",
       "      <td>0.941829</td>\n",
       "      <td>0.874500</td>\n",
       "      <td>0.798938</td>\n",
       "      <td>0.678949</td>\n",
       "    </tr>\n",
       "  </tbody>\n",
       "</table>\n",
       "</div>"
      ],
      "text/plain": [
       "   Other_Algorithms_initial  Other_Algorithms_noise_1  \\\n",
       "0                  0.966974                  0.962318   \n",
       "1                  0.962301                  0.912638   \n",
       "2                  0.941551                  0.947079   \n",
       "3                  0.978794                  0.937521   \n",
       "4                  0.969557                  0.945341   \n",
       "5                  0.969665                  0.936862   \n",
       "6                  0.961746                  0.931192   \n",
       "7                  0.974314                  0.960632   \n",
       "8                  0.976435                  0.934154   \n",
       "9                  0.958305                  0.941829   \n",
       "\n",
       "   Other_Algorithms_noise_2  Other_Algorithms_noise_3  \\\n",
       "0                  0.903171                  0.852831   \n",
       "1                  0.832423                  0.771259   \n",
       "2                  0.855409                  0.799813   \n",
       "3                  0.885943                  0.803363   \n",
       "4                  0.890594                  0.808235   \n",
       "5                  0.862504                  0.767414   \n",
       "6                  0.867308                  0.740131   \n",
       "7                  0.891072                  0.862395   \n",
       "8                  0.865390                  0.792292   \n",
       "9                  0.874500                  0.798938   \n",
       "\n",
       "   Other_Algorithms_noise_4  \n",
       "0                  0.737665  \n",
       "1                  0.668931  \n",
       "2                  0.706749  \n",
       "3                  0.681680  \n",
       "4                  0.700385  \n",
       "5                  0.652022  \n",
       "6                  0.642138  \n",
       "7                  0.773758  \n",
       "8                  0.716516  \n",
       "9                  0.678949  "
      ]
     },
     "execution_count": 72,
     "metadata": {},
     "output_type": "execute_result"
    }
   ],
   "source": [
    "#create table\n",
    "d2 = {\n",
    "    'Other_Algorithms_initial': f1_results_other_algorithms,\n",
    "    'Other_Algorithms_noise_1': f1_results_noise_1_other_algorithms,\n",
    "    'Other_Algorithms_noise_2': f1_results_noise_2_other_algorithms,\n",
    "    'Other_Algorithms_noise_3': f1_results_noise_3_other_algorithms,\n",
    "    'Other_Algorithms_noise_4': f1_results_noise_4_other_algorithms\n",
    "    }\n",
    "Other_Algorithms_table = pd.DataFrame(d2)\n",
    "Other_Algorithms_table"
   ]
  },
  {
   "cell_type": "code",
   "execution_count": 73,
   "id": "bf0b41ad",
   "metadata": {},
   "outputs": [],
   "source": [
    "a = Other_Algorithms_table.iloc[:,:1].squeeze()\n",
    "     \n",
    "b = Other_Algorithms_table['Other_Algorithms_noise_1'].squeeze()\n",
    "\n",
    "c = Other_Algorithms_table['Other_Algorithms_noise_2'].squeeze()\n",
    "  \n",
    "d = Other_Algorithms_table['Other_Algorithms_noise_3'].squeeze()    \n",
    "\n",
    "e = Other_Algorithms_table['Other_Algorithms_noise_4'].squeeze()\n",
    "\n",
    "f1 = pd.concat([a,b,c,d,e])\n",
    "\n",
    "f1 = pd.DataFrame(f1)\n",
    "\n",
    "f1.rename(columns = {0:'f1'}, inplace = True)\n",
    "f1.reset_index(drop=True, inplace=True)\n",
    "\n",
    "\n",
    "noise_1 = [1 for i in range(10)]\n",
    "noise_2 = [2 for i in range(10)]\n",
    "noise_3 = [3 for i in range(10)]\n",
    "noise_4 = [4 for i in range(10)]\n",
    "noise_5 = [5 for i in range(10)]\n",
    "\n",
    "noise = noise_1+noise_2+noise_3+noise_4+noise_5\n",
    "\n",
    "noise = pd.DataFrame(noise)\n",
    "\n",
    "noise.rename(columns = {0:'noise'}, inplace = True)\n",
    "noise.reset_index(drop=True, inplace=True)\n",
    "\n",
    "\n",
    "df_cor = pd.concat([f1,noise], axis=1)"
   ]
  },
  {
   "cell_type": "code",
   "execution_count": 74,
   "id": "ac5137bf",
   "metadata": {},
   "outputs": [
    {
     "data": {
      "text/plain": [
       "<matplotlib.collections.PathCollection at 0x26bc6a60ca0>"
      ]
     },
     "execution_count": 74,
     "metadata": {},
     "output_type": "execute_result"
    },
    {
     "data": {
      "image/png": "[encoded data removed]",
      "text/plain": [
       "<Figure size 1440x1440 with 1 Axes>"
      ]
     },
     "metadata": {},
     "output_type": "display_data"
    }
   ],
   "source": [
    "plt.scatter(df_cor.iloc[:,1].values.tolist(), df_cor.iloc[:,0].values.tolist())"
   ]
  },
  {
   "cell_type": "code",
   "execution_count": 75,
   "id": "be909bde",
   "metadata": {},
   "outputs": [
    {
     "name": "stdout",
     "output_type": "stream",
     "text": [
      "Since p-value(=0.000000) < alpha(=0.05) We reject the null hypothesis H0. So we conclude that there is correlation -0.95 at 0.05 level of significance.\n",
      "-0.9472886083352902\n"
     ]
    }
   ],
   "source": [
    "from scipy.stats import pearsonr\n",
    "\n",
    "# Returns Pearson’s correlation coefficient,2-tailed p-value)\n",
    "\n",
    "\n",
    "# Hypothesis\n",
    "\n",
    "# H0: ρ = 0\n",
    "\n",
    "# H1: ρ <> 0\n",
    "\n",
    "\n",
    "corr, p_value = pearsonr(df_cor.iloc[:,1].values.tolist(), df_cor.iloc[:,0].values.tolist())\n",
    "\n",
    "alpha = 0.05\n",
    "  \n",
    "if p_value<=alpha:\n",
    "\n",
    "    print('Since p-value(=%f)'%p_value,'<','alpha(=%.2f)'%alpha,'''We reject the null hypothesis H0. So we conclude that there is correlation %.2f at %.2f level of significance.'''%(corr,alpha))\n",
    "\n",
    "else:\n",
    "\n",
    "    print('Since p-value(=%f)'%p_value,'>','alpha(=%.2f)'%alpha,'''We do not reject the null hypothesis H0. So we conclude that there is not correlation at %.2f level of significance.''' %alpha)\n",
    "print(corr)"
   ]
  },
  {
   "cell_type": "markdown",
   "id": "6b5ee06e",
   "metadata": {},
   "source": [
    "Thus we can see from the effect size the of correlation that Adaboost is not more sensitive than other algorithms."
   ]
  }
 ],
 "metadata": {
  "kernelspec": {
   "display_name": "Python 3 (ipykernel)",
   "language": "python",
   "name": "python3"
  },
  "language_info": {
   "codemirror_mode": {
    "name": "ipython",
    "version": 3
   },
   "file_extension": ".py",
   "mimetype": "text/x-python",
   "name": "python",
   "nbconvert_exporter": "python",
   "pygments_lexer": "ipython3",
   "version": "3.9.7"
  }
 },
 "nbformat": 4,
 "nbformat_minor": 5
}
