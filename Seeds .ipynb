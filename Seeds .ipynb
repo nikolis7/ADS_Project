{
 "cells": [
  {
   "cell_type": "code",
   "execution_count": 1,
   "id": "3b2c154d",
   "metadata": {},
   "outputs": [],
   "source": [
    "#Import libraries\n",
    "\n",
    "import pandas as pd \n",
    "import numpy as np\n",
    "import matplotlib.pyplot as plt\n",
    "from sklearn import datasets\n",
    "import seaborn as sns\n",
    "import os"
   ]
  },
  {
   "cell_type": "code",
   "execution_count": 2,
   "id": "de025051",
   "metadata": {},
   "outputs": [
    {
     "data": {
      "text/plain": [
       "'C:\\\\Users\\\\zpap\\\\OneDrive - AholdDelhaize.com\\\\Personal elements\\\\04. Dimokritos_Files\\\\2nd SEMESTER\\\\Applied Data Science\\\\Project\\\\Python\\\\Final Versions'"
      ]
     },
     "execution_count": 2,
     "metadata": {},
     "output_type": "execute_result"
    }
   ],
   "source": [
    "#Folder Path\n",
    "cwd = os.getcwd()\n",
    "cwd"
   ]
  },
  {
   "cell_type": "code",
   "execution_count": 3,
   "id": "36404fc1",
   "metadata": {},
   "outputs": [
    {
     "name": "stdout",
     "output_type": "stream",
     "text": [
      "C:/Users/zpap/OneDrive - AholdDelhaize.com/Personal elements/04. Dimokritos_Files/2nd SEMESTER/Applied Data Science/Project/Python/Final Versions\n"
     ]
    }
   ],
   "source": [
    "#Replace values from \\ to /\n",
    "path=cwd.replace(\"\\\\\",\"/\")\n",
    "print(path)"
   ]
  },
  {
   "cell_type": "code",
   "execution_count": 4,
   "id": "d4c0e604",
   "metadata": {},
   "outputs": [
    {
     "name": "stdout",
     "output_type": "stream",
     "text": [
      "C:/Users/zpap/OneDrive - AholdDelhaize.com/Personal elements/04. Dimokritos_Files/2nd SEMESTER/Applied Data Science/Project/Python/Final Versions/seeds_dataset.csv\n"
     ]
    }
   ],
   "source": [
    "filename=\"/seeds_dataset.csv\"\n",
    "\n",
    "df_path=path+filename\n",
    "print(df_path)"
   ]
  },
  {
   "cell_type": "code",
   "execution_count": 5,
   "id": "0792cb92",
   "metadata": {},
   "outputs": [
    {
     "data": {
      "text/html": [
       "<div>\n",
       "<style scoped>\n",
       "    .dataframe tbody tr th:only-of-type {\n",
       "        vertical-align: middle;\n",
       "    }\n",
       "\n",
       "    .dataframe tbody tr th {\n",
       "        vertical-align: top;\n",
       "    }\n",
       "\n",
       "    .dataframe thead th {\n",
       "        text-align: right;\n",
       "    }\n",
       "</style>\n",
       "<table border=\"1\" class=\"dataframe\">\n",
       "  <thead>\n",
       "    <tr style=\"text-align: right;\">\n",
       "      <th></th>\n",
       "      <th>Area</th>\n",
       "      <th>Perimeter</th>\n",
       "      <th>Compactness</th>\n",
       "      <th>Length_of_kernel</th>\n",
       "      <th>Width_of_kernel</th>\n",
       "      <th>Asymmetry_coefficient</th>\n",
       "      <th>Length_of_kernel_groove</th>\n",
       "      <th>Class</th>\n",
       "    </tr>\n",
       "  </thead>\n",
       "  <tbody>\n",
       "    <tr>\n",
       "      <th>0</th>\n",
       "      <td>15.26</td>\n",
       "      <td>14.84</td>\n",
       "      <td>0.8710</td>\n",
       "      <td>5.763</td>\n",
       "      <td>3.312</td>\n",
       "      <td>2.221</td>\n",
       "      <td>5.220</td>\n",
       "      <td>1</td>\n",
       "    </tr>\n",
       "    <tr>\n",
       "      <th>1</th>\n",
       "      <td>14.88</td>\n",
       "      <td>14.57</td>\n",
       "      <td>0.8811</td>\n",
       "      <td>5.554</td>\n",
       "      <td>3.333</td>\n",
       "      <td>1.018</td>\n",
       "      <td>4.956</td>\n",
       "      <td>1</td>\n",
       "    </tr>\n",
       "    <tr>\n",
       "      <th>2</th>\n",
       "      <td>14.29</td>\n",
       "      <td>14.09</td>\n",
       "      <td>0.9050</td>\n",
       "      <td>5.291</td>\n",
       "      <td>3.337</td>\n",
       "      <td>2.699</td>\n",
       "      <td>4.825</td>\n",
       "      <td>1</td>\n",
       "    </tr>\n",
       "    <tr>\n",
       "      <th>3</th>\n",
       "      <td>13.84</td>\n",
       "      <td>13.94</td>\n",
       "      <td>0.8955</td>\n",
       "      <td>5.324</td>\n",
       "      <td>3.379</td>\n",
       "      <td>2.259</td>\n",
       "      <td>4.805</td>\n",
       "      <td>1</td>\n",
       "    </tr>\n",
       "    <tr>\n",
       "      <th>4</th>\n",
       "      <td>16.14</td>\n",
       "      <td>14.99</td>\n",
       "      <td>0.9034</td>\n",
       "      <td>5.658</td>\n",
       "      <td>3.562</td>\n",
       "      <td>1.355</td>\n",
       "      <td>5.175</td>\n",
       "      <td>1</td>\n",
       "    </tr>\n",
       "    <tr>\n",
       "      <th>...</th>\n",
       "      <td>...</td>\n",
       "      <td>...</td>\n",
       "      <td>...</td>\n",
       "      <td>...</td>\n",
       "      <td>...</td>\n",
       "      <td>...</td>\n",
       "      <td>...</td>\n",
       "      <td>...</td>\n",
       "    </tr>\n",
       "    <tr>\n",
       "      <th>205</th>\n",
       "      <td>12.19</td>\n",
       "      <td>13.20</td>\n",
       "      <td>0.8783</td>\n",
       "      <td>5.137</td>\n",
       "      <td>2.981</td>\n",
       "      <td>3.631</td>\n",
       "      <td>4.870</td>\n",
       "      <td>3</td>\n",
       "    </tr>\n",
       "    <tr>\n",
       "      <th>206</th>\n",
       "      <td>11.23</td>\n",
       "      <td>12.88</td>\n",
       "      <td>0.8511</td>\n",
       "      <td>5.140</td>\n",
       "      <td>2.795</td>\n",
       "      <td>4.325</td>\n",
       "      <td>5.003</td>\n",
       "      <td>3</td>\n",
       "    </tr>\n",
       "    <tr>\n",
       "      <th>207</th>\n",
       "      <td>13.20</td>\n",
       "      <td>13.66</td>\n",
       "      <td>0.8883</td>\n",
       "      <td>5.236</td>\n",
       "      <td>3.232</td>\n",
       "      <td>8.315</td>\n",
       "      <td>5.056</td>\n",
       "      <td>3</td>\n",
       "    </tr>\n",
       "    <tr>\n",
       "      <th>208</th>\n",
       "      <td>11.84</td>\n",
       "      <td>13.21</td>\n",
       "      <td>0.8521</td>\n",
       "      <td>5.175</td>\n",
       "      <td>2.836</td>\n",
       "      <td>3.598</td>\n",
       "      <td>5.044</td>\n",
       "      <td>3</td>\n",
       "    </tr>\n",
       "    <tr>\n",
       "      <th>209</th>\n",
       "      <td>12.30</td>\n",
       "      <td>13.34</td>\n",
       "      <td>0.8684</td>\n",
       "      <td>5.243</td>\n",
       "      <td>2.974</td>\n",
       "      <td>5.637</td>\n",
       "      <td>5.063</td>\n",
       "      <td>3</td>\n",
       "    </tr>\n",
       "  </tbody>\n",
       "</table>\n",
       "<p>210 rows × 8 columns</p>\n",
       "</div>"
      ],
      "text/plain": [
       "      Area  Perimeter  Compactness  Length_of_kernel  Width_of_kernel  \\\n",
       "0    15.26      14.84       0.8710             5.763            3.312   \n",
       "1    14.88      14.57       0.8811             5.554            3.333   \n",
       "2    14.29      14.09       0.9050             5.291            3.337   \n",
       "3    13.84      13.94       0.8955             5.324            3.379   \n",
       "4    16.14      14.99       0.9034             5.658            3.562   \n",
       "..     ...        ...          ...               ...              ...   \n",
       "205  12.19      13.20       0.8783             5.137            2.981   \n",
       "206  11.23      12.88       0.8511             5.140            2.795   \n",
       "207  13.20      13.66       0.8883             5.236            3.232   \n",
       "208  11.84      13.21       0.8521             5.175            2.836   \n",
       "209  12.30      13.34       0.8684             5.243            2.974   \n",
       "\n",
       "     Asymmetry_coefficient  Length_of_kernel_groove  Class  \n",
       "0                    2.221                    5.220      1  \n",
       "1                    1.018                    4.956      1  \n",
       "2                    2.699                    4.825      1  \n",
       "3                    2.259                    4.805      1  \n",
       "4                    1.355                    5.175      1  \n",
       "..                     ...                      ...    ...  \n",
       "205                  3.631                    4.870      3  \n",
       "206                  4.325                    5.003      3  \n",
       "207                  8.315                    5.056      3  \n",
       "208                  3.598                    5.044      3  \n",
       "209                  5.637                    5.063      3  \n",
       "\n",
       "[210 rows x 8 columns]"
      ]
     },
     "execution_count": 5,
     "metadata": {},
     "output_type": "execute_result"
    }
   ],
   "source": [
    "df = pd.read_csv(df_path)\n",
    "df"
   ]
  },
  {
   "cell_type": "code",
   "execution_count": 6,
   "id": "5aeae6fa",
   "metadata": {},
   "outputs": [
    {
     "data": {
      "text/html": [
       "<div>\n",
       "<style scoped>\n",
       "    .dataframe tbody tr th:only-of-type {\n",
       "        vertical-align: middle;\n",
       "    }\n",
       "\n",
       "    .dataframe tbody tr th {\n",
       "        vertical-align: top;\n",
       "    }\n",
       "\n",
       "    .dataframe thead th {\n",
       "        text-align: right;\n",
       "    }\n",
       "</style>\n",
       "<table border=\"1\" class=\"dataframe\">\n",
       "  <thead>\n",
       "    <tr style=\"text-align: right;\">\n",
       "      <th></th>\n",
       "      <th>Area</th>\n",
       "      <th>Perimeter</th>\n",
       "      <th>Compactness</th>\n",
       "      <th>Length_of_kernel</th>\n",
       "      <th>Width_of_kernel</th>\n",
       "      <th>Asymmetry_coefficient</th>\n",
       "      <th>Length_of_kernel_groove</th>\n",
       "      <th>Class</th>\n",
       "    </tr>\n",
       "  </thead>\n",
       "  <tbody>\n",
       "    <tr>\n",
       "      <th>0</th>\n",
       "      <td>15.26</td>\n",
       "      <td>14.84</td>\n",
       "      <td>0.8710</td>\n",
       "      <td>5.763</td>\n",
       "      <td>3.312</td>\n",
       "      <td>2.221</td>\n",
       "      <td>5.220</td>\n",
       "      <td>1</td>\n",
       "    </tr>\n",
       "    <tr>\n",
       "      <th>1</th>\n",
       "      <td>14.88</td>\n",
       "      <td>14.57</td>\n",
       "      <td>0.8811</td>\n",
       "      <td>5.554</td>\n",
       "      <td>3.333</td>\n",
       "      <td>1.018</td>\n",
       "      <td>4.956</td>\n",
       "      <td>1</td>\n",
       "    </tr>\n",
       "    <tr>\n",
       "      <th>2</th>\n",
       "      <td>14.29</td>\n",
       "      <td>14.09</td>\n",
       "      <td>0.9050</td>\n",
       "      <td>5.291</td>\n",
       "      <td>3.337</td>\n",
       "      <td>2.699</td>\n",
       "      <td>4.825</td>\n",
       "      <td>1</td>\n",
       "    </tr>\n",
       "    <tr>\n",
       "      <th>3</th>\n",
       "      <td>13.84</td>\n",
       "      <td>13.94</td>\n",
       "      <td>0.8955</td>\n",
       "      <td>5.324</td>\n",
       "      <td>3.379</td>\n",
       "      <td>2.259</td>\n",
       "      <td>4.805</td>\n",
       "      <td>1</td>\n",
       "    </tr>\n",
       "    <tr>\n",
       "      <th>4</th>\n",
       "      <td>16.14</td>\n",
       "      <td>14.99</td>\n",
       "      <td>0.9034</td>\n",
       "      <td>5.658</td>\n",
       "      <td>3.562</td>\n",
       "      <td>1.355</td>\n",
       "      <td>5.175</td>\n",
       "      <td>1</td>\n",
       "    </tr>\n",
       "  </tbody>\n",
       "</table>\n",
       "</div>"
      ],
      "text/plain": [
       "    Area  Perimeter  Compactness  Length_of_kernel  Width_of_kernel  \\\n",
       "0  15.26      14.84       0.8710             5.763            3.312   \n",
       "1  14.88      14.57       0.8811             5.554            3.333   \n",
       "2  14.29      14.09       0.9050             5.291            3.337   \n",
       "3  13.84      13.94       0.8955             5.324            3.379   \n",
       "4  16.14      14.99       0.9034             5.658            3.562   \n",
       "\n",
       "   Asymmetry_coefficient  Length_of_kernel_groove  Class  \n",
       "0                  2.221                    5.220      1  \n",
       "1                  1.018                    4.956      1  \n",
       "2                  2.699                    4.825      1  \n",
       "3                  2.259                    4.805      1  \n",
       "4                  1.355                    5.175      1  "
      ]
     },
     "execution_count": 6,
     "metadata": {},
     "output_type": "execute_result"
    }
   ],
   "source": [
    "df.head()"
   ]
  },
  {
   "cell_type": "code",
   "execution_count": 7,
   "id": "07257ef0",
   "metadata": {},
   "outputs": [
    {
     "data": {
      "text/plain": [
       "Area                       float64\n",
       "Perimeter                  float64\n",
       "Compactness                float64\n",
       "Length_of_kernel           float64\n",
       "Width_of_kernel            float64\n",
       "Asymmetry_coefficient      float64\n",
       "Length_of_kernel_groove    float64\n",
       "Class                        int64\n",
       "dtype: object"
      ]
     },
     "execution_count": 7,
     "metadata": {},
     "output_type": "execute_result"
    }
   ],
   "source": [
    "df.dtypes"
   ]
  },
  {
   "cell_type": "code",
   "execution_count": 8,
   "id": "d5b4275d",
   "metadata": {},
   "outputs": [
    {
     "data": {
      "text/html": [
       "<div>\n",
       "<style scoped>\n",
       "    .dataframe tbody tr th:only-of-type {\n",
       "        vertical-align: middle;\n",
       "    }\n",
       "\n",
       "    .dataframe tbody tr th {\n",
       "        vertical-align: top;\n",
       "    }\n",
       "\n",
       "    .dataframe thead th {\n",
       "        text-align: right;\n",
       "    }\n",
       "</style>\n",
       "<table border=\"1\" class=\"dataframe\">\n",
       "  <thead>\n",
       "    <tr style=\"text-align: right;\">\n",
       "      <th></th>\n",
       "      <th>Area</th>\n",
       "      <th>Perimeter</th>\n",
       "      <th>Compactness</th>\n",
       "      <th>Length_of_kernel</th>\n",
       "      <th>Width_of_kernel</th>\n",
       "      <th>Asymmetry_coefficient</th>\n",
       "      <th>Length_of_kernel_groove</th>\n",
       "      <th>Class</th>\n",
       "    </tr>\n",
       "  </thead>\n",
       "  <tbody>\n",
       "    <tr>\n",
       "      <th>count</th>\n",
       "      <td>210.000000</td>\n",
       "      <td>210.000000</td>\n",
       "      <td>210.000000</td>\n",
       "      <td>210.000000</td>\n",
       "      <td>210.000000</td>\n",
       "      <td>210.000000</td>\n",
       "      <td>210.000000</td>\n",
       "      <td>210.000000</td>\n",
       "    </tr>\n",
       "    <tr>\n",
       "      <th>mean</th>\n",
       "      <td>14.847524</td>\n",
       "      <td>14.559286</td>\n",
       "      <td>0.870999</td>\n",
       "      <td>5.628533</td>\n",
       "      <td>3.258605</td>\n",
       "      <td>3.700201</td>\n",
       "      <td>5.408071</td>\n",
       "      <td>2.000000</td>\n",
       "    </tr>\n",
       "    <tr>\n",
       "      <th>std</th>\n",
       "      <td>2.909699</td>\n",
       "      <td>1.305959</td>\n",
       "      <td>0.023629</td>\n",
       "      <td>0.443063</td>\n",
       "      <td>0.377714</td>\n",
       "      <td>1.503557</td>\n",
       "      <td>0.491480</td>\n",
       "      <td>0.818448</td>\n",
       "    </tr>\n",
       "    <tr>\n",
       "      <th>min</th>\n",
       "      <td>10.590000</td>\n",
       "      <td>12.410000</td>\n",
       "      <td>0.808100</td>\n",
       "      <td>4.899000</td>\n",
       "      <td>2.630000</td>\n",
       "      <td>0.765100</td>\n",
       "      <td>4.519000</td>\n",
       "      <td>1.000000</td>\n",
       "    </tr>\n",
       "    <tr>\n",
       "      <th>25%</th>\n",
       "      <td>12.270000</td>\n",
       "      <td>13.450000</td>\n",
       "      <td>0.856900</td>\n",
       "      <td>5.262250</td>\n",
       "      <td>2.944000</td>\n",
       "      <td>2.561500</td>\n",
       "      <td>5.045000</td>\n",
       "      <td>1.000000</td>\n",
       "    </tr>\n",
       "    <tr>\n",
       "      <th>50%</th>\n",
       "      <td>14.355000</td>\n",
       "      <td>14.320000</td>\n",
       "      <td>0.873450</td>\n",
       "      <td>5.523500</td>\n",
       "      <td>3.237000</td>\n",
       "      <td>3.599000</td>\n",
       "      <td>5.223000</td>\n",
       "      <td>2.000000</td>\n",
       "    </tr>\n",
       "    <tr>\n",
       "      <th>75%</th>\n",
       "      <td>17.305000</td>\n",
       "      <td>15.715000</td>\n",
       "      <td>0.887775</td>\n",
       "      <td>5.979750</td>\n",
       "      <td>3.561750</td>\n",
       "      <td>4.768750</td>\n",
       "      <td>5.877000</td>\n",
       "      <td>3.000000</td>\n",
       "    </tr>\n",
       "    <tr>\n",
       "      <th>max</th>\n",
       "      <td>21.180000</td>\n",
       "      <td>17.250000</td>\n",
       "      <td>0.918300</td>\n",
       "      <td>6.675000</td>\n",
       "      <td>4.033000</td>\n",
       "      <td>8.456000</td>\n",
       "      <td>6.550000</td>\n",
       "      <td>3.000000</td>\n",
       "    </tr>\n",
       "  </tbody>\n",
       "</table>\n",
       "</div>"
      ],
      "text/plain": [
       "             Area   Perimeter  Compactness  Length_of_kernel  Width_of_kernel  \\\n",
       "count  210.000000  210.000000   210.000000        210.000000       210.000000   \n",
       "mean    14.847524   14.559286     0.870999          5.628533         3.258605   \n",
       "std      2.909699    1.305959     0.023629          0.443063         0.377714   \n",
       "min     10.590000   12.410000     0.808100          4.899000         2.630000   \n",
       "25%     12.270000   13.450000     0.856900          5.262250         2.944000   \n",
       "50%     14.355000   14.320000     0.873450          5.523500         3.237000   \n",
       "75%     17.305000   15.715000     0.887775          5.979750         3.561750   \n",
       "max     21.180000   17.250000     0.918300          6.675000         4.033000   \n",
       "\n",
       "       Asymmetry_coefficient  Length_of_kernel_groove       Class  \n",
       "count             210.000000               210.000000  210.000000  \n",
       "mean                3.700201                 5.408071    2.000000  \n",
       "std                 1.503557                 0.491480    0.818448  \n",
       "min                 0.765100                 4.519000    1.000000  \n",
       "25%                 2.561500                 5.045000    1.000000  \n",
       "50%                 3.599000                 5.223000    2.000000  \n",
       "75%                 4.768750                 5.877000    3.000000  \n",
       "max                 8.456000                 6.550000    3.000000  "
      ]
     },
     "execution_count": 8,
     "metadata": {},
     "output_type": "execute_result"
    }
   ],
   "source": [
    "df.describe()"
   ]
  },
  {
   "cell_type": "code",
   "execution_count": 9,
   "id": "b505c304",
   "metadata": {},
   "outputs": [
    {
     "data": {
      "text/plain": [
       "1    70\n",
       "2    70\n",
       "3    70\n",
       "Name: Class, dtype: int64"
      ]
     },
     "execution_count": 9,
     "metadata": {},
     "output_type": "execute_result"
    }
   ],
   "source": [
    "df.Class.value_counts() # Balanced dataset"
   ]
  },
  {
   "cell_type": "code",
   "execution_count": 10,
   "id": "8de0f548",
   "metadata": {},
   "outputs": [
    {
     "data": {
      "image/png": "[encoded data removed]",
      "text/plain": [
       "<Figure size 1440x1440 with 9 Axes>"
      ]
     },
     "metadata": {
      "needs_background": "light"
     },
     "output_type": "display_data"
    }
   ],
   "source": [
    "plt.rcParams[\"figure.figsize\"] = (20,20)\n",
    "df.hist()\n",
    "plt.show()"
   ]
  },
  {
   "cell_type": "code",
   "execution_count": 11,
   "id": "adb26382",
   "metadata": {},
   "outputs": [
    {
     "data": {
      "image/png": "[encoded data removed]",
      "text/plain": [
       "<Figure size 1440x1440 with 35 Axes>"
      ]
     },
     "metadata": {
      "needs_background": "light"
     },
     "output_type": "display_data"
    }
   ],
   "source": [
    "df.plot(kind='density', subplots=True, layout=(5,7), sharex=False)\n",
    "plt.show()"
   ]
  },
  {
   "cell_type": "code",
   "execution_count": 12,
   "id": "ffb513bb",
   "metadata": {},
   "outputs": [
    {
     "data": {
      "text/plain": [
       "Area                       0\n",
       "Perimeter                  0\n",
       "Compactness                0\n",
       "Length_of_kernel           0\n",
       "Width_of_kernel            0\n",
       "Asymmetry_coefficient      0\n",
       "Length_of_kernel_groove    0\n",
       "Class                      0\n",
       "dtype: int64"
      ]
     },
     "execution_count": 12,
     "metadata": {},
     "output_type": "execute_result"
    }
   ],
   "source": [
    "df.isnull().sum()"
   ]
  },
  {
   "cell_type": "code",
   "execution_count": 13,
   "id": "53a17f5e",
   "metadata": {},
   "outputs": [
    {
     "data": {
      "text/plain": [
       "Area                       0\n",
       "Perimeter                  0\n",
       "Compactness                0\n",
       "Length_of_kernel           0\n",
       "Width_of_kernel            0\n",
       "Asymmetry_coefficient      0\n",
       "Length_of_kernel_groove    0\n",
       "Class                      0\n",
       "dtype: int64"
      ]
     },
     "execution_count": 13,
     "metadata": {},
     "output_type": "execute_result"
    }
   ],
   "source": [
    "df.isna().sum()"
   ]
  },
  {
   "cell_type": "code",
   "execution_count": 14,
   "id": "9cb74c01",
   "metadata": {},
   "outputs": [
    {
     "data": {
      "text/html": [
       "<div>\n",
       "<style scoped>\n",
       "    .dataframe tbody tr th:only-of-type {\n",
       "        vertical-align: middle;\n",
       "    }\n",
       "\n",
       "    .dataframe tbody tr th {\n",
       "        vertical-align: top;\n",
       "    }\n",
       "\n",
       "    .dataframe thead th {\n",
       "        text-align: right;\n",
       "    }\n",
       "</style>\n",
       "<table border=\"1\" class=\"dataframe\">\n",
       "  <thead>\n",
       "    <tr style=\"text-align: right;\">\n",
       "      <th></th>\n",
       "      <th>Area</th>\n",
       "      <th>Perimeter</th>\n",
       "      <th>Compactness</th>\n",
       "      <th>Length_of_kernel</th>\n",
       "      <th>Width_of_kernel</th>\n",
       "      <th>Asymmetry_coefficient</th>\n",
       "      <th>Length_of_kernel_groove</th>\n",
       "      <th>Class</th>\n",
       "    </tr>\n",
       "  </thead>\n",
       "  <tbody>\n",
       "  </tbody>\n",
       "</table>\n",
       "</div>"
      ],
      "text/plain": [
       "Empty DataFrame\n",
       "Columns: [Area, Perimeter, Compactness, Length_of_kernel, Width_of_kernel, Asymmetry_coefficient, Length_of_kernel_groove, Class]\n",
       "Index: []"
      ]
     },
     "execution_count": 14,
     "metadata": {},
     "output_type": "execute_result"
    }
   ],
   "source": [
    "duplicate_values = df[df.duplicated()]\n",
    "duplicate_values"
   ]
  },
  {
   "cell_type": "code",
   "execution_count": 15,
   "id": "710d6646",
   "metadata": {},
   "outputs": [
    {
     "data": {
      "image/png": "[encoded data removed]",
      "text/plain": [
       "<Figure size 1440x1440 with 16 Axes>"
      ]
     },
     "metadata": {
      "needs_background": "light"
     },
     "output_type": "display_data"
    }
   ],
   "source": [
    "df.plot(kind='box', subplots=True, layout=(4,4), sharex=False, sharey=False)\n",
    "plt.show()"
   ]
  },
  {
   "cell_type": "code",
   "execution_count": 16,
   "id": "85f383e0",
   "metadata": {},
   "outputs": [
    {
     "data": {
      "text/plain": [
       "Index(['Class', 'Asymmetry_coefficient', 'Length_of_kernel_groove',\n",
       "       'Length_of_kernel', 'Perimeter'],\n",
       "      dtype='object')"
      ]
     },
     "execution_count": 16,
     "metadata": {},
     "output_type": "execute_result"
    }
   ],
   "source": [
    "correlation = df.corr(method='spearman')\n",
    "columns = correlation.nlargest(5,'Class').index\n",
    "columns"
   ]
  },
  {
   "cell_type": "code",
   "execution_count": 17,
   "id": "12ff68e5",
   "metadata": {},
   "outputs": [
    {
     "data": {
      "image/png": "[encoded data removed]",
      "text/plain": [
       "<Figure size 1440x720 with 2 Axes>"
      ]
     },
     "metadata": {
      "needs_background": "light"
     },
     "output_type": "display_data"
    }
   ],
   "source": [
    "f = plt.figure(figsize=(20, 10))\n",
    "correlation_map = np.corrcoef(df[columns].values.T)\n",
    "sns.set(font_scale=1.0)\n",
    "heatmap = sns.heatmap(correlation_map, cbar=True, annot=True, square=True, fmt='.2f', yticklabels=columns.values, xticklabels=columns.values)\n",
    "\n",
    "plt.show()"
   ]
  },
  {
   "cell_type": "markdown",
   "id": "84739e59",
   "metadata": {},
   "source": [
    "##### Seperate dataset into features and output "
   ]
  },
  {
   "cell_type": "code",
   "execution_count": 18,
   "id": "285aad82",
   "metadata": {},
   "outputs": [],
   "source": [
    "values = df.values\n",
    "\n",
    "X = values[:,0:7]\n",
    "Y = values[:,7]"
   ]
  },
  {
   "cell_type": "markdown",
   "id": "1a086153",
   "metadata": {},
   "source": [
    "##### Feature Scaling "
   ]
  },
  {
   "cell_type": "code",
   "execution_count": 19,
   "id": "0572577f",
   "metadata": {},
   "outputs": [],
   "source": [
    "from sklearn.preprocessing import StandardScaler\n",
    "scaler = StandardScaler() # initialize scaler \n",
    "scaler.fit(X) # learn the necessary info from data \n",
    "X_scaled  = scaler.fit_transform(X) # apply scaling "
   ]
  },
  {
   "cell_type": "code",
   "execution_count": 20,
   "id": "3a7673f9",
   "metadata": {},
   "outputs": [],
   "source": [
    "df_scaled = pd.DataFrame(X_scaled)"
   ]
  },
  {
   "cell_type": "code",
   "execution_count": 21,
   "id": "110aac58",
   "metadata": {},
   "outputs": [
    {
     "data": {
      "image/png": "[encoded data removed]",
      "text/plain": [
       "<Figure size 1440x1440 with 9 Axes>"
      ]
     },
     "metadata": {},
     "output_type": "display_data"
    }
   ],
   "source": [
    "plt.rcParams[\"figure.figsize\"] = (20,20)\n",
    "df_scaled.hist()\n",
    "plt.show()"
   ]
  },
  {
   "cell_type": "code",
   "execution_count": 22,
   "id": "ef793e7d",
   "metadata": {},
   "outputs": [
    {
     "name": "stdout",
     "output_type": "stream",
     "text": [
      " LR: 0.932949 (+/- 0.062061)\n",
      "LDA: 0.964463 (+/- 0.045036)\n",
      "kNN: 0.931205 (+/- 0.053813)\n",
      " DT: 0.914715 (+/- 0.050051)\n",
      " NB: 0.901223 (+/- 0.067870)\n",
      "SVM: 0.926197 (+/- 0.057565)\n",
      " RF: 0.925769 (+/- 0.055237)\n",
      " GB: 0.937536 (+/- 0.045871)\n",
      "XGB: 0.930766 (+/- 0.047681)\n",
      "AdaBoost: 0.605332 (+/- 0.085529)\n",
      "ANN: 0.918732 (+/- 0.060521)\n"
     ]
    }
   ],
   "source": [
    "#Evaluation metric for 13 algorithms\n",
    "\n",
    "from sklearn.model_selection import cross_val_score\n",
    "from sklearn.model_selection import RepeatedStratifiedKFold\n",
    "from sklearn.pipeline import Pipeline\n",
    "from sklearn.linear_model import LogisticRegression\n",
    "from sklearn.discriminant_analysis import LinearDiscriminantAnalysis # LDA\n",
    "from sklearn.neighbors import KNeighborsClassifier #KNN\n",
    "from sklearn.naive_bayes import GaussianNB  # Naive Bayes\n",
    "from sklearn.tree import DecisionTreeClassifier # Decision Tree\n",
    "from sklearn.svm import SVC # SVM\n",
    "from sklearn.ensemble import RandomForestClassifier\n",
    "from sklearn.ensemble import GradientBoostingClassifier\n",
    "import xgboost as xgb\n",
    "from sklearn.ensemble import AdaBoostClassifier\n",
    "from sklearn.neural_network import MLPClassifier \n",
    "from sklearn.metrics import f1_score # We choose f1 score because the data are unbalanced and f1 takes the combination of precision and recall\n",
    "\n",
    "\n",
    "\n",
    "models = []\n",
    "models.append(('LR',  LogisticRegression(solver='liblinear')))\n",
    "models.append(('LDA', LinearDiscriminantAnalysis()))\n",
    "models.append(('kNN', KNeighborsClassifier()))\n",
    "models.append(('DT',  DecisionTreeClassifier()))\n",
    "models.append(('NB',  GaussianNB()))\n",
    "models.append(('SVM', SVC(kernel=\"linear\", gamma='auto')))\n",
    "models.append(('RF',  RandomForestClassifier()))\n",
    "models.append(('GB',  GradientBoostingClassifier()))\n",
    "models.append(('XGB', xgb.XGBClassifier()))\n",
    "models.append(('AdaBoost',  AdaBoostClassifier()))\n",
    "models.append(('ANN', MLPClassifier()))\n",
    "\n",
    "\n",
    "cv = RepeatedStratifiedKFold(n_splits=10, n_repeats=5, random_state=1)\n",
    "scoring = \"f1_macro\"\n",
    "\n",
    "results_no_noise={}\n",
    "\n",
    "results = []\n",
    "names   = []\n",
    "for i, model in models:\n",
    "    cv_results = cross_val_score(model, X_scaled, Y, cv=cv, n_jobs=-1, scoring=scoring)\n",
    "    results.append(cv_results)\n",
    "    names.append(i)\n",
    "    print(\"%03s: %f (+/- %f)\" % (i, cv_results.mean(), cv_results.std()))\n",
    "    results_no_noise[i]=cv_results.mean()"
   ]
  },
  {
   "cell_type": "code",
   "execution_count": 23,
   "id": "fe72790d",
   "metadata": {},
   "outputs": [],
   "source": [
    "# Multiple results from cross validation for statistical tests"
   ]
  },
  {
   "cell_type": "code",
   "execution_count": 24,
   "id": "3c8f0500",
   "metadata": {},
   "outputs": [],
   "source": [
    "# Create a function that assembles cross validation results  \n",
    "def cv_res (results):  \n",
    "    \n",
    "    a = [5,10,15,20,25,30,35,40,45,50]\n",
    "\n",
    "    x = []\n",
    "\n",
    "    sum = 0\n",
    "\n",
    "    for i , result in enumerate(results):\n",
    "       \n",
    "        sum += result\n",
    "\n",
    "        if i+1 in a: \n",
    "            x.append(sum/5)\n",
    "            sum=0\n",
    "    return x"
   ]
  },
  {
   "cell_type": "code",
   "execution_count": 25,
   "id": "aa485ae8",
   "metadata": {},
   "outputs": [
    {
     "data": {
      "text/html": [
       "<div>\n",
       "<style scoped>\n",
       "    .dataframe tbody tr th:only-of-type {\n",
       "        vertical-align: middle;\n",
       "    }\n",
       "\n",
       "    .dataframe tbody tr th {\n",
       "        vertical-align: top;\n",
       "    }\n",
       "\n",
       "    .dataframe thead th {\n",
       "        text-align: right;\n",
       "    }\n",
       "</style>\n",
       "<table border=\"1\" class=\"dataframe\">\n",
       "  <thead>\n",
       "    <tr style=\"text-align: right;\">\n",
       "      <th></th>\n",
       "      <th>LR</th>\n",
       "      <th>LDA</th>\n",
       "      <th>kNN</th>\n",
       "      <th>DT</th>\n",
       "      <th>NB</th>\n",
       "      <th>SVM</th>\n",
       "      <th>RF</th>\n",
       "      <th>GB</th>\n",
       "      <th>XGB</th>\n",
       "      <th>AdaBoost</th>\n",
       "      <th>ANN</th>\n",
       "    </tr>\n",
       "  </thead>\n",
       "  <tbody>\n",
       "    <tr>\n",
       "      <th>0</th>\n",
       "      <td>0.952283</td>\n",
       "      <td>0.980855</td>\n",
       "      <td>0.961709</td>\n",
       "      <td>0.933138</td>\n",
       "      <td>0.915342</td>\n",
       "      <td>0.952741</td>\n",
       "      <td>0.980855</td>\n",
       "      <td>0.933040</td>\n",
       "      <td>0.951886</td>\n",
       "      <td>0.622513</td>\n",
       "      <td>0.932839</td>\n",
       "    </tr>\n",
       "    <tr>\n",
       "      <th>1</th>\n",
       "      <td>0.911471</td>\n",
       "      <td>0.951502</td>\n",
       "      <td>0.900820</td>\n",
       "      <td>0.912662</td>\n",
       "      <td>0.900039</td>\n",
       "      <td>0.890008</td>\n",
       "      <td>0.902454</td>\n",
       "      <td>0.921679</td>\n",
       "      <td>0.912204</td>\n",
       "      <td>0.596966</td>\n",
       "      <td>0.900820</td>\n",
       "    </tr>\n",
       "    <tr>\n",
       "      <th>2</th>\n",
       "      <td>0.931282</td>\n",
       "      <td>0.961758</td>\n",
       "      <td>0.902662</td>\n",
       "      <td>0.891922</td>\n",
       "      <td>0.894035</td>\n",
       "      <td>0.912186</td>\n",
       "      <td>0.903834</td>\n",
       "      <td>0.913010</td>\n",
       "      <td>0.913309</td>\n",
       "      <td>0.566015</td>\n",
       "      <td>0.912186</td>\n",
       "    </tr>\n",
       "    <tr>\n",
       "      <th>3</th>\n",
       "      <td>0.931722</td>\n",
       "      <td>0.971380</td>\n",
       "      <td>0.952186</td>\n",
       "      <td>0.902564</td>\n",
       "      <td>0.904298</td>\n",
       "      <td>0.952234</td>\n",
       "      <td>0.923852</td>\n",
       "      <td>0.952692</td>\n",
       "      <td>0.952283</td>\n",
       "      <td>0.656821</td>\n",
       "      <td>0.924249</td>\n",
       "    </tr>\n",
       "    <tr>\n",
       "      <th>4</th>\n",
       "      <td>0.941074</td>\n",
       "      <td>0.961807</td>\n",
       "      <td>0.923394</td>\n",
       "      <td>0.923278</td>\n",
       "      <td>0.864273</td>\n",
       "      <td>0.932332</td>\n",
       "      <td>0.903931</td>\n",
       "      <td>0.961709</td>\n",
       "      <td>0.932692</td>\n",
       "      <td>0.614510</td>\n",
       "      <td>0.932967</td>\n",
       "    </tr>\n",
       "    <tr>\n",
       "      <th>5</th>\n",
       "      <td>0.921728</td>\n",
       "      <td>0.970647</td>\n",
       "      <td>0.932405</td>\n",
       "      <td>0.912912</td>\n",
       "      <td>0.919312</td>\n",
       "      <td>0.912393</td>\n",
       "      <td>0.950427</td>\n",
       "      <td>0.932503</td>\n",
       "      <td>0.932357</td>\n",
       "      <td>0.603254</td>\n",
       "      <td>0.902680</td>\n",
       "    </tr>\n",
       "    <tr>\n",
       "      <th>6</th>\n",
       "      <td>0.941459</td>\n",
       "      <td>0.971331</td>\n",
       "      <td>0.941410</td>\n",
       "      <td>0.891910</td>\n",
       "      <td>0.874052</td>\n",
       "      <td>0.922314</td>\n",
       "      <td>0.912265</td>\n",
       "      <td>0.941758</td>\n",
       "      <td>0.922314</td>\n",
       "      <td>0.637271</td>\n",
       "      <td>0.922485</td>\n",
       "    </tr>\n",
       "    <tr>\n",
       "      <th>7</th>\n",
       "      <td>0.932405</td>\n",
       "      <td>0.952063</td>\n",
       "      <td>0.923339</td>\n",
       "      <td>0.933138</td>\n",
       "      <td>0.923443</td>\n",
       "      <td>0.932454</td>\n",
       "      <td>0.923901</td>\n",
       "      <td>0.952283</td>\n",
       "      <td>0.924023</td>\n",
       "      <td>0.546892</td>\n",
       "      <td>0.913864</td>\n",
       "    </tr>\n",
       "    <tr>\n",
       "      <th>8</th>\n",
       "      <td>0.932662</td>\n",
       "      <td>0.961581</td>\n",
       "      <td>0.961758</td>\n",
       "      <td>0.931935</td>\n",
       "      <td>0.932863</td>\n",
       "      <td>0.942015</td>\n",
       "      <td>0.961758</td>\n",
       "      <td>0.942711</td>\n",
       "      <td>0.961758</td>\n",
       "      <td>0.610234</td>\n",
       "      <td>0.932863</td>\n",
       "    </tr>\n",
       "    <tr>\n",
       "      <th>9</th>\n",
       "      <td>0.933406</td>\n",
       "      <td>0.961709</td>\n",
       "      <td>0.912367</td>\n",
       "      <td>0.913694</td>\n",
       "      <td>0.884573</td>\n",
       "      <td>0.913297</td>\n",
       "      <td>0.894407</td>\n",
       "      <td>0.923974</td>\n",
       "      <td>0.904835</td>\n",
       "      <td>0.598841</td>\n",
       "      <td>0.912367</td>\n",
       "    </tr>\n",
       "  </tbody>\n",
       "</table>\n",
       "</div>"
      ],
      "text/plain": [
       "         LR       LDA       kNN        DT        NB       SVM        RF  \\\n",
       "0  0.952283  0.980855  0.961709  0.933138  0.915342  0.952741  0.980855   \n",
       "1  0.911471  0.951502  0.900820  0.912662  0.900039  0.890008  0.902454   \n",
       "2  0.931282  0.961758  0.902662  0.891922  0.894035  0.912186  0.903834   \n",
       "3  0.931722  0.971380  0.952186  0.902564  0.904298  0.952234  0.923852   \n",
       "4  0.941074  0.961807  0.923394  0.923278  0.864273  0.932332  0.903931   \n",
       "5  0.921728  0.970647  0.932405  0.912912  0.919312  0.912393  0.950427   \n",
       "6  0.941459  0.971331  0.941410  0.891910  0.874052  0.922314  0.912265   \n",
       "7  0.932405  0.952063  0.923339  0.933138  0.923443  0.932454  0.923901   \n",
       "8  0.932662  0.961581  0.961758  0.931935  0.932863  0.942015  0.961758   \n",
       "9  0.933406  0.961709  0.912367  0.913694  0.884573  0.913297  0.894407   \n",
       "\n",
       "         GB       XGB  AdaBoost       ANN  \n",
       "0  0.933040  0.951886  0.622513  0.932839  \n",
       "1  0.921679  0.912204  0.596966  0.900820  \n",
       "2  0.913010  0.913309  0.566015  0.912186  \n",
       "3  0.952692  0.952283  0.656821  0.924249  \n",
       "4  0.961709  0.932692  0.614510  0.932967  \n",
       "5  0.932503  0.932357  0.603254  0.902680  \n",
       "6  0.941758  0.922314  0.637271  0.922485  \n",
       "7  0.952283  0.924023  0.546892  0.913864  \n",
       "8  0.942711  0.961758  0.610234  0.932863  \n",
       "9  0.923974  0.904835  0.598841  0.912367  "
      ]
     },
     "execution_count": 25,
     "metadata": {},
     "output_type": "execute_result"
    }
   ],
   "source": [
    "m =[]\n",
    "for i in models:\n",
    "    m.append(i[0])\n",
    "\n",
    "f1_results = pd.DataFrame()\n",
    "\n",
    "\n",
    "for i, m in enumerate(m):\n",
    "    f1_results[str(m)] = cv_res(results[i])\n",
    "\n",
    "f1_results    "
   ]
  },
  {
   "cell_type": "code",
   "execution_count": 26,
   "id": "a4048ffa",
   "metadata": {},
   "outputs": [
    {
     "data": {
      "text/plain": [
       "0    0.949469\n",
       "1    0.910366\n",
       "2    0.913618\n",
       "3    0.936746\n",
       "4    0.927746\n",
       "5    0.928736\n",
       "6    0.924130\n",
       "7    0.931092\n",
       "8    0.946190\n",
       "9    0.915463\n",
       "dtype: float64"
      ]
     },
     "execution_count": 26,
     "metadata": {},
     "output_type": "execute_result"
    }
   ],
   "source": [
    "# Initial results without the AdaBoost algorithm\n",
    "f1_results_other_algorithms=f1_results.drop(columns=['AdaBoost']).mean(axis=1)\n",
    "f1_results_other_algorithms"
   ]
  },
  {
   "cell_type": "markdown",
   "id": "2df1a56d",
   "metadata": {},
   "source": [
    "## Noise without noisify "
   ]
  },
  {
   "cell_type": "code",
   "execution_count": 27,
   "id": "8670d59f",
   "metadata": {},
   "outputs": [],
   "source": [
    "# Create a function to add noise    \n",
    "def add_noise(X,p):\n",
    "    if p>0:\n",
    "        X_n = pd.DataFrame(X)\n",
    "        a,b = X.shape\n",
    "        c = round(a*p)\n",
    "\n",
    "        for k in range(b):\n",
    "            mean = X_n[k].mean()\n",
    "            sd = X_n[k].std()\n",
    "\n",
    "            for i in range(0,a,int(a/c)):\n",
    "                X_n.iloc[i,k] = np.random.normal(mean,sd)\n",
    "\n",
    "        return X_n.values\n",
    "\n",
    "    else:\n",
    "        return X"
   ]
  },
  {
   "cell_type": "markdown",
   "id": "531a3e05",
   "metadata": {},
   "source": [
    "#### Add noise 5%"
   ]
  },
  {
   "cell_type": "code",
   "execution_count": 28,
   "id": "9ce105cc",
   "metadata": {},
   "outputs": [],
   "source": [
    "X2_noise1 = add_noise(X_scaled, p=0.05)"
   ]
  },
  {
   "cell_type": "code",
   "execution_count": 29,
   "id": "abce5751",
   "metadata": {},
   "outputs": [
    {
     "name": "stdout",
     "output_type": "stream",
     "text": [
      " LR: 0.906102 (+/- 0.068063)\n",
      "LDA: 0.931804 (+/- 0.055691)\n",
      "kNN: 0.898351 (+/- 0.067215)\n",
      " DT: 0.864720 (+/- 0.056912)\n",
      " NB: 0.864458 (+/- 0.075261)\n",
      "SVM: 0.894009 (+/- 0.063452)\n",
      " RF: 0.894653 (+/- 0.064883)\n",
      " GB: 0.896300 (+/- 0.061186)\n",
      "XGB: 0.895307 (+/- 0.056467)\n",
      "AdaBoost: 0.807675 (+/- 0.111939)\n",
      "ANN: 0.888563 (+/- 0.071332)\n"
     ]
    }
   ],
   "source": [
    "from sklearn.model_selection import cross_val_score\n",
    "from sklearn.model_selection import RepeatedStratifiedKFold\n",
    "from sklearn.pipeline import Pipeline\n",
    "from sklearn.linear_model import LogisticRegression\n",
    "from sklearn.discriminant_analysis import LinearDiscriminantAnalysis # LDA\n",
    "from sklearn.neighbors import KNeighborsClassifier #KNN\n",
    "from sklearn.naive_bayes import GaussianNB  # Naive Bayes\n",
    "from sklearn.tree import DecisionTreeClassifier # Decision Tree\n",
    "from sklearn.svm import SVC # SVM\n",
    "from sklearn.ensemble import RandomForestClassifier\n",
    "from sklearn.ensemble import GradientBoostingClassifier\n",
    "import xgboost as xgb\n",
    "from sklearn.ensemble import AdaBoostClassifier\n",
    "from sklearn.neural_network import MLPClassifier \n",
    "from sklearn.metrics import f1_score # We choose f1 score because the data are unbalanced and f1 takes the combination of precision and recall\n",
    "\n",
    "\n",
    "\n",
    "models = []\n",
    "models.append(('LR',  LogisticRegression(solver='liblinear')))\n",
    "models.append(('LDA', LinearDiscriminantAnalysis()))\n",
    "models.append(('kNN', KNeighborsClassifier()))\n",
    "models.append(('DT',  DecisionTreeClassifier()))\n",
    "models.append(('NB',  GaussianNB()))\n",
    "models.append(('SVM', SVC(kernel=\"linear\", gamma='auto')))\n",
    "models.append(('RF',  RandomForestClassifier()))\n",
    "models.append(('GB',  GradientBoostingClassifier()))\n",
    "models.append(('XGB', xgb.XGBClassifier()))\n",
    "models.append(('AdaBoost',  AdaBoostClassifier()))\n",
    "models.append(('ANN', MLPClassifier()))\n",
    "\n",
    "\n",
    "cv = RepeatedStratifiedKFold(n_splits=10, n_repeats=5, random_state=1)\n",
    "scoring = \"f1_macro\"\n",
    "\n",
    "\n",
    "results_noise2_1={}\n",
    "\n",
    "results = []\n",
    "names   = []\n",
    "for i, model in models:\n",
    "    cv_results = cross_val_score(model, X2_noise1, Y, cv=cv, n_jobs=-1, scoring=scoring)\n",
    "    results.append(cv_results)\n",
    "    names.append(i)\n",
    "    print(\"%03s: %f (+/- %f)\" % (i, cv_results.mean(), cv_results.std()))\n",
    "    results_noise2_1[i]=cv_results.mean()"
   ]
  },
  {
   "cell_type": "code",
   "execution_count": 30,
   "id": "cd33c2d1",
   "metadata": {},
   "outputs": [
    {
     "data": {
      "text/html": [
       "<div>\n",
       "<style scoped>\n",
       "    .dataframe tbody tr th:only-of-type {\n",
       "        vertical-align: middle;\n",
       "    }\n",
       "\n",
       "    .dataframe tbody tr th {\n",
       "        vertical-align: top;\n",
       "    }\n",
       "\n",
       "    .dataframe thead th {\n",
       "        text-align: right;\n",
       "    }\n",
       "</style>\n",
       "<table border=\"1\" class=\"dataframe\">\n",
       "  <thead>\n",
       "    <tr style=\"text-align: right;\">\n",
       "      <th></th>\n",
       "      <th>LR</th>\n",
       "      <th>LDA</th>\n",
       "      <th>kNN</th>\n",
       "      <th>DT</th>\n",
       "      <th>NB</th>\n",
       "      <th>SVM</th>\n",
       "      <th>RF</th>\n",
       "      <th>GB</th>\n",
       "      <th>XGB</th>\n",
       "      <th>AdaBoost</th>\n",
       "      <th>ANN</th>\n",
       "    </tr>\n",
       "  </thead>\n",
       "  <tbody>\n",
       "    <tr>\n",
       "      <th>0</th>\n",
       "      <td>0.932673</td>\n",
       "      <td>0.942363</td>\n",
       "      <td>0.932442</td>\n",
       "      <td>0.867241</td>\n",
       "      <td>0.876367</td>\n",
       "      <td>0.913346</td>\n",
       "      <td>0.924023</td>\n",
       "      <td>0.894799</td>\n",
       "      <td>0.903394</td>\n",
       "      <td>0.756122</td>\n",
       "      <td>0.903474</td>\n",
       "    </tr>\n",
       "    <tr>\n",
       "      <th>1</th>\n",
       "      <td>0.872008</td>\n",
       "      <td>0.921380</td>\n",
       "      <td>0.861198</td>\n",
       "      <td>0.865006</td>\n",
       "      <td>0.851264</td>\n",
       "      <td>0.881264</td>\n",
       "      <td>0.862966</td>\n",
       "      <td>0.911886</td>\n",
       "      <td>0.892106</td>\n",
       "      <td>0.775110</td>\n",
       "      <td>0.859098</td>\n",
       "    </tr>\n",
       "    <tr>\n",
       "      <th>2</th>\n",
       "      <td>0.902662</td>\n",
       "      <td>0.904023</td>\n",
       "      <td>0.853010</td>\n",
       "      <td>0.844725</td>\n",
       "      <td>0.864383</td>\n",
       "      <td>0.892912</td>\n",
       "      <td>0.883217</td>\n",
       "      <td>0.883895</td>\n",
       "      <td>0.874371</td>\n",
       "      <td>0.857147</td>\n",
       "      <td>0.892405</td>\n",
       "    </tr>\n",
       "    <tr>\n",
       "      <th>3</th>\n",
       "      <td>0.922534</td>\n",
       "      <td>0.942821</td>\n",
       "      <td>0.924865</td>\n",
       "      <td>0.876593</td>\n",
       "      <td>0.856764</td>\n",
       "      <td>0.912961</td>\n",
       "      <td>0.895976</td>\n",
       "      <td>0.887386</td>\n",
       "      <td>0.905818</td>\n",
       "      <td>0.805783</td>\n",
       "      <td>0.886947</td>\n",
       "    </tr>\n",
       "    <tr>\n",
       "      <th>4</th>\n",
       "      <td>0.912912</td>\n",
       "      <td>0.980855</td>\n",
       "      <td>0.905488</td>\n",
       "      <td>0.894499</td>\n",
       "      <td>0.874420</td>\n",
       "      <td>0.905104</td>\n",
       "      <td>0.913394</td>\n",
       "      <td>0.924756</td>\n",
       "      <td>0.922564</td>\n",
       "      <td>0.785098</td>\n",
       "      <td>0.915061</td>\n",
       "    </tr>\n",
       "    <tr>\n",
       "      <th>5</th>\n",
       "      <td>0.883358</td>\n",
       "      <td>0.893773</td>\n",
       "      <td>0.883907</td>\n",
       "      <td>0.846960</td>\n",
       "      <td>0.861168</td>\n",
       "      <td>0.872307</td>\n",
       "      <td>0.894042</td>\n",
       "      <td>0.854982</td>\n",
       "      <td>0.857682</td>\n",
       "      <td>0.771050</td>\n",
       "      <td>0.861944</td>\n",
       "    </tr>\n",
       "    <tr>\n",
       "      <th>6</th>\n",
       "      <td>0.910799</td>\n",
       "      <td>0.960952</td>\n",
       "      <td>0.882594</td>\n",
       "      <td>0.860342</td>\n",
       "      <td>0.826006</td>\n",
       "      <td>0.873254</td>\n",
       "      <td>0.881078</td>\n",
       "      <td>0.901807</td>\n",
       "      <td>0.874408</td>\n",
       "      <td>0.845397</td>\n",
       "      <td>0.874683</td>\n",
       "    </tr>\n",
       "    <tr>\n",
       "      <th>7</th>\n",
       "      <td>0.913944</td>\n",
       "      <td>0.914774</td>\n",
       "      <td>0.913944</td>\n",
       "      <td>0.866129</td>\n",
       "      <td>0.903980</td>\n",
       "      <td>0.895140</td>\n",
       "      <td>0.875647</td>\n",
       "      <td>0.895189</td>\n",
       "      <td>0.923663</td>\n",
       "      <td>0.859344</td>\n",
       "      <td>0.904469</td>\n",
       "    </tr>\n",
       "    <tr>\n",
       "      <th>8</th>\n",
       "      <td>0.914628</td>\n",
       "      <td>0.942314</td>\n",
       "      <td>0.941807</td>\n",
       "      <td>0.872160</td>\n",
       "      <td>0.884585</td>\n",
       "      <td>0.920277</td>\n",
       "      <td>0.961709</td>\n",
       "      <td>0.933040</td>\n",
       "      <td>0.923468</td>\n",
       "      <td>0.852386</td>\n",
       "      <td>0.903297</td>\n",
       "    </tr>\n",
       "    <tr>\n",
       "      <th>9</th>\n",
       "      <td>0.895500</td>\n",
       "      <td>0.914786</td>\n",
       "      <td>0.884254</td>\n",
       "      <td>0.853546</td>\n",
       "      <td>0.845641</td>\n",
       "      <td>0.873527</td>\n",
       "      <td>0.854474</td>\n",
       "      <td>0.875263</td>\n",
       "      <td>0.875598</td>\n",
       "      <td>0.769311</td>\n",
       "      <td>0.884254</td>\n",
       "    </tr>\n",
       "  </tbody>\n",
       "</table>\n",
       "</div>"
      ],
      "text/plain": [
       "         LR       LDA       kNN        DT        NB       SVM        RF  \\\n",
       "0  0.932673  0.942363  0.932442  0.867241  0.876367  0.913346  0.924023   \n",
       "1  0.872008  0.921380  0.861198  0.865006  0.851264  0.881264  0.862966   \n",
       "2  0.902662  0.904023  0.853010  0.844725  0.864383  0.892912  0.883217   \n",
       "3  0.922534  0.942821  0.924865  0.876593  0.856764  0.912961  0.895976   \n",
       "4  0.912912  0.980855  0.905488  0.894499  0.874420  0.905104  0.913394   \n",
       "5  0.883358  0.893773  0.883907  0.846960  0.861168  0.872307  0.894042   \n",
       "6  0.910799  0.960952  0.882594  0.860342  0.826006  0.873254  0.881078   \n",
       "7  0.913944  0.914774  0.913944  0.866129  0.903980  0.895140  0.875647   \n",
       "8  0.914628  0.942314  0.941807  0.872160  0.884585  0.920277  0.961709   \n",
       "9  0.895500  0.914786  0.884254  0.853546  0.845641  0.873527  0.854474   \n",
       "\n",
       "         GB       XGB  AdaBoost       ANN  \n",
       "0  0.894799  0.903394  0.756122  0.903474  \n",
       "1  0.911886  0.892106  0.775110  0.859098  \n",
       "2  0.883895  0.874371  0.857147  0.892405  \n",
       "3  0.887386  0.905818  0.805783  0.886947  \n",
       "4  0.924756  0.922564  0.785098  0.915061  \n",
       "5  0.854982  0.857682  0.771050  0.861944  \n",
       "6  0.901807  0.874408  0.845397  0.874683  \n",
       "7  0.895189  0.923663  0.859344  0.904469  \n",
       "8  0.933040  0.923468  0.852386  0.903297  \n",
       "9  0.875263  0.875598  0.769311  0.884254  "
      ]
     },
     "execution_count": 30,
     "metadata": {},
     "output_type": "execute_result"
    }
   ],
   "source": [
    "m =[]\n",
    "for i in models:\n",
    "    m.append(i[0])\n",
    "\n",
    "f1_results_noise_1 = pd.DataFrame()\n",
    "\n",
    "\n",
    "for i, m in enumerate(m):\n",
    "    f1_results_noise_1[str(m)] = cv_res(results[i])\n",
    "\n",
    "f1_results_noise_1"
   ]
  },
  {
   "cell_type": "code",
   "execution_count": 31,
   "id": "b4efcb61",
   "metadata": {},
   "outputs": [
    {
     "data": {
      "text/plain": [
       "0    0.909012\n",
       "1    0.877818\n",
       "2    0.879560\n",
       "3    0.901267\n",
       "4    0.914905\n",
       "5    0.871012\n",
       "6    0.884592\n",
       "7    0.900688\n",
       "8    0.919728\n",
       "9    0.875684\n",
       "dtype: float64"
      ]
     },
     "execution_count": 31,
     "metadata": {},
     "output_type": "execute_result"
    }
   ],
   "source": [
    "# Results with noise 5% without the AdaBoost algorithm\n",
    "f1_results_noise_1_other_algorithms=f1_results_noise_1.drop(columns=['AdaBoost']).mean(axis=1)\n",
    "f1_results_noise_1_other_algorithms"
   ]
  },
  {
   "cell_type": "markdown",
   "id": "5b9a8db4",
   "metadata": {},
   "source": [
    "#### Add noise 10%"
   ]
  },
  {
   "cell_type": "code",
   "execution_count": 32,
   "id": "ce7e626f",
   "metadata": {},
   "outputs": [],
   "source": [
    "X2_noise2 = add_noise(X_scaled,p=.1)"
   ]
  },
  {
   "cell_type": "code",
   "execution_count": 33,
   "id": "dc2a5e97",
   "metadata": {},
   "outputs": [
    {
     "name": "stdout",
     "output_type": "stream",
     "text": [
      " LR: 0.844563 (+/- 0.074280)\n",
      "LDA: 0.865302 (+/- 0.068087)\n",
      "kNN: 0.835989 (+/- 0.074226)\n",
      " DT: 0.783080 (+/- 0.086834)\n",
      " NB: 0.804357 (+/- 0.078845)\n",
      "SVM: 0.835755 (+/- 0.076082)\n",
      " RF: 0.838014 (+/- 0.065070)\n",
      " GB: 0.815357 (+/- 0.068601)\n",
      "XGB: 0.825952 (+/- 0.057721)\n",
      "AdaBoost: 0.771664 (+/- 0.118273)\n",
      "ANN: 0.835000 (+/- 0.073410)\n"
     ]
    }
   ],
   "source": [
    "from sklearn.model_selection import cross_val_score\n",
    "from sklearn.model_selection import RepeatedStratifiedKFold\n",
    "from sklearn.pipeline import Pipeline\n",
    "from sklearn.linear_model import LogisticRegression\n",
    "from sklearn.discriminant_analysis import LinearDiscriminantAnalysis # LDA\n",
    "from sklearn.neighbors import KNeighborsClassifier #KNN\n",
    "from sklearn.naive_bayes import GaussianNB  # Naive Bayes\n",
    "from sklearn.tree import DecisionTreeClassifier # Decision Tree\n",
    "from sklearn.svm import SVC # SVM\n",
    "from sklearn.ensemble import RandomForestClassifier\n",
    "from sklearn.ensemble import GradientBoostingClassifier\n",
    "import xgboost as xgb\n",
    "from sklearn.ensemble import AdaBoostClassifier\n",
    "from sklearn.neural_network import MLPClassifier \n",
    "from sklearn.metrics import f1_score # We choose f1 score because the data are unbalanced and f1 takes the combination of precision and recall\n",
    "\n",
    "\n",
    "\n",
    "models = []\n",
    "models.append(('LR',  LogisticRegression(solver='liblinear')))\n",
    "models.append(('LDA', LinearDiscriminantAnalysis()))\n",
    "models.append(('kNN', KNeighborsClassifier()))\n",
    "models.append(('DT',  DecisionTreeClassifier()))\n",
    "models.append(('NB',  GaussianNB()))\n",
    "models.append(('SVM', SVC(kernel=\"linear\", gamma='auto')))\n",
    "models.append(('RF',  RandomForestClassifier()))\n",
    "models.append(('GB',  GradientBoostingClassifier()))\n",
    "models.append(('XGB', xgb.XGBClassifier()))\n",
    "models.append(('AdaBoost',  AdaBoostClassifier()))\n",
    "models.append(('ANN', MLPClassifier()))\n",
    "\n",
    "\n",
    "cv = RepeatedStratifiedKFold(n_splits=10, n_repeats=5, random_state=1)\n",
    "scoring = \"f1_macro\"\n",
    "\n",
    "\n",
    "results_noise2_2={}\n",
    "\n",
    "results = []\n",
    "names   = []\n",
    "for i, model in models:\n",
    "    cv_results = cross_val_score(model, X2_noise2, Y, cv=cv, n_jobs=-1, scoring=scoring)\n",
    "    results.append(cv_results)\n",
    "    names.append(i)\n",
    "    print(\"%03s: %f (+/- %f)\" % (i, cv_results.mean(), cv_results.std()))\n",
    "    results_noise2_2[i]=cv_results.mean()"
   ]
  },
  {
   "cell_type": "code",
   "execution_count": 34,
   "id": "fe8d8838",
   "metadata": {},
   "outputs": [
    {
     "data": {
      "text/html": [
       "<div>\n",
       "<style scoped>\n",
       "    .dataframe tbody tr th:only-of-type {\n",
       "        vertical-align: middle;\n",
       "    }\n",
       "\n",
       "    .dataframe tbody tr th {\n",
       "        vertical-align: top;\n",
       "    }\n",
       "\n",
       "    .dataframe thead th {\n",
       "        text-align: right;\n",
       "    }\n",
       "</style>\n",
       "<table border=\"1\" class=\"dataframe\">\n",
       "  <thead>\n",
       "    <tr style=\"text-align: right;\">\n",
       "      <th></th>\n",
       "      <th>LR</th>\n",
       "      <th>LDA</th>\n",
       "      <th>kNN</th>\n",
       "      <th>DT</th>\n",
       "      <th>NB</th>\n",
       "      <th>SVM</th>\n",
       "      <th>RF</th>\n",
       "      <th>GB</th>\n",
       "      <th>XGB</th>\n",
       "      <th>AdaBoost</th>\n",
       "      <th>ANN</th>\n",
       "    </tr>\n",
       "  </thead>\n",
       "  <tbody>\n",
       "    <tr>\n",
       "      <th>0</th>\n",
       "      <td>0.853236</td>\n",
       "      <td>0.893973</td>\n",
       "      <td>0.846038</td>\n",
       "      <td>0.750120</td>\n",
       "      <td>0.792597</td>\n",
       "      <td>0.852820</td>\n",
       "      <td>0.834422</td>\n",
       "      <td>0.806935</td>\n",
       "      <td>0.804019</td>\n",
       "      <td>0.770519</td>\n",
       "      <td>0.844592</td>\n",
       "    </tr>\n",
       "    <tr>\n",
       "      <th>1</th>\n",
       "      <td>0.845226</td>\n",
       "      <td>0.844276</td>\n",
       "      <td>0.818070</td>\n",
       "      <td>0.806409</td>\n",
       "      <td>0.808394</td>\n",
       "      <td>0.826526</td>\n",
       "      <td>0.816439</td>\n",
       "      <td>0.816905</td>\n",
       "      <td>0.817698</td>\n",
       "      <td>0.758736</td>\n",
       "      <td>0.828608</td>\n",
       "    </tr>\n",
       "    <tr>\n",
       "      <th>2</th>\n",
       "      <td>0.856105</td>\n",
       "      <td>0.864072</td>\n",
       "      <td>0.788706</td>\n",
       "      <td>0.755027</td>\n",
       "      <td>0.798541</td>\n",
       "      <td>0.799261</td>\n",
       "      <td>0.798054</td>\n",
       "      <td>0.796612</td>\n",
       "      <td>0.807429</td>\n",
       "      <td>0.787662</td>\n",
       "      <td>0.826557</td>\n",
       "    </tr>\n",
       "    <tr>\n",
       "      <th>3</th>\n",
       "      <td>0.843296</td>\n",
       "      <td>0.884212</td>\n",
       "      <td>0.876434</td>\n",
       "      <td>0.799878</td>\n",
       "      <td>0.827484</td>\n",
       "      <td>0.875342</td>\n",
       "      <td>0.858132</td>\n",
       "      <td>0.829476</td>\n",
       "      <td>0.848150</td>\n",
       "      <td>0.743945</td>\n",
       "      <td>0.857448</td>\n",
       "    </tr>\n",
       "    <tr>\n",
       "      <th>4</th>\n",
       "      <td>0.846602</td>\n",
       "      <td>0.893376</td>\n",
       "      <td>0.857939</td>\n",
       "      <td>0.829798</td>\n",
       "      <td>0.813444</td>\n",
       "      <td>0.855865</td>\n",
       "      <td>0.846204</td>\n",
       "      <td>0.846539</td>\n",
       "      <td>0.837125</td>\n",
       "      <td>0.731974</td>\n",
       "      <td>0.866516</td>\n",
       "    </tr>\n",
       "    <tr>\n",
       "      <th>5</th>\n",
       "      <td>0.836196</td>\n",
       "      <td>0.837698</td>\n",
       "      <td>0.806783</td>\n",
       "      <td>0.748950</td>\n",
       "      <td>0.774160</td>\n",
       "      <td>0.807944</td>\n",
       "      <td>0.833187</td>\n",
       "      <td>0.802395</td>\n",
       "      <td>0.804228</td>\n",
       "      <td>0.774962</td>\n",
       "      <td>0.805178</td>\n",
       "    </tr>\n",
       "    <tr>\n",
       "      <th>6</th>\n",
       "      <td>0.881269</td>\n",
       "      <td>0.920322</td>\n",
       "      <td>0.855255</td>\n",
       "      <td>0.776416</td>\n",
       "      <td>0.834956</td>\n",
       "      <td>0.853059</td>\n",
       "      <td>0.884200</td>\n",
       "      <td>0.834809</td>\n",
       "      <td>0.865250</td>\n",
       "      <td>0.749337</td>\n",
       "      <td>0.863394</td>\n",
       "    </tr>\n",
       "    <tr>\n",
       "      <th>7</th>\n",
       "      <td>0.779212</td>\n",
       "      <td>0.800970</td>\n",
       "      <td>0.799176</td>\n",
       "      <td>0.785139</td>\n",
       "      <td>0.786563</td>\n",
       "      <td>0.772424</td>\n",
       "      <td>0.818046</td>\n",
       "      <td>0.752669</td>\n",
       "      <td>0.800128</td>\n",
       "      <td>0.744680</td>\n",
       "      <td>0.791569</td>\n",
       "    </tr>\n",
       "    <tr>\n",
       "      <th>8</th>\n",
       "      <td>0.846684</td>\n",
       "      <td>0.865633</td>\n",
       "      <td>0.845249</td>\n",
       "      <td>0.770458</td>\n",
       "      <td>0.788381</td>\n",
       "      <td>0.865915</td>\n",
       "      <td>0.863686</td>\n",
       "      <td>0.847594</td>\n",
       "      <td>0.846215</td>\n",
       "      <td>0.834703</td>\n",
       "      <td>0.827326</td>\n",
       "    </tr>\n",
       "    <tr>\n",
       "      <th>9</th>\n",
       "      <td>0.857808</td>\n",
       "      <td>0.848486</td>\n",
       "      <td>0.866245</td>\n",
       "      <td>0.808602</td>\n",
       "      <td>0.819054</td>\n",
       "      <td>0.848394</td>\n",
       "      <td>0.827766</td>\n",
       "      <td>0.819634</td>\n",
       "      <td>0.829278</td>\n",
       "      <td>0.820117</td>\n",
       "      <td>0.838810</td>\n",
       "    </tr>\n",
       "  </tbody>\n",
       "</table>\n",
       "</div>"
      ],
      "text/plain": [
       "         LR       LDA       kNN        DT        NB       SVM        RF  \\\n",
       "0  0.853236  0.893973  0.846038  0.750120  0.792597  0.852820  0.834422   \n",
       "1  0.845226  0.844276  0.818070  0.806409  0.808394  0.826526  0.816439   \n",
       "2  0.856105  0.864072  0.788706  0.755027  0.798541  0.799261  0.798054   \n",
       "3  0.843296  0.884212  0.876434  0.799878  0.827484  0.875342  0.858132   \n",
       "4  0.846602  0.893376  0.857939  0.829798  0.813444  0.855865  0.846204   \n",
       "5  0.836196  0.837698  0.806783  0.748950  0.774160  0.807944  0.833187   \n",
       "6  0.881269  0.920322  0.855255  0.776416  0.834956  0.853059  0.884200   \n",
       "7  0.779212  0.800970  0.799176  0.785139  0.786563  0.772424  0.818046   \n",
       "8  0.846684  0.865633  0.845249  0.770458  0.788381  0.865915  0.863686   \n",
       "9  0.857808  0.848486  0.866245  0.808602  0.819054  0.848394  0.827766   \n",
       "\n",
       "         GB       XGB  AdaBoost       ANN  \n",
       "0  0.806935  0.804019  0.770519  0.844592  \n",
       "1  0.816905  0.817698  0.758736  0.828608  \n",
       "2  0.796612  0.807429  0.787662  0.826557  \n",
       "3  0.829476  0.848150  0.743945  0.857448  \n",
       "4  0.846539  0.837125  0.731974  0.866516  \n",
       "5  0.802395  0.804228  0.774962  0.805178  \n",
       "6  0.834809  0.865250  0.749337  0.863394  \n",
       "7  0.752669  0.800128  0.744680  0.791569  \n",
       "8  0.847594  0.846215  0.834703  0.827326  \n",
       "9  0.819634  0.829278  0.820117  0.838810  "
      ]
     },
     "execution_count": 34,
     "metadata": {},
     "output_type": "execute_result"
    }
   ],
   "source": [
    "m =[]\n",
    "for i in models:\n",
    "    m.append(i[0])\n",
    "\n",
    "f1_results_noise_2 = pd.DataFrame()\n",
    "\n",
    "\n",
    "for i, m in enumerate(m):\n",
    "    f1_results_noise_2[str(m)] = cv_res(results[i])\n",
    "\n",
    "f1_results_noise_2"
   ]
  },
  {
   "cell_type": "code",
   "execution_count": 35,
   "id": "aa110362",
   "metadata": {},
   "outputs": [
    {
     "data": {
      "text/plain": [
       "0    0.827875\n",
       "1    0.822855\n",
       "2    0.809036\n",
       "3    0.849985\n",
       "4    0.849341\n",
       "5    0.805672\n",
       "6    0.856893\n",
       "7    0.788590\n",
       "8    0.836714\n",
       "9    0.836408\n",
       "dtype: float64"
      ]
     },
     "execution_count": 35,
     "metadata": {},
     "output_type": "execute_result"
    }
   ],
   "source": [
    "f1_results_noise_2_other_algorithms=f1_results_noise_2.drop(columns=['AdaBoost']).mean(axis=1)\n",
    "f1_results_noise_2_other_algorithms"
   ]
  },
  {
   "cell_type": "markdown",
   "id": "c3ac55d3",
   "metadata": {},
   "source": [
    "#### Add noise 15%"
   ]
  },
  {
   "cell_type": "code",
   "execution_count": 36,
   "id": "91560bc2",
   "metadata": {},
   "outputs": [],
   "source": [
    "X2_noise3 = add_noise(X_scaled,p=.15)"
   ]
  },
  {
   "cell_type": "code",
   "execution_count": 37,
   "id": "847edf87",
   "metadata": {},
   "outputs": [
    {
     "name": "stdout",
     "output_type": "stream",
     "text": [
      " LR: 0.731075 (+/- 0.099794)\n",
      "LDA: 0.736642 (+/- 0.093403)\n",
      "kNN: 0.749715 (+/- 0.079637)\n",
      " DT: 0.723814 (+/- 0.090191)\n",
      " NB: 0.732291 (+/- 0.082749)\n",
      "SVM: 0.756677 (+/- 0.085361)\n",
      " RF: 0.748323 (+/- 0.077838)\n",
      " GB: 0.745920 (+/- 0.085962)\n",
      "XGB: 0.752486 (+/- 0.091859)\n",
      "AdaBoost: 0.698754 (+/- 0.103725)\n",
      "ANN: 0.739636 (+/- 0.099465)\n"
     ]
    }
   ],
   "source": [
    "from sklearn.model_selection import cross_val_score\n",
    "from sklearn.model_selection import RepeatedStratifiedKFold\n",
    "from sklearn.pipeline import Pipeline\n",
    "from sklearn.linear_model import LogisticRegression\n",
    "from sklearn.discriminant_analysis import LinearDiscriminantAnalysis # LDA\n",
    "from sklearn.neighbors import KNeighborsClassifier #KNN\n",
    "from sklearn.naive_bayes import GaussianNB  # Naive Bayes\n",
    "from sklearn.tree import DecisionTreeClassifier # Decision Tree\n",
    "from sklearn.svm import SVC # SVM\n",
    "from sklearn.ensemble import RandomForestClassifier\n",
    "from sklearn.ensemble import GradientBoostingClassifier\n",
    "import xgboost as xgb\n",
    "from sklearn.ensemble import AdaBoostClassifier\n",
    "from sklearn.neural_network import MLPClassifier \n",
    "from sklearn.metrics import f1_score # We choose f1 score because the data are unbalanced and f1 takes the combination of precision and recall\n",
    "\n",
    "\n",
    "\n",
    "models = []\n",
    "models.append(('LR',  LogisticRegression(solver='liblinear')))\n",
    "models.append(('LDA', LinearDiscriminantAnalysis()))\n",
    "models.append(('kNN', KNeighborsClassifier()))\n",
    "models.append(('DT',  DecisionTreeClassifier()))\n",
    "models.append(('NB',  GaussianNB()))\n",
    "models.append(('SVM', SVC(kernel=\"linear\", gamma='auto')))\n",
    "models.append(('RF',  RandomForestClassifier()))\n",
    "models.append(('GB',  GradientBoostingClassifier()))\n",
    "models.append(('XGB', xgb.XGBClassifier()))\n",
    "models.append(('AdaBoost',  AdaBoostClassifier()))\n",
    "models.append(('ANN', MLPClassifier()))\n",
    "\n",
    "\n",
    "cv = RepeatedStratifiedKFold(n_splits=10, n_repeats=5, random_state=1)\n",
    "scoring = \"f1_macro\"\n",
    "\n",
    "\n",
    "results_noise2_3={}\n",
    "\n",
    "results = []\n",
    "names   = []\n",
    "for i, model in models:\n",
    "    cv_results = cross_val_score(model, X2_noise3, Y, cv=cv, n_jobs=-1, scoring=scoring)\n",
    "    results.append(cv_results)\n",
    "    names.append(i)\n",
    "    print(\"%03s: %f (+/- %f)\" % (i, cv_results.mean(), cv_results.std()))\n",
    "    results_noise2_3[i]=cv_results.mean()"
   ]
  },
  {
   "cell_type": "code",
   "execution_count": 38,
   "id": "f48f4efc",
   "metadata": {},
   "outputs": [
    {
     "data": {
      "text/html": [
       "<div>\n",
       "<style scoped>\n",
       "    .dataframe tbody tr th:only-of-type {\n",
       "        vertical-align: middle;\n",
       "    }\n",
       "\n",
       "    .dataframe tbody tr th {\n",
       "        vertical-align: top;\n",
       "    }\n",
       "\n",
       "    .dataframe thead th {\n",
       "        text-align: right;\n",
       "    }\n",
       "</style>\n",
       "<table border=\"1\" class=\"dataframe\">\n",
       "  <thead>\n",
       "    <tr style=\"text-align: right;\">\n",
       "      <th></th>\n",
       "      <th>LR</th>\n",
       "      <th>LDA</th>\n",
       "      <th>kNN</th>\n",
       "      <th>DT</th>\n",
       "      <th>NB</th>\n",
       "      <th>SVM</th>\n",
       "      <th>RF</th>\n",
       "      <th>GB</th>\n",
       "      <th>XGB</th>\n",
       "      <th>AdaBoost</th>\n",
       "      <th>ANN</th>\n",
       "    </tr>\n",
       "  </thead>\n",
       "  <tbody>\n",
       "    <tr>\n",
       "      <th>0</th>\n",
       "      <td>0.713341</td>\n",
       "      <td>0.727202</td>\n",
       "      <td>0.782556</td>\n",
       "      <td>0.755670</td>\n",
       "      <td>0.734932</td>\n",
       "      <td>0.764903</td>\n",
       "      <td>0.762834</td>\n",
       "      <td>0.744373</td>\n",
       "      <td>0.742804</td>\n",
       "      <td>0.688362</td>\n",
       "      <td>0.725669</td>\n",
       "    </tr>\n",
       "    <tr>\n",
       "      <th>1</th>\n",
       "      <td>0.755543</td>\n",
       "      <td>0.735804</td>\n",
       "      <td>0.728129</td>\n",
       "      <td>0.704931</td>\n",
       "      <td>0.737368</td>\n",
       "      <td>0.749358</td>\n",
       "      <td>0.757679</td>\n",
       "      <td>0.727663</td>\n",
       "      <td>0.767558</td>\n",
       "      <td>0.739636</td>\n",
       "      <td>0.745903</td>\n",
       "    </tr>\n",
       "    <tr>\n",
       "      <th>2</th>\n",
       "      <td>0.722625</td>\n",
       "      <td>0.713590</td>\n",
       "      <td>0.702650</td>\n",
       "      <td>0.699860</td>\n",
       "      <td>0.715598</td>\n",
       "      <td>0.712142</td>\n",
       "      <td>0.693022</td>\n",
       "      <td>0.728240</td>\n",
       "      <td>0.709135</td>\n",
       "      <td>0.652515</td>\n",
       "      <td>0.723700</td>\n",
       "    </tr>\n",
       "    <tr>\n",
       "      <th>3</th>\n",
       "      <td>0.763126</td>\n",
       "      <td>0.761940</td>\n",
       "      <td>0.790412</td>\n",
       "      <td>0.723560</td>\n",
       "      <td>0.771077</td>\n",
       "      <td>0.789590</td>\n",
       "      <td>0.782730</td>\n",
       "      <td>0.754048</td>\n",
       "      <td>0.781893</td>\n",
       "      <td>0.739492</td>\n",
       "      <td>0.782502</td>\n",
       "    </tr>\n",
       "    <tr>\n",
       "      <th>4</th>\n",
       "      <td>0.750832</td>\n",
       "      <td>0.780530</td>\n",
       "      <td>0.770840</td>\n",
       "      <td>0.774322</td>\n",
       "      <td>0.724042</td>\n",
       "      <td>0.803558</td>\n",
       "      <td>0.763344</td>\n",
       "      <td>0.794182</td>\n",
       "      <td>0.752983</td>\n",
       "      <td>0.681054</td>\n",
       "      <td>0.745674</td>\n",
       "    </tr>\n",
       "    <tr>\n",
       "      <th>5</th>\n",
       "      <td>0.683078</td>\n",
       "      <td>0.684202</td>\n",
       "      <td>0.687465</td>\n",
       "      <td>0.724132</td>\n",
       "      <td>0.722210</td>\n",
       "      <td>0.721504</td>\n",
       "      <td>0.725983</td>\n",
       "      <td>0.724285</td>\n",
       "      <td>0.752108</td>\n",
       "      <td>0.654127</td>\n",
       "      <td>0.733096</td>\n",
       "    </tr>\n",
       "    <tr>\n",
       "      <th>6</th>\n",
       "      <td>0.777770</td>\n",
       "      <td>0.799261</td>\n",
       "      <td>0.780127</td>\n",
       "      <td>0.701502</td>\n",
       "      <td>0.756906</td>\n",
       "      <td>0.795661</td>\n",
       "      <td>0.753724</td>\n",
       "      <td>0.779927</td>\n",
       "      <td>0.761868</td>\n",
       "      <td>0.699678</td>\n",
       "      <td>0.795466</td>\n",
       "    </tr>\n",
       "    <tr>\n",
       "      <th>7</th>\n",
       "      <td>0.686421</td>\n",
       "      <td>0.676844</td>\n",
       "      <td>0.717633</td>\n",
       "      <td>0.695374</td>\n",
       "      <td>0.704940</td>\n",
       "      <td>0.704646</td>\n",
       "      <td>0.716285</td>\n",
       "      <td>0.700733</td>\n",
       "      <td>0.755946</td>\n",
       "      <td>0.694228</td>\n",
       "      <td>0.698187</td>\n",
       "    </tr>\n",
       "    <tr>\n",
       "      <th>8</th>\n",
       "      <td>0.724401</td>\n",
       "      <td>0.734093</td>\n",
       "      <td>0.786052</td>\n",
       "      <td>0.764361</td>\n",
       "      <td>0.735504</td>\n",
       "      <td>0.752870</td>\n",
       "      <td>0.806487</td>\n",
       "      <td>0.753905</td>\n",
       "      <td>0.730471</td>\n",
       "      <td>0.735344</td>\n",
       "      <td>0.722400</td>\n",
       "    </tr>\n",
       "    <tr>\n",
       "      <th>9</th>\n",
       "      <td>0.733614</td>\n",
       "      <td>0.752956</td>\n",
       "      <td>0.751287</td>\n",
       "      <td>0.694427</td>\n",
       "      <td>0.720331</td>\n",
       "      <td>0.772540</td>\n",
       "      <td>0.721137</td>\n",
       "      <td>0.751843</td>\n",
       "      <td>0.770097</td>\n",
       "      <td>0.703100</td>\n",
       "      <td>0.723761</td>\n",
       "    </tr>\n",
       "  </tbody>\n",
       "</table>\n",
       "</div>"
      ],
      "text/plain": [
       "         LR       LDA       kNN        DT        NB       SVM        RF  \\\n",
       "0  0.713341  0.727202  0.782556  0.755670  0.734932  0.764903  0.762834   \n",
       "1  0.755543  0.735804  0.728129  0.704931  0.737368  0.749358  0.757679   \n",
       "2  0.722625  0.713590  0.702650  0.699860  0.715598  0.712142  0.693022   \n",
       "3  0.763126  0.761940  0.790412  0.723560  0.771077  0.789590  0.782730   \n",
       "4  0.750832  0.780530  0.770840  0.774322  0.724042  0.803558  0.763344   \n",
       "5  0.683078  0.684202  0.687465  0.724132  0.722210  0.721504  0.725983   \n",
       "6  0.777770  0.799261  0.780127  0.701502  0.756906  0.795661  0.753724   \n",
       "7  0.686421  0.676844  0.717633  0.695374  0.704940  0.704646  0.716285   \n",
       "8  0.724401  0.734093  0.786052  0.764361  0.735504  0.752870  0.806487   \n",
       "9  0.733614  0.752956  0.751287  0.694427  0.720331  0.772540  0.721137   \n",
       "\n",
       "         GB       XGB  AdaBoost       ANN  \n",
       "0  0.744373  0.742804  0.688362  0.725669  \n",
       "1  0.727663  0.767558  0.739636  0.745903  \n",
       "2  0.728240  0.709135  0.652515  0.723700  \n",
       "3  0.754048  0.781893  0.739492  0.782502  \n",
       "4  0.794182  0.752983  0.681054  0.745674  \n",
       "5  0.724285  0.752108  0.654127  0.733096  \n",
       "6  0.779927  0.761868  0.699678  0.795466  \n",
       "7  0.700733  0.755946  0.694228  0.698187  \n",
       "8  0.753905  0.730471  0.735344  0.722400  \n",
       "9  0.751843  0.770097  0.703100  0.723761  "
      ]
     },
     "execution_count": 38,
     "metadata": {},
     "output_type": "execute_result"
    }
   ],
   "source": [
    "m =[]\n",
    "for i in models:\n",
    "    m.append(i[0])\n",
    "\n",
    "f1_results_noise_3 = pd.DataFrame()\n",
    "\n",
    "\n",
    "for i, m in enumerate(m):\n",
    "    f1_results_noise_3[str(m)] = cv_res(results[i])\n",
    "\n",
    "f1_results_noise_3"
   ]
  },
  {
   "cell_type": "code",
   "execution_count": 39,
   "id": "867d55ce",
   "metadata": {},
   "outputs": [
    {
     "data": {
      "text/plain": [
       "0    0.745429\n",
       "1    0.740994\n",
       "2    0.712056\n",
       "3    0.770088\n",
       "4    0.766031\n",
       "5    0.715806\n",
       "6    0.770221\n",
       "7    0.705701\n",
       "8    0.751054\n",
       "9    0.739199\n",
       "dtype: float64"
      ]
     },
     "execution_count": 39,
     "metadata": {},
     "output_type": "execute_result"
    }
   ],
   "source": [
    "## Results with noise 15% without the AdaBoost algorithm\n",
    "f1_results_noise_3_other_algorithms=f1_results_noise_3.drop(columns=['AdaBoost']).mean(axis=1)\n",
    "f1_results_noise_3_other_algorithms"
   ]
  },
  {
   "cell_type": "markdown",
   "id": "991b82a4",
   "metadata": {},
   "source": [
    "#### Add noise 20%"
   ]
  },
  {
   "cell_type": "code",
   "execution_count": 40,
   "id": "846d36c0",
   "metadata": {},
   "outputs": [],
   "source": [
    "X2_noise4 = add_noise(X_scaled,p=.2)"
   ]
  },
  {
   "cell_type": "code",
   "execution_count": 41,
   "id": "3f7f3e6d",
   "metadata": {},
   "outputs": [
    {
     "name": "stdout",
     "output_type": "stream",
     "text": [
      " LR: 0.690667 (+/- 0.105142)\n",
      "LDA: 0.701059 (+/- 0.102452)\n",
      "kNN: 0.698186 (+/- 0.085429)\n",
      " DT: 0.658876 (+/- 0.093833)\n",
      " NB: 0.673513 (+/- 0.095931)\n",
      "SVM: 0.706470 (+/- 0.098975)\n",
      " RF: 0.699381 (+/- 0.091297)\n",
      " GB: 0.702289 (+/- 0.089363)\n",
      "XGB: 0.701909 (+/- 0.096771)\n",
      "AdaBoost: 0.656106 (+/- 0.079231)\n",
      "ANN: 0.697300 (+/- 0.096513)\n"
     ]
    }
   ],
   "source": [
    "from sklearn.model_selection import cross_val_score\n",
    "from sklearn.model_selection import RepeatedStratifiedKFold\n",
    "from sklearn.pipeline import Pipeline\n",
    "from sklearn.linear_model import LogisticRegression\n",
    "from sklearn.discriminant_analysis import LinearDiscriminantAnalysis # LDA\n",
    "from sklearn.neighbors import KNeighborsClassifier #KNN\n",
    "from sklearn.naive_bayes import GaussianNB  # Naive Bayes\n",
    "from sklearn.tree import DecisionTreeClassifier # Decision Tree\n",
    "from sklearn.svm import SVC # SVM\n",
    "from sklearn.ensemble import RandomForestClassifier\n",
    "from sklearn.ensemble import GradientBoostingClassifier\n",
    "import xgboost as xgb\n",
    "from sklearn.ensemble import AdaBoostClassifier\n",
    "from sklearn.neural_network import MLPClassifier \n",
    "from sklearn.metrics import f1_score # We choose f1 score because the data are unbalanced and f1 takes the combination of precision and recall\n",
    "\n",
    "\n",
    "\n",
    "models = []\n",
    "models.append(('LR',  LogisticRegression(solver='liblinear')))\n",
    "models.append(('LDA', LinearDiscriminantAnalysis()))\n",
    "models.append(('kNN', KNeighborsClassifier()))\n",
    "models.append(('DT',  DecisionTreeClassifier()))\n",
    "models.append(('NB',  GaussianNB()))\n",
    "models.append(('SVM', SVC(kernel=\"linear\", gamma='auto')))\n",
    "models.append(('RF',  RandomForestClassifier()))\n",
    "models.append(('GB',  GradientBoostingClassifier()))\n",
    "models.append(('XGB', xgb.XGBClassifier()))\n",
    "models.append(('AdaBoost',  AdaBoostClassifier()))\n",
    "models.append(('ANN', MLPClassifier()))\n",
    "\n",
    "\n",
    "cv = RepeatedStratifiedKFold(n_splits=10, n_repeats=5, random_state=1)\n",
    "scoring = \"f1_macro\"\n",
    "\n",
    "\n",
    "results_noise2_4={}\n",
    "\n",
    "results = []\n",
    "names   = []\n",
    "for i, model in models:\n",
    "    cv_results = cross_val_score(model, X2_noise4, Y, cv=cv, n_jobs=-1, scoring=scoring)\n",
    "    results.append(cv_results)\n",
    "    names.append(i)\n",
    "    print(\"%03s: %f (+/- %f)\" % (i, cv_results.mean(), cv_results.std()))\n",
    "    results_noise2_4[i]=cv_results.mean()"
   ]
  },
  {
   "cell_type": "code",
   "execution_count": 42,
   "id": "ec0b3f31",
   "metadata": {},
   "outputs": [
    {
     "data": {
      "text/html": [
       "<div>\n",
       "<style scoped>\n",
       "    .dataframe tbody tr th:only-of-type {\n",
       "        vertical-align: middle;\n",
       "    }\n",
       "\n",
       "    .dataframe tbody tr th {\n",
       "        vertical-align: top;\n",
       "    }\n",
       "\n",
       "    .dataframe thead th {\n",
       "        text-align: right;\n",
       "    }\n",
       "</style>\n",
       "<table border=\"1\" class=\"dataframe\">\n",
       "  <thead>\n",
       "    <tr style=\"text-align: right;\">\n",
       "      <th></th>\n",
       "      <th>LR</th>\n",
       "      <th>LDA</th>\n",
       "      <th>kNN</th>\n",
       "      <th>DT</th>\n",
       "      <th>NB</th>\n",
       "      <th>SVM</th>\n",
       "      <th>RF</th>\n",
       "      <th>GB</th>\n",
       "      <th>XGB</th>\n",
       "      <th>AdaBoost</th>\n",
       "      <th>ANN</th>\n",
       "    </tr>\n",
       "  </thead>\n",
       "  <tbody>\n",
       "    <tr>\n",
       "      <th>0</th>\n",
       "      <td>0.705221</td>\n",
       "      <td>0.704681</td>\n",
       "      <td>0.719259</td>\n",
       "      <td>0.641055</td>\n",
       "      <td>0.694319</td>\n",
       "      <td>0.744921</td>\n",
       "      <td>0.678840</td>\n",
       "      <td>0.697632</td>\n",
       "      <td>0.688332</td>\n",
       "      <td>0.669285</td>\n",
       "      <td>0.673428</td>\n",
       "    </tr>\n",
       "    <tr>\n",
       "      <th>1</th>\n",
       "      <td>0.706850</td>\n",
       "      <td>0.715952</td>\n",
       "      <td>0.694473</td>\n",
       "      <td>0.709390</td>\n",
       "      <td>0.660245</td>\n",
       "      <td>0.692443</td>\n",
       "      <td>0.729756</td>\n",
       "      <td>0.736991</td>\n",
       "      <td>0.758390</td>\n",
       "      <td>0.611222</td>\n",
       "      <td>0.690067</td>\n",
       "    </tr>\n",
       "    <tr>\n",
       "      <th>2</th>\n",
       "      <td>0.644101</td>\n",
       "      <td>0.670842</td>\n",
       "      <td>0.620706</td>\n",
       "      <td>0.601263</td>\n",
       "      <td>0.636979</td>\n",
       "      <td>0.635231</td>\n",
       "      <td>0.612091</td>\n",
       "      <td>0.646791</td>\n",
       "      <td>0.632935</td>\n",
       "      <td>0.625883</td>\n",
       "      <td>0.684215</td>\n",
       "    </tr>\n",
       "    <tr>\n",
       "      <th>3</th>\n",
       "      <td>0.714495</td>\n",
       "      <td>0.726566</td>\n",
       "      <td>0.747568</td>\n",
       "      <td>0.682507</td>\n",
       "      <td>0.699213</td>\n",
       "      <td>0.776660</td>\n",
       "      <td>0.769550</td>\n",
       "      <td>0.758827</td>\n",
       "      <td>0.758831</td>\n",
       "      <td>0.681940</td>\n",
       "      <td>0.719257</td>\n",
       "    </tr>\n",
       "    <tr>\n",
       "      <th>4</th>\n",
       "      <td>0.713930</td>\n",
       "      <td>0.735836</td>\n",
       "      <td>0.733256</td>\n",
       "      <td>0.662061</td>\n",
       "      <td>0.706576</td>\n",
       "      <td>0.739702</td>\n",
       "      <td>0.733293</td>\n",
       "      <td>0.702420</td>\n",
       "      <td>0.720216</td>\n",
       "      <td>0.660921</td>\n",
       "      <td>0.764555</td>\n",
       "    </tr>\n",
       "    <tr>\n",
       "      <th>5</th>\n",
       "      <td>0.677778</td>\n",
       "      <td>0.668639</td>\n",
       "      <td>0.678909</td>\n",
       "      <td>0.655456</td>\n",
       "      <td>0.656615</td>\n",
       "      <td>0.698673</td>\n",
       "      <td>0.693926</td>\n",
       "      <td>0.689965</td>\n",
       "      <td>0.635360</td>\n",
       "      <td>0.639047</td>\n",
       "      <td>0.650167</td>\n",
       "    </tr>\n",
       "    <tr>\n",
       "      <th>6</th>\n",
       "      <td>0.719116</td>\n",
       "      <td>0.720428</td>\n",
       "      <td>0.712473</td>\n",
       "      <td>0.696507</td>\n",
       "      <td>0.673122</td>\n",
       "      <td>0.750481</td>\n",
       "      <td>0.715080</td>\n",
       "      <td>0.703114</td>\n",
       "      <td>0.744274</td>\n",
       "      <td>0.662166</td>\n",
       "      <td>0.730885</td>\n",
       "    </tr>\n",
       "    <tr>\n",
       "      <th>7</th>\n",
       "      <td>0.661554</td>\n",
       "      <td>0.691688</td>\n",
       "      <td>0.677909</td>\n",
       "      <td>0.609825</td>\n",
       "      <td>0.681505</td>\n",
       "      <td>0.643645</td>\n",
       "      <td>0.694376</td>\n",
       "      <td>0.652907</td>\n",
       "      <td>0.676441</td>\n",
       "      <td>0.645560</td>\n",
       "      <td>0.687633</td>\n",
       "    </tr>\n",
       "    <tr>\n",
       "      <th>8</th>\n",
       "      <td>0.677781</td>\n",
       "      <td>0.681572</td>\n",
       "      <td>0.703367</td>\n",
       "      <td>0.679190</td>\n",
       "      <td>0.683521</td>\n",
       "      <td>0.713795</td>\n",
       "      <td>0.707684</td>\n",
       "      <td>0.742106</td>\n",
       "      <td>0.724236</td>\n",
       "      <td>0.706790</td>\n",
       "      <td>0.697554</td>\n",
       "    </tr>\n",
       "    <tr>\n",
       "      <th>9</th>\n",
       "      <td>0.685846</td>\n",
       "      <td>0.694385</td>\n",
       "      <td>0.693937</td>\n",
       "      <td>0.651507</td>\n",
       "      <td>0.643033</td>\n",
       "      <td>0.669148</td>\n",
       "      <td>0.659217</td>\n",
       "      <td>0.692132</td>\n",
       "      <td>0.680071</td>\n",
       "      <td>0.658242</td>\n",
       "      <td>0.675242</td>\n",
       "    </tr>\n",
       "  </tbody>\n",
       "</table>\n",
       "</div>"
      ],
      "text/plain": [
       "         LR       LDA       kNN        DT        NB       SVM        RF  \\\n",
       "0  0.705221  0.704681  0.719259  0.641055  0.694319  0.744921  0.678840   \n",
       "1  0.706850  0.715952  0.694473  0.709390  0.660245  0.692443  0.729756   \n",
       "2  0.644101  0.670842  0.620706  0.601263  0.636979  0.635231  0.612091   \n",
       "3  0.714495  0.726566  0.747568  0.682507  0.699213  0.776660  0.769550   \n",
       "4  0.713930  0.735836  0.733256  0.662061  0.706576  0.739702  0.733293   \n",
       "5  0.677778  0.668639  0.678909  0.655456  0.656615  0.698673  0.693926   \n",
       "6  0.719116  0.720428  0.712473  0.696507  0.673122  0.750481  0.715080   \n",
       "7  0.661554  0.691688  0.677909  0.609825  0.681505  0.643645  0.694376   \n",
       "8  0.677781  0.681572  0.703367  0.679190  0.683521  0.713795  0.707684   \n",
       "9  0.685846  0.694385  0.693937  0.651507  0.643033  0.669148  0.659217   \n",
       "\n",
       "         GB       XGB  AdaBoost       ANN  \n",
       "0  0.697632  0.688332  0.669285  0.673428  \n",
       "1  0.736991  0.758390  0.611222  0.690067  \n",
       "2  0.646791  0.632935  0.625883  0.684215  \n",
       "3  0.758827  0.758831  0.681940  0.719257  \n",
       "4  0.702420  0.720216  0.660921  0.764555  \n",
       "5  0.689965  0.635360  0.639047  0.650167  \n",
       "6  0.703114  0.744274  0.662166  0.730885  \n",
       "7  0.652907  0.676441  0.645560  0.687633  \n",
       "8  0.742106  0.724236  0.706790  0.697554  \n",
       "9  0.692132  0.680071  0.658242  0.675242  "
      ]
     },
     "execution_count": 42,
     "metadata": {},
     "output_type": "execute_result"
    }
   ],
   "source": [
    "m =[]\n",
    "for i in models:\n",
    "    m.append(i[0])\n",
    "\n",
    "f1_results_noise_4 = pd.DataFrame()\n",
    "\n",
    "\n",
    "for i, m in enumerate(m):\n",
    "    f1_results_noise_4[str(m)] = cv_res(results[i])\n",
    "\n",
    "f1_results_noise_4"
   ]
  },
  {
   "cell_type": "code",
   "execution_count": 43,
   "id": "5b1a8240",
   "metadata": {},
   "outputs": [
    {
     "data": {
      "text/plain": [
       "0    0.694769\n",
       "1    0.709456\n",
       "2    0.638515\n",
       "3    0.735347\n",
       "4    0.721185\n",
       "5    0.670549\n",
       "6    0.716548\n",
       "7    0.667748\n",
       "8    0.701080\n",
       "9    0.674452\n",
       "dtype: float64"
      ]
     },
     "execution_count": 43,
     "metadata": {},
     "output_type": "execute_result"
    }
   ],
   "source": [
    "## Results with noise 20% without the AdaBoost algorithm\n",
    "f1_results_noise_4_other_algorithms=f1_results_noise_4.drop(columns=['AdaBoost']).mean(axis=1)\n",
    "f1_results_noise_4_other_algorithms"
   ]
  },
  {
   "cell_type": "code",
   "execution_count": 44,
   "id": "5e4a68f7",
   "metadata": {},
   "outputs": [],
   "source": [
    "f1_consolidated_results2 = pd.DataFrame()\n",
    "f1_consolidated_results2 = f1_consolidated_results2.append(results_no_noise, ignore_index=True)\n",
    "f1_consolidated_results2 = f1_consolidated_results2.append(results_noise2_1, ignore_index=True)\n",
    "f1_consolidated_results2 = f1_consolidated_results2.append(results_noise2_2, ignore_index=True)\n",
    "f1_consolidated_results2 = f1_consolidated_results2.append(results_noise2_3, ignore_index=True)\n",
    "f1_consolidated_results2 = f1_consolidated_results2.append(results_noise2_4, ignore_index=True)"
   ]
  },
  {
   "cell_type": "code",
   "execution_count": 45,
   "id": "db1c85a1",
   "metadata": {},
   "outputs": [
    {
     "data": {
      "text/html": [
       "<div>\n",
       "<style scoped>\n",
       "    .dataframe tbody tr th:only-of-type {\n",
       "        vertical-align: middle;\n",
       "    }\n",
       "\n",
       "    .dataframe tbody tr th {\n",
       "        vertical-align: top;\n",
       "    }\n",
       "\n",
       "    .dataframe thead th {\n",
       "        text-align: right;\n",
       "    }\n",
       "</style>\n",
       "<table border=\"1\" class=\"dataframe\">\n",
       "  <thead>\n",
       "    <tr style=\"text-align: right;\">\n",
       "      <th></th>\n",
       "      <th>LR</th>\n",
       "      <th>LDA</th>\n",
       "      <th>kNN</th>\n",
       "      <th>DT</th>\n",
       "      <th>NB</th>\n",
       "      <th>SVM</th>\n",
       "      <th>RF</th>\n",
       "      <th>GB</th>\n",
       "      <th>XGB</th>\n",
       "      <th>AdaBoost</th>\n",
       "      <th>ANN</th>\n",
       "      <th>Status</th>\n",
       "    </tr>\n",
       "  </thead>\n",
       "  <tbody>\n",
       "    <tr>\n",
       "      <th>0</th>\n",
       "      <td>0.932949</td>\n",
       "      <td>0.964463</td>\n",
       "      <td>0.931205</td>\n",
       "      <td>0.914715</td>\n",
       "      <td>0.901223</td>\n",
       "      <td>0.926197</td>\n",
       "      <td>0.925769</td>\n",
       "      <td>0.937536</td>\n",
       "      <td>0.930766</td>\n",
       "      <td>0.605332</td>\n",
       "      <td>0.918732</td>\n",
       "      <td>Without Noise</td>\n",
       "    </tr>\n",
       "    <tr>\n",
       "      <th>1</th>\n",
       "      <td>0.906102</td>\n",
       "      <td>0.931804</td>\n",
       "      <td>0.898351</td>\n",
       "      <td>0.864720</td>\n",
       "      <td>0.864458</td>\n",
       "      <td>0.894009</td>\n",
       "      <td>0.894653</td>\n",
       "      <td>0.896300</td>\n",
       "      <td>0.895307</td>\n",
       "      <td>0.807675</td>\n",
       "      <td>0.888563</td>\n",
       "      <td>Noise 5%</td>\n",
       "    </tr>\n",
       "    <tr>\n",
       "      <th>2</th>\n",
       "      <td>0.844563</td>\n",
       "      <td>0.865302</td>\n",
       "      <td>0.835989</td>\n",
       "      <td>0.783080</td>\n",
       "      <td>0.804357</td>\n",
       "      <td>0.835755</td>\n",
       "      <td>0.838014</td>\n",
       "      <td>0.815357</td>\n",
       "      <td>0.825952</td>\n",
       "      <td>0.771664</td>\n",
       "      <td>0.835000</td>\n",
       "      <td>Noise 10%</td>\n",
       "    </tr>\n",
       "    <tr>\n",
       "      <th>3</th>\n",
       "      <td>0.731075</td>\n",
       "      <td>0.736642</td>\n",
       "      <td>0.749715</td>\n",
       "      <td>0.723814</td>\n",
       "      <td>0.732291</td>\n",
       "      <td>0.756677</td>\n",
       "      <td>0.748323</td>\n",
       "      <td>0.745920</td>\n",
       "      <td>0.752486</td>\n",
       "      <td>0.698754</td>\n",
       "      <td>0.739636</td>\n",
       "      <td>Noise 15%</td>\n",
       "    </tr>\n",
       "    <tr>\n",
       "      <th>4</th>\n",
       "      <td>0.690667</td>\n",
       "      <td>0.701059</td>\n",
       "      <td>0.698186</td>\n",
       "      <td>0.658876</td>\n",
       "      <td>0.673513</td>\n",
       "      <td>0.706470</td>\n",
       "      <td>0.699381</td>\n",
       "      <td>0.702289</td>\n",
       "      <td>0.701909</td>\n",
       "      <td>0.656106</td>\n",
       "      <td>0.697300</td>\n",
       "      <td>Noise 20%</td>\n",
       "    </tr>\n",
       "  </tbody>\n",
       "</table>\n",
       "</div>"
      ],
      "text/plain": [
       "         LR       LDA       kNN        DT        NB       SVM        RF  \\\n",
       "0  0.932949  0.964463  0.931205  0.914715  0.901223  0.926197  0.925769   \n",
       "1  0.906102  0.931804  0.898351  0.864720  0.864458  0.894009  0.894653   \n",
       "2  0.844563  0.865302  0.835989  0.783080  0.804357  0.835755  0.838014   \n",
       "3  0.731075  0.736642  0.749715  0.723814  0.732291  0.756677  0.748323   \n",
       "4  0.690667  0.701059  0.698186  0.658876  0.673513  0.706470  0.699381   \n",
       "\n",
       "         GB       XGB  AdaBoost       ANN         Status  \n",
       "0  0.937536  0.930766  0.605332  0.918732  Without Noise  \n",
       "1  0.896300  0.895307  0.807675  0.888563       Noise 5%  \n",
       "2  0.815357  0.825952  0.771664  0.835000      Noise 10%  \n",
       "3  0.745920  0.752486  0.698754  0.739636      Noise 15%  \n",
       "4  0.702289  0.701909  0.656106  0.697300      Noise 20%  "
      ]
     },
     "execution_count": 45,
     "metadata": {},
     "output_type": "execute_result"
    }
   ],
   "source": [
    "new_column_values = ['Without Noise','Noise 5%','Noise 10%','Noise 15%','Noise 20%']\n",
    "\n",
    "f1_consolidated_results2 [\"Status\"] = new_column_values \n",
    "\n",
    "f1_consolidated_results2 "
   ]
  },
  {
   "cell_type": "code",
   "execution_count": 46,
   "id": "4b002374",
   "metadata": {},
   "outputs": [
    {
     "data": {
      "image/png": "[encoded data removed]",
      "text/plain": [
       "<Figure size 720x432 with 1 Axes>"
      ]
     },
     "metadata": {},
     "output_type": "display_data"
    }
   ],
   "source": [
    "# Importing packages\n",
    "import matplotlib.pyplot as plt\n",
    "\n",
    "# Plot a simple line chart\n",
    "fig, g = plt.subplots(figsize = (10,6))\n",
    "\n",
    "sns.color_palette(\"rocket\", as_cmap=True)\n",
    "plt.plot(f1_consolidated_results2 ['Status'],f1_consolidated_results2.drop(columns=['Status','AdaBoost'],axis=1),linewidth=1)\n",
    "plt.plot(f1_consolidated_results2 ['Status'],f1_consolidated_results2['AdaBoost'],'--',linewidth=2)\n",
    "plt.legend(['LR','LDA','kNN','DT','NB','SVM','RF','GB','XGB','ANN', 'AdaBoost'])\n",
    "#plt.legend(f1_consolidated_results2['AdaBoost']),loc=\"upper right\")\n",
    "plt.ylim(0.55,1)\n",
    "plt.title(\"Seeds\")\n",
    "plt.savefig('Seeds.png', dpi = 300 ,transparent = True)\n",
    "plt.show()"
   ]
  },
  {
   "cell_type": "markdown",
   "id": "ad19943a",
   "metadata": {},
   "source": [
    "### T-test Statistic "
   ]
  },
  {
   "cell_type": "code",
   "execution_count": 47,
   "id": "c2dec7f2",
   "metadata": {},
   "outputs": [],
   "source": [
    "from scipy.stats import ttest_ind as ttest"
   ]
  },
  {
   "cell_type": "markdown",
   "id": "f86fa5f5",
   "metadata": {},
   "source": [
    "Hypothesis\n",
    "\n",
    "H0: Noise does not effect the models efficiency f1_no_noise = f1_noise\n",
    "\n",
    "H1: There is effect of noise in the models efficiency f1_no_noise <> f1_noise"
   ]
  },
  {
   "cell_type": "markdown",
   "id": "b14489b5",
   "metadata": {},
   "source": [
    "#### T-test for data without noise"
   ]
  },
  {
   "cell_type": "code",
   "execution_count": 48,
   "id": "0e1760e2",
   "metadata": {},
   "outputs": [
    {
     "name": "stdout",
     "output_type": "stream",
     "text": [
      "Test statistic is -29.598655\n",
      "p-value for two tailed test is 0.000000\n",
      "Since p-value(=0.000000) < alpha(=0.05) We reject the null hypothesis H0. So we conclude that the effect of noise in models efficiency at 0.05 level of significance.\n"
     ]
    }
   ],
   "source": [
    "t_value,p_value=ttest(f1_results['AdaBoost'],f1_results_other_algorithms)\n",
    "\n",
    "print('Test statistic is %f'%float(\"{:.6f}\".format(t_value)))\n",
    "\n",
    "print('p-value for two tailed test is %f'%p_value)\n",
    "\n",
    "alpha = 0.05\n",
    "  \n",
    "if p_value<=alpha:\n",
    "\n",
    "    print('Since p-value(=%f)'%p_value,'<','alpha(=%.2f)'%alpha,'''We reject the null hypothesis H0. So we conclude that the effect of noise in models efficiency at %.2f level of significance.'''%alpha)\n",
    "\n",
    "else:\n",
    "\n",
    "    print('Since p-value(=%f)'%p_value,'>','alpha(=%.2f)'%alpha,'''We do not reject the null hypothesis H0. So we conclude that the effect of noise do not change the models efficiency at %.2f level of significance.''' %alpha)\n"
   ]
  },
  {
   "cell_type": "markdown",
   "id": "e361ca76",
   "metadata": {},
   "source": [
    "### T-test for 5% noise"
   ]
  },
  {
   "cell_type": "markdown",
   "id": "e2455bb0",
   "metadata": {},
   "source": [
    "#### Compare with initial results"
   ]
  },
  {
   "cell_type": "code",
   "execution_count": 49,
   "id": "d91ca980",
   "metadata": {},
   "outputs": [
    {
     "name": "stdout",
     "output_type": "stream",
     "text": [
      "Test statistic is -12.205193\n",
      "p-value for two tailed test is 0.000000\n",
      "Since p-value(=0.000000) < alpha(=0.05) We reject the null hypothesis H0. So we conclude that the effect of noise in models efficiency at 0.05 level of significance.\n"
     ]
    }
   ],
   "source": [
    "t_value,p_value=ttest(f1_results['AdaBoost'],f1_results_noise_1['AdaBoost'])\n",
    "\n",
    "print('Test statistic is %f'%float(\"{:.6f}\".format(t_value)))\n",
    "\n",
    "print('p-value for two tailed test is %f'%p_value)\n",
    "\n",
    "alpha = 0.05\n",
    "  \n",
    "if p_value<=alpha:\n",
    "\n",
    "    print('Since p-value(=%f)'%p_value,'<','alpha(=%.2f)'%alpha,'''We reject the null hypothesis H0. So we conclude that the effect of noise in models efficiency at %.2f level of significance.'''%alpha)\n",
    "\n",
    "else:\n",
    "\n",
    "    print('Since p-value(=%f)'%p_value,'>','alpha(=%.2f)'%alpha,'''We do not reject the null hypothesis H0. So we conclude that the effect of noise do not change the models efficiency at %.2f level of significance.''' %alpha)\n"
   ]
  },
  {
   "cell_type": "markdown",
   "id": "037e36dc",
   "metadata": {},
   "source": [
    "#### Compare with other alforithms"
   ]
  },
  {
   "cell_type": "code",
   "execution_count": 50,
   "id": "4049dc59",
   "metadata": {},
   "outputs": [
    {
     "name": "stdout",
     "output_type": "stream",
     "text": [
      "Test statistic is 4.990680\n",
      "p-value for two tailed test is 0.000095\n",
      "Since p-value(=0.000095) < alpha(=0.05) We reject the null hypothesis H0. So we conclude that the effect of noise in models efficiency at 0.05 level of significance.\n"
     ]
    }
   ],
   "source": [
    "t_value,p_value=ttest(f1_results_other_algorithms,f1_results_noise_1_other_algorithms)\n",
    "\n",
    "print('Test statistic is %f'%float(\"{:.6f}\".format(t_value)))\n",
    "\n",
    "print('p-value for two tailed test is %f'%p_value)\n",
    "\n",
    "alpha = 0.05\n",
    "  \n",
    "if p_value<=alpha:\n",
    "\n",
    "    print('Since p-value(=%f)'%p_value,'<','alpha(=%.2f)'%alpha,'''We reject the null hypothesis H0. So we conclude that the effect of noise in models efficiency at %.2f level of significance.'''%alpha)\n",
    "\n",
    "else:\n",
    "\n",
    "    print('Since p-value(=%f)'%p_value,'>','alpha(=%.2f)'%alpha,'''We do not reject the null hypothesis H0. So we conclude that the effect of noise do not change the models efficiency at %.2f level of significance.''' %alpha)\n"
   ]
  },
  {
   "cell_type": "markdown",
   "id": "4d95675d",
   "metadata": {},
   "source": [
    "### T-test for 10% noise"
   ]
  },
  {
   "cell_type": "markdown",
   "id": "f0f6bb74",
   "metadata": {},
   "source": [
    "#### Compare with initial results"
   ]
  },
  {
   "cell_type": "code",
   "execution_count": 51,
   "id": "54c36be9",
   "metadata": {},
   "outputs": [
    {
     "name": "stdout",
     "output_type": "stream",
     "text": [
      "Test statistic is -11.306011\n",
      "p-value for two tailed test is 0.000000\n",
      "Since p-value(=0.000000) < alpha(=0.05) We reject the null hypothesis H0. So we conclude that the effect of noise in models efficiency at 0.05 level of significance.\n"
     ]
    }
   ],
   "source": [
    "t_value,p_value=ttest(f1_results['AdaBoost'],f1_results_noise_2['AdaBoost'])\n",
    "\n",
    "print('Test statistic is %f'%float(\"{:.6f}\".format(t_value)))\n",
    "\n",
    "print('p-value for two tailed test is %f'%p_value)\n",
    "\n",
    "alpha = 0.05\n",
    "  \n",
    "if p_value<=alpha:\n",
    "\n",
    "    print('Since p-value(=%f)'%p_value,'<','alpha(=%.2f)'%alpha,'''We reject the null hypothesis H0. So we conclude that the effect of noise in models efficiency at %.2f level of significance.'''%alpha)\n",
    "\n",
    "else:\n",
    "\n",
    "    print('Since p-value(=%f)'%p_value,'>','alpha(=%.2f)'%alpha,'''We do not reject the null hypothesis H0. So we conclude that the effect of noise do not change the models efficiency at %.2f level of significance.''' %alpha)\n"
   ]
  },
  {
   "cell_type": "markdown",
   "id": "42463163",
   "metadata": {},
   "source": [
    "#### Compare with other algorithms"
   ]
  },
  {
   "cell_type": "code",
   "execution_count": 52,
   "id": "a75a1bb9",
   "metadata": {},
   "outputs": [
    {
     "name": "stdout",
     "output_type": "stream",
     "text": [
      "Test statistic is 12.328002\n",
      "p-value for two tailed test is 0.000000\n",
      "Since p-value(=0.000000) < alpha(=0.05) We reject the null hypothesis H0. So we conclude that the effect of noise in models efficiency at 0.05 level of significance.\n"
     ]
    }
   ],
   "source": [
    "t_value,p_value=ttest(f1_results_other_algorithms,f1_results_noise_2_other_algorithms)\n",
    "\n",
    "print('Test statistic is %f'%float(\"{:.6f}\".format(t_value)))\n",
    "\n",
    "print('p-value for two tailed test is %f'%p_value)\n",
    "\n",
    "alpha = 0.05\n",
    "  \n",
    "if p_value<=alpha:\n",
    "\n",
    "    print('Since p-value(=%f)'%p_value,'<','alpha(=%.2f)'%alpha,'''We reject the null hypothesis H0. So we conclude that the effect of noise in models efficiency at %.2f level of significance.'''%alpha)\n",
    "\n",
    "else:\n",
    "\n",
    "    print('Since p-value(=%f)'%p_value,'>','alpha(=%.2f)'%alpha,'''We do not reject the null hypothesis H0. So we conclude that the effect of noise do not change the models efficiency at %.2f level of significance.''' %alpha)\n"
   ]
  },
  {
   "cell_type": "markdown",
   "id": "46ac75e9",
   "metadata": {},
   "source": [
    "### T-test for 15% noise"
   ]
  },
  {
   "cell_type": "markdown",
   "id": "dfb93df5",
   "metadata": {},
   "source": [
    "#### Compare with initial results"
   ]
  },
  {
   "cell_type": "code",
   "execution_count": 53,
   "id": "36c54631",
   "metadata": {},
   "outputs": [
    {
     "name": "stdout",
     "output_type": "stream",
     "text": [
      "Test statistic is -6.531422\n",
      "p-value for two tailed test is 0.000004\n",
      "Since p-value(=0.000004) < alpha(=0.05) We reject the null hypothesis H0. So we conclude that the effect of noise in models efficiency at 0.05 level of significance.\n"
     ]
    }
   ],
   "source": [
    "t_value,p_value=ttest(f1_results['AdaBoost'],f1_results_noise_3['AdaBoost'])\n",
    "\n",
    "print('Test statistic is %f'%float(\"{:.6f}\".format(t_value)))\n",
    "\n",
    "print('p-value for two tailed test is %f'%p_value)\n",
    "\n",
    "alpha = 0.05\n",
    "  \n",
    "if p_value<=alpha:\n",
    "\n",
    "    print('Since p-value(=%f)'%p_value,'<','alpha(=%.2f)'%alpha,'''We reject the null hypothesis H0. So we conclude that the effect of noise in models efficiency at %.2f level of significance.'''%alpha)\n",
    "\n",
    "else:\n",
    "\n",
    "    print('Since p-value(=%f)'%p_value,'>','alpha(=%.2f)'%alpha,'''We do not reject the null hypothesis H0. So we conclude that the effect of noise do not change the models efficiency at %.2f level of significance.''' %alpha)\n"
   ]
  },
  {
   "cell_type": "markdown",
   "id": "4a964056",
   "metadata": {},
   "source": [
    "#### Compare with other alforithms"
   ]
  },
  {
   "cell_type": "code",
   "execution_count": 54,
   "id": "2a480136",
   "metadata": {},
   "outputs": [
    {
     "name": "stdout",
     "output_type": "stream",
     "text": [
      "Test statistic is 21.587158\n",
      "p-value for two tailed test is 0.000000\n",
      "Since p-value(=0.000000) < alpha(=0.05) We reject the null hypothesis H0. So we conclude that the effect of noise in models efficiency at 0.05 level of significance.\n"
     ]
    }
   ],
   "source": [
    "t_value,p_value=ttest(f1_results_other_algorithms,f1_results_noise_3_other_algorithms)\n",
    "\n",
    "print('Test statistic is %f'%float(\"{:.6f}\".format(t_value)))\n",
    "\n",
    "print('p-value for two tailed test is %f'%p_value)\n",
    "\n",
    "alpha = 0.05\n",
    "  \n",
    "if p_value<=alpha:\n",
    "\n",
    "    print('Since p-value(=%f)'%p_value,'<','alpha(=%.2f)'%alpha,'''We reject the null hypothesis H0. So we conclude that the effect of noise in models efficiency at %.2f level of significance.'''%alpha)\n",
    "\n",
    "else:\n",
    "\n",
    "    print('Since p-value(=%f)'%p_value,'>','alpha(=%.2f)'%alpha,'''We do not reject the null hypothesis H0. So we conclude that the effect of noise do not change the models efficiency at %.2f level of significance.''' %alpha)\n"
   ]
  },
  {
   "cell_type": "markdown",
   "id": "9cf1c949",
   "metadata": {},
   "source": [
    "### T-test for 20% noise"
   ]
  },
  {
   "cell_type": "markdown",
   "id": "e1666094",
   "metadata": {},
   "source": [
    "#### Compare with initial results"
   ]
  },
  {
   "cell_type": "code",
   "execution_count": 55,
   "id": "a248138e",
   "metadata": {},
   "outputs": [
    {
     "name": "stdout",
     "output_type": "stream",
     "text": [
      "Test statistic is -3.813182\n",
      "p-value for two tailed test is 0.001273\n",
      "Since p-value(=0.001273) < alpha(=0.05) We reject the null hypothesis H0. So we conclude that the effect of noise in models efficiency at 0.05 level of significance.\n"
     ]
    }
   ],
   "source": [
    "t_value,p_value=ttest(f1_results['AdaBoost'],f1_results_noise_4['AdaBoost'])\n",
    "\n",
    "print('Test statistic is %f'%float(\"{:.6f}\".format(t_value)))\n",
    "\n",
    "print('p-value for two tailed test is %f'%p_value)\n",
    "\n",
    "alpha = 0.05\n",
    "  \n",
    "if p_value<=alpha:\n",
    "\n",
    "    print('Since p-value(=%f)'%p_value,'<','alpha(=%.2f)'%alpha,'''We reject the null hypothesis H0. So we conclude that the effect of noise in models efficiency at %.2f level of significance.'''%alpha)\n",
    "\n",
    "else:\n",
    "\n",
    "    print('Since p-value(=%f)'%p_value,'>','alpha(=%.2f)'%alpha,'''We do not reject the null hypothesis H0. So we conclude that the effect of noise do not change the models efficiency at %.2f level of significance.''' %alpha)\n"
   ]
  },
  {
   "cell_type": "markdown",
   "id": "be3cd9e6",
   "metadata": {},
   "source": [
    "#### Compare with other alforithms"
   ]
  },
  {
   "cell_type": "code",
   "execution_count": 56,
   "id": "81f4e108",
   "metadata": {},
   "outputs": [
    {
     "name": "stdout",
     "output_type": "stream",
     "text": [
      "Test statistic is 22.907824\n",
      "p-value for two tailed test is 0.000000\n",
      "Since p-value(=0.000000) < alpha(=0.05) We reject the null hypothesis H0. So we conclude that the effect of noise in models efficiency at 0.05 level of significance.\n"
     ]
    }
   ],
   "source": [
    "t_value,p_value=ttest(f1_results_other_algorithms,f1_results_noise_4_other_algorithms)\n",
    "\n",
    "print('Test statistic is %f'%float(\"{:.6f}\".format(t_value)))\n",
    "\n",
    "print('p-value for two tailed test is %f'%p_value)\n",
    "\n",
    "alpha = 0.05\n",
    "  \n",
    "if p_value<=alpha:\n",
    "\n",
    "    print('Since p-value(=%f)'%p_value,'<','alpha(=%.2f)'%alpha,'''We reject the null hypothesis H0. So we conclude that the effect of noise in models efficiency at %.2f level of significance.'''%alpha)\n",
    "\n",
    "else:\n",
    "\n",
    "    print('Since p-value(=%f)'%p_value,'>','alpha(=%.2f)'%alpha,'''We do not reject the null hypothesis H0. So we conclude that the effect of noise do not change the models efficiency at %.2f level of significance.''' %alpha)\n"
   ]
  },
  {
   "cell_type": "markdown",
   "id": "a7c8f303",
   "metadata": {},
   "source": [
    "## Cohen's d effect"
   ]
  },
  {
   "cell_type": "code",
   "execution_count": 57,
   "id": "a5531ae3",
   "metadata": {},
   "outputs": [],
   "source": [
    "import math \n",
    "# function to calculate Cohen's d for independent samples\n",
    "def cohend(d1, d2):\n",
    "# calculate the size of samples\n",
    "    n1, n2 = len(d1), len(d2)\n",
    "    # calculate the variance of the samples\n",
    "    s1, s2 = np.var(d1, ddof=1), np.var(d2, ddof=1)\n",
    "    # calculate the pooled standard deviation\n",
    "    s = math.sqrt(((n1 - 1) * s1 + (n2 - 1) * s2) / (n1 + n2 - 2))\n",
    "    # calculate the means of the samples\n",
    "    u1, u2 = np.mean(d1), np.mean(d2)\n",
    "    # calculate the effect size\n",
    "    return (u1 - u2) / s"
   ]
  },
  {
   "cell_type": "markdown",
   "id": "35424827",
   "metadata": {},
   "source": [
    "#### Cohen's d without noise"
   ]
  },
  {
   "cell_type": "code",
   "execution_count": 58,
   "id": "e7e9cc51",
   "metadata": {},
   "outputs": [
    {
     "data": {
      "text/plain": [
       "-13.236921062877457"
      ]
     },
     "execution_count": 58,
     "metadata": {},
     "output_type": "execute_result"
    }
   ],
   "source": [
    "cohend(f1_results['AdaBoost'].tolist(), f1_results_other_algorithms.tolist())"
   ]
  },
  {
   "cell_type": "code",
   "execution_count": 59,
   "id": "f123c635",
   "metadata": {},
   "outputs": [
    {
     "name": "stdout",
     "output_type": "stream",
     "text": [
      "Test statistic is -29.598655\n",
      "p-value for two tailed test is 0.000000\n",
      "Since p-value(=0.000000) < alpha(=0.05) We reject the null hypothesis H0. So we conclude that the effect of noise in models efficiency at 0.05 level of significance.\n"
     ]
    }
   ],
   "source": [
    "t_value,p_value=ttest(f1_results['AdaBoost'],f1_results_other_algorithms)\n",
    "\n",
    "print('Test statistic is %f'%float(\"{:.6f}\".format(t_value)))\n",
    "\n",
    "print('p-value for two tailed test is %f'%p_value)\n",
    "\n",
    "alpha = 0.05\n",
    "  \n",
    "if p_value<=alpha:\n",
    "\n",
    "    print('Since p-value(=%f)'%p_value,'<','alpha(=%.2f)'%alpha,'''We reject the null hypothesis H0. So we conclude that the effect of noise in models efficiency at %.2f level of significance.'''%alpha)\n",
    "\n",
    "else:\n",
    "\n",
    "    print('Since p-value(=%f)'%p_value,'>','alpha(=%.2f)'%alpha,'''We do not reject the null hypothesis H0. So we conclude that the effect of noise do not change the models efficiency at %.2f level of significance.''' %alpha)\n"
   ]
  },
  {
   "cell_type": "markdown",
   "id": "25c1835c",
   "metadata": {},
   "source": [
    "#### Cohen's d with 20% noise"
   ]
  },
  {
   "cell_type": "code",
   "execution_count": 60,
   "id": "40182e2f",
   "metadata": {},
   "outputs": [
    {
     "data": {
      "text/plain": [
       "-1.2880350097732893"
      ]
     },
     "execution_count": 60,
     "metadata": {},
     "output_type": "execute_result"
    }
   ],
   "source": [
    "cohend(f1_results_noise_4['AdaBoost'].tolist(), f1_results_noise_4_other_algorithms.tolist())"
   ]
  },
  {
   "cell_type": "code",
   "execution_count": 61,
   "id": "b58ee00b",
   "metadata": {},
   "outputs": [
    {
     "name": "stdout",
     "output_type": "stream",
     "text": [
      "Test statistic is -2.880134\n",
      "p-value for two tailed test is 0.009964\n",
      "Since p-value(=0.009964) < alpha(=0.05) We reject the null hypothesis H0. So we conclude that the effect of noise in models efficiency at 0.05 level of significance.\n"
     ]
    }
   ],
   "source": [
    "t_value,p_value=ttest(f1_results_noise_4['AdaBoost'],f1_results_noise_4_other_algorithms)\n",
    "\n",
    "print('Test statistic is %f'%float(\"{:.6f}\".format(t_value)))\n",
    "\n",
    "print('p-value for two tailed test is %f'%p_value)\n",
    "\n",
    "alpha = 0.05\n",
    "  \n",
    "if p_value<=alpha:\n",
    "\n",
    "    print('Since p-value(=%f)'%p_value,'<','alpha(=%.2f)'%alpha,'''We reject the null hypothesis H0. So we conclude that the effect of noise in models efficiency at %.2f level of significance.'''%alpha)\n",
    "\n",
    "else:\n",
    "\n",
    "    print('Since p-value(=%f)'%p_value,'>','alpha(=%.2f)'%alpha,'''We do not reject the null hypothesis H0. So we conclude that the effect of noise do not change the models efficiency at %.2f level of significance.''' %alpha)\n"
   ]
  },
  {
   "cell_type": "markdown",
   "id": "7987e297",
   "metadata": {},
   "source": [
    "### Kolmogorov-Smirnov "
   ]
  },
  {
   "cell_type": "markdown",
   "id": "5f32c246",
   "metadata": {},
   "source": [
    "two-sided: The null hypothesis is that the two distributions are identical, F(x)=G(x) for all x; the alternative is that they are not identical.\n",
    "\n",
    "less: The null hypothesis is that F(x) >= G(x) for all x; the alternative is that F(x) < G(x) for at least one x.\n",
    "\n",
    "greater: The null hypothesis is that F(x) <= G(x) for all x; the alternative is that F(x) > G(x) for at least one x."
   ]
  },
  {
   "cell_type": "code",
   "execution_count": 62,
   "id": "5db8ffe7",
   "metadata": {},
   "outputs": [],
   "source": [
    "# Hypothesis\n",
    "\n",
    "# H0: Noise does not effect the models efficiency of AdaBoost more than other algorithms f1_no_noise_AB = f1_noise_mean_of_the_rest\n",
    "\n",
    "# H1:  Noise does effect the models efficiency of AdaBoost more than other algorithms f1_no_noise_AB <> f1_noise_mean_of_the_rest\n",
    "\n"
   ]
  },
  {
   "cell_type": "markdown",
   "id": "70251367",
   "metadata": {},
   "source": [
    "### K-S for 5% noise"
   ]
  },
  {
   "cell_type": "code",
   "execution_count": 63,
   "id": "4e869fee",
   "metadata": {},
   "outputs": [
    {
     "name": "stdout",
     "output_type": "stream",
     "text": [
      "p-value for two tailed KS test is 0.000011\n",
      "Since p-value(=0.000011) < alpha(=0.05) We reject the null hypothesis H0. So we conclude that the effect of noise in models efficiency at 0.05 level of significance.\n"
     ]
    }
   ],
   "source": [
    "from scipy.stats import ks_2samp  \n",
    "\n",
    "\n",
    "#perform Kolmogorov-Smirnov test\n",
    "t_value,p_value = ks_2samp(f1_results['AdaBoost']-f1_results_noise_1['AdaBoost'], f1_results.drop(columns=['AdaBoost']).mean(axis=1)-f1_results_noise_1.drop(columns=['AdaBoost']).mean(axis=1))\n",
    "\n",
    "\n",
    "print('p-value for two tailed KS test is %f'%p_value)\n",
    "\n",
    "alpha = 0.05\n",
    "  \n",
    "if p_value<=alpha:\n",
    "\n",
    "    print('Since p-value(=%f)'%p_value,'<','alpha(=%.2f)'%alpha,'''We reject the null hypothesis H0. So we conclude that the effect of noise in models efficiency at %.2f level of significance.'''%alpha)\n",
    "\n",
    "else:\n",
    "\n",
    "    print('Since p-value(=%f)'%p_value,'>','alpha(=%.2f)'%alpha,'''We do not reject the null hypothesis H0. So we conclude that the effect of noise do not change the models efficiency at %.2f level of significance.''' %alpha)"
   ]
  },
  {
   "cell_type": "markdown",
   "id": "811993a8",
   "metadata": {},
   "source": [
    "### K-S for 10% noise"
   ]
  },
  {
   "cell_type": "code",
   "execution_count": 64,
   "id": "2d665fee",
   "metadata": {},
   "outputs": [
    {
     "name": "stdout",
     "output_type": "stream",
     "text": [
      "p-value for two tailed KS test is 0.000011\n",
      "Since p-value(=0.000011) < alpha(=0.05) We reject the null hypothesis H0. So we conclude that the effect of noise in models efficiency at 0.05 level of significance.\n"
     ]
    }
   ],
   "source": [
    "from scipy.stats import ks_2samp  \n",
    "\n",
    "\n",
    "#perform Kolmogorov-Smirnov test\n",
    "t_value,p_value = ks_2samp(f1_results['AdaBoost']-f1_results_noise_2['AdaBoost'], f1_results.drop(columns=['AdaBoost']).mean(axis=1)-f1_results_noise_2.drop(columns=['AdaBoost']).mean(axis=1))\n",
    "\n",
    "\n",
    "print('p-value for two tailed KS test is %f'%p_value)\n",
    "\n",
    "alpha = 0.05\n",
    "  \n",
    "if p_value<=alpha:\n",
    "\n",
    "    print('Since p-value(=%f)'%p_value,'<','alpha(=%.2f)'%alpha,'''We reject the null hypothesis H0. So we conclude that the effect of noise in models efficiency at %.2f level of significance.'''%alpha)\n",
    "\n",
    "else:\n",
    "\n",
    "    print('Since p-value(=%f)'%p_value,'>','alpha(=%.2f)'%alpha,'''We do not reject the null hypothesis H0. So we conclude that the effect of noise do not change the models efficiency at %.2f level of significance.''' %alpha)"
   ]
  },
  {
   "cell_type": "markdown",
   "id": "c81d166a",
   "metadata": {},
   "source": [
    "### K-S for 15% noise"
   ]
  },
  {
   "cell_type": "code",
   "execution_count": 65,
   "id": "506f0616",
   "metadata": {},
   "outputs": [
    {
     "name": "stdout",
     "output_type": "stream",
     "text": [
      "p-value for two tailed KS test is 0.000011\n",
      "Since p-value(=0.000011) < alpha(=0.05) We reject the null hypothesis H0. So we conclude that the effect of noise in models efficiency at 0.05 level of significance.\n"
     ]
    }
   ],
   "source": [
    "from scipy.stats import ks_2samp  \n",
    "\n",
    "\n",
    "#perform Kolmogorov-Smirnov test\n",
    "t_value,p_value = ks_2samp(f1_results['AdaBoost']-f1_results_noise_3['AdaBoost'], f1_results.drop(columns=['AdaBoost']).mean(axis=1)-f1_results_noise_3.drop(columns=['AdaBoost']).mean(axis=1))\n",
    "\n",
    "\n",
    "print('p-value for two tailed KS test is %f'%p_value)\n",
    "\n",
    "alpha = 0.05\n",
    "  \n",
    "if p_value<=alpha:\n",
    "\n",
    "    print('Since p-value(=%f)'%p_value,'<','alpha(=%.2f)'%alpha,'''We reject the null hypothesis H0. So we conclude that the effect of noise in models efficiency at %.2f level of significance.'''%alpha)\n",
    "\n",
    "else:\n",
    "\n",
    "    print('Since p-value(=%f)'%p_value,'>','alpha(=%.2f)'%alpha,'''We do not reject the null hypothesis H0. So we conclude that the effect of noise do not change the models efficiency at %.2f level of significance.''' %alpha)"
   ]
  },
  {
   "cell_type": "markdown",
   "id": "a8155d15",
   "metadata": {},
   "source": [
    "### K-S for 20% noise"
   ]
  },
  {
   "cell_type": "code",
   "execution_count": 66,
   "id": "3d7366cf",
   "metadata": {},
   "outputs": [
    {
     "name": "stdout",
     "output_type": "stream",
     "text": [
      "p-value for two tailed KS test is 0.000011\n",
      "Since p-value(=0.000011) < alpha(=0.05) We reject the null hypothesis H0. So we conclude that the effect of noise in models efficiency at 0.05 level of significance.\n"
     ]
    }
   ],
   "source": [
    "from scipy.stats import ks_2samp  \n",
    "\n",
    "\n",
    "#perform Kolmogorov-Smirnov test\n",
    "t_value,p_value = ks_2samp(f1_results['AdaBoost']-f1_results_noise_4['AdaBoost'], f1_results.drop(columns=['AdaBoost']).mean(axis=1)-f1_results_noise_4.drop(columns=['AdaBoost']).mean(axis=1))\n",
    "\n",
    "\n",
    "print('p-value for two tailed KS test is %f'%p_value)\n",
    "\n",
    "alpha = 0.05\n",
    "  \n",
    "if p_value<=alpha:\n",
    "\n",
    "    print('Since p-value(=%f)'%p_value,'<','alpha(=%.2f)'%alpha,'''We reject the null hypothesis H0. So we conclude that the effect of noise in models efficiency at %.2f level of significance.'''%alpha)\n",
    "\n",
    "else:\n",
    "\n",
    "    print('Since p-value(=%f)'%p_value,'>','alpha(=%.2f)'%alpha,'''We do not reject the null hypothesis H0. So we conclude that the effect of noise do not change the models efficiency at %.2f level of significance.''' %alpha)\n"
   ]
  },
  {
   "cell_type": "markdown",
   "id": "c6a4bfac",
   "metadata": {},
   "source": [
    "## Pearson correlation "
   ]
  },
  {
   "cell_type": "markdown",
   "id": "6f999fc8",
   "metadata": {},
   "source": [
    "#### Adaboost Table"
   ]
  },
  {
   "cell_type": "code",
   "execution_count": 67,
   "id": "1557f709",
   "metadata": {},
   "outputs": [
    {
     "data": {
      "text/html": [
       "<div>\n",
       "<style scoped>\n",
       "    .dataframe tbody tr th:only-of-type {\n",
       "        vertical-align: middle;\n",
       "    }\n",
       "\n",
       "    .dataframe tbody tr th {\n",
       "        vertical-align: top;\n",
       "    }\n",
       "\n",
       "    .dataframe thead th {\n",
       "        text-align: right;\n",
       "    }\n",
       "</style>\n",
       "<table border=\"1\" class=\"dataframe\">\n",
       "  <thead>\n",
       "    <tr style=\"text-align: right;\">\n",
       "      <th></th>\n",
       "      <th>AdaBoost_initial</th>\n",
       "      <th>AdaBoost_noise_1</th>\n",
       "      <th>AdaBoost_noise_2</th>\n",
       "      <th>AdaBoost_noise_3</th>\n",
       "      <th>AdaBoost_noise_4</th>\n",
       "    </tr>\n",
       "  </thead>\n",
       "  <tbody>\n",
       "    <tr>\n",
       "      <th>0</th>\n",
       "      <td>0.622513</td>\n",
       "      <td>0.756122</td>\n",
       "      <td>0.770519</td>\n",
       "      <td>0.688362</td>\n",
       "      <td>0.669285</td>\n",
       "    </tr>\n",
       "    <tr>\n",
       "      <th>1</th>\n",
       "      <td>0.596966</td>\n",
       "      <td>0.775110</td>\n",
       "      <td>0.758736</td>\n",
       "      <td>0.739636</td>\n",
       "      <td>0.611222</td>\n",
       "    </tr>\n",
       "    <tr>\n",
       "      <th>2</th>\n",
       "      <td>0.566015</td>\n",
       "      <td>0.857147</td>\n",
       "      <td>0.787662</td>\n",
       "      <td>0.652515</td>\n",
       "      <td>0.625883</td>\n",
       "    </tr>\n",
       "    <tr>\n",
       "      <th>3</th>\n",
       "      <td>0.656821</td>\n",
       "      <td>0.805783</td>\n",
       "      <td>0.743945</td>\n",
       "      <td>0.739492</td>\n",
       "      <td>0.681940</td>\n",
       "    </tr>\n",
       "    <tr>\n",
       "      <th>4</th>\n",
       "      <td>0.614510</td>\n",
       "      <td>0.785098</td>\n",
       "      <td>0.731974</td>\n",
       "      <td>0.681054</td>\n",
       "      <td>0.660921</td>\n",
       "    </tr>\n",
       "    <tr>\n",
       "      <th>5</th>\n",
       "      <td>0.603254</td>\n",
       "      <td>0.771050</td>\n",
       "      <td>0.774962</td>\n",
       "      <td>0.654127</td>\n",
       "      <td>0.639047</td>\n",
       "    </tr>\n",
       "    <tr>\n",
       "      <th>6</th>\n",
       "      <td>0.637271</td>\n",
       "      <td>0.845397</td>\n",
       "      <td>0.749337</td>\n",
       "      <td>0.699678</td>\n",
       "      <td>0.662166</td>\n",
       "    </tr>\n",
       "    <tr>\n",
       "      <th>7</th>\n",
       "      <td>0.546892</td>\n",
       "      <td>0.859344</td>\n",
       "      <td>0.744680</td>\n",
       "      <td>0.694228</td>\n",
       "      <td>0.645560</td>\n",
       "    </tr>\n",
       "    <tr>\n",
       "      <th>8</th>\n",
       "      <td>0.610234</td>\n",
       "      <td>0.852386</td>\n",
       "      <td>0.834703</td>\n",
       "      <td>0.735344</td>\n",
       "      <td>0.706790</td>\n",
       "    </tr>\n",
       "    <tr>\n",
       "      <th>9</th>\n",
       "      <td>0.598841</td>\n",
       "      <td>0.769311</td>\n",
       "      <td>0.820117</td>\n",
       "      <td>0.703100</td>\n",
       "      <td>0.658242</td>\n",
       "    </tr>\n",
       "  </tbody>\n",
       "</table>\n",
       "</div>"
      ],
      "text/plain": [
       "   AdaBoost_initial  AdaBoost_noise_1  AdaBoost_noise_2  AdaBoost_noise_3  \\\n",
       "0          0.622513          0.756122          0.770519          0.688362   \n",
       "1          0.596966          0.775110          0.758736          0.739636   \n",
       "2          0.566015          0.857147          0.787662          0.652515   \n",
       "3          0.656821          0.805783          0.743945          0.739492   \n",
       "4          0.614510          0.785098          0.731974          0.681054   \n",
       "5          0.603254          0.771050          0.774962          0.654127   \n",
       "6          0.637271          0.845397          0.749337          0.699678   \n",
       "7          0.546892          0.859344          0.744680          0.694228   \n",
       "8          0.610234          0.852386          0.834703          0.735344   \n",
       "9          0.598841          0.769311          0.820117          0.703100   \n",
       "\n",
       "   AdaBoost_noise_4  \n",
       "0          0.669285  \n",
       "1          0.611222  \n",
       "2          0.625883  \n",
       "3          0.681940  \n",
       "4          0.660921  \n",
       "5          0.639047  \n",
       "6          0.662166  \n",
       "7          0.645560  \n",
       "8          0.706790  \n",
       "9          0.658242  "
      ]
     },
     "execution_count": 67,
     "metadata": {},
     "output_type": "execute_result"
    }
   ],
   "source": [
    "#create table\n",
    "d1 = {\n",
    "    'AdaBoost_initial': f1_results['AdaBoost'],\n",
    "    'AdaBoost_noise_1': f1_results_noise_1['AdaBoost'],\n",
    "    'AdaBoost_noise_2': f1_results_noise_2['AdaBoost'],\n",
    "    'AdaBoost_noise_3': f1_results_noise_3['AdaBoost'],\n",
    "    'AdaBoost_noise_4': f1_results_noise_4['AdaBoost']\n",
    "    }\n",
    "Adaboost_table = pd.DataFrame(d1)\n",
    "Adaboost_table"
   ]
  },
  {
   "cell_type": "code",
   "execution_count": 68,
   "id": "4165f4a4",
   "metadata": {},
   "outputs": [],
   "source": [
    "# Correlation between f1score of Adaboost and noise increase \n",
    "\n",
    "a = Adaboost_table.iloc[:,:1].squeeze()\n",
    "     \n",
    "b = Adaboost_table['AdaBoost_noise_1'].squeeze()\n",
    "\n",
    "c = Adaboost_table['AdaBoost_noise_2'].squeeze()\n",
    "  \n",
    "d = Adaboost_table['AdaBoost_noise_3'].squeeze()    \n",
    "\n",
    "e = Adaboost_table['AdaBoost_noise_4'].squeeze()\n",
    "\n",
    "f1 = pd.concat([a,b,c,d,e])\n",
    "\n",
    "f1 = pd.DataFrame(f1)\n",
    "\n",
    "f1.rename(columns = {0:'f1'}, inplace = True)\n",
    "f1.reset_index(drop=True, inplace=True)\n",
    "\n",
    "\n",
    "\n",
    "noise_1 = [1 for i in range(10)]\n",
    "noise_2 = [2 for i in range(10)]\n",
    "noise_3 = [3 for i in range(10)]\n",
    "noise_4 = [4 for i in range(10)]\n",
    "noise_5 = [5 for i in range(10)]\n",
    "\n",
    "noise = noise_1+noise_2+noise_3+noise_4+noise_5\n",
    "\n",
    "noise = pd.DataFrame(noise)\n",
    "\n",
    "noise.rename(columns = {0:'noise'}, inplace = True)\n",
    "noise.reset_index(drop=True, inplace=True)\n",
    "\n",
    "df_cor = pd.concat([f1,noise], axis=1)"
   ]
  },
  {
   "cell_type": "code",
   "execution_count": 69,
   "id": "b0f1cd7c",
   "metadata": {},
   "outputs": [
    {
     "data": {
      "text/plain": [
       "<matplotlib.collections.PathCollection at 0x292303655e0>"
      ]
     },
     "execution_count": 69,
     "metadata": {},
     "output_type": "execute_result"
    },
    {
     "data": {
      "image/png": "[encoded data removed]",
      "text/plain": [
       "<Figure size 1440x1440 with 1 Axes>"
      ]
     },
     "metadata": {},
     "output_type": "display_data"
    }
   ],
   "source": [
    "plt.scatter(df_cor.iloc[:,1].values.tolist(), df_cor.iloc[:,0].values.tolist())"
   ]
  },
  {
   "cell_type": "code",
   "execution_count": 70,
   "id": "f183bde2",
   "metadata": {},
   "outputs": [
    {
     "name": "stdout",
     "output_type": "stream",
     "text": [
      "Since p-value(=0.928880) > alpha(=0.05) We do not reject the null hypothesis H0. So we conclude that there is not correlation at 0.05 level of significance.\n",
      "-0.01294945289397104\n"
     ]
    }
   ],
   "source": [
    "from scipy.stats import pearsonr\n",
    "\n",
    "# Returns Pearson’s correlation coefficient,2-tailed p-value)\n",
    "\n",
    "\n",
    "# Hypothesis\n",
    "\n",
    "# H0: ρ = 0\n",
    "\n",
    "# H1: ρ <> 0\n",
    "\n",
    "\n",
    "corr, p_value = pearsonr(df_cor.iloc[:,1].values.tolist(), df_cor.iloc[:,0].values.tolist())\n",
    "\n",
    "alpha = 0.05\n",
    "  \n",
    "if p_value<=alpha:\n",
    "\n",
    "    print('Since p-value(=%f)'%p_value,'<','alpha(=%.2f)'%alpha,'''We reject the null hypothesis H0. So we conclude that there is correlation %.2f at %.2f level of significance.'''%(corr,alpha))\n",
    "\n",
    "else:\n",
    "\n",
    "    print('Since p-value(=%f)'%p_value,'>','alpha(=%.2f)'%alpha,'''We do not reject the null hypothesis H0. So we conclude that there is not correlation at %.2f level of significance.''' %alpha)\n",
    "print(corr)"
   ]
  },
  {
   "cell_type": "code",
   "execution_count": 71,
   "id": "6beede2e",
   "metadata": {},
   "outputs": [
    {
     "data": {
      "text/html": [
       "<div>\n",
       "<style scoped>\n",
       "    .dataframe tbody tr th:only-of-type {\n",
       "        vertical-align: middle;\n",
       "    }\n",
       "\n",
       "    .dataframe tbody tr th {\n",
       "        vertical-align: top;\n",
       "    }\n",
       "\n",
       "    .dataframe thead th {\n",
       "        text-align: right;\n",
       "    }\n",
       "</style>\n",
       "<table border=\"1\" class=\"dataframe\">\n",
       "  <thead>\n",
       "    <tr style=\"text-align: right;\">\n",
       "      <th></th>\n",
       "      <th>Other_Algorithms_initial</th>\n",
       "      <th>Other_Algorithms_noise_1</th>\n",
       "      <th>Other_Algorithms_noise_2</th>\n",
       "      <th>Other_Algorithms_noise_3</th>\n",
       "      <th>Other_Algorithms_noise_4</th>\n",
       "    </tr>\n",
       "  </thead>\n",
       "  <tbody>\n",
       "    <tr>\n",
       "      <th>0</th>\n",
       "      <td>0.949469</td>\n",
       "      <td>0.909012</td>\n",
       "      <td>0.827875</td>\n",
       "      <td>0.745429</td>\n",
       "      <td>0.694769</td>\n",
       "    </tr>\n",
       "    <tr>\n",
       "      <th>1</th>\n",
       "      <td>0.910366</td>\n",
       "      <td>0.877818</td>\n",
       "      <td>0.822855</td>\n",
       "      <td>0.740994</td>\n",
       "      <td>0.709456</td>\n",
       "    </tr>\n",
       "    <tr>\n",
       "      <th>2</th>\n",
       "      <td>0.913618</td>\n",
       "      <td>0.879560</td>\n",
       "      <td>0.809036</td>\n",
       "      <td>0.712056</td>\n",
       "      <td>0.638515</td>\n",
       "    </tr>\n",
       "    <tr>\n",
       "      <th>3</th>\n",
       "      <td>0.936746</td>\n",
       "      <td>0.901267</td>\n",
       "      <td>0.849985</td>\n",
       "      <td>0.770088</td>\n",
       "      <td>0.735347</td>\n",
       "    </tr>\n",
       "    <tr>\n",
       "      <th>4</th>\n",
       "      <td>0.927746</td>\n",
       "      <td>0.914905</td>\n",
       "      <td>0.849341</td>\n",
       "      <td>0.766031</td>\n",
       "      <td>0.721185</td>\n",
       "    </tr>\n",
       "    <tr>\n",
       "      <th>5</th>\n",
       "      <td>0.928736</td>\n",
       "      <td>0.871012</td>\n",
       "      <td>0.805672</td>\n",
       "      <td>0.715806</td>\n",
       "      <td>0.670549</td>\n",
       "    </tr>\n",
       "    <tr>\n",
       "      <th>6</th>\n",
       "      <td>0.924130</td>\n",
       "      <td>0.884592</td>\n",
       "      <td>0.856893</td>\n",
       "      <td>0.770221</td>\n",
       "      <td>0.716548</td>\n",
       "    </tr>\n",
       "    <tr>\n",
       "      <th>7</th>\n",
       "      <td>0.931092</td>\n",
       "      <td>0.900688</td>\n",
       "      <td>0.788590</td>\n",
       "      <td>0.705701</td>\n",
       "      <td>0.667748</td>\n",
       "    </tr>\n",
       "    <tr>\n",
       "      <th>8</th>\n",
       "      <td>0.946190</td>\n",
       "      <td>0.919728</td>\n",
       "      <td>0.836714</td>\n",
       "      <td>0.751054</td>\n",
       "      <td>0.701080</td>\n",
       "    </tr>\n",
       "    <tr>\n",
       "      <th>9</th>\n",
       "      <td>0.915463</td>\n",
       "      <td>0.875684</td>\n",
       "      <td>0.836408</td>\n",
       "      <td>0.739199</td>\n",
       "      <td>0.674452</td>\n",
       "    </tr>\n",
       "  </tbody>\n",
       "</table>\n",
       "</div>"
      ],
      "text/plain": [
       "   Other_Algorithms_initial  Other_Algorithms_noise_1  \\\n",
       "0                  0.949469                  0.909012   \n",
       "1                  0.910366                  0.877818   \n",
       "2                  0.913618                  0.879560   \n",
       "3                  0.936746                  0.901267   \n",
       "4                  0.927746                  0.914905   \n",
       "5                  0.928736                  0.871012   \n",
       "6                  0.924130                  0.884592   \n",
       "7                  0.931092                  0.900688   \n",
       "8                  0.946190                  0.919728   \n",
       "9                  0.915463                  0.875684   \n",
       "\n",
       "   Other_Algorithms_noise_2  Other_Algorithms_noise_3  \\\n",
       "0                  0.827875                  0.745429   \n",
       "1                  0.822855                  0.740994   \n",
       "2                  0.809036                  0.712056   \n",
       "3                  0.849985                  0.770088   \n",
       "4                  0.849341                  0.766031   \n",
       "5                  0.805672                  0.715806   \n",
       "6                  0.856893                  0.770221   \n",
       "7                  0.788590                  0.705701   \n",
       "8                  0.836714                  0.751054   \n",
       "9                  0.836408                  0.739199   \n",
       "\n",
       "   Other_Algorithms_noise_4  \n",
       "0                  0.694769  \n",
       "1                  0.709456  \n",
       "2                  0.638515  \n",
       "3                  0.735347  \n",
       "4                  0.721185  \n",
       "5                  0.670549  \n",
       "6                  0.716548  \n",
       "7                  0.667748  \n",
       "8                  0.701080  \n",
       "9                  0.674452  "
      ]
     },
     "execution_count": 71,
     "metadata": {},
     "output_type": "execute_result"
    }
   ],
   "source": [
    "#create table\n",
    "d2 = {\n",
    "    'Other_Algorithms_initial': f1_results_other_algorithms,\n",
    "    'Other_Algorithms_noise_1': f1_results_noise_1_other_algorithms,\n",
    "    'Other_Algorithms_noise_2': f1_results_noise_2_other_algorithms,\n",
    "    'Other_Algorithms_noise_3': f1_results_noise_3_other_algorithms,\n",
    "    'Other_Algorithms_noise_4': f1_results_noise_4_other_algorithms\n",
    "    }\n",
    "Other_Algorithms_table = pd.DataFrame(d2)\n",
    "Other_Algorithms_table"
   ]
  },
  {
   "cell_type": "code",
   "execution_count": 72,
   "id": "4ad20430",
   "metadata": {},
   "outputs": [],
   "source": [
    "# Correlation between f1score of Other algorithms mean value and noise increase \n",
    "\n",
    "a = Other_Algorithms_table.iloc[:,:1].squeeze()\n",
    "     \n",
    "b = Other_Algorithms_table['Other_Algorithms_noise_1'].squeeze()\n",
    "\n",
    "c = Other_Algorithms_table['Other_Algorithms_noise_2'].squeeze()\n",
    "  \n",
    "d = Other_Algorithms_table['Other_Algorithms_noise_3'].squeeze()    \n",
    "\n",
    "e = Other_Algorithms_table['Other_Algorithms_noise_4'].squeeze()\n",
    "\n",
    "f1 = pd.concat([a,b,c,d,e])\n",
    "\n",
    "f1 = pd.DataFrame(f1)\n",
    "\n",
    "f1.rename(columns = {0:'f1'}, inplace = True)\n",
    "f1.reset_index(drop=True, inplace=True)\n",
    "\n",
    "\n",
    "noise_1 = [1 for i in range(10)]\n",
    "noise_2 = [2 for i in range(10)]\n",
    "noise_3 = [3 for i in range(10)]\n",
    "noise_4 = [4 for i in range(10)]\n",
    "noise_5 = [5 for i in range(10)]\n",
    "\n",
    "noise = noise_1+noise_2+noise_3+noise_4+noise_5\n",
    "\n",
    "noise = pd.DataFrame(noise)\n",
    "\n",
    "noise.rename(columns = {0:'noise'}, inplace = True)\n",
    "noise.reset_index(drop=True, inplace=True)\n",
    "\n",
    "\n",
    "df_cor = pd.concat([f1,noise], axis=1)"
   ]
  },
  {
   "cell_type": "code",
   "execution_count": 73,
   "id": "5ee07e22",
   "metadata": {},
   "outputs": [
    {
     "data": {
      "text/plain": [
       "<matplotlib.collections.PathCollection at 0x2923031bbb0>"
      ]
     },
     "execution_count": 73,
     "metadata": {},
     "output_type": "execute_result"
    },
    {
     "data": {
      "image/png": "[encoded data removed]",
      "text/plain": [
       "<Figure size 1440x1440 with 1 Axes>"
      ]
     },
     "metadata": {},
     "output_type": "display_data"
    }
   ],
   "source": [
    "plt.scatter(df_cor.iloc[:,1].values.tolist(), df_cor.iloc[:,0].values.tolist())"
   ]
  },
  {
   "cell_type": "code",
   "execution_count": 74,
   "id": "c5b98b64",
   "metadata": {},
   "outputs": [
    {
     "name": "stdout",
     "output_type": "stream",
     "text": [
      "Since p-value(=0.000000) < alpha(=0.05) We reject the null hypothesis H0. So we conclude that there is correlation -0.97 at 0.05 level of significance.\n",
      "-0.9650220308222967\n"
     ]
    }
   ],
   "source": [
    "from scipy.stats import pearsonr\n",
    "\n",
    "# Returns Pearson’s correlation coefficient,2-tailed p-value)\n",
    "\n",
    "\n",
    "# Hypothesis\n",
    "\n",
    "# H0: ρ = 0\n",
    "\n",
    "# H1: ρ <> 0\n",
    "\n",
    "\n",
    "corr, p_value = pearsonr(df_cor.iloc[:,1].values.tolist(), df_cor.iloc[:,0].values.tolist())\n",
    "\n",
    "alpha = 0.05\n",
    "  \n",
    "if p_value<=alpha:\n",
    "\n",
    "    print('Since p-value(=%f)'%p_value,'<','alpha(=%.2f)'%alpha,'''We reject the null hypothesis H0. So we conclude that there is correlation %.2f at %.2f level of significance.'''%(corr,alpha))\n",
    "\n",
    "else:\n",
    "\n",
    "    print('Since p-value(=%f)'%p_value,'>','alpha(=%.2f)'%alpha,'''We do not reject the null hypothesis H0. So we conclude that there is not correlation at %.2f level of significance.''' %alpha)\n",
    "print(corr)"
   ]
  },
  {
   "cell_type": "code",
   "execution_count": null,
   "id": "081a6299",
   "metadata": {},
   "outputs": [],
   "source": []
  }
 ],
 "metadata": {
  "kernelspec": {
   "display_name": "Python 3 (ipykernel)",
   "language": "python",
   "name": "python3"
  },
  "language_info": {
   "codemirror_mode": {
    "name": "ipython",
    "version": 3
   },
   "file_extension": ".py",
   "mimetype": "text/x-python",
   "name": "python",
   "nbconvert_exporter": "python",
   "pygments_lexer": "ipython3",
   "version": "3.9.7"
  }
 },
 "nbformat": 4,
 "nbformat_minor": 5
}
